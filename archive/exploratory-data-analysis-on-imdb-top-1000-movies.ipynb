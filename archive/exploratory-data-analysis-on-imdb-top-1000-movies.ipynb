{
 "cells": [
  {
   "cell_type": "code",
   "execution_count": 1,
   "id": "90fa0c5f",
   "metadata": {
    "execution": {
     "iopub.execute_input": "2022-07-20T22:38:01.715885Z",
     "iopub.status.busy": "2022-07-20T22:38:01.715403Z",
     "iopub.status.idle": "2022-07-20T22:38:02.816773Z",
     "shell.execute_reply": "2022-07-20T22:38:02.815662Z"
    },
    "papermill": {
     "duration": 1.111607,
     "end_time": "2022-07-20T22:38:02.819749",
     "exception": false,
     "start_time": "2022-07-20T22:38:01.708142",
     "status": "completed"
    },
    "tags": []
   },
   "outputs": [],
   "source": [
    "import numpy as np\n",
    "import pandas as pd\n",
    "import matplotlib.pyplot as plt\n",
    "import seaborn as sns"
   ]
  },
  {
   "cell_type": "code",
   "execution_count": 2,
   "id": "c856590c",
   "metadata": {
    "execution": {
     "iopub.execute_input": "2022-07-20T22:38:02.845746Z",
     "iopub.status.busy": "2022-07-20T22:38:02.845338Z",
     "iopub.status.idle": "2022-07-20T22:38:02.860458Z",
     "shell.execute_reply": "2022-07-20T22:38:02.859031Z"
    },
    "papermill": {
     "duration": 0.025411,
     "end_time": "2022-07-20T22:38:02.863178",
     "exception": false,
     "start_time": "2022-07-20T22:38:02.837767",
     "status": "completed"
    },
    "tags": []
   },
   "outputs": [
    {
     "name": "stdout",
     "output_type": "stream",
     "text": [
      "/kaggle/input/imbd-top-1000-with-description/Top 1000 IMDB movies (1).csv\n"
     ]
    }
   ],
   "source": [
    "import os\n",
    "for dirname, _, filenames in os.walk('/kaggle/input'):\n",
    "    for filename in filenames:\n",
    "        print(os.path.join(dirname, filename))"
   ]
  },
  {
   "cell_type": "code",
   "execution_count": 3,
   "id": "47e9566d",
   "metadata": {
    "execution": {
     "iopub.execute_input": "2022-07-20T22:38:02.877553Z",
     "iopub.status.busy": "2022-07-20T22:38:02.876712Z",
     "iopub.status.idle": "2022-07-20T22:38:02.902010Z",
     "shell.execute_reply": "2022-07-20T22:38:02.900988Z"
    },
    "papermill": {
     "duration": 0.035202,
     "end_time": "2022-07-20T22:38:02.904734",
     "exception": false,
     "start_time": "2022-07-20T22:38:02.869532",
     "status": "completed"
    },
    "tags": []
   },
   "outputs": [],
   "source": [
    "df = pd.read_csv('/kaggle/input/imbd-top-1000-with-description/Top 1000 IMDB movies (1).csv')"
   ]
  },
  {
   "cell_type": "code",
   "execution_count": 4,
   "id": "7fc29dd2",
   "metadata": {
    "execution": {
     "iopub.execute_input": "2022-07-20T22:38:02.919555Z",
     "iopub.status.busy": "2022-07-20T22:38:02.918687Z",
     "iopub.status.idle": "2022-07-20T22:38:02.948028Z",
     "shell.execute_reply": "2022-07-20T22:38:02.946597Z"
    },
    "papermill": {
     "duration": 0.039431,
     "end_time": "2022-07-20T22:38:02.950550",
     "exception": false,
     "start_time": "2022-07-20T22:38:02.911119",
     "status": "completed"
    },
    "tags": []
   },
   "outputs": [
    {
     "data": {
      "text/html": [
       "<div>\n",
       "<style scoped>\n",
       "    .dataframe tbody tr th:only-of-type {\n",
       "        vertical-align: middle;\n",
       "    }\n",
       "\n",
       "    .dataframe tbody tr th {\n",
       "        vertical-align: top;\n",
       "    }\n",
       "\n",
       "    .dataframe thead th {\n",
       "        text-align: right;\n",
       "    }\n",
       "</style>\n",
       "<table border=\"1\" class=\"dataframe\">\n",
       "  <thead>\n",
       "    <tr style=\"text-align: right;\">\n",
       "      <th></th>\n",
       "      <th>Unnamed: 0</th>\n",
       "      <th>Movie Name</th>\n",
       "      <th>Year of Release</th>\n",
       "      <th>Watch Time</th>\n",
       "      <th>Movie Rating</th>\n",
       "      <th>Meatscore of movie</th>\n",
       "      <th>Votes</th>\n",
       "      <th>Gross</th>\n",
       "      <th>Description</th>\n",
       "    </tr>\n",
       "  </thead>\n",
       "  <tbody>\n",
       "    <tr>\n",
       "      <th>0</th>\n",
       "      <td>0</td>\n",
       "      <td>The Shawshank Redemption</td>\n",
       "      <td>(1994)</td>\n",
       "      <td>142 min</td>\n",
       "      <td>9.3</td>\n",
       "      <td>81</td>\n",
       "      <td>34,709</td>\n",
       "      <td>$28.34M</td>\n",
       "      <td>Two imprisoned men bond over a number of years...</td>\n",
       "    </tr>\n",
       "    <tr>\n",
       "      <th>1</th>\n",
       "      <td>1</td>\n",
       "      <td>The Godfather</td>\n",
       "      <td>(1972)</td>\n",
       "      <td>175 min</td>\n",
       "      <td>9.2</td>\n",
       "      <td>100</td>\n",
       "      <td>34,709</td>\n",
       "      <td>$134.97M</td>\n",
       "      <td>The aging patriarch of an organized crime dyna...</td>\n",
       "    </tr>\n",
       "    <tr>\n",
       "      <th>2</th>\n",
       "      <td>2</td>\n",
       "      <td>The Dark Knight</td>\n",
       "      <td>(2008)</td>\n",
       "      <td>152 min</td>\n",
       "      <td>9.0</td>\n",
       "      <td>84</td>\n",
       "      <td>34,709</td>\n",
       "      <td>$534.86M</td>\n",
       "      <td>When the menace known as the Joker wreaks havo...</td>\n",
       "    </tr>\n",
       "    <tr>\n",
       "      <th>3</th>\n",
       "      <td>3</td>\n",
       "      <td>The Lord of the Rings: The Return of the King</td>\n",
       "      <td>(2003)</td>\n",
       "      <td>201 min</td>\n",
       "      <td>9.0</td>\n",
       "      <td>94</td>\n",
       "      <td>34,709</td>\n",
       "      <td>$377.85M</td>\n",
       "      <td>Gandalf and Aragorn lead the World of Men agai...</td>\n",
       "    </tr>\n",
       "    <tr>\n",
       "      <th>4</th>\n",
       "      <td>4</td>\n",
       "      <td>Schindler's List</td>\n",
       "      <td>(1993)</td>\n",
       "      <td>195 min</td>\n",
       "      <td>9.0</td>\n",
       "      <td>94</td>\n",
       "      <td>34,709</td>\n",
       "      <td>$96.90M</td>\n",
       "      <td>In German-occupied Poland during World War II,...</td>\n",
       "    </tr>\n",
       "  </tbody>\n",
       "</table>\n",
       "</div>"
      ],
      "text/plain": [
       "   Unnamed: 0                                     Movie Name Year of Release  \\\n",
       "0           0                       The Shawshank Redemption          (1994)   \n",
       "1           1                                  The Godfather          (1972)   \n",
       "2           2                                The Dark Knight          (2008)   \n",
       "3           3  The Lord of the Rings: The Return of the King          (2003)   \n",
       "4           4                               Schindler's List          (1993)   \n",
       "\n",
       "  Watch Time  Movie Rating Meatscore of movie   Votes     Gross  \\\n",
       "0    142 min           9.3         81          34,709   $28.34M   \n",
       "1    175 min           9.2        100          34,709  $134.97M   \n",
       "2    152 min           9.0         84          34,709  $534.86M   \n",
       "3    201 min           9.0         94          34,709  $377.85M   \n",
       "4    195 min           9.0         94          34,709   $96.90M   \n",
       "\n",
       "                                         Description  \n",
       "0  Two imprisoned men bond over a number of years...  \n",
       "1  The aging patriarch of an organized crime dyna...  \n",
       "2  When the menace known as the Joker wreaks havo...  \n",
       "3  Gandalf and Aragorn lead the World of Men agai...  \n",
       "4  In German-occupied Poland during World War II,...  "
      ]
     },
     "execution_count": 4,
     "metadata": {},
     "output_type": "execute_result"
    }
   ],
   "source": [
    "df.head()"
   ]
  },
  {
   "cell_type": "code",
   "execution_count": 5,
   "id": "35a06f8a",
   "metadata": {
    "execution": {
     "iopub.execute_input": "2022-07-20T22:38:02.965751Z",
     "iopub.status.busy": "2022-07-20T22:38:02.964948Z",
     "iopub.status.idle": "2022-07-20T22:38:02.981912Z",
     "shell.execute_reply": "2022-07-20T22:38:02.980648Z"
    },
    "papermill": {
     "duration": 0.027643,
     "end_time": "2022-07-20T22:38:02.984599",
     "exception": false,
     "start_time": "2022-07-20T22:38:02.956956",
     "status": "completed"
    },
    "tags": []
   },
   "outputs": [
    {
     "data": {
      "text/plain": [
       "array(['$28.34M', '$134.97M', '$534.86M', '$377.85M', '$96.90M',\n",
       "       '$57.30M', '$4.36M', '#248', '$107.93M', '$292.58M', '$342.55M',\n",
       "       '$37.03M', '$315.54M', '$330.25M', '$6.10M', '%^%^%^', '$171.48M',\n",
       "       '$46.84M', '$290.48M', '$112.00M', '#45', '$188.02M', '$7.56M',\n",
       "       '$10.06M', '$216.54M', '$136.80M', '$57.60M', '$100.13M',\n",
       "       '$204.84M', '$130.74M', '$322.74M', '#47', '$0.27M', '#21',\n",
       "       '$53.37M', '$13.09M', '$13.18M', '$53.09M', '$132.38M', '$32.57M',\n",
       "       '$187.71M', '$6.72M', '$23.34M', '$19.50M', '$422.78M', '$11.99M',\n",
       "       '#48', '$210.61M', '$83.47M', '$78.90M', '$5.32M', '$32.00M',\n",
       "       '$36.76M', '$1.02M', '$0.16M', '$0.02M', '$1.66M', '$335.45M',\n",
       "       '$5.02M', '$190.24M', '$858.37M', '$678.82M', '$209.73M',\n",
       "       '$162.81M', '$448.14M', '$6.53M', '$223.81M', '$11.29M', '$0.71M',\n",
       "       '$25.54M', '$130.10M', '$2.38M', '$75.60M', '#101', '$85.16M',\n",
       "       '$51.97M', '$248.16M', '$11.49M', '$44.02M', '#92', '$0.28M',\n",
       "       '$8.18M', '#61', '#60', '$0.29M', '#119', '$12.39M', '$0.69M',\n",
       "       '$7.10M', '$6.86M', '$804.75M', '$293.00M', '$1.22M', '$415.00M',\n",
       "       '$120.54M', '$34.40M', '$33.23M', '$30.33M', '$3.64M', '$138.43M',\n",
       "       '$191.80M', '$67.44M', '$2.83M', '$46.36M', '$45.60M', '$309.13M',\n",
       "       '$159.60M', '$6.21M', '$56.95M', '#109', '$44.82M', '#135',\n",
       "       '$18.60M', '$13.28M', '$3.20M', '$0.54M', '$8.82M', '$0.06M',\n",
       "       '$0.33M', '$5.72M', '$1.59M', '$0.03M', '$1.24M', '$5.45M',\n",
       "       '$0.90M', '$159.23M', '$4.19M', '$1.37M', '$85.08M', '#153',\n",
       "       '$20.19M', '$0.74M', '$1.63M', '$356.46M', '$0.04M', '$6.39M',\n",
       "       '$13.66M', '$128.01M', '$47.70M', '#132', '$116.90M', '$74.28M',\n",
       "       '#240', '$40.22M', '$37.63M', '$70.51M', '$206.85M', '$5.51M',\n",
       "       '$4.71M', '$170.74M', '$70.10M', '$380.84M', '$293.51M', '$3.90M',\n",
       "       '$125.62M', '$64.62M', '$0.93M', '$42.44M', '$402.45M', '$101.16M',\n",
       "       '$197.17M', '$83.01M', '$4.14M', '$13.78M', '$23.38M', '#155',\n",
       "       '$28.26M', '$1.23M', '#244', '$8.49M', '$0.08M', '$15.00M',\n",
       "       '$12.10M', '#145', '$25.00M', '$44.91M', '$0.01M', '#208', '#192',\n",
       "       '$0.07M', '$0.10M', '$5.01M', '#229', '$198.68M', '$1.03M',\n",
       "       '$0.98M', '$3.76M', '$54.51M', '$0.34M', '#196', '$2.01M',\n",
       "       '$1.43M', '$226.28M', '$14.68M', '$3.11M', '$0.14M', '$10.62M',\n",
       "       '$0.92M', '$59.10M', '$167.77M', '$67.21M', '$2.80M', '$56.67M',\n",
       "       '$26.95M', '$117.62M', '$45.06M', '$1.04M', '$169.71M', '$61.00M',\n",
       "       '$154.06M', '$148.10M', '$381.01M', '#233', '#204', '$217.58M',\n",
       "       '$1.11M', '$18.35M', '$2.20M', '$100.49M', '$23.53M', '$206.45M',\n",
       "       '$5.82M', '$0.73M', '$305.41M', '$0.30M', '$164.62M', '$5.38M',\n",
       "       '$289.92M', '$1.65M', '$23.16M', '$17.50M', '$2.73M', '$16.50M',\n",
       "       '$24.61M', '$0.17M', '$0.31M', '$5.54M', '$4.04M', '$25.01M',\n",
       "       '$70.91M', '$5.22M', '$2.60M', '$95.86M', '$52.29M', '$138.53M',\n",
       "       '$4.94M', '$38.40M', '$2.18M', '$52.77M', '$4.97M', '$32.87M',\n",
       "       '$0.23M', '$48.98M', '$117.24M', '#219', '$260.00M', '#193',\n",
       "       '$30.93M', '$232.91M', '$16.22M', '#239', '$163.21M', '$1.53M',\n",
       "       '#238', '$74.70M', '#184', '#198', '$0.75M', '$9.60M', '$1.09M',\n",
       "       '$3.97M', '$0.45M', '$10.90M', '$23.65M', '$0.20M', '$2.08M',\n",
       "       '$3.27M', '$151.10M', '$51.74M', '$228.43M', '$3.49M', '$341.27M',\n",
       "       '$6.74M', '$1.51M', '$1.08M', '$91.13M', '$333.18M', '$0.86M',\n",
       "       '$92.05M', '$25.57M', '$183.64M', '$17.74M', '$138.80M',\n",
       "       '$363.07M', '$108.33M', '$1.50M', '$141.32M', '$106.95M',\n",
       "       '$623.28M', '$4.45M', '$2.22M', '$163.57M', '$57.37M', '$227.47M',\n",
       "       '$0.68M', '$74.10M', '$5.99M', '$167.45M', '$66.21M', '$2.09M',\n",
       "       '$61.65M', '$66.26M', '$261.44M', '$1.48M', '$22.46M', '$6.20M',\n",
       "       '$0.78M', '$5.60M', '$0.26M', '$0.35M', '$24.48M', '$13.42M',\n",
       "       '$57.14M', '$0.60M', '$63.90M', '$217.35M', '$70.41M', '$218.97M',\n",
       "       '$184.21M', '$178.80M', '$0.55M', '$30.86M', '$3.33M', '$4.54M',\n",
       "       '$0.50M', '$22.24M', '$20.05M', '$30.18M', '$39.20M', '$50.00M',\n",
       "       '$0.18M', '$86.30M', '$53.27M', '$1.74M', '$4.08M', '$29.13M',\n",
       "       '$80.50M', '$102.31M', '$33.40M', '$104.95M', '$0.05M', '$4.05M',\n",
       "       '$8.28M', '$19.52M', '$12.54M', '$11.90M', '$2.24M', '$0.65M',\n",
       "       '$9.45M', '$2.11M', '$165.36M', '$3.31M', '$2.00M', '$2.27M',\n",
       "       '$1.78M', '$3.24M', '$315.06M', '$132.42M', '$100.55M', '$5.57M',\n",
       "       '$1.01M', '$2.63M', '$8.11M', '$233.92M', '$216.43M', '$44.67M',\n",
       "       '$100.21M', '$0.11M', '$4.02M', '$2.12M', '$115.65M', '$26.24M',\n",
       "       '$0.41M', '$25.38M', '$1.19M', '$257.73M', '$27.30M', '$7.76M',\n",
       "       '$13.76M', '$124.99M', '$21.00M', '$0.24M', '$318.41M', '$13.54M',\n",
       "       '$1.79M', '$90.14M', '$249.36M', '$53.71M', '$9.28M', '$1.06M',\n",
       "       '$121.66M', '$35.55M', '$128.08M', '$32.53M', '$4.18M', '$7.22M',\n",
       "       '$267.67M', '$245.85M', '$659.33M', '$0.00M', '$26.40M', '$0.52M',\n",
       "       '$12.28M', '$1.32M', '$75.08M', '$36.95M', '$4.50M', '$56.36M',\n",
       "       '$14.74M', '$27.55M', '$76.27M', '$40.08M', '$9.93M', '$4.74M',\n",
       "       '$20.61M', '$435.11M', '$57.23M', '$45.70M', '$70.60M', '$0.58M',\n",
       "       '$61.70M', '$0.37M', '$12.06M', '$22.28M', '$24.38M', '$111.72M',\n",
       "       '$14.50M', '$13.47M', '$30.00M', '$0.09M', '$17.57M', '$93.74M',\n",
       "       '$8.00M', '$7.63M', '$2.65M', '$10.46M', '$6.54M', '$9.46M',\n",
       "       '$3.98M', '$10.00M', '$30.71M', '$18.10M', '$32.02M', '$188.37M',\n",
       "       '$169.61M', '$5.20M', '$40.44M', '$0.44M', '$532.18M', '$5.88M',\n",
       "       '$408.08M', '$54.12M', '$108.10M', '$32.38M', '$936.66M', '$4.23M',\n",
       "       '$222.53M', '$15.32M', '$1.67M', '$259.77M', '$45.51M', '$177.00M',\n",
       "       '$70.26M', '$0.13M', '$102.52M', '$107.10M', '$161.20M', '$7.00M',\n",
       "       '$96.96M', '$258.37M', '$10.10M', '$304.36M', '$93.62M',\n",
       "       '$145.00M', '$9.44M', '$303.00M', '$35.74M', '$50.93M', '$35.06M',\n",
       "       '$130.16M', '$760.51M', '$50.87M', '$2.28M', '$59.89M', '$23.64M',\n",
       "       '$127.51M', '$2.92M', '$38.41M', '$5.13M', '$25.51M', '$54.58M',\n",
       "       '$119.52M', '$81.00M', '$111.11M', '$16.76M', '$0.19M', '$1.00M',\n",
       "       '$8.26M', '$233.63M', '$28.97M', '$32.48M', '$22.86M', '$12.34M',\n",
       "       '$4.41M', '$5.89M', '$56.51M', '$32.42M', '$22.95M', '$183.88M',\n",
       "       '$17.27M', '$5.62M', '$57.50M', '$61.28M', '$52.10M', '$26.83M',\n",
       "       '$18.25M', '$118.50M', '$34.60M', '$59.74M', '$70.14M', '$45.88M',\n",
       "       '$34.70M', '$238.63M', '$21.50M', '$2.50M', '$106.26M', '$37.82M',\n",
       "       '$5.10M', '$31.80M', '$4.42M', '$16.06M', '$42.77M', '$4.00M',\n",
       "       '$44.79M', '$56.70M', '$72.00M', '$102.27M', '$2.62M', '$4.66M',\n",
       "       '$2.54M', '$324.59M', '$33.80M', '$2.40M', '$176.04M', '$220.16M',\n",
       "       '$48.02M', '$3.36M', '$0.77M', '$35.89M', '$128.26M', '$124.87M',\n",
       "       '$42.34M', '$1.33M', '$2.85M', '$5.21M', '$434.04M', '$17.65M',\n",
       "       '$189.42M', '$1.34M', '$56.82M', '$257.76M', '$274.09M',\n",
       "       '$228.78M', '$146.41M', '$277.32M', '$132.09M', '$136.03M',\n",
       "       '$32.39M', '$295.98M', '$9.03M', '$18.59M', '$0.88M', '$1.75M',\n",
       "       '$25.44M', '$33.08M', '$22.49M', '$1.05M', '$200.82M', '$4.40M',\n",
       "       '$83.04M', '$53.61M', '$17.11M', '$176.24M', '$75.33M', '$44.59M',\n",
       "       '$290.01M', '$77.91M', '$75.29M', '$4.89M', '$16.29M', '$51.68M',\n",
       "       '$4.06M', '$15.54M', '$22.25M', '$108.64M', '$104.45M', '$22.00M',\n",
       "       '$3.03M', '$54.23M', '$13.62M', '$2.89M', '$183.42M', '$132.07M',\n",
       "       '$52.04M', '$10.82M', '$2.81M', '$76.63M', '$7.27M', '$148.48M',\n",
       "       '$48.32M', '$41.91M', '$35.81M', '$56.12M', '$43.18M', '$173.84M',\n",
       "       '$21.85M', '$3.15M', '$9.17M', '$6.11M', '$77.32M', '$1.77M',\n",
       "       '$27.28M', '$48.17M', '$75.51M', '$10.73M', '$141.34M', '$2.02M',\n",
       "       '$82.42M', '$1.96M', '$5.08M', '$285.76M', '$92.82M', '$156.45M',\n",
       "       '$43.98M', '$5.92M', '$7.15M', '$1.44M', '$8.55M', '$10.63M',\n",
       "       '$61.50M', '$98.47M', '$11.80M', '$54.00M', '$78.91M', '$47.21M',\n",
       "       '$54.80M', '$83.40M', '$47.00M', '$14.82M', '$119.50M', '$29.80M',\n",
       "       '$7.06M', '$15.63M', '$35.90M', '$17.55M', '$45.30M', '$28.35M',\n",
       "       '$51.08M', '$39.10M', '$4.91M', '$21.75M', '$10.55M', '$76.41M',\n",
       "       '$26.02M', '$142.50M', '$389.81M', '$72.31M', '$608.58M',\n",
       "       '$248.76M', '$46.89M', '$109.77M', '$26.86M', '$37.71M',\n",
       "       '$208.55M', '$4.11M', '$41.00M', '$215.29M', '$171.24M',\n",
       "       '$251.51M', '$35.01M', '$48.07M', '$75.61M', '$3.19M', '$75.59M',\n",
       "       '$255.96M', '$15.09M', '$121.46M', '$69.95M', '$38.63M', '$31.57M',\n",
       "       '$17.61M', '$88.51M', '$20.30M', '$215.43M', '$0.87M', '$23.09M',\n",
       "       '$107.51M', '$24.15M', '$56.00M', '$3.75M', '$6.17M', '$5.74M',\n",
       "       '$59.70M', '$13.06M', '$57.94M', '$40.31M', '$52.36M', '$317.58M',\n",
       "       '$96.52M', '$124.12M', '$15.07M', '$380.26M', '$36.40M',\n",
       "       '$120.62M', '$63.54M', '$4.07M', '$14.38M', '$100.01M', '$71.52M',\n",
       "       '$1.46M', '$52.93M', '$6.15M', '$66.67M', '$111.54M', '$78.76M',\n",
       "       '$53.42M', '$65.21M', '$40.46M', '$10.60M', '$12.47M', '$2.49M',\n",
       "       '$44.53M', '$141.84M', '$11.40M', '$30.50M', '$184.93M'],\n",
       "      dtype=object)"
      ]
     },
     "execution_count": 5,
     "metadata": {},
     "output_type": "execute_result"
    }
   ],
   "source": [
    "df.Gross.unique()"
   ]
  },
  {
   "cell_type": "markdown",
   "id": "fe870333",
   "metadata": {
    "papermill": {
     "duration": 0.006506,
     "end_time": "2022-07-20T22:38:02.997982",
     "exception": false,
     "start_time": "2022-07-20T22:38:02.991476",
     "status": "completed"
    },
    "tags": []
   },
   "source": [
    "## **We can see we have #... and '%^%^%^' values in our Gross iincome column**"
   ]
  },
  {
   "cell_type": "code",
   "execution_count": 6,
   "id": "dc749174",
   "metadata": {
    "execution": {
     "iopub.execute_input": "2022-07-20T22:38:03.017471Z",
     "iopub.status.busy": "2022-07-20T22:38:03.017081Z",
     "iopub.status.idle": "2022-07-20T22:38:03.025750Z",
     "shell.execute_reply": "2022-07-20T22:38:03.024674Z"
    },
    "papermill": {
     "duration": 0.023882,
     "end_time": "2022-07-20T22:38:03.029088",
     "exception": false,
     "start_time": "2022-07-20T22:38:03.005206",
     "status": "completed"
    },
    "tags": []
   },
   "outputs": [],
   "source": [
    "df.Gross.replace('%^%^%^', np.nan, inplace=True)\n",
    "\n",
    "df.Gross = df.Gross.apply(lambda item: np.nan if '#' in str(item) else item)"
   ]
  },
  {
   "cell_type": "code",
   "execution_count": 7,
   "id": "4cdbdbfe",
   "metadata": {
    "execution": {
     "iopub.execute_input": "2022-07-20T22:38:03.045681Z",
     "iopub.status.busy": "2022-07-20T22:38:03.044994Z",
     "iopub.status.idle": "2022-07-20T22:38:03.056166Z",
     "shell.execute_reply": "2022-07-20T22:38:03.054838Z"
    },
    "papermill": {
     "duration": 0.021898,
     "end_time": "2022-07-20T22:38:03.058967",
     "exception": false,
     "start_time": "2022-07-20T22:38:03.037069",
     "status": "completed"
    },
    "tags": []
   },
   "outputs": [
    {
     "data": {
      "text/plain": [
       "array(['(1994)', '(1972)', '(2008)', '(2003)', '(1993)', '(1974)',\n",
       "       '(1957)', '(2021)', '(2010)', '(2002)', '(1999)', '(2001)',\n",
       "       '(1966)', '(2020)', '(1990)', '(1980)', '(1975)', '(2022)',\n",
       "       '(2014)', '(1998)', '(1997)', '(1995)', '(1991)', '(1977)',\n",
       "       '(1962)', '(1954)', '(1946)', '(2019)', '(2011)', '(2006)',\n",
       "       '(2000)', '(1988)', '(1985)', '(1979)', '(1968)', '(1960)',\n",
       "       '(1942)', '(1936)', '(1931)', '(2018)', '(I) (2019)',\n",
       "       '(II) (2018)', '(2016)', '(I) (2017)', '(2012)', '(2009)',\n",
       "       '(1986)', '(1984)', '(1981)', '(1963)', '(1964)', '(1950)',\n",
       "       '(1940)', '(2017)', '(2013)', '(2007)', '(2004)', '(1992)',\n",
       "       '(1987)', '(1983)', '(1973)', '(1971)', '(1961)', '(1959)',\n",
       "       '(1958)', '(1955)', '(1952)', '(1948)', '(1944)', '(1941)',\n",
       "       '(1927)', '(1921)', '(2015)', '(I) (2015)', '(I) (2020)', '(2005)',\n",
       "       '(1989)', '(1982)', '(1976)', '(1969)', '(1965)', '(1953)',\n",
       "       '(1939)', '(1928)', '(1926)', '(1925)', '(1924)', '(III) (2016)',\n",
       "       '(I) (2013)', '(1996)', '(1978)', '(1967)', '(1951)', '(1949)',\n",
       "       '(1937)', '(1934)', '(1930)', '(I) (2014)', '(I) (2004)', '(1956)',\n",
       "       '(1947)', '(1945)', '(1920)', '(II) (2016)', '(I) (2011)',\n",
       "       '(I) (2001)', '(1970)', '(1943)', '(1938)', '(1933)', '(1932)',\n",
       "       '(1922)', '(I) (2010)', '(I) (2008)', '(I) (2007)', '(1935)',\n",
       "       '(I) (1995)', '(III) (2018)', '(I) (2016)', '(II) (2015)',\n",
       "       '(I) (1985)'], dtype=object)"
      ]
     },
     "execution_count": 7,
     "metadata": {},
     "output_type": "execute_result"
    }
   ],
   "source": [
    "df['Year of Release'].unique()"
   ]
  },
  {
   "cell_type": "code",
   "execution_count": 8,
   "id": "ec9ad0d8",
   "metadata": {
    "execution": {
     "iopub.execute_input": "2022-07-20T22:38:03.079110Z",
     "iopub.status.busy": "2022-07-20T22:38:03.078518Z",
     "iopub.status.idle": "2022-07-20T22:38:03.087253Z",
     "shell.execute_reply": "2022-07-20T22:38:03.085721Z"
    },
    "papermill": {
     "duration": 0.021532,
     "end_time": "2022-07-20T22:38:03.089947",
     "exception": false,
     "start_time": "2022-07-20T22:38:03.068415",
     "status": "completed"
    },
    "tags": []
   },
   "outputs": [],
   "source": [
    "df['Year of Release'] = df['Year of Release'].apply(lambda item: np.nan if 'I' in str(item) else item)"
   ]
  },
  {
   "cell_type": "code",
   "execution_count": 9,
   "id": "8c3c6ad2",
   "metadata": {
    "execution": {
     "iopub.execute_input": "2022-07-20T22:38:03.107038Z",
     "iopub.status.busy": "2022-07-20T22:38:03.106021Z",
     "iopub.status.idle": "2022-07-20T22:38:03.116716Z",
     "shell.execute_reply": "2022-07-20T22:38:03.115269Z"
    },
    "papermill": {
     "duration": 0.022696,
     "end_time": "2022-07-20T22:38:03.119735",
     "exception": false,
     "start_time": "2022-07-20T22:38:03.097039",
     "status": "completed"
    },
    "tags": []
   },
   "outputs": [],
   "source": [
    "def grossToFloat(string):\n",
    "    if type(string) != float:\n",
    "        string = string.replace('$', '')\n",
    "        string = string.replace('M', '')\n",
    "        return float(string)\n",
    "    return string\n",
    "\n",
    "def watchTimeToFloat(string):\n",
    "    if type(string) != float:\n",
    "        string = string.replace(' min', '')\n",
    "        return float(string)\n",
    "    return string\n",
    "\n",
    "def yearToFloat(string):\n",
    "    if type(string) != float:\n",
    "        string = string.replace('(', '')\n",
    "        string = string.replace(')', '')\n",
    "        return float(string)\n",
    "    return string"
   ]
  },
  {
   "cell_type": "code",
   "execution_count": 10,
   "id": "147da214",
   "metadata": {
    "execution": {
     "iopub.execute_input": "2022-07-20T22:38:03.135970Z",
     "iopub.status.busy": "2022-07-20T22:38:03.135547Z",
     "iopub.status.idle": "2022-07-20T22:38:03.146300Z",
     "shell.execute_reply": "2022-07-20T22:38:03.145375Z"
    },
    "papermill": {
     "duration": 0.021237,
     "end_time": "2022-07-20T22:38:03.148477",
     "exception": false,
     "start_time": "2022-07-20T22:38:03.127240",
     "status": "completed"
    },
    "tags": []
   },
   "outputs": [],
   "source": [
    "df.Gross = df.Gross.apply(grossToFloat)\n",
    "df['Watch Time'] = df['Watch Time'].apply(watchTimeToFloat)\n",
    "df['Year of Release'] = df['Year of Release'].apply(yearToFloat)"
   ]
  },
  {
   "cell_type": "code",
   "execution_count": 11,
   "id": "17c65f32",
   "metadata": {
    "execution": {
     "iopub.execute_input": "2022-07-20T22:38:03.163869Z",
     "iopub.status.busy": "2022-07-20T22:38:03.162925Z",
     "iopub.status.idle": "2022-07-20T22:38:03.198370Z",
     "shell.execute_reply": "2022-07-20T22:38:03.196887Z"
    },
    "papermill": {
     "duration": 0.04576,
     "end_time": "2022-07-20T22:38:03.201029",
     "exception": false,
     "start_time": "2022-07-20T22:38:03.155269",
     "status": "completed"
    },
    "tags": []
   },
   "outputs": [
    {
     "data": {
      "text/html": [
       "<div>\n",
       "<style scoped>\n",
       "    .dataframe tbody tr th:only-of-type {\n",
       "        vertical-align: middle;\n",
       "    }\n",
       "\n",
       "    .dataframe tbody tr th {\n",
       "        vertical-align: top;\n",
       "    }\n",
       "\n",
       "    .dataframe thead th {\n",
       "        text-align: right;\n",
       "    }\n",
       "</style>\n",
       "<table border=\"1\" class=\"dataframe\">\n",
       "  <thead>\n",
       "    <tr style=\"text-align: right;\">\n",
       "      <th></th>\n",
       "      <th>Unnamed: 0</th>\n",
       "      <th>Year of Release</th>\n",
       "      <th>Watch Time</th>\n",
       "      <th>Movie Rating</th>\n",
       "      <th>Gross</th>\n",
       "    </tr>\n",
       "  </thead>\n",
       "  <tbody>\n",
       "    <tr>\n",
       "      <th>count</th>\n",
       "      <td>1000.000000</td>\n",
       "      <td>967.000000</td>\n",
       "      <td>1000.000000</td>\n",
       "      <td>1000.000000</td>\n",
       "      <td>817.000000</td>\n",
       "    </tr>\n",
       "    <tr>\n",
       "      <th>mean</th>\n",
       "      <td>499.500000</td>\n",
       "      <td>1990.493278</td>\n",
       "      <td>123.747000</td>\n",
       "      <td>7.962700</td>\n",
       "      <td>70.132497</td>\n",
       "    </tr>\n",
       "    <tr>\n",
       "      <th>std</th>\n",
       "      <td>288.819436</td>\n",
       "      <td>23.987741</td>\n",
       "      <td>28.468816</td>\n",
       "      <td>0.276759</td>\n",
       "      <td>113.765949</td>\n",
       "    </tr>\n",
       "    <tr>\n",
       "      <th>min</th>\n",
       "      <td>0.000000</td>\n",
       "      <td>1920.000000</td>\n",
       "      <td>45.000000</td>\n",
       "      <td>7.600000</td>\n",
       "      <td>0.000000</td>\n",
       "    </tr>\n",
       "    <tr>\n",
       "      <th>25%</th>\n",
       "      <td>249.750000</td>\n",
       "      <td>1974.000000</td>\n",
       "      <td>103.000000</td>\n",
       "      <td>7.700000</td>\n",
       "      <td>3.270000</td>\n",
       "    </tr>\n",
       "    <tr>\n",
       "      <th>50%</th>\n",
       "      <td>499.500000</td>\n",
       "      <td>1998.000000</td>\n",
       "      <td>120.000000</td>\n",
       "      <td>7.900000</td>\n",
       "      <td>23.650000</td>\n",
       "    </tr>\n",
       "    <tr>\n",
       "      <th>75%</th>\n",
       "      <td>749.250000</td>\n",
       "      <td>2009.000000</td>\n",
       "      <td>138.000000</td>\n",
       "      <td>8.100000</td>\n",
       "      <td>85.080000</td>\n",
       "    </tr>\n",
       "    <tr>\n",
       "      <th>max</th>\n",
       "      <td>999.000000</td>\n",
       "      <td>2022.000000</td>\n",
       "      <td>321.000000</td>\n",
       "      <td>9.300000</td>\n",
       "      <td>936.660000</td>\n",
       "    </tr>\n",
       "  </tbody>\n",
       "</table>\n",
       "</div>"
      ],
      "text/plain": [
       "        Unnamed: 0  Year of Release   Watch Time  Movie Rating       Gross\n",
       "count  1000.000000       967.000000  1000.000000   1000.000000  817.000000\n",
       "mean    499.500000      1990.493278   123.747000      7.962700   70.132497\n",
       "std     288.819436        23.987741    28.468816      0.276759  113.765949\n",
       "min       0.000000      1920.000000    45.000000      7.600000    0.000000\n",
       "25%     249.750000      1974.000000   103.000000      7.700000    3.270000\n",
       "50%     499.500000      1998.000000   120.000000      7.900000   23.650000\n",
       "75%     749.250000      2009.000000   138.000000      8.100000   85.080000\n",
       "max     999.000000      2022.000000   321.000000      9.300000  936.660000"
      ]
     },
     "execution_count": 11,
     "metadata": {},
     "output_type": "execute_result"
    }
   ],
   "source": [
    "df.describe()"
   ]
  },
  {
   "cell_type": "code",
   "execution_count": 12,
   "id": "764e36a3",
   "metadata": {
    "execution": {
     "iopub.execute_input": "2022-07-20T22:38:03.217122Z",
     "iopub.status.busy": "2022-07-20T22:38:03.216425Z",
     "iopub.status.idle": "2022-07-20T22:38:03.235171Z",
     "shell.execute_reply": "2022-07-20T22:38:03.233879Z"
    },
    "papermill": {
     "duration": 0.028943,
     "end_time": "2022-07-20T22:38:03.237302",
     "exception": false,
     "start_time": "2022-07-20T22:38:03.208359",
     "status": "completed"
    },
    "tags": []
   },
   "outputs": [
    {
     "data": {
      "text/html": [
       "<div>\n",
       "<style scoped>\n",
       "    .dataframe tbody tr th:only-of-type {\n",
       "        vertical-align: middle;\n",
       "    }\n",
       "\n",
       "    .dataframe tbody tr th {\n",
       "        vertical-align: top;\n",
       "    }\n",
       "\n",
       "    .dataframe thead th {\n",
       "        text-align: right;\n",
       "    }\n",
       "</style>\n",
       "<table border=\"1\" class=\"dataframe\">\n",
       "  <thead>\n",
       "    <tr style=\"text-align: right;\">\n",
       "      <th></th>\n",
       "      <th>Unnamed: 0</th>\n",
       "      <th>Movie Name</th>\n",
       "      <th>Year of Release</th>\n",
       "      <th>Watch Time</th>\n",
       "      <th>Movie Rating</th>\n",
       "      <th>Meatscore of movie</th>\n",
       "      <th>Votes</th>\n",
       "      <th>Gross</th>\n",
       "      <th>Description</th>\n",
       "    </tr>\n",
       "  </thead>\n",
       "  <tbody>\n",
       "    <tr>\n",
       "      <th>0</th>\n",
       "      <td>0</td>\n",
       "      <td>The Shawshank Redemption</td>\n",
       "      <td>1994.0</td>\n",
       "      <td>142.0</td>\n",
       "      <td>9.3</td>\n",
       "      <td>81</td>\n",
       "      <td>34,709</td>\n",
       "      <td>28.34</td>\n",
       "      <td>Two imprisoned men bond over a number of years...</td>\n",
       "    </tr>\n",
       "    <tr>\n",
       "      <th>1</th>\n",
       "      <td>1</td>\n",
       "      <td>The Godfather</td>\n",
       "      <td>1972.0</td>\n",
       "      <td>175.0</td>\n",
       "      <td>9.2</td>\n",
       "      <td>100</td>\n",
       "      <td>34,709</td>\n",
       "      <td>134.97</td>\n",
       "      <td>The aging patriarch of an organized crime dyna...</td>\n",
       "    </tr>\n",
       "    <tr>\n",
       "      <th>2</th>\n",
       "      <td>2</td>\n",
       "      <td>The Dark Knight</td>\n",
       "      <td>2008.0</td>\n",
       "      <td>152.0</td>\n",
       "      <td>9.0</td>\n",
       "      <td>84</td>\n",
       "      <td>34,709</td>\n",
       "      <td>534.86</td>\n",
       "      <td>When the menace known as the Joker wreaks havo...</td>\n",
       "    </tr>\n",
       "    <tr>\n",
       "      <th>3</th>\n",
       "      <td>3</td>\n",
       "      <td>The Lord of the Rings: The Return of the King</td>\n",
       "      <td>2003.0</td>\n",
       "      <td>201.0</td>\n",
       "      <td>9.0</td>\n",
       "      <td>94</td>\n",
       "      <td>34,709</td>\n",
       "      <td>377.85</td>\n",
       "      <td>Gandalf and Aragorn lead the World of Men agai...</td>\n",
       "    </tr>\n",
       "    <tr>\n",
       "      <th>4</th>\n",
       "      <td>4</td>\n",
       "      <td>Schindler's List</td>\n",
       "      <td>1993.0</td>\n",
       "      <td>195.0</td>\n",
       "      <td>9.0</td>\n",
       "      <td>94</td>\n",
       "      <td>34,709</td>\n",
       "      <td>96.90</td>\n",
       "      <td>In German-occupied Poland during World War II,...</td>\n",
       "    </tr>\n",
       "  </tbody>\n",
       "</table>\n",
       "</div>"
      ],
      "text/plain": [
       "   Unnamed: 0                                     Movie Name  Year of Release  \\\n",
       "0           0                       The Shawshank Redemption           1994.0   \n",
       "1           1                                  The Godfather           1972.0   \n",
       "2           2                                The Dark Knight           2008.0   \n",
       "3           3  The Lord of the Rings: The Return of the King           2003.0   \n",
       "4           4                               Schindler's List           1993.0   \n",
       "\n",
       "   Watch Time  Movie Rating Meatscore of movie   Votes   Gross  \\\n",
       "0       142.0           9.3         81          34,709   28.34   \n",
       "1       175.0           9.2        100          34,709  134.97   \n",
       "2       152.0           9.0         84          34,709  534.86   \n",
       "3       201.0           9.0         94          34,709  377.85   \n",
       "4       195.0           9.0         94          34,709   96.90   \n",
       "\n",
       "                                         Description  \n",
       "0  Two imprisoned men bond over a number of years...  \n",
       "1  The aging patriarch of an organized crime dyna...  \n",
       "2  When the menace known as the Joker wreaks havo...  \n",
       "3  Gandalf and Aragorn lead the World of Men agai...  \n",
       "4  In German-occupied Poland during World War II,...  "
      ]
     },
     "execution_count": 12,
     "metadata": {},
     "output_type": "execute_result"
    }
   ],
   "source": [
    "df.head()"
   ]
  },
  {
   "cell_type": "markdown",
   "id": "d8693f8f",
   "metadata": {
    "papermill": {
     "duration": 0.007057,
     "end_time": "2022-07-20T22:38:03.251510",
     "exception": false,
     "start_time": "2022-07-20T22:38:03.244453",
     "status": "completed"
    },
    "tags": []
   },
   "source": [
    "<h1 align=\"center\" ><a id='nullVal'><b>Checking for null values<b></a></h1>"
   ]
  },
  {
   "cell_type": "code",
   "execution_count": 13,
   "id": "aa3f9499",
   "metadata": {
    "execution": {
     "iopub.execute_input": "2022-07-20T22:38:03.268782Z",
     "iopub.status.busy": "2022-07-20T22:38:03.268387Z",
     "iopub.status.idle": "2022-07-20T22:38:03.508026Z",
     "shell.execute_reply": "2022-07-20T22:38:03.506581Z"
    },
    "papermill": {
     "duration": 0.251863,
     "end_time": "2022-07-20T22:38:03.510548",
     "exception": false,
     "start_time": "2022-07-20T22:38:03.258685",
     "status": "completed"
    },
    "tags": []
   },
   "outputs": [
    {
     "data": {
      "image/png": "[encoded data removed]",
      "text/plain": [
       "<Figure size 864x432 with 1 Axes>"
      ]
     },
     "metadata": {
      "needs_background": "light"
     },
     "output_type": "display_data"
    }
   ],
   "source": [
    "plt.figure(figsize=(12, 6))\n",
    "sns.heatmap(yticklabels=False, data=df.isnull(), cbar=False, cmap=\"flare\")\n",
    "plt.show()"
   ]
  },
  {
   "cell_type": "code",
   "execution_count": 14,
   "id": "ba2be20f",
   "metadata": {
    "execution": {
     "iopub.execute_input": "2022-07-20T22:38:03.528041Z",
     "iopub.status.busy": "2022-07-20T22:38:03.527022Z",
     "iopub.status.idle": "2022-07-20T22:38:03.537999Z",
     "shell.execute_reply": "2022-07-20T22:38:03.537071Z"
    },
    "papermill": {
     "duration": 0.021823,
     "end_time": "2022-07-20T22:38:03.540164",
     "exception": false,
     "start_time": "2022-07-20T22:38:03.518341",
     "status": "completed"
    },
    "tags": []
   },
   "outputs": [
    {
     "data": {
      "text/plain": [
       "Unnamed: 0              0\n",
       "Movie Name              0\n",
       "Year of Release        33\n",
       "Watch Time              0\n",
       "Movie Rating            0\n",
       "Meatscore of movie      0\n",
       "Votes                   0\n",
       "Gross                 183\n",
       "Description             0\n",
       "dtype: int64"
      ]
     },
     "execution_count": 14,
     "metadata": {},
     "output_type": "execute_result"
    }
   ],
   "source": [
    "df.isnull().sum()"
   ]
  },
  {
   "cell_type": "code",
   "execution_count": 15,
   "id": "25c8fec3",
   "metadata": {
    "execution": {
     "iopub.execute_input": "2022-07-20T22:38:03.557427Z",
     "iopub.status.busy": "2022-07-20T22:38:03.556472Z",
     "iopub.status.idle": "2022-07-20T22:38:04.082429Z",
     "shell.execute_reply": "2022-07-20T22:38:04.081272Z"
    },
    "papermill": {
     "duration": 0.537549,
     "end_time": "2022-07-20T22:38:04.085307",
     "exception": false,
     "start_time": "2022-07-20T22:38:03.547758",
     "status": "completed"
    },
    "tags": []
   },
   "outputs": [
    {
     "data": {
      "image/png": "[encoded data removed]",
      "text/plain": [
       "<Figure size 1440x1080 with 2 Axes>"
      ]
     },
     "metadata": {
      "needs_background": "light"
     },
     "output_type": "display_data"
    }
   ],
   "source": [
    "plt.figure(figsize=(20, 15))\n",
    "plt.subplot(2, 2, 1)\n",
    "sns.histplot(df.Gross, palette='viridis'[3])\n",
    "plt.subplot(2, 2, 2)\n",
    "sns.kdeplot(df.Gross, palette='magma'[3], fill=True) \n",
    "plt.show()"
   ]
  },
  {
   "cell_type": "markdown",
   "id": "d21588ad",
   "metadata": {
    "papermill": {
     "duration": 0.008078,
     "end_time": "2022-07-20T22:38:04.102269",
     "exception": false,
     "start_time": "2022-07-20T22:38:04.094191",
     "status": "completed"
    },
    "tags": []
   },
   "source": [
    "<div style='font-size:200%;'>\n",
    "    <a id='import'></a>\n",
    "    <h3 style='color: orange; font-weight: bold; font-family: Cascadia code;'>\n",
    "        <center> Alright, that's it folks, Thank you for the visit! </center>\n",
    "    </h3>\n",
    "    <h1 style='color: skyblue; font-weight: bold; font-family: Cascadia code;'>\n",
    "        <center> Happy Kaggling! </center>\n",
    "    </h1>\n",
    "    <center><img style='height: 40%; width: 40%' src=\"https://miro.medium.com/max/3150/2*tQb2DNhHAMPj6u3peTXOFQ.png\"> </center>\n",
    "</div>"
   ]
  }
 ],
 "metadata": {
  "kernelspec": {
   "display_name": "Python 3",
   "language": "python",
   "name": "python3"
  },
  "language_info": {
   "codemirror_mode": {
    "name": "ipython",
    "version": 3
   },
   "file_extension": ".py",
   "mimetype": "text/x-python",
   "name": "python",
   "nbconvert_exporter": "python",
   "pygments_lexer": "ipython3",
   "version": "3.7.12"
  },
  "papermill": {
   "default_parameters": {},
   "duration": 13.065778,
   "end_time": "2022-07-20T22:38:04.833618",
   "environment_variables": {},
   "exception": null,
   "input_path": "__notebook__.ipynb",
   "output_path": "__notebook__.ipynb",
   "parameters": {},
   "start_time": "2022-07-20T22:37:51.767840",
   "version": "2.3.4"
  }
 },
 "nbformat": 4,
 "nbformat_minor": 5
}
