{
 "cells": [
  {
   "cell_type": "code",
   "execution_count": 4,
   "metadata": {},
   "outputs": [],
   "source": [
    "import shap\n",
    "from datasets import load_dataset\n",
    "from src.utils import MODEL_NAME_TO_DESC_DICT, format_text_pred, prepare_text\n",
    "import matplotlib.pyplot as plt\n",
    "import numpy as np\n",
    "from transformers import AutoModelForSequenceClassification, pipeline, AutoTokenizer\n",
    "import pandas as pd\n",
    "from datasets import load_dataset, DatasetDict, Dataset\n",
    "from transformers.pipelines.pt_utils import KeyDataset\n",
    "from tqdm import tqdm\n",
    "\n",
    "import lightgbm as lgb"
   ]
  },
  {
   "cell_type": "code",
   "execution_count": 3,
   "metadata": {},
   "outputs": [
    {
     "name": "stderr",
     "output_type": "stream",
     "text": [
      "Found cached dataset parquet (/home/james/.cache/huggingface/datasets/james-burton___parquet/james-burton--imdb_genre_prediction2-a5449428d75bcc31/0.0.0/2a3b91fbd88a2c90d1dbbb32b460cf621d31bd5b05b934492fdef7d8d6f236ec)\n"
     ]
    }
   ],
   "source": [
    "train_df = load_dataset('james-burton/imdb_genre_prediction2', split='train').to_pandas()"
   ]
  },
  {
   "cell_type": "code",
   "execution_count": 4,
   "metadata": {},
   "outputs": [
    {
     "name": "stderr",
     "output_type": "stream",
     "text": [
      "Found cached dataset parquet (/home/james/.cache/huggingface/datasets/james-burton___parquet/james-burton--imdb_genre_prediction2-a5449428d75bcc31/0.0.0/2a3b91fbd88a2c90d1dbbb32b460cf621d31bd5b05b934492fdef7d8d6f236ec)\n"
     ]
    },
    {
     "data": {
      "text/plain": [
       "array([[2.00900000e+03, 9.50000000e+01, 7.70000000e+00, 3.98972000e+05,\n",
       "        3.23900000e+01, 7.60000000e+01, 5.08000000e+02],\n",
       "       [2.01600000e+03, 1.08000000e+02, 5.70000000e+00, 2.47610000e+04,\n",
       "        5.40000000e-01, 2.20000000e+01, 5.38000000e+02],\n",
       "       [2.01600000e+03, 1.08000000e+02, 6.30000000e+00, 1.06600000e+03,\n",
       "        8.32676836e+01, 6.40000000e+01, 8.49000000e+02],\n",
       "       [2.01600000e+03, 1.23000000e+02, 7.10000000e+00, 1.71410000e+04,\n",
       "        7.70000000e+00, 7.90000000e+01, 5.52000000e+02],\n",
       "       [2.01500000e+03, 1.13000000e+02, 6.70000000e+00, 4.16420000e+04,\n",
       "        8.32676836e+01, 7.10000000e+01, 4.80000000e+02],\n",
       "       [2.01400000e+03, 9.90000000e+01, 8.10000000e+00, 5.30881000e+05,\n",
       "        5.90700000e+01, 8.80000000e+01, 2.39000000e+02],\n",
       "       [2.01600000e+03, 1.01000000e+02, 7.90000000e+00, 5.23310000e+04,\n",
       "        5.20000000e+00, 8.10000000e+01, 4.48000000e+02],\n",
       "       [2.00800000e+03, 9.30000000e+01, 7.80000000e+00, 5.02961000e+05,\n",
       "        1.45000000e+02, 5.00000000e+01, 4.11000000e+02],\n",
       "       [2.01200000e+03, 9.50000000e+01, 7.10000000e+00, 2.13764000e+05,\n",
       "        1.34000000e+01, 5.90000000e+01, 4.47000000e+02],\n",
       "       [2.01600000e+03, 8.60000000e+01, 5.80000000e+00, 1.29200000e+03,\n",
       "        8.32676836e+01, 7.30000000e+01, 9.43000000e+02]])"
      ]
     },
     "execution_count": 4,
     "metadata": {},
     "output_type": "execute_result"
    }
   ],
   "source": [
    "t = load_dataset('james-burton/imdb_genre_prediction2', split='test[:10]')\n",
    "t.to_pandas()[['Year','Runtime (Minutes)', 'Rating', 'Votes', 'Revenue (Millions)','Metascore', 'Rank']].values"
   ]
  },
  {
   "cell_type": "code",
   "execution_count": 5,
   "metadata": {},
   "outputs": [],
   "source": [
    "t1 = t.to_pandas()[['Year','Runtime (Minutes)', 'Rating', 'Votes', 'Revenue (Millions)','Metascore', 'Rank']].values\n",
    "# append t['Description'] to t1\n",
    "t2 = np.hstack((t1, np.expand_dims(np.array(t['Description']), axis=1)))"
   ]
  },
  {
   "cell_type": "code",
   "execution_count": 6,
   "metadata": {},
   "outputs": [
    {
     "data": {
      "text/plain": [
       "(10, 7)"
      ]
     },
     "execution_count": 6,
     "metadata": {},
     "output_type": "execute_result"
    }
   ],
   "source": [
    "t1.shape"
   ]
  },
  {
   "cell_type": "code",
   "execution_count": 7,
   "metadata": {},
   "outputs": [
    {
     "data": {
      "text/plain": [
       "\"An offbeat romantic comedy about a woman who doesn't believe true love exists, and the young man who falls for her.\""
      ]
     },
     "execution_count": 7,
     "metadata": {},
     "output_type": "execute_result"
    }
   ],
   "source": [
    "t2[0,-1]"
   ]
  },
  {
   "cell_type": "code",
   "execution_count": 8,
   "metadata": {},
   "outputs": [
    {
     "data": {
      "text/plain": [
       "(10,)"
      ]
     },
     "execution_count": 8,
     "metadata": {},
     "output_type": "execute_result"
    }
   ],
   "source": [
    "np.array(t['Description']).shape"
   ]
  },
  {
   "cell_type": "code",
   "execution_count": 9,
   "metadata": {},
   "outputs": [
    {
     "name": "stderr",
     "output_type": "stream",
     "text": [
      "The default value of `n_init` will change from 10 to 'auto' in 1.4. Set the value of `n_init` explicitly to suppress the warning\n"
     ]
    },
    {
     "data": {
      "text/plain": [
       "array([[2.01400e+03, 1.01000e+02, 7.10000e+00, 2.13764e+05, 5.90700e+01,\n",
       "        6.40000e+01, 5.38000e+02]])"
      ]
     },
     "execution_count": 9,
     "metadata": {},
     "output_type": "execute_result"
    }
   ],
   "source": [
    "kmeans = shap.kmeans(t1, 1).data\n",
    "kmeans"
   ]
  },
  {
   "cell_type": "code",
   "execution_count": 10,
   "metadata": {},
   "outputs": [],
   "source": [
    "tokenizer = AutoTokenizer.from_pretrained(\"distilbert-base-uncased\")\n",
    "# tokenizer(t2[0,-1], return_tensors=\"pt\")\n",
    "\n",
    "masker = shap.maskers.Text(tokenizer)"
   ]
  },
  {
   "cell_type": "code",
   "execution_count": 11,
   "metadata": {},
   "outputs": [
    {
     "data": {
      "text/plain": [
       "28"
      ]
     },
     "execution_count": 11,
     "metadata": {},
     "output_type": "execute_result"
    }
   ],
   "source": [
    "masker.shape(t2[0,-1])[1]"
   ]
  },
  {
   "cell_type": "code",
   "execution_count": 12,
   "metadata": {},
   "outputs": [],
   "source": [
    "m00 = np.zeros(masker.shape(t2[0,-1])[1])"
   ]
  },
  {
   "cell_type": "code",
   "execution_count": 13,
   "metadata": {},
   "outputs": [
    {
     "data": {
      "text/plain": [
       "array([0., 0., 0., 0., 0., 0., 0., 0., 0., 0., 0., 0., 0., 0., 0., 0., 0.,\n",
       "       0., 0., 0., 0., 0., 0., 0., 0., 0., 0., 0.])"
      ]
     },
     "execution_count": 13,
     "metadata": {},
     "output_type": "execute_result"
    }
   ],
   "source": [
    "m00"
   ]
  },
  {
   "cell_type": "code",
   "execution_count": 14,
   "metadata": {},
   "outputs": [
    {
     "data": {
      "text/plain": [
       "\"An offbeat romantic comedy about a woman who doesn't believe true love exists, and the young man who falls for her.\""
      ]
     },
     "execution_count": 14,
     "metadata": {},
     "output_type": "execute_result"
    }
   ],
   "source": [
    "t2[0,-1]"
   ]
  },
  {
   "cell_type": "code",
   "execution_count": 15,
   "metadata": {},
   "outputs": [
    {
     "data": {
      "text/plain": [
       "(array(['[MASK] [MASK] [MASK] [MASK] [MASK] [MASK] [MASK] [MASK] [MASK] [MASK] [MASK] [MASK] [MASK] [MASK] [MASK] [MASK] [MASK] [MASK] [MASK] [MASK] [MASK] [MASK] [MASK] [MASK] [MASK] [MASK]'],\n",
       "       dtype='<U181'),)"
      ]
     },
     "execution_count": 15,
     "metadata": {},
     "output_type": "execute_result"
    }
   ],
   "source": [
    "masker(m00, t2[0,-1])"
   ]
  },
  {
   "cell_type": "code",
   "execution_count": 16,
   "metadata": {},
   "outputs": [],
   "source": [
    "def custom_masker(mask,x):\n",
    "    tab_mask = mask[:7] # 7 is the number of tabular features\n",
    "    text_mask = mask[7:]\n",
    "    masker(text_mask, x)\n",
    "    return masker.shape(x)[-1]"
   ]
  },
  {
   "cell_type": "code",
   "execution_count": 17,
   "metadata": {},
   "outputs": [
    {
     "data": {
      "text/plain": [
       "array([1.6, -0.6, '[MASK]there'], dtype=object)"
      ]
     },
     "execution_count": 17,
     "metadata": {},
     "output_type": "execute_result"
    }
   ],
   "source": [
    "tokenizer = AutoTokenizer.from_pretrained(\"distilbert-base-uncased\")\n",
    "text_masker = shap.maskers.Text(tokenizer)\n",
    "def custom_masker(mask, x, M_tab):\n",
    "    tab_mask = mask[:M_tab]\n",
    "    text_mask = mask[M_tab:]\n",
    "    masked_tab = x[:M_tab] * tab_mask\n",
    "    masked_text = text_masker(mask[M_tab:], x[M_tab])\n",
    "    return np.hstack([masked_tab.astype('O'), masked_text[0]])\n",
    "\n",
    "reference = [1.6, -0.6, 'hi there']\n",
    "mask = np.array([1., 1., 1., 0., 1., 1.])\n",
    "\n",
    "custom_masker(mask, reference, 2)"
   ]
  },
  {
   "cell_type": "code",
   "execution_count": 18,
   "metadata": {},
   "outputs": [
    {
     "data": {
      "text/plain": [
       "(['', 'hi ', 'there', ''], [101, 7632, 2045, 102])"
      ]
     },
     "execution_count": 18,
     "metadata": {},
     "output_type": "execute_result"
    }
   ],
   "source": [
    "masker.token_segments(reference[-1])"
   ]
  },
  {
   "cell_type": "code",
   "execution_count": 19,
   "metadata": {},
   "outputs": [
    {
     "data": {
      "text/plain": [
       "array([0., 0., 0., 0., 0., 0.])"
      ]
     },
     "execution_count": 19,
     "metadata": {},
     "output_type": "execute_result"
    }
   ],
   "source": [
    "m00 = np.zeros(masker.shape('offbeat romantic comedy')[1])\n",
    "m00"
   ]
  },
  {
   "cell_type": "code",
   "execution_count": 20,
   "metadata": {},
   "outputs": [
    {
     "data": {
      "text/plain": [
       "(array(['hi [MASK]'], dtype='<U9'),)"
      ]
     },
     "execution_count": 20,
     "metadata": {},
     "output_type": "execute_result"
    }
   ],
   "source": [
    "mask = np.array([1, 1, 0, 1])\n",
    "text_masker(np.array([1, 1, 0, 1]), 'hi there')"
   ]
  },
  {
   "cell_type": "code",
   "execution_count": 21,
   "metadata": {},
   "outputs": [
    {
     "data": {
      "text/plain": [
       "array(['0.0', '0.0', '0.0', '0.0', '0.0', '0.0', '0.0', '[MASK]',\n",
       "       '[MASK]', '[MASK]', '[MASK]', '[MASK]', '[MASK]', '[MASK]',\n",
       "       '[MASK]', '[MASK]', '[MASK]', '[MASK]', '[MASK]', '[MASK]',\n",
       "       '[MASK]', '[MASK]', '[MASK]', '[MASK]', '[MASK]', '[MASK]',\n",
       "       '[MASK]', '[MASK]', '[MASK]', '[MASK]', '[MASK]', '[MASK]',\n",
       "       '[MASK]', '[MASK]', '[MASK]'], dtype='<U32')"
      ]
     },
     "execution_count": 21,
     "metadata": {},
     "output_type": "execute_result"
    }
   ],
   "source": [
    "tab_cols = ['Year','Runtime (Minutes)', 'Rating', 'Votes', 'Revenue (Millions)','Metascore', 'Rank']\n",
    "np.concatenate([np.zeros(len(tab_cols)), [tokenizer.mask_token ]*masker.shape(t2[0,-1])[1]])"
   ]
  },
  {
   "cell_type": "code",
   "execution_count": 22,
   "metadata": {},
   "outputs": [
    {
     "data": {
      "text/plain": [
       "28"
      ]
     },
     "execution_count": 22,
     "metadata": {},
     "output_type": "execute_result"
    }
   ],
   "source": [
    "masker.shape(t2[0,-1])[1]"
   ]
  },
  {
   "cell_type": "code",
   "execution_count": 23,
   "metadata": {},
   "outputs": [
    {
     "data": {
      "text/plain": [
       "'[MASK]'"
      ]
     },
     "execution_count": 23,
     "metadata": {},
     "output_type": "execute_result"
    }
   ],
   "source": [
    "tokenizer.mask_token"
   ]
  },
  {
   "cell_type": "code",
   "execution_count": 1,
   "metadata": {},
   "outputs": [
    {
     "ename": "NameError",
     "evalue": "name 'masker' is not defined",
     "output_type": "error",
     "traceback": [
      "\u001b[0;31m---------------------------------------------------------------------------\u001b[0m",
      "\u001b[0;31mNameError\u001b[0m                                 Traceback (most recent call last)",
      "Cell \u001b[0;32mIn[1], line 5\u001b[0m\n\u001b[1;32m      2\u001b[0m \u001b[39mfrom\u001b[39;00m \u001b[39mscipy\u001b[39;00m\u001b[39m.\u001b[39;00m\u001b[39mcluster\u001b[39;00m\u001b[39m.\u001b[39;00m\u001b[39mhierarchy\u001b[39;00m \u001b[39mimport\u001b[39;00m dendrogram\n\u001b[1;32m      4\u001b[0m sample_text \u001b[39m=\u001b[39m \u001b[39m'\u001b[39m\u001b[39mromantic comedy\u001b[39m\u001b[39m'\u001b[39m\n\u001b[0;32m----> 5\u001b[0m \u001b[39mprint\u001b[39m(masker\u001b[39m.\u001b[39mtoken_segments(sample_text))\n\u001b[1;32m      6\u001b[0m Z\u001b[39m=\u001b[39mmasker\u001b[39m.\u001b[39mclustering(sample_text)\n\u001b[1;32m      7\u001b[0m fig \u001b[39m=\u001b[39m plt\u001b[39m.\u001b[39mfigure(figsize\u001b[39m=\u001b[39m(\u001b[39m8\u001b[39m, \u001b[39m4\u001b[39m))\n",
      "\u001b[0;31mNameError\u001b[0m: name 'masker' is not defined"
     ]
    }
   ],
   "source": [
    "import matplotlib.pyplot as plt\n",
    "from scipy.cluster.hierarchy import dendrogram\n",
    "\n",
    "sample_text = 'romantic comedy'\n",
    "print(masker.token_segments(sample_text))\n",
    "Z=masker.clustering(sample_text)\n",
    "fig = plt.figure(figsize=(8, 4))\n",
    "dn = dendrogram(Z)\n",
    "plt.show()\n",
    "print(Z)"
   ]
  },
  {
   "cell_type": "code",
   "execution_count": 25,
   "metadata": {},
   "outputs": [
    {
     "name": "stdout",
     "output_type": "stream",
     "text": [
      "(['', 'organic ', 'romantic ', 'comedy', ''], [101, 7554, 6298, 4038, 102])\n"
     ]
    },
    {
     "data": {
      "image/png": "[encoded data removed]",
      "text/plain": [
       "<Figure size 800x400 with 1 Axes>"
      ]
     },
     "metadata": {},
     "output_type": "display_data"
    },
    {
     "name": "stdout",
     "output_type": "stream",
     "text": [
      "[[0.  1.  0.4 2. ]\n",
      " [2.  3.  0.4 2. ]\n",
      " [6.  4.  0.6 3. ]\n",
      " [5.  7.  1.  5. ]]\n"
     ]
    }
   ],
   "source": [
    "sample_text = 'organic romantic comedy'\n",
    "print(masker.token_segments(sample_text))\n",
    "Z=masker.clustering(sample_text)\n",
    "fig = plt.figure(figsize=(8, 4))\n",
    "dn = dendrogram(Z)\n",
    "plt.show()\n",
    "print(Z)"
   ]
  },
  {
   "cell_type": "code",
   "execution_count": 26,
   "metadata": {},
   "outputs": [
    {
     "name": "stderr",
     "output_type": "stream",
     "text": [
      "Found cached dataset parquet (/home/james/.cache/huggingface/datasets/james-burton___parquet/james-burton--imdb_genre_prediction2-a5449428d75bcc31/0.0.0/2a3b91fbd88a2c90d1dbbb32b460cf621d31bd5b05b934492fdef7d8d6f236ec)\n"
     ]
    }
   ],
   "source": [
    "train_df = load_dataset('james-burton/imdb_genre_prediction2', split='train[:10]').to_pandas()"
   ]
  },
  {
   "cell_type": "code",
   "execution_count": 27,
   "metadata": {},
   "outputs": [],
   "source": [
    "import scipy as sp"
   ]
  },
  {
   "cell_type": "code",
   "execution_count": 28,
   "metadata": {},
   "outputs": [
    {
     "data": {
      "text/plain": [
       "array([[0.        , 2.        , 0.32772815, 2.        ],\n",
       "       [1.        , 3.        , 1.03498895, 3.        ]])"
      ]
     },
     "execution_count": 28,
     "metadata": {},
     "output_type": "execute_result"
    }
   ],
   "source": [
    "D = sp.spatial.distance.pdist(train_df[['Rating', 'Runtime (Minutes)', 'Votes']].T, metric=\"correlation\")\n",
    "C = sp.cluster.hierarchy.complete(D)\n",
    "# cluster_matrix = shap.partition_tree(X)\n",
    "C"
   ]
  },
  {
   "cell_type": "code",
   "execution_count": 29,
   "metadata": {},
   "outputs": [
    {
     "data": {
      "image/png": "[encoded data removed]",
      "text/plain": [
       "<Figure size 1500x600 with 1 Axes>"
      ]
     },
     "metadata": {},
     "output_type": "display_data"
    }
   ],
   "source": [
    "plt.figure(figsize=(15, 6))\n",
    "plt.title('Hierarchical Clustering Dendrogram')\n",
    "plt.xlabel('sample index')\n",
    "plt.ylabel('distance')\n",
    "sp.cluster.hierarchy.dendrogram(\n",
    "    C,\n",
    "    leaf_rotation=90.,  # rotates the x axis labels\n",
    "    leaf_font_size=10.,  # font size for the x axis labels\n",
    "    #labels=['Rating', 'Runtime (Minutes)', 'Votes']\n",
    ")\n",
    "plt.show()"
   ]
  },
  {
   "cell_type": "code",
   "execution_count": 30,
   "metadata": {},
   "outputs": [
    {
     "data": {
      "text/plain": [
       "array([[ 0.        ,  1.        ,  0.4       ,  2.        ],\n",
       "       [ 2.        ,  3.        ,  0.4       ,  2.        ],\n",
       "       [ 6.        ,  4.        ,  0.6       ,  3.        ],\n",
       "       [ 5.        ,  7.        ,  1.        ,  5.        ],\n",
       "       [ 6.        ,  8.        ,  0.32772815,  2.        ],\n",
       "       [ 7.        ,  9.        ,  1.03498895,  3.        ],\n",
       "       [10.        , 11.        ,  1.5       ,  7.        ]])"
      ]
     },
     "execution_count": 30,
     "metadata": {},
     "output_type": "execute_result"
    }
   ],
   "source": [
    "np.concatenate([Z, C + [6,6,0,0],[[10.0, 11.0, 1.5, 7.0]]])"
   ]
  },
  {
   "cell_type": "code",
   "execution_count": 31,
   "metadata": {},
   "outputs": [
    {
     "data": {
      "text/plain": [
       "array([[0.        , 2.        , 0.32772815, 2.        ],\n",
       "       [1.        , 3.        , 1.03498895, 3.        ]])"
      ]
     },
     "execution_count": 31,
     "metadata": {},
     "output_type": "execute_result"
    }
   ],
   "source": [
    "C"
   ]
  },
  {
   "cell_type": "code",
   "execution_count": 32,
   "metadata": {},
   "outputs": [
    {
     "data": {
      "text/plain": [
       "array([[ 5.,  7.],\n",
       "       [ 6., 12.]])"
      ]
     },
     "execution_count": 32,
     "metadata": {},
     "output_type": "execute_result"
    }
   ],
   "source": [
    "n_tab_leaves = 3\n",
    "text_groups = 4\n",
    "n_text_leaves = 5\n",
    "np.where(C[:,:2]>=n_tab_leaves,C[:,:2]+n_text_leaves+ text_groups,C[:,:2]+n_text_leaves)"
   ]
  },
  {
   "cell_type": "code",
   "execution_count": 33,
   "metadata": {},
   "outputs": [
    {
     "data": {
      "text/plain": [
       "array([[False, False],\n",
       "       [False,  True]])"
      ]
     },
     "execution_count": 33,
     "metadata": {},
     "output_type": "execute_result"
    }
   ],
   "source": [
    "C[:,:2]>=n_tab_leaves"
   ]
  },
  {
   "cell_type": "code",
   "execution_count": 34,
   "metadata": {},
   "outputs": [],
   "source": [
    "Z_leaves = len(np.hstack(Z[:,:2]))\n",
    "C_leaves = len(np.hstack(C[:,:2]))\n",
    "total_leaves = float(Z_leaves + C_leaves)"
   ]
  },
  {
   "cell_type": "code",
   "execution_count": 35,
   "metadata": {},
   "outputs": [
    {
     "data": {
      "image/png": "[encoded data removed]",
      "text/plain": [
       "<Figure size 800x400 with 1 Axes>"
      ]
     },
     "metadata": {},
     "output_type": "display_data"
    }
   ],
   "source": [
    "Z\n",
    "fig = plt.figure(figsize=(8, 4))\n",
    "# dn = dendrogram(np.concatenate([Z, C + [6,6,0,6],[[10.0, 11.0, 1.5, 7.0]]]), labels=['s', 'romantic ', 'comedy', 's','Rating', 'Run', 'Votes'])\n",
    "dn = dendrogram(Z) #, labels=['Rating', 'Run', 'Votes','s', 'romantic ', 'comedy', 's'])\n",
    "plt.show()"
   ]
  },
  {
   "cell_type": "code",
   "execution_count": 37,
   "metadata": {},
   "outputs": [
    {
     "data": {
      "image/png": "[encoded data removed]",
      "text/plain": [
       "<Figure size 800x400 with 1 Axes>"
      ]
     },
     "metadata": {},
     "output_type": "display_data"
    }
   ],
   "source": [
    "# Z_join = np.array([\n",
    "#     [ 1.        ,  2.        ,  0.33333333,  2.        ],\n",
    "#        [ 3.        ,  4.        ,  0.33333333,  2.        ],\n",
    "#        [ 0.        ,  9.        ,  0.5       ,  3.        ],\n",
    "#        [10.        ,  5.        ,  0.5       ,  3.        ],\n",
    "#        [11.        , 12.        ,  1.        ,  6.        ],\n",
    "#        [ 6.        ,  7.        ,  0.32772815,  2.        ],\n",
    "#        [ 8.        , 14.        ,  0.69322193,  3.        ],\n",
    "#        [13.        , 15.        ,  1.5       ,  9.        ]])\n",
    "Z_join = np.array([[ 0.        ,  1.        ,  0.32772815,  2.        ],\n",
    "       [ 2.        ,  9.        ,  0.69322193,  3.        ],\n",
    "       [ 4.        ,  5.        ,  0.33333333,  2.        ],\n",
    "       [ 6.        ,  7.        ,  0.33333333,  2.        ],\n",
    "       [ 3.        , 11.        ,  0.5       ,  3.        ],\n",
    "       [12.        ,  8.        ,  0.5       ,  3.        ],\n",
    "       [13.        , 14.        ,  1.        ,  6.        ],\n",
    "       [10.        , 15.        ,  1.5       ,  9.        ]])\n",
    "\n",
    "Z_join = np.array([[ 0.        ,  1.        ,  0.32772815,  2.        ],\n",
    "       [ 2.        ,  9.        ,  0.69322193,  3.        ],\n",
    "       [ 4.        ,  5.        ,  0.33333333,  2.        ],\n",
    "       [ 6.        ,  7.        ,  0.33333333,  2.        ],\n",
    "       [ 3.        , 11.        ,  0.5       ,  3.        ],\n",
    "       [12.        ,  8.        ,  0.5       ,  3.        ],\n",
    "       [13.        , 14.        ,  1.        ,  6.        ],\n",
    "       [10.        , 15.        ,  1.5       ,  9.        ]])\n",
    "fig = plt.figure(figsize=(8, 4))\n",
    "# dn = dendrogram(np.concatenate([Z, C + [6,6,0,6],[[10.0, 11.0, 1.5, 7.0]]]), labels=['s', 'romantic ', 'comedy', 's','Rating', 'Run', 'Votes'])\n",
    "dn = dendrogram(Z_join) #, labels=['Rating', 'Run', 'Votes','s', 'romantic ', 'comedy', 's'])\n",
    "plt.show()"
   ]
  },
  {
   "cell_type": "code",
   "execution_count": 224,
   "metadata": {},
   "outputs": [
    {
     "data": {
      "text/plain": [
       "array([[0. , 1. , 0.4, 2. ],\n",
       "       [2. , 3. , 0.4, 2. ],\n",
       "       [6. , 4. , 0.6, 3. ],\n",
       "       [5. , 7. , 1. , 5. ]])"
      ]
     },
     "execution_count": 224,
     "metadata": {},
     "output_type": "execute_result"
    }
   ],
   "source": [
    "y = Z.copy()\n",
    "y #(Z[:,:2]>=6)*3"
   ]
  },
  {
   "cell_type": "code",
   "execution_count": 225,
   "metadata": {},
   "outputs": [],
   "source": [
    "y[:,:2] += (Z[:,:2]>=6)*3"
   ]
  },
  {
   "cell_type": "code",
   "execution_count": 245,
   "metadata": {},
   "outputs": [
    {
     "data": {
      "text/plain": [
       "array([[ 5. ,  6. ,  0.4,  2. ],\n",
       "       [ 7. , 10. ,  0.4,  2. ],\n",
       "       [13. , 11. ,  0.6,  3. ],\n",
       "       [12. , 14. ,  1. ,  5. ]])"
      ]
     },
     "execution_count": 245,
     "metadata": {},
     "output_type": "execute_result"
    }
   ],
   "source": [
    "Z"
   ]
  },
  {
   "cell_type": "code",
   "execution_count": 212,
   "metadata": {},
   "outputs": [
    {
     "data": {
      "text/plain": [
       "array([[0.        , 2.        , 0.49212894, 2.        ],\n",
       "       [1.        , 3.        , 0.62301468, 3.        ]])"
      ]
     },
     "execution_count": 212,
     "metadata": {},
     "output_type": "execute_result"
    }
   ],
   "source": [
    "C"
   ]
  },
  {
   "cell_type": "code",
   "execution_count": 239,
   "metadata": {},
   "outputs": [
    {
     "data": {
      "text/plain": [
       "array([[0.        , 1.        , 0.4       , 2.        ],\n",
       "       [2.        , 3.        , 0.4       , 2.        ],\n",
       "       [6.        , 4.        , 0.6       , 3.        ],\n",
       "       [5.        , 7.        , 1.        , 5.        ],\n",
       "       [0.        , 2.        , 0.49212894, 2.        ],\n",
       "       [1.        , 3.        , 0.62301468, 3.        ]])"
      ]
     },
     "execution_count": 239,
     "metadata": {},
     "output_type": "execute_result"
    }
   ],
   "source": [
    "np.concatenate([Z,C])"
   ]
  },
  {
   "cell_type": "code",
   "execution_count": 214,
   "metadata": {},
   "outputs": [
    {
     "data": {
      "text/plain": [
       "8"
      ]
     },
     "execution_count": 214,
     "metadata": {},
     "output_type": "execute_result"
    }
   ],
   "source": [
    "len(np.hstack(Z[:,:2]))"
   ]
  },
  {
   "cell_type": "code",
   "execution_count": 270,
   "metadata": {},
   "outputs": [
    {
     "data": {
      "text/plain": [
       "array([[ 0.        ,  1.        ,  0.4       ,  2.        ],\n",
       "       [ 2.        ,  3.        ,  0.4       ,  2.        ],\n",
       "       [ 9.        ,  4.        ,  0.6       ,  3.        ],\n",
       "       [ 8.        , 10.        ,  1.        ,  5.        ],\n",
       "       [ 5.        ,  7.        ,  0.49212894,  2.        ],\n",
       "       [ 6.        , 12.        ,  0.62301468,  3.        ],\n",
       "       [11.        , 13.        ,  1.5       ,  8.        ]])"
      ]
     },
     "execution_count": 270,
     "metadata": {},
     "output_type": "execute_result"
    }
   ],
   "source": [
    "def combine_dendrograms(tab_pt, text_pt, n_tab_leaves, n_text_leaves):\n",
    "    '''\n",
    "    Dendrograms creation works by having each one of the base leaves as a number, then\n",
    "    labelling each one of the new created nodes a number following the last leaf number.\n",
    "    \n",
    "    eg for array([[0. , 1. , 0.4, 2. ],\n",
    "       [2. , 3. , 0.4, 2. ],\n",
    "       [6. , 4. , 0.6, 3. ],\n",
    "       [5. , 7. , 1. , 5. ]])\n",
    "       \n",
    "    In this case we know previously leaves are [0,1,2,3,4] (I don't think there is an easy\n",
    "    way to calculate this from the dendrogram itself). Therefore the pairing of (0,1) from\n",
    "    row 0 is labelled as 5, (2,3) from row 1 is labelled as 6, (6,4) from row 2 is labelled as 7\n",
    "    and (5,7) from row 3 is labelled as 8.\n",
    "    '''\n",
    "    n_text_groups = len(text_pt)\n",
    "    n_tab_groups = len(tab_pt)\n",
    "    \n",
    "    # References to non-leaf nodes need to be shifted by the number of new leaves\n",
    "    Z_join = np.zeros([n_tab_groups+n_text_groups+1,4])\n",
    "    Z_join[:n_text_groups,:2] = np.where(text_pt[:,:2]>=n_text_leaves, text_pt[:,:2]+ n_tab_leaves, text_pt[:,:2])\n",
    "    Z_join[n_text_groups:-1,:2] = np.where(tab_pt[:,:2]>=n_tab_leaves,\n",
    "                                          tab_pt[:,:2]+n_text_leaves+ n_text_groups,\n",
    "                                          tab_pt[:,:2]+n_text_leaves)\n",
    "    # 3rd and 4th columns are left unchanged\n",
    "    Z_join[:n_text_groups,2:] = text_pt[:,2:]\n",
    "    Z_join[n_text_groups:-1,2:] = tab_pt[:,2:]\n",
    "    \n",
    "    # Z_text[:,:2] += (Z_text[:,:2]>=n_text_leaves)*n_tab_leaves\n",
    "    # Z_tab[:,:2] = np.where(Z_tab[:,:2]>=n_tab_leaves,Z_tab[:,:2]+n_text_leaves+ n_text_groups,\n",
    "    #                        Z_tab[:,:2]+n_text_leaves)\n",
    "    \n",
    "    # Create top join, joining the text and tab dendrograms together\n",
    "    top_text_node = n_text_leaves + n_tab_leaves + n_text_groups + -1\n",
    "    top_tab_node = top_text_node + n_tab_groups\n",
    "    # Set similarity of top node to 1.5\n",
    "    Z_join[-1,:] = np.array([top_text_node, top_tab_node, 1.5, n_tab_leaves + n_text_leaves])\n",
    "    \n",
    "    return Z_join\n",
    " \n",
    "Z_combined = combine_dendrograms(C, Z, 3, 5)\n",
    "Z_combined\n",
    "    "
   ]
  },
  {
   "cell_type": "code",
   "execution_count": 271,
   "metadata": {},
   "outputs": [
    {
     "data": {
      "image/png": "[encoded data removed]",
      "text/plain": [
       "<Figure size 800x400 with 1 Axes>"
      ]
     },
     "metadata": {},
     "output_type": "display_data"
    }
   ],
   "source": [
    "C\n",
    "fig = plt.figure(figsize=(8, 4))\n",
    "# dn = dendrogram(np.concatenate([Z, C + [6,6,0,6],[[10.0, 11.0, 1.5, 7.0]]]), labels=['s', 'romantic ', 'comedy', 's','Rating', 'Run', 'Votes'])\n",
    "dn = dendrogram(Z_combined) #, labels=['Rating', 'Run', 'Votes','s', 'romantic ', 'comedy', 's'])\n",
    "plt.show()"
   ]
  },
  {
   "cell_type": "code",
   "execution_count": 197,
   "metadata": {},
   "outputs": [
    {
     "data": {
      "text/plain": [
       "array([[ 0.        ,  1.        ,  0.4       ,  2.        ],\n",
       "       [ 2.        ,  3.        ,  0.4       ,  2.        ],\n",
       "       [ 6.        ,  4.        ,  0.6       ,  3.        ],\n",
       "       [ 5.        ,  7.        ,  1.        ,  5.        ],\n",
       "       [ 8.        , 10.        ,  0.49212894,  2.        ],\n",
       "       [ 9.        , 11.        ,  0.62301468,  3.        ],\n",
       "       [12.        , 13.        ,  1.5       , 12.        ]])"
      ]
     },
     "execution_count": 197,
     "metadata": {},
     "output_type": "execute_result"
    }
   ],
   "source": [
    "Z_comb2\n"
   ]
  },
  {
   "cell_type": "code",
   "execution_count": 186,
   "metadata": {},
   "outputs": [
    {
     "data": {
      "text/plain": [
       "array([[ 0.        ,  1.        ,  0.4       ,  2.        ],\n",
       "       [ 2.        ,  3.        ,  0.4       ,  2.        ],\n",
       "       [ 5.        ,  4.        ,  0.49212894,  2.        ],\n",
       "       [ 6.        ,  7.        ,  0.6       ,  3.        ],\n",
       "       [ 8.        , 10.        ,  0.62301468,  3.        ],\n",
       "       [ 9.        , 11.        ,  1.        ,  5.        ],\n",
       "       [12.        , 13.        ,  1.5       , 12.        ]])"
      ]
     },
     "execution_count": 186,
     "metadata": {},
     "output_type": "execute_result"
    }
   ],
   "source": [
    "np.sort(Z_comb2, axis=0)"
   ]
  },
  {
   "cell_type": "code",
   "execution_count": 200,
   "metadata": {},
   "outputs": [
    {
     "data": {
      "image/png": "[encoded data removed]",
      "text/plain": [
       "<Figure size 800x400 with 1 Axes>"
      ]
     },
     "metadata": {},
     "output_type": "display_data"
    }
   ],
   "source": [
    "Z_comb2 = np.concatenate([Z, C + [Z_leaves,Z_leaves,0,0],[[total_leaves, total_leaves+1, 1.5, total_leaves]]])\n",
    "fig = plt.figure(figsize=(8, 4))\n",
    "# dn = dendrogram(np.concatenate([Z, C + [6,6,0,6],[[10.0, 11.0, 1.5, 7.0]]]), labels=['s', 'romantic ', 'comedy', 's','Rating', 'Run', 'Votes'])\n",
    "dn = dendrogram(Z_comb2) #, labels=['Rating', 'Run', 'Votes','s', 'romantic ', 'comedy', 's'])\n",
    "plt.show()"
   ]
  },
  {
   "cell_type": "code",
   "execution_count": 201,
   "metadata": {},
   "outputs": [
    {
     "data": {
      "image/png": "[encoded data removed]",
      "text/plain": [
       "<Figure size 800x400 with 1 Axes>"
      ]
     },
     "metadata": {},
     "output_type": "display_data"
    }
   ],
   "source": [
    "fig = plt.figure(figsize=(8, 4))\n",
    "# dn = dendrogram(np.concatenate([Z, C + [6,6,0,6],[[10.0, 11.0, 1.5, 7.0]]]), labels=['s', 'romantic ', 'comedy', 's','Rating', 'Run', 'Votes'])\n",
    "dn = dendrogram(np.sort(Z_comb2, axis=0)) #, labels=['Rating', 'Run', 'Votes','s', 'romantic ', 'comedy', 's'])\n",
    "plt.show()"
   ]
  },
  {
   "cell_type": "code",
   "execution_count": 142,
   "metadata": {},
   "outputs": [
    {
     "data": {
      "text/plain": [
       "4"
      ]
     },
     "execution_count": 142,
     "metadata": {},
     "output_type": "execute_result"
    }
   ],
   "source": [
    "len(np.hstack(Z[:,:2]))"
   ]
  },
  {
   "cell_type": "code",
   "execution_count": 180,
   "metadata": {},
   "outputs": [
    {
     "data": {
      "text/plain": [
       "array([[0. , 1. , 0.4, 2. ],\n",
       "       [2. , 3. , 0.4, 2. ],\n",
       "       [6. , 4. , 0.6, 3. ],\n",
       "       [5. , 7. , 1. , 5. ]])"
      ]
     },
     "execution_count": 180,
     "metadata": {},
     "output_type": "execute_result"
    }
   ],
   "source": [
    "Z"
   ]
  },
  {
   "cell_type": "code",
   "execution_count": 6,
   "metadata": {},
   "outputs": [
    {
     "data": {
      "image/png": "[encoded data removed]",
      "text/plain": [
       "<Figure size 800x400 with 1 Axes>"
      ]
     },
     "metadata": {},
     "output_type": "display_data"
    }
   ],
   "source": [
    "Z3 = np.array([[ 5. ,  6. ,  0.2,  2. ],\n",
    "       [ 0. ,  1. ,  0.2,  2. ],\n",
    "       [ 8. ,  9. ,  0.2,  2. ],\n",
    "       [11. ,  2. ,  0.3,  3. ],\n",
    "       [ 4. , 10. ,  0.3,  3. ],\n",
    "       [ 7. , 12. ,  0.3,  3. ],\n",
    "       [14. , 15. ,  0.6,  6. ],\n",
    "       [13. ,  3. ,  0.4,  4. ],\n",
    "       [17. , 16. ,  1. , 10. ]])\n",
    "\n",
    "fig = plt.figure(figsize=(8, 4))\n",
    "# dn = dendrogram(np.concatenate([Z, C + [6,6,0,6],[[10.0, 11.0, 1.5, 7.0]]]), labels=['s', 'romantic ', 'comedy', 's','Rating', 'Run', 'Votes'])\n",
    "dn = dendrogram(Z3) #, labels=['Rating', 'Run', 'Votes','s', 'romantic ', 'comedy', 's'])\n",
    "plt.show()\n",
    "\n",
    "# sp.cluster.hierarchy.dendrogram(\n",
    "#     Z,\n",
    "#     #leaf_rotation=90.,  # rotates the x axis labels\n",
    "#     #leaf_font_size=10.,  # font size for the x axis labels\n",
    "#     #labels=['Rating', 'Runtime (Minutes)', 'Votes']\n",
    "# )\n",
    "\n"
   ]
  },
  {
   "cell_type": "code",
   "execution_count": 76,
   "metadata": {},
   "outputs": [
    {
     "data": {
      "text/plain": [
       "array([[0. , 1. , 0.5, 2. ],\n",
       "       [2. , 3. , 0.5, 2. ],\n",
       "       [4. , 5. , 1. , 4. ]])"
      ]
     },
     "execution_count": 76,
     "metadata": {},
     "output_type": "execute_result"
    }
   ],
   "source": [
    "Z"
   ]
  },
  {
   "cell_type": "code",
   "execution_count": 64,
   "metadata": {},
   "outputs": [
    {
     "data": {
      "text/plain": [
       "array([[ 3.        ,  4.        ,  1.73698908,  2.        ],\n",
       "       [ 0.        ,  1.        ,  2.82842712,  2.        ],\n",
       "       [ 2.        ,  6.        ,  6.02079729,  3.        ],\n",
       "       [ 5.        ,  7.        , 11.67241532,  5.        ]])"
      ]
     },
     "execution_count": 64,
     "metadata": {},
     "output_type": "execute_result"
    }
   ],
   "source": [
    "Z_combined"
   ]
  },
  {
   "cell_type": "code",
   "execution_count": 65,
   "metadata": {},
   "outputs": [
    {
     "data": {
      "text/plain": [
       "array([[1.        , 2.        , 0.49212894, 2.        ],\n",
       "       [0.        , 3.        , 0.62301468, 3.        ]])"
      ]
     },
     "execution_count": 65,
     "metadata": {},
     "output_type": "execute_result"
    }
   ],
   "source": [
    "cluster_matrix"
   ]
  },
  {
   "cell_type": "code",
   "execution_count": null,
   "metadata": {},
   "outputs": [
    {
     "data": {
      "text/plain": [
       "(1, 11)"
      ]
     },
     "execution_count": 55,
     "metadata": {},
     "output_type": "execute_result"
    }
   ],
   "source": [
    "masker.shape(sample_text)"
   ]
  },
  {
   "cell_type": "code",
   "execution_count": null,
   "metadata": {},
   "outputs": [],
   "source": [
    "# text_model = torch.compile(text_model)\n",
    "tokenizer = AutoTokenizer.from_pretrained(\"distilbert-base-uncased\")\n",
    "text_pipeline = pipeline('text-classification', model=\"james-burton/imdb_genre_9\", tokenizer=tokenizer, device=\"cuda:0\")\n"
   ]
  },
  {
   "cell_type": "code",
   "execution_count": null,
   "metadata": {},
   "outputs": [
    {
     "name": "stderr",
     "output_type": "stream",
     "text": [
      "Found cached dataset parquet (/home/james/.cache/huggingface/datasets/james-burton___parquet/james-burton--imdb_genre_prediction2-a5449428d75bcc31/0.0.0/2a3b91fbd88a2c90d1dbbb32b460cf621d31bd5b05b934492fdef7d8d6f236ec)\n",
      "Found cached dataset parquet (/home/james/.cache/huggingface/datasets/james-burton___parquet/james-burton--imdb_genre_prediction2-a5449428d75bcc31/0.0.0/2a3b91fbd88a2c90d1dbbb32b460cf621d31bd5b05b934492fdef7d8d6f236ec)\n"
     ]
    }
   ],
   "source": [
    "test_df = load_dataset('james-burton/imdb_genre_prediction2', split='test')\n",
    "tab_cols = ['Year','Runtime (Minutes)', 'Rating', 'Votes', 'Revenue (Millions)','Metascore', 'Rank']\n",
    "text_col = ['Description']\n",
    "\n",
    "test_df_text = prepare_text(test_df, 'text_col_only')\n",
    "test_df_tab = test_df.to_pandas()[tab_cols]\n",
    "\n",
    "train_df = load_dataset('james-burton/imdb_genre_prediction2', split='train').to_pandas()\n",
    "train_df_tab = train_df[tab_cols]\n",
    "y_train = train_df['Genre_is_Drama']\n",
    "\n",
    "tab_model = lgb.LGBMClassifier(random_state=42)\n",
    "# tab_model = XGBClassifier(random_state=42)\n",
    "tab_model.fit(train_df_tab,y_train)\n",
    "\n",
    "def tab_pred_fn(examples):\n",
    "    preds = tab_model.predict_proba(examples)\n",
    "    return preds"
   ]
  },
  {
   "cell_type": "code",
   "execution_count": null,
   "metadata": {},
   "outputs": [],
   "source": [
    "class Model():\n",
    "    def __init__(self, text_to_pred_dict=None):\n",
    "        self.text_to_pred_dict = text_to_pred_dict\n",
    "        self.text_pred_len = 0\n",
    "        \n",
    "    def predict_both(self, examples, text_weight=0.5, load_from_cache=True):\n",
    "        tab_examples = examples[:,:-1]\n",
    "        tab_preds = tab_model.predict_proba(tab_examples)\n",
    "        text_examples = examples[:,-1]\n",
    "        \n",
    "        desc_dict = {}\n",
    "        for i, desc in tqdm(enumerate(text_examples)):\n",
    "            if desc not in desc_dict:\n",
    "                desc_dict[desc] = [i]\n",
    "            else:\n",
    "                desc_dict[desc].append(i)\n",
    "        \n",
    "        if load_from_cache:\n",
    "            text_preds = np.array([self.text_to_pred_dict[desc] for desc in desc_dict.keys()])    \n",
    "            \n",
    "        else:\n",
    "            text_preds = text_pipeline(list(desc_dict.keys()))\n",
    "            text_preds = np.array([format_text_pred(pred) for pred in text_preds])\n",
    "                            \n",
    "        \n",
    "        expanded_text_preds = np.zeros((len(text_examples), 2))\n",
    "        for i, (desc, idxs) in enumerate(desc_dict.items()):\n",
    "            expanded_text_preds[idxs] = text_preds[i]\n",
    "        \n",
    "        # Combine the predictions, multiplying the text and predictions by 0.5\n",
    "        preds = text_weight * expanded_text_preds + (1-text_weight) * tab_preds\n",
    "        return preds"
   ]
  },
  {
   "cell_type": "code",
   "execution_count": null,
   "metadata": {},
   "outputs": [
    {
     "name": "stderr",
     "output_type": "stream",
     "text": [
      "The default value of `n_init` will change from 10 to 'auto' in 1.4. Set the value of `n_init` explicitly to suppress the warning\n"
     ]
    },
    {
     "ename": "UnboundLocalError",
     "evalue": "local variable 'model_null' referenced before assignment",
     "output_type": "error",
     "traceback": [
      "\u001b[0;31m---------------------------------------------------------------------------\u001b[0m",
      "\u001b[0;31mUnboundLocalError\u001b[0m                         Traceback (most recent call last)",
      "Cell \u001b[0;32mIn[7], line 4\u001b[0m\n\u001b[1;32m      1\u001b[0m \u001b[39mfrom\u001b[39;00m \u001b[39mcustom_kernel_explainer\u001b[39;00m \u001b[39mimport\u001b[39;00m CustomKernel\n\u001b[1;32m      2\u001b[0m test_model \u001b[39m=\u001b[39m Model()\n\u001b[0;32m----> 4\u001b[0m kernel_explain \u001b[39m=\u001b[39m CustomKernel(\u001b[39mlambda\u001b[39;49;00m x: test_model\u001b[39m.\u001b[39;49mpredict_both(x,text_weight\u001b[39m=\u001b[39;49m\u001b[39m0.5\u001b[39;49m), shap\u001b[39m.\u001b[39;49mkmeans(train_df[tab_cols], \u001b[39m10\u001b[39;49m))\n\u001b[1;32m      6\u001b[0m kernel_shap_values \u001b[39m=\u001b[39m kernel_explain\u001b[39m.\u001b[39mshap_values(test_df[tab_cols \u001b[39m+\u001b[39m text_col][:\u001b[39m2\u001b[39m], seed\u001b[39m=\u001b[39m\u001b[39m42\u001b[39m) \u001b[39m#, nsamples=100)\u001b[39;00m\n\u001b[1;32m      7\u001b[0m \u001b[39m# shap.summary_plot(kernel_shap_values, X_test, plot_type=\"bar\")\u001b[39;00m\n",
      "File \u001b[0;32m~/CodingProjects/TextNTabularExplanations/custom_kernel_explainer.py:91\u001b[0m, in \u001b[0;36mCustomKernel.__init__\u001b[0;34m(self, model, data, link, **kwargs)\u001b[0m\n\u001b[1;32m     88\u001b[0m \u001b[39mself\u001b[39m\u001b[39m.\u001b[39mnsamplesRun \u001b[39m=\u001b[39m \u001b[39m0\u001b[39m\n\u001b[1;32m     90\u001b[0m \u001b[39m# find E_x[f(x)]\u001b[39;00m\n\u001b[0;32m---> 91\u001b[0m \u001b[39mif\u001b[39;00m \u001b[39misinstance\u001b[39m(model_null, (pd\u001b[39m.\u001b[39mDataFrame, pd\u001b[39m.\u001b[39mSeries)):\n\u001b[1;32m     92\u001b[0m     model_null \u001b[39m=\u001b[39m np\u001b[39m.\u001b[39msqueeze(model_null\u001b[39m.\u001b[39mvalues)\n\u001b[1;32m     93\u001b[0m \u001b[39mif\u001b[39;00m safe_isinstance(model_null, \u001b[39m\"\u001b[39m\u001b[39mtensorflow.python.framework.ops.EagerTensor\u001b[39m\u001b[39m\"\u001b[39m):\n",
      "\u001b[0;31mUnboundLocalError\u001b[0m: local variable 'model_null' referenced before assignment"
     ]
    }
   ],
   "source": [
    "from custom_kernel_explainer import CustomKernel\n",
    "test_model = Model()\n",
    "\n",
    "kernel_explain = CustomKernel(lambda x: test_model.predict_both(x,text_weight=0.5), shap.kmeans(train_df[tab_cols], 10))\n",
    "\n",
    "kernel_shap_values = kernel_explain.shap_values(test_df[tab_cols + text_col][:2], seed=42) #, nsamples=100)\n",
    "# shap.summary_plot(kernel_shap_values, X_test, plot_type=\"bar\")"
   ]
  },
  {
   "cell_type": "code",
   "execution_count": null,
   "metadata": {},
   "outputs": [
    {
     "name": "stderr",
     "output_type": "stream",
     "text": [
      "The default value of `n_init` will change from 10 to 'auto' in 1.4. Set the value of `n_init` explicitly to suppress the warning\n"
     ]
    },
    {
     "data": {
      "text/plain": [
       "array([0.20588235, 0.06764706, 0.02205882, 0.11323529, 0.29705882,\n",
       "       0.00441176, 0.04117647, 0.07647059, 0.13235294, 0.03970588])"
      ]
     },
     "execution_count": 8,
     "metadata": {},
     "output_type": "execute_result"
    }
   ],
   "source": [
    "shap.kmeans(train_df[tab_cols], 10).weights"
   ]
  },
  {
   "attachments": {},
   "cell_type": "markdown",
   "metadata": {},
   "source": [
    "## Custom masker"
   ]
  },
  {
   "cell_type": "code",
   "execution_count": null,
   "metadata": {},
   "outputs": [
    {
     "name": "stderr",
     "output_type": "stream",
     "text": [
      "No data for colormapping provided via 'c'. Parameters 'vmin', 'vmax' will be ignored\n"
     ]
    },
    {
     "data": {
      "image/png": "[encoded data removed]",
      "text/plain": [
       "<Figure size 800x550 with 2 Axes>"
      ]
     },
     "metadata": {},
     "output_type": "display_data"
    }
   ],
   "source": [
    "import xgboost\n",
    "import shap\n",
    "import numpy as np\n",
    "from src.joint_masker import JointMasker\n",
    "\n",
    "# train XGBoost model\n",
    "X,y = shap.datasets.adult()\n",
    "model = xgboost.XGBClassifier().fit(X.values, y)\n",
    "\n",
    "# A masking function takes a binary mask vector as the first argument and\n",
    "# the model arguments for a single sample after that\n",
    "# It returns a masked version of the input x, where you can return multiple\n",
    "# rows to average over a distribution of masking types\n",
    "def custom_masker(mask, x):\n",
    "    return (x * mask).reshape(1,len(x)) # in this simple example we just zero out the features we are masking\n",
    "\n",
    "# compute SHAP values\n",
    "explainer = shap.Explainer(model.predict_proba, custom_masker)\n",
    "shap_values = explainer(X[:100])\n",
    "\n",
    "# plot the SHAP values for the positive class\n",
    "shap.plots.beeswarm(shap_values[...,1])"
   ]
  },
  {
   "cell_type": "code",
   "execution_count": null,
   "metadata": {},
   "outputs": [],
   "source": [
    "masker = shap.maskers._text.Text()"
   ]
  }
 ],
 "metadata": {
  "kernelspec": {
   "display_name": "env",
   "language": "python",
   "name": "python3"
  },
  "language_info": {
   "codemirror_mode": {
    "name": "ipython",
    "version": 3
   },
   "file_extension": ".py",
   "mimetype": "text/x-python",
   "name": "python",
   "nbconvert_exporter": "python",
   "pygments_lexer": "ipython3",
   "version": "3.10.6"
  },
  "orig_nbformat": 4
 },
 "nbformat": 4,
 "nbformat_minor": 2
}
