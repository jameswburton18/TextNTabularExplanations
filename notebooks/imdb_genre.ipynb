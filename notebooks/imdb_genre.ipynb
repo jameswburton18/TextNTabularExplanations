{
 "cells": [
  {
   "cell_type": "code",
   "execution_count": 1,
   "metadata": {},
   "outputs": [
    {
     "name": "stderr",
     "output_type": "stream",
     "text": [
      "/home/james/CodingProjects/TextNTabularExplanations/env/lib/python3.10/site-packages/tqdm/auto.py:22: TqdmWarning: IProgress not found. Please update jupyter and ipywidgets. See https://ipywidgets.readthedocs.io/en/stable/user_install.html\n",
      "  from .autonotebook import tqdm as notebook_tqdm\n"
     ]
    }
   ],
   "source": [
    "from auto_mm_bench.datasets import dataset_registry\n",
    "import xgboost as xgb\n",
    "import lightgbm as lgb\n",
    "import numpy as np\n",
    "from sklearn.metrics import mean_squared_error, r2_score\n",
    "from transformers import AutoModelForSequenceClassification, AutoTokenizer, Trainer, TrainingArguments\n",
    "from datasets import load_dataset, DatasetDict, Dataset\n",
    "from sklearn.metrics import precision_score, recall_score, roc_auc_score"
   ]
  },
  {
   "attachments": {},
   "cell_type": "markdown",
   "metadata": {},
   "source": [
    "## Tab"
   ]
  },
  {
   "cell_type": "code",
   "execution_count": 2,
   "metadata": {},
   "outputs": [
    {
     "name": "stderr",
     "output_type": "stream",
     "text": [
      "Found cached dataset parquet (/home/james/.cache/huggingface/datasets/james-burton___parquet/james-burton--imdb_genre_prediction-f183d7ab5d966777/0.0.0/2a3b91fbd88a2c90d1dbbb32b460cf621d31bd5b05b934492fdef7d8d6f236ec)\n",
      "100%|██████████| 3/3 [00:00<00:00, 799.52it/s]"
     ]
    },
    {
     "name": "stdout",
     "output_type": "stream",
     "text": [
      "Accuracy:  0.795\n",
      "ROC AUC:  0.8273446101491343\n"
     ]
    },
    {
     "name": "stderr",
     "output_type": "stream",
     "text": [
      "\n",
      "/home/james/CodingProjects/TextNTabularExplanations/env/lib/python3.10/site-packages/sklearn/preprocessing/_label.py:99: DataConversionWarning: A column-vector y was passed when a 1d array was expected. Please change the shape of y to (n_samples, ), for example using ravel().\n",
      "  y = column_or_1d(y, warn=True)\n",
      "/home/james/CodingProjects/TextNTabularExplanations/env/lib/python3.10/site-packages/sklearn/preprocessing/_label.py:134: DataConversionWarning: A column-vector y was passed when a 1d array was expected. Please change the shape of y to (n_samples, ), for example using ravel().\n",
      "  y = column_or_1d(y, dtype=self.classes_.dtype, warn=True)\n"
     ]
    }
   ],
   "source": [
    "dataset_name = 'imdb_genre_prediction'\n",
    "\n",
    "train_dataset = dataset_registry.create(dataset_name, 'train')\n",
    "test_dataset = dataset_registry.create(dataset_name, 'test')\n",
    "train_dataset.data\n",
    "\n",
    "label_cols = train_dataset.label_columns\n",
    "tab_cols = ['Year','Runtime (Minutes)', 'Rating', 'Votes', 'Revenue (Millions)','Metascore', 'Rank']\n",
    "text_cols = ['Description']\n",
    "\n",
    "ds = load_dataset('james-burton/imdb_genre_prediction')\n",
    "\n",
    "train_df = ds['train'].to_pandas()\n",
    "test_df = ds['test'].to_pandas()\n",
    "X_train_tab = train_df[tab_cols]\n",
    "y_train = train_df[label_cols]\n",
    "X_test_tab = test_df[tab_cols]\n",
    "y_test = test_df[label_cols]\n",
    "\n",
    "tab_model = lgb.LGBMClassifier(random_state=42)\n",
    "tab_model.fit(X_train_tab,y_train)\n",
    "y_pred = tab_model.predict(X_test_tab)\n",
    "y_pred_probs = tab_model.predict_proba(X_test_tab)\n",
    "\n",
    "print('Accuracy: ', np.mean(y_test.values.flatten() == y_pred))\n",
    "print('ROC AUC: ', roc_auc_score(y_test, y_pred_probs[:,1]))"
   ]
  },
  {
   "attachments": {},
   "cell_type": "markdown",
   "metadata": {},
   "source": [
    "## Text"
   ]
  },
  {
   "cell_type": "code",
   "execution_count": 3,
   "metadata": {},
   "outputs": [
    {
     "name": "stderr",
     "output_type": "stream",
     "text": [
      "Loading cached processed dataset at /home/james/.cache/huggingface/datasets/james-burton___parquet/james-burton--imdb_genre_prediction-f183d7ab5d966777/0.0.0/2a3b91fbd88a2c90d1dbbb32b460cf621d31bd5b05b934492fdef7d8d6f236ec/cache-ce1bd941fbff1bcd.arrow\n",
      "Loading cached processed dataset at /home/james/.cache/huggingface/datasets/james-burton___parquet/james-burton--imdb_genre_prediction-f183d7ab5d966777/0.0.0/2a3b91fbd88a2c90d1dbbb32b460cf621d31bd5b05b934492fdef7d8d6f236ec/cache-515a0447fbeb31f7.arrow\n",
      "The following columns in the test set don't have a corresponding argument in `DistilBertForSequenceClassification.forward` and have been ignored: Year, Description, Rank, Revenue (Millions), Title, Actors, Genre_is_Drama, Director, Rating, Votes, Runtime (Minutes), Metascore. If Year, Description, Rank, Revenue (Millions), Title, Actors, Genre_is_Drama, Director, Rating, Votes, Runtime (Minutes), Metascore are not expected by `DistilBertForSequenceClassification.forward`,  you can safely ignore this message.\n",
      "***** Running Prediction *****\n",
      "  Num examples = 200\n",
      "  Batch size = 8\n",
      "100%|██████████| 25/25 [00:01<00:00, 20.72it/s]"
     ]
    },
    {
     "name": "stdout",
     "output_type": "stream",
     "text": [
      "Accuracy:  0.685\n",
      "ROC AUC:  0.7862075868281453\n"
     ]
    },
    {
     "name": "stderr",
     "output_type": "stream",
     "text": [
      "\n"
     ]
    }
   ],
   "source": [
    "text_model = AutoModelForSequenceClassification.from_pretrained('../models/imdb_genre/true-smoke-9/checkpoint-11', num_labels=2)\n",
    "tokenizer = AutoTokenizer.from_pretrained('distilbert-base-uncased')\n",
    "    \n",
    "# Tokenize the dataset\n",
    "def encode(examples):\n",
    "    return {\n",
    "        \"labels\": np.array([examples['Genre_is_Drama']]),\n",
    "                **tokenizer(examples['Description'], truncation=True, padding=\"max_length\")}\n",
    "ds = ds.map(encode)\n",
    "trainer = Trainer(model=text_model)\n",
    "preds = trainer.predict(ds['test']).predictions\n",
    "\n",
    "\n",
    "print('Accuracy: ', np.mean(np.argmax(preds, axis=1) == y_test.values.flatten()))\n",
    "print('ROC AUC: ', roc_auc_score(y_test.values.flatten(), preds[:,1]))"
   ]
  },
  {
   "cell_type": "code",
   "execution_count": 4,
   "metadata": {},
   "outputs": [
    {
     "data": {
      "text/plain": [
       "array([[-0.33137363,  0.67620337],\n",
       "       [ 0.7707363 , -0.43859714],\n",
       "       [-0.15477103,  0.461668  ],\n",
       "       [-0.51372033,  0.5515399 ],\n",
       "       [ 0.33200806, -0.09582425],\n",
       "       [ 0.30575514, -0.08119192],\n",
       "       [-0.20814325,  0.45128378],\n",
       "       [-0.11868256,  0.35581833],\n",
       "       [ 0.64184636, -0.40104374],\n",
       "       [ 0.18736653,  0.15220319],\n",
       "       [-0.24325113,  0.24067873],\n",
       "       [ 0.919999  , -0.72023445],\n",
       "       [ 0.5940566 , -0.5238441 ],\n",
       "       [ 0.31310907, -0.17255639],\n",
       "       [ 0.87721115, -0.66871613],\n",
       "       [ 0.53969944, -0.2651341 ],\n",
       "       [ 0.34864676, -0.07072233],\n",
       "       [ 0.69314694, -0.555075  ],\n",
       "       [-0.40269408,  0.6778864 ],\n",
       "       [ 0.44806248, -0.14066026],\n",
       "       [ 0.8339696 , -0.5885786 ],\n",
       "       [ 0.6659689 , -0.5506062 ],\n",
       "       [-0.06016606,  0.24585232],\n",
       "       [ 0.8024231 , -0.6064743 ],\n",
       "       [-0.20577443,  0.40001944],\n",
       "       [-0.20434828,  0.63057333],\n",
       "       [ 0.09521575,  0.23511131],\n",
       "       [ 0.10173157,  0.10188404],\n",
       "       [-0.20979197,  0.39870426],\n",
       "       [-0.21948539,  0.37175372],\n",
       "       [ 0.8123928 , -0.6242907 ],\n",
       "       [-0.01865765,  0.33514708],\n",
       "       [ 0.8392293 , -0.7516521 ],\n",
       "       [ 0.8362328 , -0.7516853 ],\n",
       "       [-0.31927767,  0.63856834],\n",
       "       [-0.10329538,  0.32899314],\n",
       "       [-0.23738071,  0.42043844],\n",
       "       [-0.25073376,  0.3712389 ],\n",
       "       [-0.18377435,  0.46171096],\n",
       "       [ 0.84964544, -0.7759578 ],\n",
       "       [-0.43426463,  0.6676562 ],\n",
       "       [ 0.713266  , -0.5726184 ],\n",
       "       [-0.2523924 ,  0.48247015],\n",
       "       [-0.25058466,  0.47553268],\n",
       "       [ 0.67264307, -0.48558268],\n",
       "       [ 0.05914673,  0.22661835],\n",
       "       [ 0.86608833, -0.6809201 ],\n",
       "       [-0.23586158,  0.5716046 ],\n",
       "       [ 0.10435575,  0.1054314 ],\n",
       "       [-0.06172684,  0.10821044],\n",
       "       [-0.26078707,  0.31757793],\n",
       "       [ 0.5879087 , -0.3877024 ],\n",
       "       [-0.27575323,  0.3139542 ],\n",
       "       [-0.33606878,  0.44297138],\n",
       "       [ 0.47096533, -0.16542836],\n",
       "       [-0.43160525,  0.5522349 ],\n",
       "       [-0.03054055,  0.4211178 ],\n",
       "       [ 0.05361415,  0.24536322],\n",
       "       [-0.36235064,  0.47595596],\n",
       "       [ 0.57862633, -0.45371395],\n",
       "       [-0.16374107,  0.4797315 ],\n",
       "       [-0.48780322,  0.78703946],\n",
       "       [-0.24876954,  0.25477454],\n",
       "       [ 0.04887616,  0.09687889],\n",
       "       [ 0.41587666, -0.31226695],\n",
       "       [-0.05702183,  0.40195033],\n",
       "       [-0.4656901 ,  0.74173033],\n",
       "       [-0.4392806 ,  0.6378455 ],\n",
       "       [ 0.80721337, -0.77409846],\n",
       "       [-0.34665042,  0.6022341 ],\n",
       "       [-0.27905074,  0.46927813],\n",
       "       [ 0.04834265,  0.30353954],\n",
       "       [-0.36934522,  0.66145694],\n",
       "       [-0.5534063 ,  0.6924384 ],\n",
       "       [ 0.7996052 , -0.6591797 ],\n",
       "       [ 0.63835025, -0.43786335],\n",
       "       [-0.24028692,  0.5187023 ],\n",
       "       [-0.05407471,  0.2758715 ],\n",
       "       [-0.12741901,  0.43931702],\n",
       "       [-0.12602815,  0.45749587],\n",
       "       [-0.10716575,  0.51963305],\n",
       "       [-0.3858986 ,  0.67346597],\n",
       "       [-0.38488528,  0.59704405],\n",
       "       [ 0.24020503,  0.1323813 ],\n",
       "       [ 0.32903445, -0.06973699],\n",
       "       [-0.08883656,  0.28472343],\n",
       "       [ 0.8853423 , -0.6607088 ],\n",
       "       [ 0.18653493,  0.12637453],\n",
       "       [-0.4354365 ,  0.4850753 ],\n",
       "       [-0.14719425,  0.4091143 ],\n",
       "       [ 0.87363255, -0.61241794],\n",
       "       [-0.19032076,  0.47349784],\n",
       "       [-0.23569883,  0.36746684],\n",
       "       [ 0.9375002 , -0.73005354],\n",
       "       [-0.40588507,  0.37480283],\n",
       "       [ 0.726266  , -0.523395  ],\n",
       "       [-0.19895162,  0.50184065],\n",
       "       [ 0.5629919 , -0.3941775 ],\n",
       "       [-0.29262856,  0.35722992],\n",
       "       [ 0.66476846, -0.4659309 ],\n",
       "       [-0.04468567,  0.4004429 ],\n",
       "       [ 0.31424537,  0.01100708],\n",
       "       [-0.39084595,  0.6923554 ],\n",
       "       [-0.33196354,  0.47938582],\n",
       "       [-0.41391906,  0.7599836 ],\n",
       "       [-0.45267144,  0.67434454],\n",
       "       [ 0.8654994 , -0.74999887],\n",
       "       [-0.23864283,  0.25312373],\n",
       "       [-0.00238809,  0.266112  ],\n",
       "       [ 0.83589643, -0.7074622 ],\n",
       "       [ 0.33918568, -0.09997509],\n",
       "       [-0.35743055,  0.67548966],\n",
       "       [-0.4102721 ,  0.67142606],\n",
       "       [-0.07979393,  0.33779934],\n",
       "       [ 0.10574862,  0.25497386],\n",
       "       [-0.42875472,  0.68067837],\n",
       "       [ 0.17088164,  0.01635998],\n",
       "       [-0.16168599,  0.32495955],\n",
       "       [-0.13878807,  0.35231283],\n",
       "       [ 0.87855023, -0.78760594],\n",
       "       [-0.05828654,  0.3754683 ],\n",
       "       [ 0.19242004,  0.10134839],\n",
       "       [-0.29911235,  0.46286318],\n",
       "       [ 0.31952807, -0.15439403],\n",
       "       [-0.35084942,  0.59404653],\n",
       "       [-0.26137295,  0.30725187],\n",
       "       [ 0.7026962 , -0.5440391 ],\n",
       "       [-0.13736221,  0.382324  ],\n",
       "       [ 0.39563382, -0.17241915],\n",
       "       [ 0.81465054, -0.7941615 ],\n",
       "       [-0.3314234 ,  0.5489664 ],\n",
       "       [-0.12103663,  0.2116841 ],\n",
       "       [ 0.07235628,  0.06396881],\n",
       "       [ 0.06569048,  0.08977199],\n",
       "       [-0.35360226,  0.41461107],\n",
       "       [ 0.12005986,  0.13583092],\n",
       "       [-0.12306716,  0.48233655],\n",
       "       [ 0.746486  , -0.6479074 ],\n",
       "       [-0.353424  ,  0.61223966],\n",
       "       [-0.13126928,  0.39953005],\n",
       "       [ 0.26260614,  0.14134294],\n",
       "       [-0.12087477,  0.37147006],\n",
       "       [ 0.60751003, -0.3391477 ],\n",
       "       [-0.13797282,  0.5091414 ],\n",
       "       [ 0.7962391 , -0.6501845 ],\n",
       "       [ 0.62666464, -0.4154883 ],\n",
       "       [-0.21061584,  0.3723887 ],\n",
       "       [-0.06188157,  0.31650588],\n",
       "       [-0.3445224 ,  0.5059836 ],\n",
       "       [-0.5268173 ,  0.7630932 ],\n",
       "       [-0.19748692,  0.1801015 ],\n",
       "       [-0.18524018,  0.40886217],\n",
       "       [-0.23029213,  0.54187113],\n",
       "       [ 0.58944213, -0.37342662],\n",
       "       [ 0.6972026 , -0.4613904 ],\n",
       "       [-0.20137282,  0.4453333 ],\n",
       "       [ 0.2890193 ,  0.00460869],\n",
       "       [-0.25353563,  0.5292488 ],\n",
       "       [-0.07022621,  0.36673295],\n",
       "       [ 0.41949314, -0.22661369],\n",
       "       [ 0.8605992 , -0.6541763 ],\n",
       "       [ 0.06433205,  0.13435645],\n",
       "       [-0.24612863,  0.40180597],\n",
       "       [ 0.08577558,  0.18385984],\n",
       "       [-0.43556985,  0.39262843],\n",
       "       [ 0.8906084 , -0.72492   ],\n",
       "       [-0.08098099,  0.3706303 ],\n",
       "       [ 0.36571118, -0.23543817],\n",
       "       [ 0.7800346 , -0.6967129 ],\n",
       "       [-0.24164826,  0.5762269 ],\n",
       "       [-0.31491452,  0.45959476],\n",
       "       [ 0.01570548,  0.19181393],\n",
       "       [ 0.24721183, -0.03483167],\n",
       "       [-0.22262907,  0.49513558],\n",
       "       [ 0.2673691 , -0.0356321 ],\n",
       "       [-0.48523846,  0.7644813 ],\n",
       "       [ 0.595183  , -0.33359307],\n",
       "       [-0.06830937,  0.3865707 ],\n",
       "       [ 0.785498  , -0.55889714],\n",
       "       [ 0.63866985, -0.29921314],\n",
       "       [ 0.8599434 , -0.71777964],\n",
       "       [ 0.34089828,  0.01469365],\n",
       "       [-0.29593801,  0.49701998],\n",
       "       [ 0.74242336, -0.46742827],\n",
       "       [ 0.2207355 , -0.0598658 ],\n",
       "       [ 0.8734697 , -0.668933  ],\n",
       "       [ 0.9056056 , -0.66932786],\n",
       "       [ 0.8532383 , -0.57509816],\n",
       "       [-0.3022805 ,  0.53671306],\n",
       "       [-0.40935832,  0.6232708 ],\n",
       "       [ 0.36285898, -0.00779271],\n",
       "       [ 0.24541694,  0.08599127],\n",
       "       [-0.16524224,  0.29635727],\n",
       "       [ 0.776003  , -0.6457088 ],\n",
       "       [-0.5089606 ,  0.6559956 ],\n",
       "       [ 0.5490704 , -0.38389495],\n",
       "       [ 0.9038937 , -0.778364  ],\n",
       "       [-0.12195088,  0.35092226],\n",
       "       [ 0.6061307 , -0.32901716],\n",
       "       [-0.07421614,  0.36416882]], dtype=float32)"
      ]
     },
     "execution_count": 4,
     "metadata": {},
     "output_type": "execute_result"
    }
   ],
   "source": [
    "preds"
   ]
  },
  {
   "cell_type": "code",
   "execution_count": null,
   "metadata": {},
   "outputs": [],
   "source": []
  }
 ],
 "metadata": {
  "kernelspec": {
   "display_name": "env",
   "language": "python",
   "name": "python3"
  },
  "language_info": {
   "codemirror_mode": {
    "name": "ipython",
    "version": 3
   },
   "file_extension": ".py",
   "mimetype": "text/x-python",
   "name": "python",
   "nbconvert_exporter": "python",
   "pygments_lexer": "ipython3",
   "version": "3.10.6"
  },
  "orig_nbformat": 4
 },
 "nbformat": 4,
 "nbformat_minor": 2
}
