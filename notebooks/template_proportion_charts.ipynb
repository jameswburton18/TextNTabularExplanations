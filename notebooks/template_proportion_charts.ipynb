{
 "cells": [
  {
   "cell_type": "code",
   "execution_count": 1,
   "metadata": {},
   "outputs": [
    {
     "name": "stderr",
     "output_type": "stream",
     "text": [
      "/home/james/CodingProjects/TextNTabularExplanations/env/lib/python3.10/site-packages/tqdm/auto.py:22: TqdmWarning: IProgress not found. Please update jupyter and ipywidgets. See https://ipywidgets.readthedocs.io/en/stable/user_install.html\n",
      "  from .autonotebook import tqdm as notebook_tqdm\n"
     ]
    }
   ],
   "source": [
    "import pickle\n",
    "from transformers import AutoTokenizer\n",
    "import numpy as np\n",
    "import shap\n",
    "\n",
    "from datasets import load_dataset\n",
    "\n",
    "import numpy as np\n",
    "from src.run_shap import load_shap_vals\n",
    "import pickle\n",
    "from tqdm import tqdm\n",
    "from src.utils import token_segments\n",
    "from src.utils import legacy_get_dataset_info\n",
    "from transformers import AutoTokenizer\n",
    "import shap\n",
    "from src.utils import token_segments, text_ft_index_ends, format_text_pred, ConfigLoader\n",
    "\n",
    "# %matplotlib inline\n",
    "import matplotlib.pyplot as plt\n",
    "\n",
    "# plt.style.use('seaborn-whitegrid')\n",
    "import numpy as np\n",
    "import pandas as pd\n",
    "from src.run_shap import load_shap_vals\n",
    "from tqdm import tqdm\n",
    "\n",
    "# import re\n",
    "# import seaborn as sns\n",
    "# from scipy import stats\n",
    "from src.utils import (\n",
    "    ConfigLoader,\n",
    ")\n",
    "import pandas as pd\n",
    "\n",
    "import plotly.express as px\n",
    "import plotly.graph_objects as go"
   ]
  },
  {
   "cell_type": "code",
   "execution_count": 2,
   "metadata": {},
   "outputs": [
    {
     "name": "stdout",
     "output_type": "stream",
     "text": [
      "\n",
      "{'config': 'fake', 'tab_cols': ['required_experience', 'required_education'], 'categorical_cols': ['required_experience', 'required_education'], 'text_cols': ['title', 'description', 'salary_range'], 'label_names': ['0', '1'], 'label_col': 'fraudulent', 'num_labels': 2, 'prob_type': 'single_label_classification', 'wandb_proj_name': 'Fake Job Postings', 'all_text_dataset': 'james-burton/fake_job_postings2_all_text', 'ordinal_dataset': 'james-burton/fake_job_postings2_ordinal', 'tnt_reorder_cols': {'bert': ['description', 'title', 'required_experience', 'required_education', 'salary_range'], 'disbert': ['description', 'title', 'required_education', 'required_experience', 'salary_range'], 'drob': ['description', 'title', 'required_education', 'required_experience', 'salary_range'], 'deberta': ['description', 'title', 'required_education', 'required_experience', 'salary_range']}, 'base_reorder_cols': {'bert': ['description', 'title', 'required_education', 'required_experience', 'salary_range'], 'disbert': ['description', 'title', 'required_education', 'required_experience', 'salary_range'], 'drob': ['description', 'title', 'required_experience', 'required_education', 'salary_range'], 'deberta': ['description', 'title', 'required_education', 'salary_range', 'required_experience']}}\n",
      "\n",
      "\n",
      "            #################\n",
      "            fake\n",
      "            #################\n",
      "            \n",
      "\n",
      "{'config': 'fake', 'tab_cols': ['required_experience', 'required_education'], 'categorical_cols': ['required_experience', 'required_education'], 'text_cols': ['title', 'description', 'salary_range'], 'label_names': ['0', '1'], 'label_col': 'fraudulent', 'num_labels': 2, 'prob_type': 'single_label_classification', 'wandb_proj_name': 'Fake Job Postings', 'all_text_dataset': 'james-burton/fake_job_postings2_all_text', 'ordinal_dataset': 'james-burton/fake_job_postings2_ordinal', 'tnt_reorder_cols': {'bert': ['description', 'title', 'required_experience', 'required_education', 'salary_range'], 'disbert': ['description', 'title', 'required_education', 'required_experience', 'salary_range'], 'drob': ['description', 'title', 'required_education', 'required_experience', 'salary_range'], 'deberta': ['description', 'title', 'required_education', 'required_experience', 'salary_range']}, 'base_reorder_cols': {'bert': ['description', 'title', 'required_education', 'required_experience', 'salary_range'], 'disbert': ['description', 'title', 'required_education', 'required_experience', 'salary_range'], 'drob': ['description', 'title', 'required_experience', 'required_education', 'salary_range'], 'deberta': ['description', 'title', 'required_education', 'salary_range', 'required_experience']}}\n",
      "\n",
      "\n",
      "            #################\n",
      "            fake\n",
      "            #################\n",
      "            \n",
      "\n",
      "{'config': 'fake', 'tab_cols': ['required_experience', 'required_education'], 'categorical_cols': ['required_experience', 'required_education'], 'text_cols': ['title', 'description', 'salary_range'], 'label_names': ['0', '1'], 'label_col': 'fraudulent', 'num_labels': 2, 'prob_type': 'single_label_classification', 'wandb_proj_name': 'Fake Job Postings', 'all_text_dataset': 'james-burton/fake_job_postings2_all_text', 'ordinal_dataset': 'james-burton/fake_job_postings2_ordinal', 'tnt_reorder_cols': {'bert': ['description', 'title', 'required_experience', 'required_education', 'salary_range'], 'disbert': ['description', 'title', 'required_education', 'required_experience', 'salary_range'], 'drob': ['description', 'title', 'required_education', 'required_experience', 'salary_range'], 'deberta': ['description', 'title', 'required_education', 'required_experience', 'salary_range']}, 'base_reorder_cols': {'bert': ['description', 'title', 'required_education', 'required_experience', 'salary_range'], 'disbert': ['description', 'title', 'required_education', 'required_experience', 'salary_range'], 'drob': ['description', 'title', 'required_experience', 'required_education', 'salary_range'], 'deberta': ['description', 'title', 'required_education', 'salary_range', 'required_experience']}}\n",
      "\n"
     ]
    },
    {
     "name": "stderr",
     "output_type": "stream",
     "text": [
      "Special tokens have been added in the vocabulary, make sure the associated word embeddings are fine-tuned or trained.\n",
      "The sentencepiece tokenizer that you are converting to a fast tokenizer uses the byte fallback option which is not implemented in the fast tokenizers. In practice this means that the fast version of the tokenizer can produce unknown tokens whereas the sentencepiece version would have converted these unknown tokens into a sequence of byte tokens matching the original piece of text.\n",
      "Special tokens have been added in the vocabulary, make sure the associated word embeddings are fine-tuned or trained.\n"
     ]
    },
    {
     "name": "stdout",
     "output_type": "stream",
     "text": [
      "\n",
      "            #################\n",
      "            fake\n",
      "            #################\n",
      "            \n",
      "\n",
      "{'config': 'fake', 'tab_cols': ['required_experience', 'required_education'], 'categorical_cols': ['required_experience', 'required_education'], 'text_cols': ['title', 'description', 'salary_range'], 'label_names': ['0', '1'], 'label_col': 'fraudulent', 'num_labels': 2, 'prob_type': 'single_label_classification', 'wandb_proj_name': 'Fake Job Postings', 'all_text_dataset': 'james-burton/fake_job_postings2_all_text', 'ordinal_dataset': 'james-burton/fake_job_postings2_ordinal', 'tnt_reorder_cols': {'bert': ['description', 'title', 'required_experience', 'required_education', 'salary_range'], 'disbert': ['description', 'title', 'required_education', 'required_experience', 'salary_range'], 'drob': ['description', 'title', 'required_education', 'required_experience', 'salary_range'], 'deberta': ['description', 'title', 'required_education', 'required_experience', 'salary_range']}, 'base_reorder_cols': {'bert': ['description', 'title', 'required_education', 'required_experience', 'salary_range'], 'disbert': ['description', 'title', 'required_education', 'required_experience', 'salary_range'], 'drob': ['description', 'title', 'required_experience', 'required_education', 'salary_range'], 'deberta': ['description', 'title', 'required_education', 'salary_range', 'required_experience']}}\n",
      "\n",
      "\n",
      "            #################\n",
      "            fake\n",
      "            #################\n",
      "            \n",
      "\n",
      "{'config': 'jigsaw', 'tab_cols': ['asian', 'atheist', 'bisexual', 'black', 'buddhist', 'christian', 'female', 'heterosexual', 'hindu', 'homosexual_gay_or_lesbian', 'intellectual_or_learning_disability', 'jewish', 'latino', 'male', 'muslim', 'other_disability', 'other_gender', 'other_race_or_ethnicity', 'other_religion', 'other_sexual_orientation', 'physical_disability', 'psychiatric_or_mental_illness', 'transgender', 'white', 'funny', 'wow', 'sad', 'likes', 'disagree'], 'categorical_cols': [], 'text_cols': ['comment_text'], 'label_names': ['False', 'True'], 'label_col': 'target', 'num_labels': 2, 'prob_type': 'single_label_classification', 'wandb_proj_name': 'Jigsaw', 'all_text_dataset': 'james-burton/jigsaw_unintended_bias100K_all_text', 'ordinal_dataset': 'james-burton/jigsaw_unintended_bias100K_ordinal', 'tnt_reorder_cols': {'bert': ['comment_text', 'atheist', 'other_gender', 'buddhist', 'hindu', 'muslim', 'jewish', 'other_religion', 'christian', 'latino', 'black', 'white', 'other_race_or_ethnicity', 'asian', 'female', 'male', 'intellectual_or_learning_disability', 'other_disability', 'psychiatric_or_mental_illness', 'physical_disability', 'heterosexual', 'other_sexual_orientation', 'homosexual_gay_or_lesbian', 'bisexual', 'transgender', 'sad', 'disagree', 'likes', 'funny', 'wow'], 'disbert': ['comment_text', 'atheist', 'other_gender', 'buddhist', 'hindu', 'christian', 'other_religion', 'jewish', 'muslim', 'latino', 'black', 'heterosexual', 'male', 'female', 'other_sexual_orientation', 'other_race_or_ethnicity', 'white', 'asian', 'psychiatric_or_mental_illness', 'physical_disability', 'other_disability', 'intellectual_or_learning_disability', 'transgender', 'homosexual_gay_or_lesbian', 'bisexual', 'likes', 'disagree', 'sad', 'funny', 'wow'], 'drob': ['comment_text', 'atheist', 'psychiatric_or_mental_illness', 'intellectual_or_learning_disability', 'other_disability', 'physical_disability', 'female', 'male', 'latino', 'other_race_or_ethnicity', 'asian', 'white', 'black', 'jewish', 'muslim', 'christian', 'other_religion', 'homosexual_gay_or_lesbian', 'bisexual', 'transgender', 'heterosexual', 'other_sexual_orientation', 'other_gender', 'hindu', 'buddhist', 'sad', 'disagree', 'likes', 'funny', 'wow'], 'deberta': ['comment_text', 'likes', 'disagree', 'psychiatric_or_mental_illness', 'physical_disability', 'white', 'intellectual_or_learning_disability', 'black', 'male', 'other_disability', 'female', 'latino', 'asian', 'transgender', 'other_race_or_ethnicity', 'other_sexual_orientation', 'homosexual_gay_or_lesbian', 'bisexual', 'heterosexual', 'other_gender', 'atheist', 'muslim', 'jewish', 'other_religion', 'christian', 'hindu', 'buddhist', 'sad', 'funny', 'wow']}, 'base_reorder_cols': {'bert': ['comment_text', 'other_sexual_orientation', 'christian', 'hindu', 'female', 'heterosexual', 'physical_disability', 'buddhist', 'other_religion', 'homosexual_gay_or_lesbian', 'other_disability', 'other_gender', 'male', 'other_race_or_ethnicity', 'muslim', 'white', 'psychiatric_or_mental_illness', 'likes', 'transgender', 'disagree', 'latino', 'funny', 'atheist', 'sad', 'intellectual_or_learning_disability', 'wow', 'black', 'jewish', 'bisexual', 'asian'], 'disbert': ['comment_text', 'white', 'other_religion', 'muslim', 'other_race_or_ethnicity', 'physical_disability', 'transgender', 'other_sexual_orientation', 'buddhist', 'other_disability', 'other_gender', 'male', 'funny', 'christian', 'disagree', 'latino', 'psychiatric_or_mental_illness', 'likes', 'jewish', 'intellectual_or_learning_disability', 'homosexual_gay_or_lesbian', 'wow', 'hindu', 'heterosexual', 'female', 'sad', 'atheist', 'asian', 'black', 'bisexual'], 'drob': ['comment_text', 'hindu', 'homosexual_gay_or_lesbian', 'disagree', 'physical_disability', 'likes', 'other_sexual_orientation', 'psychiatric_or_mental_illness', 'christian', 'transgender', 'female', 'heterosexual', 'white', 'other_gender', 'black', 'other_religion', 'bisexual', 'funny', 'atheist', 'asian', 'buddhist', 'latino', 'male', 'sad', 'wow', 'other_race_or_ethnicity', 'intellectual_or_learning_disability', 'other_disability', 'jewish', 'muslim'], 'deberta': ['comment_text', 'likes', 'disagree', 'white', 'wow', 'sad', 'funny', 'transgender', 'psychiatric_or_mental_illness', 'other_sexual_orientation', 'other_religion', 'physical_disability', 'asian', 'atheist', 'jewish', 'heterosexual', 'black', 'male', 'homosexual_gay_or_lesbian', 'bisexual', 'intellectual_or_learning_disability', 'female', 'muslim', 'latino', 'christian', 'hindu', 'buddhist', 'other_disability', 'other_gender', 'other_race_or_ethnicity']}}\n",
      "\n",
      "\n",
      "            #################\n",
      "            jigsaw\n",
      "            #################\n",
      "            \n",
      "\n",
      "{'config': 'jigsaw', 'tab_cols': ['asian', 'atheist', 'bisexual', 'black', 'buddhist', 'christian', 'female', 'heterosexual', 'hindu', 'homosexual_gay_or_lesbian', 'intellectual_or_learning_disability', 'jewish', 'latino', 'male', 'muslim', 'other_disability', 'other_gender', 'other_race_or_ethnicity', 'other_religion', 'other_sexual_orientation', 'physical_disability', 'psychiatric_or_mental_illness', 'transgender', 'white', 'funny', 'wow', 'sad', 'likes', 'disagree'], 'categorical_cols': [], 'text_cols': ['comment_text'], 'label_names': ['False', 'True'], 'label_col': 'target', 'num_labels': 2, 'prob_type': 'single_label_classification', 'wandb_proj_name': 'Jigsaw', 'all_text_dataset': 'james-burton/jigsaw_unintended_bias100K_all_text', 'ordinal_dataset': 'james-burton/jigsaw_unintended_bias100K_ordinal', 'tnt_reorder_cols': {'bert': ['comment_text', 'atheist', 'other_gender', 'buddhist', 'hindu', 'muslim', 'jewish', 'other_religion', 'christian', 'latino', 'black', 'white', 'other_race_or_ethnicity', 'asian', 'female', 'male', 'intellectual_or_learning_disability', 'other_disability', 'psychiatric_or_mental_illness', 'physical_disability', 'heterosexual', 'other_sexual_orientation', 'homosexual_gay_or_lesbian', 'bisexual', 'transgender', 'sad', 'disagree', 'likes', 'funny', 'wow'], 'disbert': ['comment_text', 'atheist', 'other_gender', 'buddhist', 'hindu', 'christian', 'other_religion', 'jewish', 'muslim', 'latino', 'black', 'heterosexual', 'male', 'female', 'other_sexual_orientation', 'other_race_or_ethnicity', 'white', 'asian', 'psychiatric_or_mental_illness', 'physical_disability', 'other_disability', 'intellectual_or_learning_disability', 'transgender', 'homosexual_gay_or_lesbian', 'bisexual', 'likes', 'disagree', 'sad', 'funny', 'wow'], 'drob': ['comment_text', 'atheist', 'psychiatric_or_mental_illness', 'intellectual_or_learning_disability', 'other_disability', 'physical_disability', 'female', 'male', 'latino', 'other_race_or_ethnicity', 'asian', 'white', 'black', 'jewish', 'muslim', 'christian', 'other_religion', 'homosexual_gay_or_lesbian', 'bisexual', 'transgender', 'heterosexual', 'other_sexual_orientation', 'other_gender', 'hindu', 'buddhist', 'sad', 'disagree', 'likes', 'funny', 'wow'], 'deberta': ['comment_text', 'likes', 'disagree', 'psychiatric_or_mental_illness', 'physical_disability', 'white', 'intellectual_or_learning_disability', 'black', 'male', 'other_disability', 'female', 'latino', 'asian', 'transgender', 'other_race_or_ethnicity', 'other_sexual_orientation', 'homosexual_gay_or_lesbian', 'bisexual', 'heterosexual', 'other_gender', 'atheist', 'muslim', 'jewish', 'other_religion', 'christian', 'hindu', 'buddhist', 'sad', 'funny', 'wow']}, 'base_reorder_cols': {'bert': ['comment_text', 'other_sexual_orientation', 'christian', 'hindu', 'female', 'heterosexual', 'physical_disability', 'buddhist', 'other_religion', 'homosexual_gay_or_lesbian', 'other_disability', 'other_gender', 'male', 'other_race_or_ethnicity', 'muslim', 'white', 'psychiatric_or_mental_illness', 'likes', 'transgender', 'disagree', 'latino', 'funny', 'atheist', 'sad', 'intellectual_or_learning_disability', 'wow', 'black', 'jewish', 'bisexual', 'asian'], 'disbert': ['comment_text', 'white', 'other_religion', 'muslim', 'other_race_or_ethnicity', 'physical_disability', 'transgender', 'other_sexual_orientation', 'buddhist', 'other_disability', 'other_gender', 'male', 'funny', 'christian', 'disagree', 'latino', 'psychiatric_or_mental_illness', 'likes', 'jewish', 'intellectual_or_learning_disability', 'homosexual_gay_or_lesbian', 'wow', 'hindu', 'heterosexual', 'female', 'sad', 'atheist', 'asian', 'black', 'bisexual'], 'drob': ['comment_text', 'hindu', 'homosexual_gay_or_lesbian', 'disagree', 'physical_disability', 'likes', 'other_sexual_orientation', 'psychiatric_or_mental_illness', 'christian', 'transgender', 'female', 'heterosexual', 'white', 'other_gender', 'black', 'other_religion', 'bisexual', 'funny', 'atheist', 'asian', 'buddhist', 'latino', 'male', 'sad', 'wow', 'other_race_or_ethnicity', 'intellectual_or_learning_disability', 'other_disability', 'jewish', 'muslim'], 'deberta': ['comment_text', 'likes', 'disagree', 'white', 'wow', 'sad', 'funny', 'transgender', 'psychiatric_or_mental_illness', 'other_sexual_orientation', 'other_religion', 'physical_disability', 'asian', 'atheist', 'jewish', 'heterosexual', 'black', 'male', 'homosexual_gay_or_lesbian', 'bisexual', 'intellectual_or_learning_disability', 'female', 'muslim', 'latino', 'christian', 'hindu', 'buddhist', 'other_disability', 'other_gender', 'other_race_or_ethnicity']}}\n",
      "\n",
      "\n",
      "            #################\n",
      "            jigsaw\n",
      "            #################\n",
      "            \n",
      "\n",
      "{'config': 'jigsaw', 'tab_cols': ['asian', 'atheist', 'bisexual', 'black', 'buddhist', 'christian', 'female', 'heterosexual', 'hindu', 'homosexual_gay_or_lesbian', 'intellectual_or_learning_disability', 'jewish', 'latino', 'male', 'muslim', 'other_disability', 'other_gender', 'other_race_or_ethnicity', 'other_religion', 'other_sexual_orientation', 'physical_disability', 'psychiatric_or_mental_illness', 'transgender', 'white', 'funny', 'wow', 'sad', 'likes', 'disagree'], 'categorical_cols': [], 'text_cols': ['comment_text'], 'label_names': ['False', 'True'], 'label_col': 'target', 'num_labels': 2, 'prob_type': 'single_label_classification', 'wandb_proj_name': 'Jigsaw', 'all_text_dataset': 'james-burton/jigsaw_unintended_bias100K_all_text', 'ordinal_dataset': 'james-burton/jigsaw_unintended_bias100K_ordinal', 'tnt_reorder_cols': {'bert': ['comment_text', 'atheist', 'other_gender', 'buddhist', 'hindu', 'muslim', 'jewish', 'other_religion', 'christian', 'latino', 'black', 'white', 'other_race_or_ethnicity', 'asian', 'female', 'male', 'intellectual_or_learning_disability', 'other_disability', 'psychiatric_or_mental_illness', 'physical_disability', 'heterosexual', 'other_sexual_orientation', 'homosexual_gay_or_lesbian', 'bisexual', 'transgender', 'sad', 'disagree', 'likes', 'funny', 'wow'], 'disbert': ['comment_text', 'atheist', 'other_gender', 'buddhist', 'hindu', 'christian', 'other_religion', 'jewish', 'muslim', 'latino', 'black', 'heterosexual', 'male', 'female', 'other_sexual_orientation', 'other_race_or_ethnicity', 'white', 'asian', 'psychiatric_or_mental_illness', 'physical_disability', 'other_disability', 'intellectual_or_learning_disability', 'transgender', 'homosexual_gay_or_lesbian', 'bisexual', 'likes', 'disagree', 'sad', 'funny', 'wow'], 'drob': ['comment_text', 'atheist', 'psychiatric_or_mental_illness', 'intellectual_or_learning_disability', 'other_disability', 'physical_disability', 'female', 'male', 'latino', 'other_race_or_ethnicity', 'asian', 'white', 'black', 'jewish', 'muslim', 'christian', 'other_religion', 'homosexual_gay_or_lesbian', 'bisexual', 'transgender', 'heterosexual', 'other_sexual_orientation', 'other_gender', 'hindu', 'buddhist', 'sad', 'disagree', 'likes', 'funny', 'wow'], 'deberta': ['comment_text', 'likes', 'disagree', 'psychiatric_or_mental_illness', 'physical_disability', 'white', 'intellectual_or_learning_disability', 'black', 'male', 'other_disability', 'female', 'latino', 'asian', 'transgender', 'other_race_or_ethnicity', 'other_sexual_orientation', 'homosexual_gay_or_lesbian', 'bisexual', 'heterosexual', 'other_gender', 'atheist', 'muslim', 'jewish', 'other_religion', 'christian', 'hindu', 'buddhist', 'sad', 'funny', 'wow']}, 'base_reorder_cols': {'bert': ['comment_text', 'other_sexual_orientation', 'christian', 'hindu', 'female', 'heterosexual', 'physical_disability', 'buddhist', 'other_religion', 'homosexual_gay_or_lesbian', 'other_disability', 'other_gender', 'male', 'other_race_or_ethnicity', 'muslim', 'white', 'psychiatric_or_mental_illness', 'likes', 'transgender', 'disagree', 'latino', 'funny', 'atheist', 'sad', 'intellectual_or_learning_disability', 'wow', 'black', 'jewish', 'bisexual', 'asian'], 'disbert': ['comment_text', 'white', 'other_religion', 'muslim', 'other_race_or_ethnicity', 'physical_disability', 'transgender', 'other_sexual_orientation', 'buddhist', 'other_disability', 'other_gender', 'male', 'funny', 'christian', 'disagree', 'latino', 'psychiatric_or_mental_illness', 'likes', 'jewish', 'intellectual_or_learning_disability', 'homosexual_gay_or_lesbian', 'wow', 'hindu', 'heterosexual', 'female', 'sad', 'atheist', 'asian', 'black', 'bisexual'], 'drob': ['comment_text', 'hindu', 'homosexual_gay_or_lesbian', 'disagree', 'physical_disability', 'likes', 'other_sexual_orientation', 'psychiatric_or_mental_illness', 'christian', 'transgender', 'female', 'heterosexual', 'white', 'other_gender', 'black', 'other_religion', 'bisexual', 'funny', 'atheist', 'asian', 'buddhist', 'latino', 'male', 'sad', 'wow', 'other_race_or_ethnicity', 'intellectual_or_learning_disability', 'other_disability', 'jewish', 'muslim'], 'deberta': ['comment_text', 'likes', 'disagree', 'white', 'wow', 'sad', 'funny', 'transgender', 'psychiatric_or_mental_illness', 'other_sexual_orientation', 'other_religion', 'physical_disability', 'asian', 'atheist', 'jewish', 'heterosexual', 'black', 'male', 'homosexual_gay_or_lesbian', 'bisexual', 'intellectual_or_learning_disability', 'female', 'muslim', 'latino', 'christian', 'hindu', 'buddhist', 'other_disability', 'other_gender', 'other_race_or_ethnicity']}}\n",
      "\n"
     ]
    },
    {
     "name": "stderr",
     "output_type": "stream",
     "text": [
      "Special tokens have been added in the vocabulary, make sure the associated word embeddings are fine-tuned or trained.\n",
      "The sentencepiece tokenizer that you are converting to a fast tokenizer uses the byte fallback option which is not implemented in the fast tokenizers. In practice this means that the fast version of the tokenizer can produce unknown tokens whereas the sentencepiece version would have converted these unknown tokens into a sequence of byte tokens matching the original piece of text.\n",
      "Special tokens have been added in the vocabulary, make sure the associated word embeddings are fine-tuned or trained.\n"
     ]
    },
    {
     "name": "stdout",
     "output_type": "stream",
     "text": [
      "\n",
      "            #################\n",
      "            jigsaw\n",
      "            #################\n",
      "            \n",
      "\n",
      "{'config': 'jigsaw', 'tab_cols': ['asian', 'atheist', 'bisexual', 'black', 'buddhist', 'christian', 'female', 'heterosexual', 'hindu', 'homosexual_gay_or_lesbian', 'intellectual_or_learning_disability', 'jewish', 'latino', 'male', 'muslim', 'other_disability', 'other_gender', 'other_race_or_ethnicity', 'other_religion', 'other_sexual_orientation', 'physical_disability', 'psychiatric_or_mental_illness', 'transgender', 'white', 'funny', 'wow', 'sad', 'likes', 'disagree'], 'categorical_cols': [], 'text_cols': ['comment_text'], 'label_names': ['False', 'True'], 'label_col': 'target', 'num_labels': 2, 'prob_type': 'single_label_classification', 'wandb_proj_name': 'Jigsaw', 'all_text_dataset': 'james-burton/jigsaw_unintended_bias100K_all_text', 'ordinal_dataset': 'james-burton/jigsaw_unintended_bias100K_ordinal', 'tnt_reorder_cols': {'bert': ['comment_text', 'atheist', 'other_gender', 'buddhist', 'hindu', 'muslim', 'jewish', 'other_religion', 'christian', 'latino', 'black', 'white', 'other_race_or_ethnicity', 'asian', 'female', 'male', 'intellectual_or_learning_disability', 'other_disability', 'psychiatric_or_mental_illness', 'physical_disability', 'heterosexual', 'other_sexual_orientation', 'homosexual_gay_or_lesbian', 'bisexual', 'transgender', 'sad', 'disagree', 'likes', 'funny', 'wow'], 'disbert': ['comment_text', 'atheist', 'other_gender', 'buddhist', 'hindu', 'christian', 'other_religion', 'jewish', 'muslim', 'latino', 'black', 'heterosexual', 'male', 'female', 'other_sexual_orientation', 'other_race_or_ethnicity', 'white', 'asian', 'psychiatric_or_mental_illness', 'physical_disability', 'other_disability', 'intellectual_or_learning_disability', 'transgender', 'homosexual_gay_or_lesbian', 'bisexual', 'likes', 'disagree', 'sad', 'funny', 'wow'], 'drob': ['comment_text', 'atheist', 'psychiatric_or_mental_illness', 'intellectual_or_learning_disability', 'other_disability', 'physical_disability', 'female', 'male', 'latino', 'other_race_or_ethnicity', 'asian', 'white', 'black', 'jewish', 'muslim', 'christian', 'other_religion', 'homosexual_gay_or_lesbian', 'bisexual', 'transgender', 'heterosexual', 'other_sexual_orientation', 'other_gender', 'hindu', 'buddhist', 'sad', 'disagree', 'likes', 'funny', 'wow'], 'deberta': ['comment_text', 'likes', 'disagree', 'psychiatric_or_mental_illness', 'physical_disability', 'white', 'intellectual_or_learning_disability', 'black', 'male', 'other_disability', 'female', 'latino', 'asian', 'transgender', 'other_race_or_ethnicity', 'other_sexual_orientation', 'homosexual_gay_or_lesbian', 'bisexual', 'heterosexual', 'other_gender', 'atheist', 'muslim', 'jewish', 'other_religion', 'christian', 'hindu', 'buddhist', 'sad', 'funny', 'wow']}, 'base_reorder_cols': {'bert': ['comment_text', 'other_sexual_orientation', 'christian', 'hindu', 'female', 'heterosexual', 'physical_disability', 'buddhist', 'other_religion', 'homosexual_gay_or_lesbian', 'other_disability', 'other_gender', 'male', 'other_race_or_ethnicity', 'muslim', 'white', 'psychiatric_or_mental_illness', 'likes', 'transgender', 'disagree', 'latino', 'funny', 'atheist', 'sad', 'intellectual_or_learning_disability', 'wow', 'black', 'jewish', 'bisexual', 'asian'], 'disbert': ['comment_text', 'white', 'other_religion', 'muslim', 'other_race_or_ethnicity', 'physical_disability', 'transgender', 'other_sexual_orientation', 'buddhist', 'other_disability', 'other_gender', 'male', 'funny', 'christian', 'disagree', 'latino', 'psychiatric_or_mental_illness', 'likes', 'jewish', 'intellectual_or_learning_disability', 'homosexual_gay_or_lesbian', 'wow', 'hindu', 'heterosexual', 'female', 'sad', 'atheist', 'asian', 'black', 'bisexual'], 'drob': ['comment_text', 'hindu', 'homosexual_gay_or_lesbian', 'disagree', 'physical_disability', 'likes', 'other_sexual_orientation', 'psychiatric_or_mental_illness', 'christian', 'transgender', 'female', 'heterosexual', 'white', 'other_gender', 'black', 'other_religion', 'bisexual', 'funny', 'atheist', 'asian', 'buddhist', 'latino', 'male', 'sad', 'wow', 'other_race_or_ethnicity', 'intellectual_or_learning_disability', 'other_disability', 'jewish', 'muslim'], 'deberta': ['comment_text', 'likes', 'disagree', 'white', 'wow', 'sad', 'funny', 'transgender', 'psychiatric_or_mental_illness', 'other_sexual_orientation', 'other_religion', 'physical_disability', 'asian', 'atheist', 'jewish', 'heterosexual', 'black', 'male', 'homosexual_gay_or_lesbian', 'bisexual', 'intellectual_or_learning_disability', 'female', 'muslim', 'latino', 'christian', 'hindu', 'buddhist', 'other_disability', 'other_gender', 'other_race_or_ethnicity']}}\n",
      "\n",
      "\n",
      "            #################\n",
      "            jigsaw\n",
      "            #################\n",
      "            \n",
      "\n",
      "{'config': 'kick', 'tab_cols': ['goal', 'disable_communication', 'country', 'currency', 'deadline', 'created_at'], 'categorical_cols': ['disable_communication', 'country', 'currency'], 'text_cols': ['name', 'desc', 'keywords'], 'label_names': ['0', '1'], 'label_col': 'final_status', 'num_labels': 2, 'prob_type': 'single_label_classification', 'wandb_proj_name': 'Kickstarter', 'all_text_dataset': 'james-burton/kick_starter_funding_all_text', 'ordinal_dataset': 'james-burton/kick_starter_funding_ordinal', 'tnt_reorder_cols': {'bert': ['desc', 'goal', 'name', 'created_at', 'keywords', 'deadline', 'currency', 'country', 'disable_communication'], 'disbert': ['desc', 'goal', 'name', 'keywords', 'created_at', 'deadline', 'currency', 'country', 'disable_communication'], 'drob': ['desc', 'goal', 'name', 'keywords', 'deadline', 'created_at', 'currency', 'country', 'disable_communication'], 'deberta': ['desc', 'goal', 'name', 'deadline', 'keywords', 'created_at', 'currency', 'country', 'disable_communication']}, 'base_reorder_cols': {'bert': ['desc', 'goal', 'name', 'keywords', 'created_at', 'deadline', 'country', 'disable_communication', 'currency'], 'disbert': ['desc', 'goal', 'name', 'created_at', 'keywords', 'deadline', 'currency', 'disable_communication', 'country'], 'drob': ['desc', 'name', 'goal', 'keywords', 'created_at', 'deadline', 'country', 'currency', 'disable_communication'], 'deberta': ['goal', 'desc', 'name', 'keywords', 'deadline', 'created_at', 'currency', 'country', 'disable_communication']}}\n",
      "\n",
      "\n",
      "            #################\n",
      "            kick\n",
      "            #################\n",
      "            \n",
      "\n",
      "{'config': 'kick', 'tab_cols': ['goal', 'disable_communication', 'country', 'currency', 'deadline', 'created_at'], 'categorical_cols': ['disable_communication', 'country', 'currency'], 'text_cols': ['name', 'desc', 'keywords'], 'label_names': ['0', '1'], 'label_col': 'final_status', 'num_labels': 2, 'prob_type': 'single_label_classification', 'wandb_proj_name': 'Kickstarter', 'all_text_dataset': 'james-burton/kick_starter_funding_all_text', 'ordinal_dataset': 'james-burton/kick_starter_funding_ordinal', 'tnt_reorder_cols': {'bert': ['desc', 'goal', 'name', 'created_at', 'keywords', 'deadline', 'currency', 'country', 'disable_communication'], 'disbert': ['desc', 'goal', 'name', 'keywords', 'created_at', 'deadline', 'currency', 'country', 'disable_communication'], 'drob': ['desc', 'goal', 'name', 'keywords', 'deadline', 'created_at', 'currency', 'country', 'disable_communication'], 'deberta': ['desc', 'goal', 'name', 'deadline', 'keywords', 'created_at', 'currency', 'country', 'disable_communication']}, 'base_reorder_cols': {'bert': ['desc', 'goal', 'name', 'keywords', 'created_at', 'deadline', 'country', 'disable_communication', 'currency'], 'disbert': ['desc', 'goal', 'name', 'created_at', 'keywords', 'deadline', 'currency', 'disable_communication', 'country'], 'drob': ['desc', 'name', 'goal', 'keywords', 'created_at', 'deadline', 'country', 'currency', 'disable_communication'], 'deberta': ['goal', 'desc', 'name', 'keywords', 'deadline', 'created_at', 'currency', 'country', 'disable_communication']}}\n",
      "\n",
      "\n",
      "            #################\n",
      "            kick\n",
      "            #################\n",
      "            \n",
      "\n",
      "{'config': 'kick', 'tab_cols': ['goal', 'disable_communication', 'country', 'currency', 'deadline', 'created_at'], 'categorical_cols': ['disable_communication', 'country', 'currency'], 'text_cols': ['name', 'desc', 'keywords'], 'label_names': ['0', '1'], 'label_col': 'final_status', 'num_labels': 2, 'prob_type': 'single_label_classification', 'wandb_proj_name': 'Kickstarter', 'all_text_dataset': 'james-burton/kick_starter_funding_all_text', 'ordinal_dataset': 'james-burton/kick_starter_funding_ordinal', 'tnt_reorder_cols': {'bert': ['desc', 'goal', 'name', 'created_at', 'keywords', 'deadline', 'currency', 'country', 'disable_communication'], 'disbert': ['desc', 'goal', 'name', 'keywords', 'created_at', 'deadline', 'currency', 'country', 'disable_communication'], 'drob': ['desc', 'goal', 'name', 'keywords', 'deadline', 'created_at', 'currency', 'country', 'disable_communication'], 'deberta': ['desc', 'goal', 'name', 'deadline', 'keywords', 'created_at', 'currency', 'country', 'disable_communication']}, 'base_reorder_cols': {'bert': ['desc', 'goal', 'name', 'keywords', 'created_at', 'deadline', 'country', 'disable_communication', 'currency'], 'disbert': ['desc', 'goal', 'name', 'created_at', 'keywords', 'deadline', 'currency', 'disable_communication', 'country'], 'drob': ['desc', 'name', 'goal', 'keywords', 'created_at', 'deadline', 'country', 'currency', 'disable_communication'], 'deberta': ['goal', 'desc', 'name', 'keywords', 'deadline', 'created_at', 'currency', 'country', 'disable_communication']}}\n",
      "\n"
     ]
    },
    {
     "name": "stderr",
     "output_type": "stream",
     "text": [
      "Special tokens have been added in the vocabulary, make sure the associated word embeddings are fine-tuned or trained.\n",
      "The sentencepiece tokenizer that you are converting to a fast tokenizer uses the byte fallback option which is not implemented in the fast tokenizers. In practice this means that the fast version of the tokenizer can produce unknown tokens whereas the sentencepiece version would have converted these unknown tokens into a sequence of byte tokens matching the original piece of text.\n",
      "Special tokens have been added in the vocabulary, make sure the associated word embeddings are fine-tuned or trained.\n"
     ]
    },
    {
     "name": "stdout",
     "output_type": "stream",
     "text": [
      "\n",
      "            #################\n",
      "            kick\n",
      "            #################\n",
      "            \n",
      "\n",
      "{'config': 'kick', 'tab_cols': ['goal', 'disable_communication', 'country', 'currency', 'deadline', 'created_at'], 'categorical_cols': ['disable_communication', 'country', 'currency'], 'text_cols': ['name', 'desc', 'keywords'], 'label_names': ['0', '1'], 'label_col': 'final_status', 'num_labels': 2, 'prob_type': 'single_label_classification', 'wandb_proj_name': 'Kickstarter', 'all_text_dataset': 'james-burton/kick_starter_funding_all_text', 'ordinal_dataset': 'james-burton/kick_starter_funding_ordinal', 'tnt_reorder_cols': {'bert': ['desc', 'goal', 'name', 'created_at', 'keywords', 'deadline', 'currency', 'country', 'disable_communication'], 'disbert': ['desc', 'goal', 'name', 'keywords', 'created_at', 'deadline', 'currency', 'country', 'disable_communication'], 'drob': ['desc', 'goal', 'name', 'keywords', 'deadline', 'created_at', 'currency', 'country', 'disable_communication'], 'deberta': ['desc', 'goal', 'name', 'deadline', 'keywords', 'created_at', 'currency', 'country', 'disable_communication']}, 'base_reorder_cols': {'bert': ['desc', 'goal', 'name', 'keywords', 'created_at', 'deadline', 'country', 'disable_communication', 'currency'], 'disbert': ['desc', 'goal', 'name', 'created_at', 'keywords', 'deadline', 'currency', 'disable_communication', 'country'], 'drob': ['desc', 'name', 'goal', 'keywords', 'created_at', 'deadline', 'country', 'currency', 'disable_communication'], 'deberta': ['goal', 'desc', 'name', 'keywords', 'deadline', 'created_at', 'currency', 'country', 'disable_communication']}}\n",
      "\n",
      "\n",
      "            #################\n",
      "            kick\n",
      "            #################\n",
      "            \n",
      "\n",
      "{'config': 'wine', 'tab_cols': ['points', 'price'], 'categorical_cols': [], 'text_cols': ['country', 'description', 'province'], 'label_names': ['Bordeaux-style Red Blend', 'Bordeaux-style White Blend', 'Cabernet Franc', 'Cabernet Sauvignon', 'Champagne Blend', 'Chardonnay', 'Gamay', 'Gewürztraminer', 'Grüner Veltliner', 'Malbec', 'Merlot', 'Nebbiolo', 'Pinot Grigio', 'Pinot Gris', 'Pinot Noir', 'Portuguese Red', 'Portuguese White', 'Red Blend', 'Rhône-style Red Blend', 'Riesling', 'Rosé', 'Sangiovese', 'Sauvignon Blanc', 'Shiraz', 'Sparkling Blend', 'Syrah', 'Tempranillo', 'Viognier', 'White Blend', 'Zinfandel'], 'label_col': 'variety', 'num_labels': 30, 'prob_type': 'single_label_classification', 'wandb_proj_name': 'Wine', 'all_text_dataset': 'james-burton/wine_reviews_all_text', 'ordinal_dataset': 'james-burton/wine_reviews_ordinal', 'tnt_reorder_cols': {'bert': ['description', 'province', 'country', 'price', 'points'], 'disbert': ['description', 'province', 'country', 'price', 'points'], 'drob': ['description', 'province', 'country', 'price', 'points'], 'deberta': ['description', 'province', 'country', 'price', 'points']}, 'base_reorder_cols': {'bert': ['description', 'province', 'country', 'price', 'points'], 'disbert': ['description', 'province', 'country', 'price', 'points'], 'drob': ['description', 'province', 'country', 'price', 'points'], 'deberta': ['description', 'province', 'price', 'country', 'points']}}\n",
      "\n",
      "\n",
      "            #################\n",
      "            wine\n",
      "            #################\n",
      "            \n",
      "\n",
      "{'config': 'wine', 'tab_cols': ['points', 'price'], 'categorical_cols': [], 'text_cols': ['country', 'description', 'province'], 'label_names': ['Bordeaux-style Red Blend', 'Bordeaux-style White Blend', 'Cabernet Franc', 'Cabernet Sauvignon', 'Champagne Blend', 'Chardonnay', 'Gamay', 'Gewürztraminer', 'Grüner Veltliner', 'Malbec', 'Merlot', 'Nebbiolo', 'Pinot Grigio', 'Pinot Gris', 'Pinot Noir', 'Portuguese Red', 'Portuguese White', 'Red Blend', 'Rhône-style Red Blend', 'Riesling', 'Rosé', 'Sangiovese', 'Sauvignon Blanc', 'Shiraz', 'Sparkling Blend', 'Syrah', 'Tempranillo', 'Viognier', 'White Blend', 'Zinfandel'], 'label_col': 'variety', 'num_labels': 30, 'prob_type': 'single_label_classification', 'wandb_proj_name': 'Wine', 'all_text_dataset': 'james-burton/wine_reviews_all_text', 'ordinal_dataset': 'james-burton/wine_reviews_ordinal', 'tnt_reorder_cols': {'bert': ['description', 'province', 'country', 'price', 'points'], 'disbert': ['description', 'province', 'country', 'price', 'points'], 'drob': ['description', 'province', 'country', 'price', 'points'], 'deberta': ['description', 'province', 'country', 'price', 'points']}, 'base_reorder_cols': {'bert': ['description', 'province', 'country', 'price', 'points'], 'disbert': ['description', 'province', 'country', 'price', 'points'], 'drob': ['description', 'province', 'country', 'price', 'points'], 'deberta': ['description', 'province', 'price', 'country', 'points']}}\n",
      "\n",
      "\n",
      "            #################\n",
      "            wine\n",
      "            #################\n",
      "            \n",
      "\n",
      "{'config': 'wine', 'tab_cols': ['points', 'price'], 'categorical_cols': [], 'text_cols': ['country', 'description', 'province'], 'label_names': ['Bordeaux-style Red Blend', 'Bordeaux-style White Blend', 'Cabernet Franc', 'Cabernet Sauvignon', 'Champagne Blend', 'Chardonnay', 'Gamay', 'Gewürztraminer', 'Grüner Veltliner', 'Malbec', 'Merlot', 'Nebbiolo', 'Pinot Grigio', 'Pinot Gris', 'Pinot Noir', 'Portuguese Red', 'Portuguese White', 'Red Blend', 'Rhône-style Red Blend', 'Riesling', 'Rosé', 'Sangiovese', 'Sauvignon Blanc', 'Shiraz', 'Sparkling Blend', 'Syrah', 'Tempranillo', 'Viognier', 'White Blend', 'Zinfandel'], 'label_col': 'variety', 'num_labels': 30, 'prob_type': 'single_label_classification', 'wandb_proj_name': 'Wine', 'all_text_dataset': 'james-burton/wine_reviews_all_text', 'ordinal_dataset': 'james-burton/wine_reviews_ordinal', 'tnt_reorder_cols': {'bert': ['description', 'province', 'country', 'price', 'points'], 'disbert': ['description', 'province', 'country', 'price', 'points'], 'drob': ['description', 'province', 'country', 'price', 'points'], 'deberta': ['description', 'province', 'country', 'price', 'points']}, 'base_reorder_cols': {'bert': ['description', 'province', 'country', 'price', 'points'], 'disbert': ['description', 'province', 'country', 'price', 'points'], 'drob': ['description', 'province', 'country', 'price', 'points'], 'deberta': ['description', 'province', 'price', 'country', 'points']}}\n",
      "\n"
     ]
    },
    {
     "name": "stderr",
     "output_type": "stream",
     "text": [
      "Special tokens have been added in the vocabulary, make sure the associated word embeddings are fine-tuned or trained.\n",
      "The sentencepiece tokenizer that you are converting to a fast tokenizer uses the byte fallback option which is not implemented in the fast tokenizers. In practice this means that the fast version of the tokenizer can produce unknown tokens whereas the sentencepiece version would have converted these unknown tokens into a sequence of byte tokens matching the original piece of text.\n",
      "Special tokens have been added in the vocabulary, make sure the associated word embeddings are fine-tuned or trained.\n"
     ]
    },
    {
     "name": "stdout",
     "output_type": "stream",
     "text": [
      "\n",
      "            #################\n",
      "            wine\n",
      "            #################\n",
      "            \n",
      "\n",
      "{'config': 'wine', 'tab_cols': ['points', 'price'], 'categorical_cols': [], 'text_cols': ['country', 'description', 'province'], 'label_names': ['Bordeaux-style Red Blend', 'Bordeaux-style White Blend', 'Cabernet Franc', 'Cabernet Sauvignon', 'Champagne Blend', 'Chardonnay', 'Gamay', 'Gewürztraminer', 'Grüner Veltliner', 'Malbec', 'Merlot', 'Nebbiolo', 'Pinot Grigio', 'Pinot Gris', 'Pinot Noir', 'Portuguese Red', 'Portuguese White', 'Red Blend', 'Rhône-style Red Blend', 'Riesling', 'Rosé', 'Sangiovese', 'Sauvignon Blanc', 'Shiraz', 'Sparkling Blend', 'Syrah', 'Tempranillo', 'Viognier', 'White Blend', 'Zinfandel'], 'label_col': 'variety', 'num_labels': 30, 'prob_type': 'single_label_classification', 'wandb_proj_name': 'Wine', 'all_text_dataset': 'james-burton/wine_reviews_all_text', 'ordinal_dataset': 'james-burton/wine_reviews_ordinal', 'tnt_reorder_cols': {'bert': ['description', 'province', 'country', 'price', 'points'], 'disbert': ['description', 'province', 'country', 'price', 'points'], 'drob': ['description', 'province', 'country', 'price', 'points'], 'deberta': ['description', 'province', 'country', 'price', 'points']}, 'base_reorder_cols': {'bert': ['description', 'province', 'country', 'price', 'points'], 'disbert': ['description', 'province', 'country', 'price', 'points'], 'drob': ['description', 'province', 'country', 'price', 'points'], 'deberta': ['description', 'province', 'price', 'country', 'points']}}\n",
      "\n",
      "\n",
      "            #################\n",
      "            wine\n",
      "            #################\n",
      "            \n",
      "\n",
      "{'config': 'imdb_genre', 'tab_cols': ['Year', 'Runtime (Minutes)', 'Rating', 'Votes', 'Revenue (Millions)', 'Metascore', 'Rank'], 'categorical_cols': [], 'text_cols': ['Description'], 'label_names': ['False', 'True'], 'label_col': 'Genre_is_Drama', 'num_labels': 2, 'prob_type': 'single_label_classification', 'wandb_proj_name': 'IMDB Genre', 'all_text_dataset': 'james-burton/imdb_genre_prediction_all_text', 'ordinal_dataset': 'james-burton/imdb_genre_prediction_ordinal', 'tnt_reorder_cols': {'bert': ['Description', 'Rank', 'Votes', 'Revenue (Millions)', 'Metascore', 'Runtime (Minutes)', 'Rating', 'Year'], 'disbert': ['Description', 'Votes', 'Rank', 'Revenue (Millions)', 'Runtime (Minutes)', 'Year', 'Metascore', 'Rating'], 'drob': ['Description', 'Year', 'Rank', 'Revenue (Millions)', 'Votes', 'Metascore', 'Runtime (Minutes)', 'Rating'], 'deberta': ['Description', 'Rank', 'Revenue (Millions)', 'Votes', 'Runtime (Minutes)', 'Metascore', 'Rating', 'Year']}, 'base_reorder_cols': {'bert': ['Description', 'Metascore', 'Revenue (Millions)', 'Rank', 'Rating', 'Votes', 'Runtime (Minutes)', 'Year'], 'disbert': ['Description', 'Metascore', 'Rank', 'Rating', 'Revenue (Millions)', 'Votes', 'Year', 'Runtime (Minutes)'], 'drob': ['Description', 'Revenue (Millions)', 'Metascore', 'Votes', 'Year', 'Rank', 'Runtime (Minutes)', 'Rating'], 'deberta': ['Description', 'Rating', 'Metascore', 'Rank', 'Revenue (Millions)', 'Year', 'Votes', 'Runtime (Minutes)']}}\n",
      "\n",
      "\n",
      "            #################\n",
      "            imdb_genre\n",
      "            #################\n",
      "            \n",
      "\n",
      "{'config': 'imdb_genre', 'tab_cols': ['Year', 'Runtime (Minutes)', 'Rating', 'Votes', 'Revenue (Millions)', 'Metascore', 'Rank'], 'categorical_cols': [], 'text_cols': ['Description'], 'label_names': ['False', 'True'], 'label_col': 'Genre_is_Drama', 'num_labels': 2, 'prob_type': 'single_label_classification', 'wandb_proj_name': 'IMDB Genre', 'all_text_dataset': 'james-burton/imdb_genre_prediction_all_text', 'ordinal_dataset': 'james-burton/imdb_genre_prediction_ordinal', 'tnt_reorder_cols': {'bert': ['Description', 'Rank', 'Votes', 'Revenue (Millions)', 'Metascore', 'Runtime (Minutes)', 'Rating', 'Year'], 'disbert': ['Description', 'Votes', 'Rank', 'Revenue (Millions)', 'Runtime (Minutes)', 'Year', 'Metascore', 'Rating'], 'drob': ['Description', 'Year', 'Rank', 'Revenue (Millions)', 'Votes', 'Metascore', 'Runtime (Minutes)', 'Rating'], 'deberta': ['Description', 'Rank', 'Revenue (Millions)', 'Votes', 'Runtime (Minutes)', 'Metascore', 'Rating', 'Year']}, 'base_reorder_cols': {'bert': ['Description', 'Metascore', 'Revenue (Millions)', 'Rank', 'Rating', 'Votes', 'Runtime (Minutes)', 'Year'], 'disbert': ['Description', 'Metascore', 'Rank', 'Rating', 'Revenue (Millions)', 'Votes', 'Year', 'Runtime (Minutes)'], 'drob': ['Description', 'Revenue (Millions)', 'Metascore', 'Votes', 'Year', 'Rank', 'Runtime (Minutes)', 'Rating'], 'deberta': ['Description', 'Rating', 'Metascore', 'Rank', 'Revenue (Millions)', 'Year', 'Votes', 'Runtime (Minutes)']}}\n",
      "\n",
      "\n",
      "            #################\n",
      "            imdb_genre\n",
      "            #################\n",
      "            \n",
      "\n",
      "{'config': 'imdb_genre', 'tab_cols': ['Year', 'Runtime (Minutes)', 'Rating', 'Votes', 'Revenue (Millions)', 'Metascore', 'Rank'], 'categorical_cols': [], 'text_cols': ['Description'], 'label_names': ['False', 'True'], 'label_col': 'Genre_is_Drama', 'num_labels': 2, 'prob_type': 'single_label_classification', 'wandb_proj_name': 'IMDB Genre', 'all_text_dataset': 'james-burton/imdb_genre_prediction_all_text', 'ordinal_dataset': 'james-burton/imdb_genre_prediction_ordinal', 'tnt_reorder_cols': {'bert': ['Description', 'Rank', 'Votes', 'Revenue (Millions)', 'Metascore', 'Runtime (Minutes)', 'Rating', 'Year'], 'disbert': ['Description', 'Votes', 'Rank', 'Revenue (Millions)', 'Runtime (Minutes)', 'Year', 'Metascore', 'Rating'], 'drob': ['Description', 'Year', 'Rank', 'Revenue (Millions)', 'Votes', 'Metascore', 'Runtime (Minutes)', 'Rating'], 'deberta': ['Description', 'Rank', 'Revenue (Millions)', 'Votes', 'Runtime (Minutes)', 'Metascore', 'Rating', 'Year']}, 'base_reorder_cols': {'bert': ['Description', 'Metascore', 'Revenue (Millions)', 'Rank', 'Rating', 'Votes', 'Runtime (Minutes)', 'Year'], 'disbert': ['Description', 'Metascore', 'Rank', 'Rating', 'Revenue (Millions)', 'Votes', 'Year', 'Runtime (Minutes)'], 'drob': ['Description', 'Revenue (Millions)', 'Metascore', 'Votes', 'Year', 'Rank', 'Runtime (Minutes)', 'Rating'], 'deberta': ['Description', 'Rating', 'Metascore', 'Rank', 'Revenue (Millions)', 'Year', 'Votes', 'Runtime (Minutes)']}}\n",
      "\n"
     ]
    },
    {
     "name": "stderr",
     "output_type": "stream",
     "text": [
      "Special tokens have been added in the vocabulary, make sure the associated word embeddings are fine-tuned or trained.\n",
      "The sentencepiece tokenizer that you are converting to a fast tokenizer uses the byte fallback option which is not implemented in the fast tokenizers. In practice this means that the fast version of the tokenizer can produce unknown tokens whereas the sentencepiece version would have converted these unknown tokens into a sequence of byte tokens matching the original piece of text.\n",
      "Special tokens have been added in the vocabulary, make sure the associated word embeddings are fine-tuned or trained.\n"
     ]
    },
    {
     "name": "stdout",
     "output_type": "stream",
     "text": [
      "\n",
      "            #################\n",
      "            imdb_genre\n",
      "            #################\n",
      "            \n",
      "\n",
      "{'config': 'imdb_genre', 'tab_cols': ['Year', 'Runtime (Minutes)', 'Rating', 'Votes', 'Revenue (Millions)', 'Metascore', 'Rank'], 'categorical_cols': [], 'text_cols': ['Description'], 'label_names': ['False', 'True'], 'label_col': 'Genre_is_Drama', 'num_labels': 2, 'prob_type': 'single_label_classification', 'wandb_proj_name': 'IMDB Genre', 'all_text_dataset': 'james-burton/imdb_genre_prediction_all_text', 'ordinal_dataset': 'james-burton/imdb_genre_prediction_ordinal', 'tnt_reorder_cols': {'bert': ['Description', 'Rank', 'Votes', 'Revenue (Millions)', 'Metascore', 'Runtime (Minutes)', 'Rating', 'Year'], 'disbert': ['Description', 'Votes', 'Rank', 'Revenue (Millions)', 'Runtime (Minutes)', 'Year', 'Metascore', 'Rating'], 'drob': ['Description', 'Year', 'Rank', 'Revenue (Millions)', 'Votes', 'Metascore', 'Runtime (Minutes)', 'Rating'], 'deberta': ['Description', 'Rank', 'Revenue (Millions)', 'Votes', 'Runtime (Minutes)', 'Metascore', 'Rating', 'Year']}, 'base_reorder_cols': {'bert': ['Description', 'Metascore', 'Revenue (Millions)', 'Rank', 'Rating', 'Votes', 'Runtime (Minutes)', 'Year'], 'disbert': ['Description', 'Metascore', 'Rank', 'Rating', 'Revenue (Millions)', 'Votes', 'Year', 'Runtime (Minutes)'], 'drob': ['Description', 'Revenue (Millions)', 'Metascore', 'Votes', 'Year', 'Rank', 'Runtime (Minutes)', 'Rating'], 'deberta': ['Description', 'Rating', 'Metascore', 'Rank', 'Revenue (Millions)', 'Year', 'Votes', 'Runtime (Minutes)']}}\n",
      "\n",
      "\n",
      "            #################\n",
      "            imdb_genre\n",
      "            #################\n",
      "            \n",
      "\n",
      "{'config': 'prod_sent', 'tab_cols': ['Product_Type'], 'categorical_cols': ['Product_Type'], 'text_cols': ['Product_Description'], 'label_names': ['0', '1', '2', '3'], 'label_col': 'Sentiment', 'num_labels': 4, 'prob_type': 'single_label_classification', 'wandb_proj_name': 'Product Sentiment', 'all_text_dataset': 'james-burton/product_sentiment_machine_hack_all_text', 'ordinal_dataset': 'james-burton/product_sentiment_machine_hack_ordinal', 'tnt_reorder_cols': {'bert': ['Product_Type', 'Product_Description'], 'disbert': ['Product_Type', 'Product_Description'], 'drob': ['Product_Type', 'Product_Description'], 'deberta': ['Product_Type', 'Product_Description']}, 'base_reorder_cols': {'bert': ['Product_Type', 'Product_Description'], 'disbert': ['Product_Type', 'Product_Description'], 'drob': ['Product_Description', 'Product_Type'], 'deberta': ['Product_Type', 'Product_Description']}}\n",
      "\n",
      "\n",
      "            #################\n",
      "            prod_sent\n",
      "            #################\n",
      "            \n",
      "\n",
      "{'config': 'prod_sent', 'tab_cols': ['Product_Type'], 'categorical_cols': ['Product_Type'], 'text_cols': ['Product_Description'], 'label_names': ['0', '1', '2', '3'], 'label_col': 'Sentiment', 'num_labels': 4, 'prob_type': 'single_label_classification', 'wandb_proj_name': 'Product Sentiment', 'all_text_dataset': 'james-burton/product_sentiment_machine_hack_all_text', 'ordinal_dataset': 'james-burton/product_sentiment_machine_hack_ordinal', 'tnt_reorder_cols': {'bert': ['Product_Type', 'Product_Description'], 'disbert': ['Product_Type', 'Product_Description'], 'drob': ['Product_Type', 'Product_Description'], 'deberta': ['Product_Type', 'Product_Description']}, 'base_reorder_cols': {'bert': ['Product_Type', 'Product_Description'], 'disbert': ['Product_Type', 'Product_Description'], 'drob': ['Product_Description', 'Product_Type'], 'deberta': ['Product_Type', 'Product_Description']}}\n",
      "\n",
      "\n",
      "            #################\n",
      "            prod_sent\n",
      "            #################\n",
      "            \n",
      "\n",
      "{'config': 'prod_sent', 'tab_cols': ['Product_Type'], 'categorical_cols': ['Product_Type'], 'text_cols': ['Product_Description'], 'label_names': ['0', '1', '2', '3'], 'label_col': 'Sentiment', 'num_labels': 4, 'prob_type': 'single_label_classification', 'wandb_proj_name': 'Product Sentiment', 'all_text_dataset': 'james-burton/product_sentiment_machine_hack_all_text', 'ordinal_dataset': 'james-burton/product_sentiment_machine_hack_ordinal', 'tnt_reorder_cols': {'bert': ['Product_Type', 'Product_Description'], 'disbert': ['Product_Type', 'Product_Description'], 'drob': ['Product_Type', 'Product_Description'], 'deberta': ['Product_Type', 'Product_Description']}, 'base_reorder_cols': {'bert': ['Product_Type', 'Product_Description'], 'disbert': ['Product_Type', 'Product_Description'], 'drob': ['Product_Description', 'Product_Type'], 'deberta': ['Product_Type', 'Product_Description']}}\n",
      "\n"
     ]
    },
    {
     "name": "stderr",
     "output_type": "stream",
     "text": [
      "Special tokens have been added in the vocabulary, make sure the associated word embeddings are fine-tuned or trained.\n",
      "The sentencepiece tokenizer that you are converting to a fast tokenizer uses the byte fallback option which is not implemented in the fast tokenizers. In practice this means that the fast version of the tokenizer can produce unknown tokens whereas the sentencepiece version would have converted these unknown tokens into a sequence of byte tokens matching the original piece of text.\n",
      "Special tokens have been added in the vocabulary, make sure the associated word embeddings are fine-tuned or trained.\n"
     ]
    },
    {
     "name": "stdout",
     "output_type": "stream",
     "text": [
      "\n",
      "            #################\n",
      "            prod_sent\n",
      "            #################\n",
      "            \n",
      "\n",
      "{'config': 'prod_sent', 'tab_cols': ['Product_Type'], 'categorical_cols': ['Product_Type'], 'text_cols': ['Product_Description'], 'label_names': ['0', '1', '2', '3'], 'label_col': 'Sentiment', 'num_labels': 4, 'prob_type': 'single_label_classification', 'wandb_proj_name': 'Product Sentiment', 'all_text_dataset': 'james-burton/product_sentiment_machine_hack_all_text', 'ordinal_dataset': 'james-burton/product_sentiment_machine_hack_ordinal', 'tnt_reorder_cols': {'bert': ['Product_Type', 'Product_Description'], 'disbert': ['Product_Type', 'Product_Description'], 'drob': ['Product_Type', 'Product_Description'], 'deberta': ['Product_Type', 'Product_Description']}, 'base_reorder_cols': {'bert': ['Product_Type', 'Product_Description'], 'disbert': ['Product_Type', 'Product_Description'], 'drob': ['Product_Description', 'Product_Type'], 'deberta': ['Product_Type', 'Product_Description']}}\n",
      "\n",
      "\n",
      "            #################\n",
      "            prod_sent\n",
      "            #################\n",
      "            \n",
      "\n",
      "{'config': 'salary', 'tab_cols': ['job_type'], 'categorical_cols': ['job_type'], 'text_cols': ['experience', 'job_description', 'job_desig', 'key_skills', 'location'], 'label_names': ['6to10', '10to15', '0to3', '15to25', '3to6', '25to50'], 'label_col': 'salary', 'num_labels': 6, 'prob_type': 'single_label_classification', 'wandb_proj_name': 'Salary', 'all_text_dataset': 'james-burton/data_scientist_salary_all_text', 'ordinal_dataset': 'james-burton/data_scientist_salary_ordinal', 'tnt_reorder_cols': {'bert': ['experience', 'job_desig', 'key_skills', 'job_description', 'location', 'job_type'], 'disbert': ['experience', 'job_description', 'location', 'job_desig', 'key_skills', 'job_type'], 'drob': ['experience', 'job_desig', 'key_skills', 'job_description', 'job_type', 'location'], 'deberta': ['experience', 'key_skills', 'job_desig', 'job_description', 'location', 'job_type']}, 'base_reorder_cols': {'bert': ['experience', 'job_description', 'job_desig', 'key_skills', 'location', 'job_type'], 'disbert': ['experience', 'job_description', 'key_skills', 'job_desig', 'location', 'job_type'], 'drob': ['experience', 'job_desig', 'key_skills', 'job_description', 'job_type', 'location'], 'deberta': ['experience', 'job_description', 'key_skills', 'job_desig', 'location', 'job_type']}}\n",
      "\n",
      "\n",
      "            #################\n",
      "            salary\n",
      "            #################\n",
      "            \n",
      "\n",
      "{'config': 'salary', 'tab_cols': ['job_type'], 'categorical_cols': ['job_type'], 'text_cols': ['experience', 'job_description', 'job_desig', 'key_skills', 'location'], 'label_names': ['6to10', '10to15', '0to3', '15to25', '3to6', '25to50'], 'label_col': 'salary', 'num_labels': 6, 'prob_type': 'single_label_classification', 'wandb_proj_name': 'Salary', 'all_text_dataset': 'james-burton/data_scientist_salary_all_text', 'ordinal_dataset': 'james-burton/data_scientist_salary_ordinal', 'tnt_reorder_cols': {'bert': ['experience', 'job_desig', 'key_skills', 'job_description', 'location', 'job_type'], 'disbert': ['experience', 'job_description', 'location', 'job_desig', 'key_skills', 'job_type'], 'drob': ['experience', 'job_desig', 'key_skills', 'job_description', 'job_type', 'location'], 'deberta': ['experience', 'key_skills', 'job_desig', 'job_description', 'location', 'job_type']}, 'base_reorder_cols': {'bert': ['experience', 'job_description', 'job_desig', 'key_skills', 'location', 'job_type'], 'disbert': ['experience', 'job_description', 'key_skills', 'job_desig', 'location', 'job_type'], 'drob': ['experience', 'job_desig', 'key_skills', 'job_description', 'job_type', 'location'], 'deberta': ['experience', 'job_description', 'key_skills', 'job_desig', 'location', 'job_type']}}\n",
      "\n",
      "\n",
      "            #################\n",
      "            salary\n",
      "            #################\n",
      "            \n",
      "\n",
      "{'config': 'salary', 'tab_cols': ['job_type'], 'categorical_cols': ['job_type'], 'text_cols': ['experience', 'job_description', 'job_desig', 'key_skills', 'location'], 'label_names': ['6to10', '10to15', '0to3', '15to25', '3to6', '25to50'], 'label_col': 'salary', 'num_labels': 6, 'prob_type': 'single_label_classification', 'wandb_proj_name': 'Salary', 'all_text_dataset': 'james-burton/data_scientist_salary_all_text', 'ordinal_dataset': 'james-burton/data_scientist_salary_ordinal', 'tnt_reorder_cols': {'bert': ['experience', 'job_desig', 'key_skills', 'job_description', 'location', 'job_type'], 'disbert': ['experience', 'job_description', 'location', 'job_desig', 'key_skills', 'job_type'], 'drob': ['experience', 'job_desig', 'key_skills', 'job_description', 'job_type', 'location'], 'deberta': ['experience', 'key_skills', 'job_desig', 'job_description', 'location', 'job_type']}, 'base_reorder_cols': {'bert': ['experience', 'job_description', 'job_desig', 'key_skills', 'location', 'job_type'], 'disbert': ['experience', 'job_description', 'key_skills', 'job_desig', 'location', 'job_type'], 'drob': ['experience', 'job_desig', 'key_skills', 'job_description', 'job_type', 'location'], 'deberta': ['experience', 'job_description', 'key_skills', 'job_desig', 'location', 'job_type']}}\n",
      "\n"
     ]
    },
    {
     "name": "stderr",
     "output_type": "stream",
     "text": [
      "Special tokens have been added in the vocabulary, make sure the associated word embeddings are fine-tuned or trained.\n",
      "The sentencepiece tokenizer that you are converting to a fast tokenizer uses the byte fallback option which is not implemented in the fast tokenizers. In practice this means that the fast version of the tokenizer can produce unknown tokens whereas the sentencepiece version would have converted these unknown tokens into a sequence of byte tokens matching the original piece of text.\n",
      "Special tokens have been added in the vocabulary, make sure the associated word embeddings are fine-tuned or trained.\n"
     ]
    },
    {
     "name": "stdout",
     "output_type": "stream",
     "text": [
      "\n",
      "            #################\n",
      "            salary\n",
      "            #################\n",
      "            \n",
      "\n",
      "{'config': 'salary', 'tab_cols': ['job_type'], 'categorical_cols': ['job_type'], 'text_cols': ['experience', 'job_description', 'job_desig', 'key_skills', 'location'], 'label_names': ['6to10', '10to15', '0to3', '15to25', '3to6', '25to50'], 'label_col': 'salary', 'num_labels': 6, 'prob_type': 'single_label_classification', 'wandb_proj_name': 'Salary', 'all_text_dataset': 'james-burton/data_scientist_salary_all_text', 'ordinal_dataset': 'james-burton/data_scientist_salary_ordinal', 'tnt_reorder_cols': {'bert': ['experience', 'job_desig', 'key_skills', 'job_description', 'location', 'job_type'], 'disbert': ['experience', 'job_description', 'location', 'job_desig', 'key_skills', 'job_type'], 'drob': ['experience', 'job_desig', 'key_skills', 'job_description', 'job_type', 'location'], 'deberta': ['experience', 'key_skills', 'job_desig', 'job_description', 'location', 'job_type']}, 'base_reorder_cols': {'bert': ['experience', 'job_description', 'job_desig', 'key_skills', 'location', 'job_type'], 'disbert': ['experience', 'job_description', 'key_skills', 'job_desig', 'location', 'job_type'], 'drob': ['experience', 'job_desig', 'key_skills', 'job_description', 'job_type', 'location'], 'deberta': ['experience', 'job_description', 'key_skills', 'job_desig', 'location', 'job_type']}}\n",
      "\n",
      "\n",
      "            #################\n",
      "            salary\n",
      "            #################\n",
      "            \n",
      "\n",
      "{'config': 'channel', 'tab_cols': [' n_tokens_content', ' n_unique_tokens', ' n_non_stop_words', ' n_non_stop_unique_tokens', ' num_hrefs', ' num_self_hrefs', ' num_imgs', ' num_videos', ' average_token_length', ' num_keywords', ' global_subjectivity', ' global_sentiment_polarity', ' global_rate_positive_words', ' global_rate_negative_words', ' rate_positive_words', ' rate_negative_words'], 'categorical_cols': [], 'text_cols': ['article_title'], 'label_names': [' data_channel_is_tech', ' data_channel_is_entertainment', ' data_channel_is_lifestyle', ' data_channel_is_bus', ' data_channel_is_world', ' data_channel_is_socmed'], 'label_col': 'channel', 'num_labels': 6, 'prob_type': 'single_label_classification', 'wandb_proj_name': 'News Channel', 'all_text_dataset': 'james-burton/news_channel_all_text', 'ordinal_dataset': 'james-burton/news_channel_ordinal', 'tnt_reorder_cols': {'bert': ['article_title', ' global_rate_negative_words', ' global_subjectivity', ' rate_negative_words', ' global_rate_positive_words', ' n_unique_tokens', ' rate_positive_words', ' n_non_stop_unique_tokens', ' average_token_length', ' global_sentiment_polarity', ' num_keywords', ' n_non_stop_words', ' num_videos', ' num_imgs', ' n_tokens_content', ' num_self_hrefs', ' num_hrefs'], 'disbert': ['article_title', ' rate_positive_words', ' rate_negative_words', ' global_sentiment_polarity', ' global_rate_negative_words', ' global_rate_positive_words', ' global_subjectivity', ' n_unique_tokens', ' average_token_length', ' n_non_stop_unique_tokens', ' n_non_stop_words', ' n_tokens_content', ' num_hrefs', ' num_self_hrefs', ' num_imgs', ' num_videos', ' num_keywords'], 'drob': ['article_title', ' global_sentiment_polarity', ' rate_negative_words', ' rate_positive_words', ' global_rate_positive_words', ' average_token_length', ' n_tokens_content', ' global_subjectivity', ' global_rate_negative_words', ' n_non_stop_unique_tokens', ' n_unique_tokens', ' n_non_stop_words', ' num_hrefs', ' num_self_hrefs', ' num_imgs', ' num_keywords', ' num_videos'], 'deberta': ['article_title', ' global_sentiment_polarity', ' rate_negative_words', ' rate_positive_words', ' global_rate_negative_words', ' global_rate_positive_words', ' global_subjectivity', ' average_token_length', ' n_non_stop_unique_tokens', ' n_unique_tokens', ' n_non_stop_words', ' n_tokens_content', ' num_videos', ' num_self_hrefs', ' num_imgs', ' num_hrefs', ' num_keywords']}, 'base_reorder_cols': {'bert': [' n_non_stop_words', ' n_unique_tokens', ' n_non_stop_unique_tokens', ' global_rate_positive_words', ' global_rate_negative_words', ' global_sentiment_polarity', ' global_subjectivity', ' rate_positive_words', ' average_token_length', ' rate_negative_words', ' n_tokens_content', 'article_title', ' num_hrefs', ' num_self_hrefs', ' num_videos', ' num_imgs', ' num_keywords'], 'disbert': ['article_title', ' global_rate_positive_words', ' n_non_stop_unique_tokens', ' global_rate_negative_words', ' rate_negative_words', ' rate_positive_words', ' n_non_stop_words', ' num_hrefs', ' global_sentiment_polarity', ' n_unique_tokens', ' num_self_hrefs', ' global_subjectivity', ' average_token_length', ' num_imgs', ' num_videos', ' n_tokens_content', ' num_keywords'], 'drob': ['article_title', ' global_sentiment_polarity', ' n_non_stop_words', ' rate_negative_words', ' global_rate_positive_words', ' n_unique_tokens', ' rate_positive_words', ' average_token_length', ' n_non_stop_unique_tokens', ' global_subjectivity', ' global_rate_negative_words', ' n_tokens_content', ' num_videos', ' num_imgs', ' num_keywords', ' num_hrefs', ' num_self_hrefs'], 'deberta': ['article_title', ' global_sentiment_polarity', ' rate_negative_words', ' n_unique_tokens', ' global_rate_negative_words', ' global_rate_positive_words', ' average_token_length', ' n_non_stop_unique_tokens', ' global_subjectivity', ' rate_positive_words', ' n_non_stop_words', ' n_tokens_content', ' num_hrefs', ' num_self_hrefs', ' num_imgs', ' num_keywords', ' num_videos']}}\n",
      "\n",
      "\n",
      "            #################\n",
      "            channel\n",
      "            #################\n",
      "            \n",
      "\n",
      "{'config': 'channel', 'tab_cols': [' n_tokens_content', ' n_unique_tokens', ' n_non_stop_words', ' n_non_stop_unique_tokens', ' num_hrefs', ' num_self_hrefs', ' num_imgs', ' num_videos', ' average_token_length', ' num_keywords', ' global_subjectivity', ' global_sentiment_polarity', ' global_rate_positive_words', ' global_rate_negative_words', ' rate_positive_words', ' rate_negative_words'], 'categorical_cols': [], 'text_cols': ['article_title'], 'label_names': [' data_channel_is_tech', ' data_channel_is_entertainment', ' data_channel_is_lifestyle', ' data_channel_is_bus', ' data_channel_is_world', ' data_channel_is_socmed'], 'label_col': 'channel', 'num_labels': 6, 'prob_type': 'single_label_classification', 'wandb_proj_name': 'News Channel', 'all_text_dataset': 'james-burton/news_channel_all_text', 'ordinal_dataset': 'james-burton/news_channel_ordinal', 'tnt_reorder_cols': {'bert': ['article_title', ' global_rate_negative_words', ' global_subjectivity', ' rate_negative_words', ' global_rate_positive_words', ' n_unique_tokens', ' rate_positive_words', ' n_non_stop_unique_tokens', ' average_token_length', ' global_sentiment_polarity', ' num_keywords', ' n_non_stop_words', ' num_videos', ' num_imgs', ' n_tokens_content', ' num_self_hrefs', ' num_hrefs'], 'disbert': ['article_title', ' rate_positive_words', ' rate_negative_words', ' global_sentiment_polarity', ' global_rate_negative_words', ' global_rate_positive_words', ' global_subjectivity', ' n_unique_tokens', ' average_token_length', ' n_non_stop_unique_tokens', ' n_non_stop_words', ' n_tokens_content', ' num_hrefs', ' num_self_hrefs', ' num_imgs', ' num_videos', ' num_keywords'], 'drob': ['article_title', ' global_sentiment_polarity', ' rate_negative_words', ' rate_positive_words', ' global_rate_positive_words', ' average_token_length', ' n_tokens_content', ' global_subjectivity', ' global_rate_negative_words', ' n_non_stop_unique_tokens', ' n_unique_tokens', ' n_non_stop_words', ' num_hrefs', ' num_self_hrefs', ' num_imgs', ' num_keywords', ' num_videos'], 'deberta': ['article_title', ' global_sentiment_polarity', ' rate_negative_words', ' rate_positive_words', ' global_rate_negative_words', ' global_rate_positive_words', ' global_subjectivity', ' average_token_length', ' n_non_stop_unique_tokens', ' n_unique_tokens', ' n_non_stop_words', ' n_tokens_content', ' num_videos', ' num_self_hrefs', ' num_imgs', ' num_hrefs', ' num_keywords']}, 'base_reorder_cols': {'bert': [' n_non_stop_words', ' n_unique_tokens', ' n_non_stop_unique_tokens', ' global_rate_positive_words', ' global_rate_negative_words', ' global_sentiment_polarity', ' global_subjectivity', ' rate_positive_words', ' average_token_length', ' rate_negative_words', ' n_tokens_content', 'article_title', ' num_hrefs', ' num_self_hrefs', ' num_videos', ' num_imgs', ' num_keywords'], 'disbert': ['article_title', ' global_rate_positive_words', ' n_non_stop_unique_tokens', ' global_rate_negative_words', ' rate_negative_words', ' rate_positive_words', ' n_non_stop_words', ' num_hrefs', ' global_sentiment_polarity', ' n_unique_tokens', ' num_self_hrefs', ' global_subjectivity', ' average_token_length', ' num_imgs', ' num_videos', ' n_tokens_content', ' num_keywords'], 'drob': ['article_title', ' global_sentiment_polarity', ' n_non_stop_words', ' rate_negative_words', ' global_rate_positive_words', ' n_unique_tokens', ' rate_positive_words', ' average_token_length', ' n_non_stop_unique_tokens', ' global_subjectivity', ' global_rate_negative_words', ' n_tokens_content', ' num_videos', ' num_imgs', ' num_keywords', ' num_hrefs', ' num_self_hrefs'], 'deberta': ['article_title', ' global_sentiment_polarity', ' rate_negative_words', ' n_unique_tokens', ' global_rate_negative_words', ' global_rate_positive_words', ' average_token_length', ' n_non_stop_unique_tokens', ' global_subjectivity', ' rate_positive_words', ' n_non_stop_words', ' n_tokens_content', ' num_hrefs', ' num_self_hrefs', ' num_imgs', ' num_keywords', ' num_videos']}}\n",
      "\n",
      "\n",
      "            #################\n",
      "            channel\n",
      "            #################\n",
      "            \n",
      "\n",
      "{'config': 'channel', 'tab_cols': [' n_tokens_content', ' n_unique_tokens', ' n_non_stop_words', ' n_non_stop_unique_tokens', ' num_hrefs', ' num_self_hrefs', ' num_imgs', ' num_videos', ' average_token_length', ' num_keywords', ' global_subjectivity', ' global_sentiment_polarity', ' global_rate_positive_words', ' global_rate_negative_words', ' rate_positive_words', ' rate_negative_words'], 'categorical_cols': [], 'text_cols': ['article_title'], 'label_names': [' data_channel_is_tech', ' data_channel_is_entertainment', ' data_channel_is_lifestyle', ' data_channel_is_bus', ' data_channel_is_world', ' data_channel_is_socmed'], 'label_col': 'channel', 'num_labels': 6, 'prob_type': 'single_label_classification', 'wandb_proj_name': 'News Channel', 'all_text_dataset': 'james-burton/news_channel_all_text', 'ordinal_dataset': 'james-burton/news_channel_ordinal', 'tnt_reorder_cols': {'bert': ['article_title', ' global_rate_negative_words', ' global_subjectivity', ' rate_negative_words', ' global_rate_positive_words', ' n_unique_tokens', ' rate_positive_words', ' n_non_stop_unique_tokens', ' average_token_length', ' global_sentiment_polarity', ' num_keywords', ' n_non_stop_words', ' num_videos', ' num_imgs', ' n_tokens_content', ' num_self_hrefs', ' num_hrefs'], 'disbert': ['article_title', ' rate_positive_words', ' rate_negative_words', ' global_sentiment_polarity', ' global_rate_negative_words', ' global_rate_positive_words', ' global_subjectivity', ' n_unique_tokens', ' average_token_length', ' n_non_stop_unique_tokens', ' n_non_stop_words', ' n_tokens_content', ' num_hrefs', ' num_self_hrefs', ' num_imgs', ' num_videos', ' num_keywords'], 'drob': ['article_title', ' global_sentiment_polarity', ' rate_negative_words', ' rate_positive_words', ' global_rate_positive_words', ' average_token_length', ' n_tokens_content', ' global_subjectivity', ' global_rate_negative_words', ' n_non_stop_unique_tokens', ' n_unique_tokens', ' n_non_stop_words', ' num_hrefs', ' num_self_hrefs', ' num_imgs', ' num_keywords', ' num_videos'], 'deberta': ['article_title', ' global_sentiment_polarity', ' rate_negative_words', ' rate_positive_words', ' global_rate_negative_words', ' global_rate_positive_words', ' global_subjectivity', ' average_token_length', ' n_non_stop_unique_tokens', ' n_unique_tokens', ' n_non_stop_words', ' n_tokens_content', ' num_videos', ' num_self_hrefs', ' num_imgs', ' num_hrefs', ' num_keywords']}, 'base_reorder_cols': {'bert': [' n_non_stop_words', ' n_unique_tokens', ' n_non_stop_unique_tokens', ' global_rate_positive_words', ' global_rate_negative_words', ' global_sentiment_polarity', ' global_subjectivity', ' rate_positive_words', ' average_token_length', ' rate_negative_words', ' n_tokens_content', 'article_title', ' num_hrefs', ' num_self_hrefs', ' num_videos', ' num_imgs', ' num_keywords'], 'disbert': ['article_title', ' global_rate_positive_words', ' n_non_stop_unique_tokens', ' global_rate_negative_words', ' rate_negative_words', ' rate_positive_words', ' n_non_stop_words', ' num_hrefs', ' global_sentiment_polarity', ' n_unique_tokens', ' num_self_hrefs', ' global_subjectivity', ' average_token_length', ' num_imgs', ' num_videos', ' n_tokens_content', ' num_keywords'], 'drob': ['article_title', ' global_sentiment_polarity', ' n_non_stop_words', ' rate_negative_words', ' global_rate_positive_words', ' n_unique_tokens', ' rate_positive_words', ' average_token_length', ' n_non_stop_unique_tokens', ' global_subjectivity', ' global_rate_negative_words', ' n_tokens_content', ' num_videos', ' num_imgs', ' num_keywords', ' num_hrefs', ' num_self_hrefs'], 'deberta': ['article_title', ' global_sentiment_polarity', ' rate_negative_words', ' n_unique_tokens', ' global_rate_negative_words', ' global_rate_positive_words', ' average_token_length', ' n_non_stop_unique_tokens', ' global_subjectivity', ' rate_positive_words', ' n_non_stop_words', ' n_tokens_content', ' num_hrefs', ' num_self_hrefs', ' num_imgs', ' num_keywords', ' num_videos']}}\n",
      "\n"
     ]
    },
    {
     "name": "stderr",
     "output_type": "stream",
     "text": [
      "Special tokens have been added in the vocabulary, make sure the associated word embeddings are fine-tuned or trained.\n",
      "The sentencepiece tokenizer that you are converting to a fast tokenizer uses the byte fallback option which is not implemented in the fast tokenizers. In practice this means that the fast version of the tokenizer can produce unknown tokens whereas the sentencepiece version would have converted these unknown tokens into a sequence of byte tokens matching the original piece of text.\n",
      "Special tokens have been added in the vocabulary, make sure the associated word embeddings are fine-tuned or trained.\n"
     ]
    },
    {
     "name": "stdout",
     "output_type": "stream",
     "text": [
      "\n",
      "            #################\n",
      "            channel\n",
      "            #################\n",
      "            \n",
      "\n",
      "{'config': 'channel', 'tab_cols': [' n_tokens_content', ' n_unique_tokens', ' n_non_stop_words', ' n_non_stop_unique_tokens', ' num_hrefs', ' num_self_hrefs', ' num_imgs', ' num_videos', ' average_token_length', ' num_keywords', ' global_subjectivity', ' global_sentiment_polarity', ' global_rate_positive_words', ' global_rate_negative_words', ' rate_positive_words', ' rate_negative_words'], 'categorical_cols': [], 'text_cols': ['article_title'], 'label_names': [' data_channel_is_tech', ' data_channel_is_entertainment', ' data_channel_is_lifestyle', ' data_channel_is_bus', ' data_channel_is_world', ' data_channel_is_socmed'], 'label_col': 'channel', 'num_labels': 6, 'prob_type': 'single_label_classification', 'wandb_proj_name': 'News Channel', 'all_text_dataset': 'james-burton/news_channel_all_text', 'ordinal_dataset': 'james-burton/news_channel_ordinal', 'tnt_reorder_cols': {'bert': ['article_title', ' global_rate_negative_words', ' global_subjectivity', ' rate_negative_words', ' global_rate_positive_words', ' n_unique_tokens', ' rate_positive_words', ' n_non_stop_unique_tokens', ' average_token_length', ' global_sentiment_polarity', ' num_keywords', ' n_non_stop_words', ' num_videos', ' num_imgs', ' n_tokens_content', ' num_self_hrefs', ' num_hrefs'], 'disbert': ['article_title', ' rate_positive_words', ' rate_negative_words', ' global_sentiment_polarity', ' global_rate_negative_words', ' global_rate_positive_words', ' global_subjectivity', ' n_unique_tokens', ' average_token_length', ' n_non_stop_unique_tokens', ' n_non_stop_words', ' n_tokens_content', ' num_hrefs', ' num_self_hrefs', ' num_imgs', ' num_videos', ' num_keywords'], 'drob': ['article_title', ' global_sentiment_polarity', ' rate_negative_words', ' rate_positive_words', ' global_rate_positive_words', ' average_token_length', ' n_tokens_content', ' global_subjectivity', ' global_rate_negative_words', ' n_non_stop_unique_tokens', ' n_unique_tokens', ' n_non_stop_words', ' num_hrefs', ' num_self_hrefs', ' num_imgs', ' num_keywords', ' num_videos'], 'deberta': ['article_title', ' global_sentiment_polarity', ' rate_negative_words', ' rate_positive_words', ' global_rate_negative_words', ' global_rate_positive_words', ' global_subjectivity', ' average_token_length', ' n_non_stop_unique_tokens', ' n_unique_tokens', ' n_non_stop_words', ' n_tokens_content', ' num_videos', ' num_self_hrefs', ' num_imgs', ' num_hrefs', ' num_keywords']}, 'base_reorder_cols': {'bert': [' n_non_stop_words', ' n_unique_tokens', ' n_non_stop_unique_tokens', ' global_rate_positive_words', ' global_rate_negative_words', ' global_sentiment_polarity', ' global_subjectivity', ' rate_positive_words', ' average_token_length', ' rate_negative_words', ' n_tokens_content', 'article_title', ' num_hrefs', ' num_self_hrefs', ' num_videos', ' num_imgs', ' num_keywords'], 'disbert': ['article_title', ' global_rate_positive_words', ' n_non_stop_unique_tokens', ' global_rate_negative_words', ' rate_negative_words', ' rate_positive_words', ' n_non_stop_words', ' num_hrefs', ' global_sentiment_polarity', ' n_unique_tokens', ' num_self_hrefs', ' global_subjectivity', ' average_token_length', ' num_imgs', ' num_videos', ' n_tokens_content', ' num_keywords'], 'drob': ['article_title', ' global_sentiment_polarity', ' n_non_stop_words', ' rate_negative_words', ' global_rate_positive_words', ' n_unique_tokens', ' rate_positive_words', ' average_token_length', ' n_non_stop_unique_tokens', ' global_subjectivity', ' global_rate_negative_words', ' n_tokens_content', ' num_videos', ' num_imgs', ' num_keywords', ' num_hrefs', ' num_self_hrefs'], 'deberta': ['article_title', ' global_sentiment_polarity', ' rate_negative_words', ' n_unique_tokens', ' global_rate_negative_words', ' global_rate_positive_words', ' average_token_length', ' n_non_stop_unique_tokens', ' global_subjectivity', ' rate_positive_words', ' n_non_stop_words', ' n_tokens_content', ' num_hrefs', ' num_self_hrefs', ' num_imgs', ' num_keywords', ' num_videos']}}\n",
      "\n",
      "\n",
      "            #################\n",
      "            channel\n",
      "            #################\n",
      "            \n",
      "\n",
      "{'config': 'airbnb', 'tab_cols': ['accommodates', 'availability_30', 'availability_365', 'availability_60', 'availability_90', 'bathrooms', 'bed_type', 'bedrooms', 'beds', 'cancellation_policy', 'city', 'cleaning_fee', 'extra_people', 'guests_included', 'host_identity_verified', 'host_is_superhost', 'host_response_time', 'instant_bookable', 'is_location_exact', 'latitude', 'license', 'longitude', 'maximum_nights', 'minimum_nights', 'number_of_reviews', 'review_scores_accuracy', 'review_scores_checkin', 'review_scores_cleanliness', 'review_scores_communication', 'review_scores_location', 'review_scores_rating', 'review_scores_value', 'reviews_per_month', 'room_type', 'security_deposit'], 'categorical_cols': ['bed_type', 'cancellation_policy', 'city', 'host_identity_verified', 'host_is_superhost', 'host_response_time', 'instant_bookable', 'is_location_exact', 'license', 'room_type'], 'text_cols': ['amenities', 'host_since', 'neighborhood', 'property_type', 'summary'], 'label_names': [4, 3, 1, 9, 2, 7, 0, 6, 5, 8], 'label_col': 'price_label', 'num_labels': 10, 'prob_type': 'single_label_classification', 'wandb_proj_name': 'Airbnb', 'all_text_dataset': 'james-burton/melbourne_airbnb_all_text', 'ordinal_dataset': 'james-burton/melbourne_airbnb_ordinal', 'tnt_reorder_cols': {'bert': ['room_type', 'summary', 'bedrooms', 'amenities', 'city', 'accommodates', 'beds', 'property_type', 'neighborhood', 'bathrooms', 'latitude', 'security_deposit', 'cleaning_fee', 'host_since', 'availability_90', 'availability_60', 'availability_365', 'availability_30', 'review_scores_location', 'review_scores_communication', 'review_scores_checkin', 'review_scores_cleanliness', 'longitude', 'review_scores_value', 'review_scores_rating', 'review_scores_accuracy', 'cancellation_policy', 'extra_people', 'host_identity_verified', 'license', 'guests_included', 'reviews_per_month', 'number_of_reviews', 'host_is_superhost', 'host_response_time', 'maximum_nights', 'minimum_nights', 'instant_bookable', 'bed_type', 'is_location_exact'], 'disbert': ['room_type', 'summary', 'amenities', 'bedrooms', 'beds', 'accommodates', 'city', 'bathrooms', 'neighborhood', 'cleaning_fee', 'latitude', 'security_deposit', 'property_type', 'availability_365', 'availability_90', 'availability_60', 'availability_30', 'host_since', 'cancellation_policy', 'longitude', 'review_scores_location', 'review_scores_value', 'review_scores_rating', 'review_scores_accuracy', 'review_scores_cleanliness', 'review_scores_checkin', 'review_scores_communication', 'license', 'host_identity_verified', 'host_response_time', 'extra_people', 'guests_included', 'reviews_per_month', 'number_of_reviews', 'host_is_superhost', 'maximum_nights', 'is_location_exact', 'minimum_nights', 'instant_bookable', 'bed_type'], 'drob': ['room_type', 'amenities', 'summary', 'bedrooms', 'beds', 'accommodates', 'bathrooms', 'city', 'neighborhood', 'availability_90', 'availability_60', 'availability_30', 'availability_365', 'longitude', 'extra_people', 'cleaning_fee', 'guests_included', 'host_response_time', 'security_deposit', 'property_type', 'host_since', 'reviews_per_month', 'number_of_reviews', 'cancellation_policy', 'host_is_superhost', 'latitude', 'license', 'review_scores_location', 'review_scores_cleanliness', 'review_scores_value', 'review_scores_rating', 'review_scores_accuracy', 'review_scores_communication', 'review_scores_checkin', 'host_identity_verified', 'maximum_nights', 'minimum_nights', 'is_location_exact', 'instant_bookable', 'bed_type'], 'deberta': ['room_type', 'summary', 'amenities', 'bedrooms', 'accommodates', 'beds', 'host_since', 'property_type', 'bathrooms', 'neighborhood', 'city', 'security_deposit', 'cleaning_fee', 'availability_365', 'reviews_per_month', 'number_of_reviews', 'availability_90', 'availability_60', 'availability_30', 'host_is_superhost', 'longitude', 'latitude', 'host_response_time', 'license', 'extra_people', 'review_scores_location', 'host_identity_verified', 'guests_included', 'review_scores_value', 'review_scores_rating', 'review_scores_accuracy', 'review_scores_cleanliness', 'review_scores_communication', 'review_scores_checkin', 'cancellation_policy', 'is_location_exact', 'maximum_nights', 'minimum_nights', 'instant_bookable', 'bed_type']}, 'base_reorder_cols': {'bert': ['summary', 'amenities', 'room_type', 'security_deposit', 'bedrooms', 'city', 'bed_type', 'reviews_per_month', 'accommodates', 'cancellation_policy', 'bathrooms', 'cleaning_fee', 'beds', 'host_since', 'neighborhood', 'latitude', 'longitude', 'host_response_time', 'property_type', 'availability_60', 'availability_90', 'review_scores_rating', 'review_scores_location', 'guests_included', 'host_identity_verified', 'review_scores_communication', 'review_scores_value', 'host_is_superhost', 'review_scores_checkin', 'review_scores_cleanliness', 'review_scores_accuracy', 'availability_365', 'extra_people', 'availability_30', 'instant_bookable', 'maximum_nights', 'is_location_exact', 'number_of_reviews', 'minimum_nights', 'license'], 'disbert': ['room_type', 'amenities', 'summary', 'bedrooms', 'beds', 'accommodates', 'reviews_per_month', 'city', 'bed_type', 'bathrooms', 'security_deposit', 'cancellation_policy', 'cleaning_fee', 'latitude', 'longitude', 'host_since', 'neighborhood', 'availability_90', 'availability_60', 'availability_365', 'review_scores_value', 'property_type', 'availability_30', 'review_scores_rating', 'review_scores_communication', 'review_scores_location', 'host_response_time', 'review_scores_cleanliness', 'review_scores_checkin', 'review_scores_accuracy', 'maximum_nights', 'extra_people', 'license', 'guests_included', 'host_identity_verified', 'minimum_nights', 'number_of_reviews', 'host_is_superhost', 'instant_bookable', 'is_location_exact'], 'drob': ['room_type', 'amenities', 'summary', 'bedrooms', 'latitude', 'bathrooms', 'beds', 'bed_type', 'reviews_per_month', 'availability_90', 'accommodates', 'host_since', 'is_location_exact', 'cancellation_policy', 'longitude', 'city', 'security_deposit', 'cleaning_fee', 'host_response_time', 'review_scores_accuracy', 'review_scores_value', 'neighborhood', 'review_scores_rating', 'review_scores_checkin', 'review_scores_cleanliness', 'review_scores_communication', 'property_type', 'availability_365', 'guests_included', 'availability_30', 'review_scores_location', 'availability_60', 'maximum_nights', 'number_of_reviews', 'minimum_nights', 'instant_bookable', 'extra_people', 'license', 'host_is_superhost', 'host_identity_verified'], 'deberta': ['room_type', 'summary', 'amenities', 'bathrooms', 'reviews_per_month', 'beds', 'bedrooms', 'bed_type', 'host_since', 'accommodates', 'security_deposit', 'latitude', 'availability_365', 'longitude', 'host_response_time', 'property_type', 'cancellation_policy', 'cleaning_fee', 'review_scores_value', 'neighborhood', 'city', 'availability_60', 'availability_90', 'availability_30', 'review_scores_checkin', 'review_scores_cleanliness', 'review_scores_communication', 'review_scores_location', 'review_scores_accuracy', 'review_scores_rating', 'license', 'instant_bookable', 'host_is_superhost', 'maximum_nights', 'guests_included', 'is_location_exact', 'host_identity_verified', 'minimum_nights', 'number_of_reviews', 'extra_people']}}\n",
      "\n",
      "\n",
      "            #################\n",
      "            airbnb\n",
      "            #################\n",
      "            \n",
      "\n",
      "{'config': 'airbnb', 'tab_cols': ['accommodates', 'availability_30', 'availability_365', 'availability_60', 'availability_90', 'bathrooms', 'bed_type', 'bedrooms', 'beds', 'cancellation_policy', 'city', 'cleaning_fee', 'extra_people', 'guests_included', 'host_identity_verified', 'host_is_superhost', 'host_response_time', 'instant_bookable', 'is_location_exact', 'latitude', 'license', 'longitude', 'maximum_nights', 'minimum_nights', 'number_of_reviews', 'review_scores_accuracy', 'review_scores_checkin', 'review_scores_cleanliness', 'review_scores_communication', 'review_scores_location', 'review_scores_rating', 'review_scores_value', 'reviews_per_month', 'room_type', 'security_deposit'], 'categorical_cols': ['bed_type', 'cancellation_policy', 'city', 'host_identity_verified', 'host_is_superhost', 'host_response_time', 'instant_bookable', 'is_location_exact', 'license', 'room_type'], 'text_cols': ['amenities', 'host_since', 'neighborhood', 'property_type', 'summary'], 'label_names': [4, 3, 1, 9, 2, 7, 0, 6, 5, 8], 'label_col': 'price_label', 'num_labels': 10, 'prob_type': 'single_label_classification', 'wandb_proj_name': 'Airbnb', 'all_text_dataset': 'james-burton/melbourne_airbnb_all_text', 'ordinal_dataset': 'james-burton/melbourne_airbnb_ordinal', 'tnt_reorder_cols': {'bert': ['room_type', 'summary', 'bedrooms', 'amenities', 'city', 'accommodates', 'beds', 'property_type', 'neighborhood', 'bathrooms', 'latitude', 'security_deposit', 'cleaning_fee', 'host_since', 'availability_90', 'availability_60', 'availability_365', 'availability_30', 'review_scores_location', 'review_scores_communication', 'review_scores_checkin', 'review_scores_cleanliness', 'longitude', 'review_scores_value', 'review_scores_rating', 'review_scores_accuracy', 'cancellation_policy', 'extra_people', 'host_identity_verified', 'license', 'guests_included', 'reviews_per_month', 'number_of_reviews', 'host_is_superhost', 'host_response_time', 'maximum_nights', 'minimum_nights', 'instant_bookable', 'bed_type', 'is_location_exact'], 'disbert': ['room_type', 'summary', 'amenities', 'bedrooms', 'beds', 'accommodates', 'city', 'bathrooms', 'neighborhood', 'cleaning_fee', 'latitude', 'security_deposit', 'property_type', 'availability_365', 'availability_90', 'availability_60', 'availability_30', 'host_since', 'cancellation_policy', 'longitude', 'review_scores_location', 'review_scores_value', 'review_scores_rating', 'review_scores_accuracy', 'review_scores_cleanliness', 'review_scores_checkin', 'review_scores_communication', 'license', 'host_identity_verified', 'host_response_time', 'extra_people', 'guests_included', 'reviews_per_month', 'number_of_reviews', 'host_is_superhost', 'maximum_nights', 'is_location_exact', 'minimum_nights', 'instant_bookable', 'bed_type'], 'drob': ['room_type', 'amenities', 'summary', 'bedrooms', 'beds', 'accommodates', 'bathrooms', 'city', 'neighborhood', 'availability_90', 'availability_60', 'availability_30', 'availability_365', 'longitude', 'extra_people', 'cleaning_fee', 'guests_included', 'host_response_time', 'security_deposit', 'property_type', 'host_since', 'reviews_per_month', 'number_of_reviews', 'cancellation_policy', 'host_is_superhost', 'latitude', 'license', 'review_scores_location', 'review_scores_cleanliness', 'review_scores_value', 'review_scores_rating', 'review_scores_accuracy', 'review_scores_communication', 'review_scores_checkin', 'host_identity_verified', 'maximum_nights', 'minimum_nights', 'is_location_exact', 'instant_bookable', 'bed_type'], 'deberta': ['room_type', 'summary', 'amenities', 'bedrooms', 'accommodates', 'beds', 'host_since', 'property_type', 'bathrooms', 'neighborhood', 'city', 'security_deposit', 'cleaning_fee', 'availability_365', 'reviews_per_month', 'number_of_reviews', 'availability_90', 'availability_60', 'availability_30', 'host_is_superhost', 'longitude', 'latitude', 'host_response_time', 'license', 'extra_people', 'review_scores_location', 'host_identity_verified', 'guests_included', 'review_scores_value', 'review_scores_rating', 'review_scores_accuracy', 'review_scores_cleanliness', 'review_scores_communication', 'review_scores_checkin', 'cancellation_policy', 'is_location_exact', 'maximum_nights', 'minimum_nights', 'instant_bookable', 'bed_type']}, 'base_reorder_cols': {'bert': ['summary', 'amenities', 'room_type', 'security_deposit', 'bedrooms', 'city', 'bed_type', 'reviews_per_month', 'accommodates', 'cancellation_policy', 'bathrooms', 'cleaning_fee', 'beds', 'host_since', 'neighborhood', 'latitude', 'longitude', 'host_response_time', 'property_type', 'availability_60', 'availability_90', 'review_scores_rating', 'review_scores_location', 'guests_included', 'host_identity_verified', 'review_scores_communication', 'review_scores_value', 'host_is_superhost', 'review_scores_checkin', 'review_scores_cleanliness', 'review_scores_accuracy', 'availability_365', 'extra_people', 'availability_30', 'instant_bookable', 'maximum_nights', 'is_location_exact', 'number_of_reviews', 'minimum_nights', 'license'], 'disbert': ['room_type', 'amenities', 'summary', 'bedrooms', 'beds', 'accommodates', 'reviews_per_month', 'city', 'bed_type', 'bathrooms', 'security_deposit', 'cancellation_policy', 'cleaning_fee', 'latitude', 'longitude', 'host_since', 'neighborhood', 'availability_90', 'availability_60', 'availability_365', 'review_scores_value', 'property_type', 'availability_30', 'review_scores_rating', 'review_scores_communication', 'review_scores_location', 'host_response_time', 'review_scores_cleanliness', 'review_scores_checkin', 'review_scores_accuracy', 'maximum_nights', 'extra_people', 'license', 'guests_included', 'host_identity_verified', 'minimum_nights', 'number_of_reviews', 'host_is_superhost', 'instant_bookable', 'is_location_exact'], 'drob': ['room_type', 'amenities', 'summary', 'bedrooms', 'latitude', 'bathrooms', 'beds', 'bed_type', 'reviews_per_month', 'availability_90', 'accommodates', 'host_since', 'is_location_exact', 'cancellation_policy', 'longitude', 'city', 'security_deposit', 'cleaning_fee', 'host_response_time', 'review_scores_accuracy', 'review_scores_value', 'neighborhood', 'review_scores_rating', 'review_scores_checkin', 'review_scores_cleanliness', 'review_scores_communication', 'property_type', 'availability_365', 'guests_included', 'availability_30', 'review_scores_location', 'availability_60', 'maximum_nights', 'number_of_reviews', 'minimum_nights', 'instant_bookable', 'extra_people', 'license', 'host_is_superhost', 'host_identity_verified'], 'deberta': ['room_type', 'summary', 'amenities', 'bathrooms', 'reviews_per_month', 'beds', 'bedrooms', 'bed_type', 'host_since', 'accommodates', 'security_deposit', 'latitude', 'availability_365', 'longitude', 'host_response_time', 'property_type', 'cancellation_policy', 'cleaning_fee', 'review_scores_value', 'neighborhood', 'city', 'availability_60', 'availability_90', 'availability_30', 'review_scores_checkin', 'review_scores_cleanliness', 'review_scores_communication', 'review_scores_location', 'review_scores_accuracy', 'review_scores_rating', 'license', 'instant_bookable', 'host_is_superhost', 'maximum_nights', 'guests_included', 'is_location_exact', 'host_identity_verified', 'minimum_nights', 'number_of_reviews', 'extra_people']}}\n",
      "\n",
      "\n",
      "            #################\n",
      "            airbnb\n",
      "            #################\n",
      "            \n",
      "\n",
      "{'config': 'airbnb', 'tab_cols': ['accommodates', 'availability_30', 'availability_365', 'availability_60', 'availability_90', 'bathrooms', 'bed_type', 'bedrooms', 'beds', 'cancellation_policy', 'city', 'cleaning_fee', 'extra_people', 'guests_included', 'host_identity_verified', 'host_is_superhost', 'host_response_time', 'instant_bookable', 'is_location_exact', 'latitude', 'license', 'longitude', 'maximum_nights', 'minimum_nights', 'number_of_reviews', 'review_scores_accuracy', 'review_scores_checkin', 'review_scores_cleanliness', 'review_scores_communication', 'review_scores_location', 'review_scores_rating', 'review_scores_value', 'reviews_per_month', 'room_type', 'security_deposit'], 'categorical_cols': ['bed_type', 'cancellation_policy', 'city', 'host_identity_verified', 'host_is_superhost', 'host_response_time', 'instant_bookable', 'is_location_exact', 'license', 'room_type'], 'text_cols': ['amenities', 'host_since', 'neighborhood', 'property_type', 'summary'], 'label_names': [4, 3, 1, 9, 2, 7, 0, 6, 5, 8], 'label_col': 'price_label', 'num_labels': 10, 'prob_type': 'single_label_classification', 'wandb_proj_name': 'Airbnb', 'all_text_dataset': 'james-burton/melbourne_airbnb_all_text', 'ordinal_dataset': 'james-burton/melbourne_airbnb_ordinal', 'tnt_reorder_cols': {'bert': ['room_type', 'summary', 'bedrooms', 'amenities', 'city', 'accommodates', 'beds', 'property_type', 'neighborhood', 'bathrooms', 'latitude', 'security_deposit', 'cleaning_fee', 'host_since', 'availability_90', 'availability_60', 'availability_365', 'availability_30', 'review_scores_location', 'review_scores_communication', 'review_scores_checkin', 'review_scores_cleanliness', 'longitude', 'review_scores_value', 'review_scores_rating', 'review_scores_accuracy', 'cancellation_policy', 'extra_people', 'host_identity_verified', 'license', 'guests_included', 'reviews_per_month', 'number_of_reviews', 'host_is_superhost', 'host_response_time', 'maximum_nights', 'minimum_nights', 'instant_bookable', 'bed_type', 'is_location_exact'], 'disbert': ['room_type', 'summary', 'amenities', 'bedrooms', 'beds', 'accommodates', 'city', 'bathrooms', 'neighborhood', 'cleaning_fee', 'latitude', 'security_deposit', 'property_type', 'availability_365', 'availability_90', 'availability_60', 'availability_30', 'host_since', 'cancellation_policy', 'longitude', 'review_scores_location', 'review_scores_value', 'review_scores_rating', 'review_scores_accuracy', 'review_scores_cleanliness', 'review_scores_checkin', 'review_scores_communication', 'license', 'host_identity_verified', 'host_response_time', 'extra_people', 'guests_included', 'reviews_per_month', 'number_of_reviews', 'host_is_superhost', 'maximum_nights', 'is_location_exact', 'minimum_nights', 'instant_bookable', 'bed_type'], 'drob': ['room_type', 'amenities', 'summary', 'bedrooms', 'beds', 'accommodates', 'bathrooms', 'city', 'neighborhood', 'availability_90', 'availability_60', 'availability_30', 'availability_365', 'longitude', 'extra_people', 'cleaning_fee', 'guests_included', 'host_response_time', 'security_deposit', 'property_type', 'host_since', 'reviews_per_month', 'number_of_reviews', 'cancellation_policy', 'host_is_superhost', 'latitude', 'license', 'review_scores_location', 'review_scores_cleanliness', 'review_scores_value', 'review_scores_rating', 'review_scores_accuracy', 'review_scores_communication', 'review_scores_checkin', 'host_identity_verified', 'maximum_nights', 'minimum_nights', 'is_location_exact', 'instant_bookable', 'bed_type'], 'deberta': ['room_type', 'summary', 'amenities', 'bedrooms', 'accommodates', 'beds', 'host_since', 'property_type', 'bathrooms', 'neighborhood', 'city', 'security_deposit', 'cleaning_fee', 'availability_365', 'reviews_per_month', 'number_of_reviews', 'availability_90', 'availability_60', 'availability_30', 'host_is_superhost', 'longitude', 'latitude', 'host_response_time', 'license', 'extra_people', 'review_scores_location', 'host_identity_verified', 'guests_included', 'review_scores_value', 'review_scores_rating', 'review_scores_accuracy', 'review_scores_cleanliness', 'review_scores_communication', 'review_scores_checkin', 'cancellation_policy', 'is_location_exact', 'maximum_nights', 'minimum_nights', 'instant_bookable', 'bed_type']}, 'base_reorder_cols': {'bert': ['summary', 'amenities', 'room_type', 'security_deposit', 'bedrooms', 'city', 'bed_type', 'reviews_per_month', 'accommodates', 'cancellation_policy', 'bathrooms', 'cleaning_fee', 'beds', 'host_since', 'neighborhood', 'latitude', 'longitude', 'host_response_time', 'property_type', 'availability_60', 'availability_90', 'review_scores_rating', 'review_scores_location', 'guests_included', 'host_identity_verified', 'review_scores_communication', 'review_scores_value', 'host_is_superhost', 'review_scores_checkin', 'review_scores_cleanliness', 'review_scores_accuracy', 'availability_365', 'extra_people', 'availability_30', 'instant_bookable', 'maximum_nights', 'is_location_exact', 'number_of_reviews', 'minimum_nights', 'license'], 'disbert': ['room_type', 'amenities', 'summary', 'bedrooms', 'beds', 'accommodates', 'reviews_per_month', 'city', 'bed_type', 'bathrooms', 'security_deposit', 'cancellation_policy', 'cleaning_fee', 'latitude', 'longitude', 'host_since', 'neighborhood', 'availability_90', 'availability_60', 'availability_365', 'review_scores_value', 'property_type', 'availability_30', 'review_scores_rating', 'review_scores_communication', 'review_scores_location', 'host_response_time', 'review_scores_cleanliness', 'review_scores_checkin', 'review_scores_accuracy', 'maximum_nights', 'extra_people', 'license', 'guests_included', 'host_identity_verified', 'minimum_nights', 'number_of_reviews', 'host_is_superhost', 'instant_bookable', 'is_location_exact'], 'drob': ['room_type', 'amenities', 'summary', 'bedrooms', 'latitude', 'bathrooms', 'beds', 'bed_type', 'reviews_per_month', 'availability_90', 'accommodates', 'host_since', 'is_location_exact', 'cancellation_policy', 'longitude', 'city', 'security_deposit', 'cleaning_fee', 'host_response_time', 'review_scores_accuracy', 'review_scores_value', 'neighborhood', 'review_scores_rating', 'review_scores_checkin', 'review_scores_cleanliness', 'review_scores_communication', 'property_type', 'availability_365', 'guests_included', 'availability_30', 'review_scores_location', 'availability_60', 'maximum_nights', 'number_of_reviews', 'minimum_nights', 'instant_bookable', 'extra_people', 'license', 'host_is_superhost', 'host_identity_verified'], 'deberta': ['room_type', 'summary', 'amenities', 'bathrooms', 'reviews_per_month', 'beds', 'bedrooms', 'bed_type', 'host_since', 'accommodates', 'security_deposit', 'latitude', 'availability_365', 'longitude', 'host_response_time', 'property_type', 'cancellation_policy', 'cleaning_fee', 'review_scores_value', 'neighborhood', 'city', 'availability_60', 'availability_90', 'availability_30', 'review_scores_checkin', 'review_scores_cleanliness', 'review_scores_communication', 'review_scores_location', 'review_scores_accuracy', 'review_scores_rating', 'license', 'instant_bookable', 'host_is_superhost', 'maximum_nights', 'guests_included', 'is_location_exact', 'host_identity_verified', 'minimum_nights', 'number_of_reviews', 'extra_people']}}\n",
      "\n"
     ]
    },
    {
     "name": "stderr",
     "output_type": "stream",
     "text": [
      "Special tokens have been added in the vocabulary, make sure the associated word embeddings are fine-tuned or trained.\n",
      "The sentencepiece tokenizer that you are converting to a fast tokenizer uses the byte fallback option which is not implemented in the fast tokenizers. In practice this means that the fast version of the tokenizer can produce unknown tokens whereas the sentencepiece version would have converted these unknown tokens into a sequence of byte tokens matching the original piece of text.\n",
      "Special tokens have been added in the vocabulary, make sure the associated word embeddings are fine-tuned or trained.\n"
     ]
    },
    {
     "name": "stdout",
     "output_type": "stream",
     "text": [
      "\n",
      "            #################\n",
      "            airbnb\n",
      "            #################\n",
      "            \n",
      "\n",
      "{'config': 'airbnb', 'tab_cols': ['accommodates', 'availability_30', 'availability_365', 'availability_60', 'availability_90', 'bathrooms', 'bed_type', 'bedrooms', 'beds', 'cancellation_policy', 'city', 'cleaning_fee', 'extra_people', 'guests_included', 'host_identity_verified', 'host_is_superhost', 'host_response_time', 'instant_bookable', 'is_location_exact', 'latitude', 'license', 'longitude', 'maximum_nights', 'minimum_nights', 'number_of_reviews', 'review_scores_accuracy', 'review_scores_checkin', 'review_scores_cleanliness', 'review_scores_communication', 'review_scores_location', 'review_scores_rating', 'review_scores_value', 'reviews_per_month', 'room_type', 'security_deposit'], 'categorical_cols': ['bed_type', 'cancellation_policy', 'city', 'host_identity_verified', 'host_is_superhost', 'host_response_time', 'instant_bookable', 'is_location_exact', 'license', 'room_type'], 'text_cols': ['amenities', 'host_since', 'neighborhood', 'property_type', 'summary'], 'label_names': [4, 3, 1, 9, 2, 7, 0, 6, 5, 8], 'label_col': 'price_label', 'num_labels': 10, 'prob_type': 'single_label_classification', 'wandb_proj_name': 'Airbnb', 'all_text_dataset': 'james-burton/melbourne_airbnb_all_text', 'ordinal_dataset': 'james-burton/melbourne_airbnb_ordinal', 'tnt_reorder_cols': {'bert': ['room_type', 'summary', 'bedrooms', 'amenities', 'city', 'accommodates', 'beds', 'property_type', 'neighborhood', 'bathrooms', 'latitude', 'security_deposit', 'cleaning_fee', 'host_since', 'availability_90', 'availability_60', 'availability_365', 'availability_30', 'review_scores_location', 'review_scores_communication', 'review_scores_checkin', 'review_scores_cleanliness', 'longitude', 'review_scores_value', 'review_scores_rating', 'review_scores_accuracy', 'cancellation_policy', 'extra_people', 'host_identity_verified', 'license', 'guests_included', 'reviews_per_month', 'number_of_reviews', 'host_is_superhost', 'host_response_time', 'maximum_nights', 'minimum_nights', 'instant_bookable', 'bed_type', 'is_location_exact'], 'disbert': ['room_type', 'summary', 'amenities', 'bedrooms', 'beds', 'accommodates', 'city', 'bathrooms', 'neighborhood', 'cleaning_fee', 'latitude', 'security_deposit', 'property_type', 'availability_365', 'availability_90', 'availability_60', 'availability_30', 'host_since', 'cancellation_policy', 'longitude', 'review_scores_location', 'review_scores_value', 'review_scores_rating', 'review_scores_accuracy', 'review_scores_cleanliness', 'review_scores_checkin', 'review_scores_communication', 'license', 'host_identity_verified', 'host_response_time', 'extra_people', 'guests_included', 'reviews_per_month', 'number_of_reviews', 'host_is_superhost', 'maximum_nights', 'is_location_exact', 'minimum_nights', 'instant_bookable', 'bed_type'], 'drob': ['room_type', 'amenities', 'summary', 'bedrooms', 'beds', 'accommodates', 'bathrooms', 'city', 'neighborhood', 'availability_90', 'availability_60', 'availability_30', 'availability_365', 'longitude', 'extra_people', 'cleaning_fee', 'guests_included', 'host_response_time', 'security_deposit', 'property_type', 'host_since', 'reviews_per_month', 'number_of_reviews', 'cancellation_policy', 'host_is_superhost', 'latitude', 'license', 'review_scores_location', 'review_scores_cleanliness', 'review_scores_value', 'review_scores_rating', 'review_scores_accuracy', 'review_scores_communication', 'review_scores_checkin', 'host_identity_verified', 'maximum_nights', 'minimum_nights', 'is_location_exact', 'instant_bookable', 'bed_type'], 'deberta': ['room_type', 'summary', 'amenities', 'bedrooms', 'accommodates', 'beds', 'host_since', 'property_type', 'bathrooms', 'neighborhood', 'city', 'security_deposit', 'cleaning_fee', 'availability_365', 'reviews_per_month', 'number_of_reviews', 'availability_90', 'availability_60', 'availability_30', 'host_is_superhost', 'longitude', 'latitude', 'host_response_time', 'license', 'extra_people', 'review_scores_location', 'host_identity_verified', 'guests_included', 'review_scores_value', 'review_scores_rating', 'review_scores_accuracy', 'review_scores_cleanliness', 'review_scores_communication', 'review_scores_checkin', 'cancellation_policy', 'is_location_exact', 'maximum_nights', 'minimum_nights', 'instant_bookable', 'bed_type']}, 'base_reorder_cols': {'bert': ['summary', 'amenities', 'room_type', 'security_deposit', 'bedrooms', 'city', 'bed_type', 'reviews_per_month', 'accommodates', 'cancellation_policy', 'bathrooms', 'cleaning_fee', 'beds', 'host_since', 'neighborhood', 'latitude', 'longitude', 'host_response_time', 'property_type', 'availability_60', 'availability_90', 'review_scores_rating', 'review_scores_location', 'guests_included', 'host_identity_verified', 'review_scores_communication', 'review_scores_value', 'host_is_superhost', 'review_scores_checkin', 'review_scores_cleanliness', 'review_scores_accuracy', 'availability_365', 'extra_people', 'availability_30', 'instant_bookable', 'maximum_nights', 'is_location_exact', 'number_of_reviews', 'minimum_nights', 'license'], 'disbert': ['room_type', 'amenities', 'summary', 'bedrooms', 'beds', 'accommodates', 'reviews_per_month', 'city', 'bed_type', 'bathrooms', 'security_deposit', 'cancellation_policy', 'cleaning_fee', 'latitude', 'longitude', 'host_since', 'neighborhood', 'availability_90', 'availability_60', 'availability_365', 'review_scores_value', 'property_type', 'availability_30', 'review_scores_rating', 'review_scores_communication', 'review_scores_location', 'host_response_time', 'review_scores_cleanliness', 'review_scores_checkin', 'review_scores_accuracy', 'maximum_nights', 'extra_people', 'license', 'guests_included', 'host_identity_verified', 'minimum_nights', 'number_of_reviews', 'host_is_superhost', 'instant_bookable', 'is_location_exact'], 'drob': ['room_type', 'amenities', 'summary', 'bedrooms', 'latitude', 'bathrooms', 'beds', 'bed_type', 'reviews_per_month', 'availability_90', 'accommodates', 'host_since', 'is_location_exact', 'cancellation_policy', 'longitude', 'city', 'security_deposit', 'cleaning_fee', 'host_response_time', 'review_scores_accuracy', 'review_scores_value', 'neighborhood', 'review_scores_rating', 'review_scores_checkin', 'review_scores_cleanliness', 'review_scores_communication', 'property_type', 'availability_365', 'guests_included', 'availability_30', 'review_scores_location', 'availability_60', 'maximum_nights', 'number_of_reviews', 'minimum_nights', 'instant_bookable', 'extra_people', 'license', 'host_is_superhost', 'host_identity_verified'], 'deberta': ['room_type', 'summary', 'amenities', 'bathrooms', 'reviews_per_month', 'beds', 'bedrooms', 'bed_type', 'host_since', 'accommodates', 'security_deposit', 'latitude', 'availability_365', 'longitude', 'host_response_time', 'property_type', 'cancellation_policy', 'cleaning_fee', 'review_scores_value', 'neighborhood', 'city', 'availability_60', 'availability_90', 'availability_30', 'review_scores_checkin', 'review_scores_cleanliness', 'review_scores_communication', 'review_scores_location', 'review_scores_accuracy', 'review_scores_rating', 'license', 'instant_bookable', 'host_is_superhost', 'maximum_nights', 'guests_included', 'is_location_exact', 'host_identity_verified', 'minimum_nights', 'number_of_reviews', 'extra_people']}}\n",
      "\n",
      "\n",
      "            #################\n",
      "            airbnb\n",
      "            #################\n",
      "            \n"
     ]
    }
   ],
   "source": [
    "all_dfs = {}\n",
    "for ds_name in [\n",
    "    \"fake\",\n",
    "    \"jigsaw\",\n",
    "    \"kick\",\n",
    "    \"wine\",\n",
    "    \"imdb_genre\",\n",
    "    \"prod_sent\",\n",
    "    \"salary\",\n",
    "    \"channel\",\n",
    "    \"airbnb\",\n",
    "]:\n",
    "    df1 = pd.DataFrame(columns=[\"config\", \"col\", \"val\", \"total\"])\n",
    "    for text_model_base, text_model_code in [\n",
    "        (\"distilbert-base-uncased\", \"disbert\"),\n",
    "        (\"distilroberta-base\", \"drob\"),\n",
    "        (\"microsoft/deberta-v3-small\", \"deberta\"),\n",
    "        (\"bert-base-uncased\", \"bert\"),\n",
    "    ]:\n",
    "        tab_scale_factor = 1\n",
    "        # Shap args\n",
    "        # args = ConfigLoader(config_type, \"configs/shap_configs.yaml\")\n",
    "        # Dataset info\n",
    "        di = ConfigLoader(ds_name, \"../configs/dataset_configs.yaml\")\n",
    "        tokenizer = AutoTokenizer.from_pretrained(text_model_base)\n",
    "\n",
    "        pre = f\"_sf{tab_scale_factor}\" if tab_scale_factor != 2 else \"\"\n",
    "        col_name_filepath = f\"../models/shap_vals_{text_model_code}{pre}/{ds_name}/col_names_shap_vals_all_text_baseline.pkl\"\n",
    "        colon_filepath = f\"../models/shap_vals_{text_model_code}{pre}/{ds_name}/colon_shap_vals_all_text_baseline.pkl\"\n",
    "        fts_filepath = f\"../models/shap_vals_{text_model_code}{pre}/{ds_name}/summed_shap_vals_all_text_baseline.pkl\"\n",
    "\n",
    "        tab_pre = f\"_sf{tab_scale_factor}\" if tab_scale_factor != 2 else \"\"\n",
    "        print(\n",
    "            f\"\"\"\n",
    "            #################\n",
    "            {ds_name}\n",
    "            #################\n",
    "            \"\"\"\n",
    "        )\n",
    "        with open(col_name_filepath, \"rb\") as f:\n",
    "            grouped_col_name_shap_vals = pickle.load(f)\n",
    "        with open(colon_filepath, \"rb\") as f:\n",
    "            grouped_colon_shap_vals = pickle.load(f)\n",
    "        with open(fts_filepath, \"rb\") as f:\n",
    "            grouped_shap_vals = pickle.load(f)\n",
    "        val_only = (\n",
    "            grouped_shap_vals - grouped_col_name_shap_vals - grouped_colon_shap_vals\n",
    "        )\n",
    "        col_plus_colon = grouped_col_name_shap_vals + grouped_colon_shap_vals\n",
    "\n",
    "        val_fi = np.mean(np.sum(np.abs(val_only), axis=0), axis=0)\n",
    "        tmp_fi = np.mean(np.sum(np.abs(col_plus_colon), axis=0), axis=0)\n",
    "\n",
    "        tab_val_fi = val_fi[: len(di.tab_cols)]\n",
    "        tab_tmp_fi = tmp_fi[: len(di.tab_cols)]\n",
    "        text_val_fi = val_fi[len(di.tab_cols) :]\n",
    "        text_tmp_fi = tmp_fi[len(di.tab_cols) :]\n",
    "\n",
    "        items = {\n",
    "            \"text\": np.sum(text_val_fi),\n",
    "            \"tab\": np.sum(tab_val_fi),\n",
    "            \"text template\": np.sum(text_tmp_fi),\n",
    "            \"tab template\": np.sum(tab_tmp_fi),\n",
    "        }\n",
    "        for i, (k, v) in enumerate(items.items()):\n",
    "            df1 = pd.concat(\n",
    "                [\n",
    "                    df1,\n",
    "                    pd.DataFrame(\n",
    "                        [\n",
    "                            {\n",
    "                                \"config\": text_model_code,\n",
    "                                \"col\": k,\n",
    "                                \"val\": v,\n",
    "                                \"total\": 1,\n",
    "                                \"col_index\": i,\n",
    "                            }\n",
    "                        ]\n",
    "                    ),\n",
    "                ],\n",
    "                ignore_index=True,\n",
    "            )\n",
    "    all_dfs[ds_name] = df1\n",
    "# df1[\"showlegend\"] = df1.groupby(\"col\")[\"config\"].cumcount() == 0\n",
    "# colors = px.colors.qualitative.Plotly\n",
    "\n",
    "# fig = go.Figure()\n",
    "# for index, row in df1.iterrows():\n",
    "#     fig.add_trace(\n",
    "#         go.Bar(\n",
    "#             y=[row[\"config\"]],\n",
    "#             # y=[1],\n",
    "#             x=[row[\"val\"]],\n",
    "#             # customdata=[row[\"gdpPercap\"]],\n",
    "#             # hovertemplate=\"%{x:2f}, GDP per capita: %{customdata:2f}\",\n",
    "#             marker=dict(color=colors[int(row[\"col_index\"])]),\n",
    "#             name=row[\"col\"],\n",
    "#             legendgroup=row[\"col\"],\n",
    "#             showlegend=row[\"showlegend\"],\n",
    "#             orientation=\"h\",\n",
    "#         )\n",
    "#     )\n",
    "\n",
    "# fig.update_layout(barmode=\"stack\", hovermode=\"y unified\")\n",
    "\n",
    "# # show figure\n",
    "# fig.show()"
   ]
  },
  {
   "cell_type": "code",
   "execution_count": 11,
   "metadata": {},
   "outputs": [
    {
     "name": "stdout",
     "output_type": "stream",
     "text": [
      "fake\n"
     ]
    },
    {
     "data": {
      "application/vnd.plotly.v1+json": {
       "config": {
        "plotlyServerURL": "https://plot.ly"
       },
       "data": [
        {
         "legendgroup": "text",
         "marker": {
          "color": "#00CC96"
         },
         "name": "text",
         "orientation": "h",
         "showlegend": true,
         "type": "bar",
         "x": [
          0.8035961266504457
         ],
         "y": [
          "disbert"
         ]
        },
        {
         "legendgroup": "tab",
         "marker": {
          "color": "#AB63FA"
         },
         "name": "tab",
         "orientation": "h",
         "showlegend": true,
         "type": "bar",
         "x": [
          0.023461113546665913
         ],
         "y": [
          "disbert"
         ]
        },
        {
         "legendgroup": "text template",
         "marker": {
          "color": "#FFA15A"
         },
         "name": "text template",
         "orientation": "h",
         "showlegend": true,
         "type": "bar",
         "x": [
          0.03494053782356018
         ],
         "y": [
          "disbert"
         ]
        },
        {
         "legendgroup": "tab template",
         "marker": {
          "color": "#19D3F3"
         },
         "name": "tab template",
         "orientation": "h",
         "showlegend": true,
         "type": "bar",
         "x": [
          0.022996962213275136
         ],
         "y": [
          "disbert"
         ]
        },
        {
         "legendgroup": "text",
         "marker": {
          "color": "#00CC96"
         },
         "name": "text",
         "orientation": "h",
         "showlegend": false,
         "type": "bar",
         "x": [
          1.7631892583124047
         ],
         "y": [
          "drob"
         ]
        },
        {
         "legendgroup": "tab",
         "marker": {
          "color": "#AB63FA"
         },
         "name": "tab",
         "orientation": "h",
         "showlegend": false,
         "type": "bar",
         "x": [
          0.053286311994023464
         ],
         "y": [
          "drob"
         ]
        },
        {
         "legendgroup": "text template",
         "marker": {
          "color": "#FFA15A"
         },
         "name": "text template",
         "orientation": "h",
         "showlegend": false,
         "type": "bar",
         "x": [
          0.0999597137787478
         ],
         "y": [
          "drob"
         ]
        },
        {
         "legendgroup": "tab template",
         "marker": {
          "color": "#19D3F3"
         },
         "name": "tab template",
         "orientation": "h",
         "showlegend": false,
         "type": "bar",
         "x": [
          0.03499351622853615
         ],
         "y": [
          "drob"
         ]
        },
        {
         "legendgroup": "text",
         "marker": {
          "color": "#00CC96"
         },
         "name": "text",
         "orientation": "h",
         "showlegend": false,
         "type": "bar",
         "x": [
          0.13481750310997068
         ],
         "y": [
          "deberta"
         ]
        },
        {
         "legendgroup": "tab",
         "marker": {
          "color": "#AB63FA"
         },
         "name": "tab",
         "orientation": "h",
         "showlegend": false,
         "type": "bar",
         "x": [
          0.006639069285944067
         ],
         "y": [
          "deberta"
         ]
        },
        {
         "legendgroup": "text template",
         "marker": {
          "color": "#FFA15A"
         },
         "name": "text template",
         "orientation": "h",
         "showlegend": false,
         "type": "bar",
         "x": [
          0.01009682641351698
         ],
         "y": [
          "deberta"
         ]
        },
        {
         "legendgroup": "tab template",
         "marker": {
          "color": "#19D3F3"
         },
         "name": "tab template",
         "orientation": "h",
         "showlegend": false,
         "type": "bar",
         "x": [
          0.006111925976988435
         ],
         "y": [
          "deberta"
         ]
        },
        {
         "legendgroup": "text",
         "marker": {
          "color": "#00CC96"
         },
         "name": "text",
         "orientation": "h",
         "showlegend": false,
         "type": "bar",
         "x": [
          0.46051627811544416
         ],
         "y": [
          "bert"
         ]
        },
        {
         "legendgroup": "tab",
         "marker": {
          "color": "#AB63FA"
         },
         "name": "tab",
         "orientation": "h",
         "showlegend": false,
         "type": "bar",
         "x": [
          0.027788133106114422
         ],
         "y": [
          "bert"
         ]
        },
        {
         "legendgroup": "text template",
         "marker": {
          "color": "#FFA15A"
         },
         "name": "text template",
         "orientation": "h",
         "showlegend": false,
         "type": "bar",
         "x": [
          0.03223407672779489
         ],
         "y": [
          "bert"
         ]
        },
        {
         "legendgroup": "tab template",
         "marker": {
          "color": "#19D3F3"
         },
         "name": "tab template",
         "orientation": "h",
         "showlegend": false,
         "type": "bar",
         "x": [
          0.025430425905826053
         ],
         "y": [
          "bert"
         ]
        }
       ],
       "layout": {
        "barmode": "stack",
        "height": 200,
        "hovermode": "y unified",
        "legend": {
         "orientation": "h",
         "x": 0,
         "xanchor": "left",
         "y": 1.25,
         "yanchor": "top"
        },
        "margin": {
         "b": 0,
         "l": 0,
         "r": 0,
         "t": 0
        },
        "template": {
         "data": {
          "bar": [
           {
            "error_x": {
             "color": "#2a3f5f"
            },
            "error_y": {
             "color": "#2a3f5f"
            },
            "marker": {
             "line": {
              "color": "#E5ECF6",
              "width": 0.5
             },
             "pattern": {
              "fillmode": "overlay",
              "size": 10,
              "solidity": 0.2
             }
            },
            "type": "bar"
           }
          ],
          "barpolar": [
           {
            "marker": {
             "line": {
              "color": "#E5ECF6",
              "width": 0.5
             },
             "pattern": {
              "fillmode": "overlay",
              "size": 10,
              "solidity": 0.2
             }
            },
            "type": "barpolar"
           }
          ],
          "carpet": [
           {
            "aaxis": {
             "endlinecolor": "#2a3f5f",
             "gridcolor": "white",
             "linecolor": "white",
             "minorgridcolor": "white",
             "startlinecolor": "#2a3f5f"
            },
            "baxis": {
             "endlinecolor": "#2a3f5f",
             "gridcolor": "white",
             "linecolor": "white",
             "minorgridcolor": "white",
             "startlinecolor": "#2a3f5f"
            },
            "type": "carpet"
           }
          ],
          "choropleth": [
           {
            "colorbar": {
             "outlinewidth": 0,
             "ticks": ""
            },
            "type": "choropleth"
           }
          ],
          "contour": [
           {
            "colorbar": {
             "outlinewidth": 0,
             "ticks": ""
            },
            "colorscale": [
             [
              0,
              "#0d0887"
             ],
             [
              0.1111111111111111,
              "#46039f"
             ],
             [
              0.2222222222222222,
              "#7201a8"
             ],
             [
              0.3333333333333333,
              "#9c179e"
             ],
             [
              0.4444444444444444,
              "#bd3786"
             ],
             [
              0.5555555555555556,
              "#d8576b"
             ],
             [
              0.6666666666666666,
              "#ed7953"
             ],
             [
              0.7777777777777778,
              "#fb9f3a"
             ],
             [
              0.8888888888888888,
              "#fdca26"
             ],
             [
              1,
              "#f0f921"
             ]
            ],
            "type": "contour"
           }
          ],
          "contourcarpet": [
           {
            "colorbar": {
             "outlinewidth": 0,
             "ticks": ""
            },
            "type": "contourcarpet"
           }
          ],
          "heatmap": [
           {
            "colorbar": {
             "outlinewidth": 0,
             "ticks": ""
            },
            "colorscale": [
             [
              0,
              "#0d0887"
             ],
             [
              0.1111111111111111,
              "#46039f"
             ],
             [
              0.2222222222222222,
              "#7201a8"
             ],
             [
              0.3333333333333333,
              "#9c179e"
             ],
             [
              0.4444444444444444,
              "#bd3786"
             ],
             [
              0.5555555555555556,
              "#d8576b"
             ],
             [
              0.6666666666666666,
              "#ed7953"
             ],
             [
              0.7777777777777778,
              "#fb9f3a"
             ],
             [
              0.8888888888888888,
              "#fdca26"
             ],
             [
              1,
              "#f0f921"
             ]
            ],
            "type": "heatmap"
           }
          ],
          "heatmapgl": [
           {
            "colorbar": {
             "outlinewidth": 0,
             "ticks": ""
            },
            "colorscale": [
             [
              0,
              "#0d0887"
             ],
             [
              0.1111111111111111,
              "#46039f"
             ],
             [
              0.2222222222222222,
              "#7201a8"
             ],
             [
              0.3333333333333333,
              "#9c179e"
             ],
             [
              0.4444444444444444,
              "#bd3786"
             ],
             [
              0.5555555555555556,
              "#d8576b"
             ],
             [
              0.6666666666666666,
              "#ed7953"
             ],
             [
              0.7777777777777778,
              "#fb9f3a"
             ],
             [
              0.8888888888888888,
              "#fdca26"
             ],
             [
              1,
              "#f0f921"
             ]
            ],
            "type": "heatmapgl"
           }
          ],
          "histogram": [
           {
            "marker": {
             "pattern": {
              "fillmode": "overlay",
              "size": 10,
              "solidity": 0.2
             }
            },
            "type": "histogram"
           }
          ],
          "histogram2d": [
           {
            "colorbar": {
             "outlinewidth": 0,
             "ticks": ""
            },
            "colorscale": [
             [
              0,
              "#0d0887"
             ],
             [
              0.1111111111111111,
              "#46039f"
             ],
             [
              0.2222222222222222,
              "#7201a8"
             ],
             [
              0.3333333333333333,
              "#9c179e"
             ],
             [
              0.4444444444444444,
              "#bd3786"
             ],
             [
              0.5555555555555556,
              "#d8576b"
             ],
             [
              0.6666666666666666,
              "#ed7953"
             ],
             [
              0.7777777777777778,
              "#fb9f3a"
             ],
             [
              0.8888888888888888,
              "#fdca26"
             ],
             [
              1,
              "#f0f921"
             ]
            ],
            "type": "histogram2d"
           }
          ],
          "histogram2dcontour": [
           {
            "colorbar": {
             "outlinewidth": 0,
             "ticks": ""
            },
            "colorscale": [
             [
              0,
              "#0d0887"
             ],
             [
              0.1111111111111111,
              "#46039f"
             ],
             [
              0.2222222222222222,
              "#7201a8"
             ],
             [
              0.3333333333333333,
              "#9c179e"
             ],
             [
              0.4444444444444444,
              "#bd3786"
             ],
             [
              0.5555555555555556,
              "#d8576b"
             ],
             [
              0.6666666666666666,
              "#ed7953"
             ],
             [
              0.7777777777777778,
              "#fb9f3a"
             ],
             [
              0.8888888888888888,
              "#fdca26"
             ],
             [
              1,
              "#f0f921"
             ]
            ],
            "type": "histogram2dcontour"
           }
          ],
          "mesh3d": [
           {
            "colorbar": {
             "outlinewidth": 0,
             "ticks": ""
            },
            "type": "mesh3d"
           }
          ],
          "parcoords": [
           {
            "line": {
             "colorbar": {
              "outlinewidth": 0,
              "ticks": ""
             }
            },
            "type": "parcoords"
           }
          ],
          "pie": [
           {
            "automargin": true,
            "type": "pie"
           }
          ],
          "scatter": [
           {
            "fillpattern": {
             "fillmode": "overlay",
             "size": 10,
             "solidity": 0.2
            },
            "type": "scatter"
           }
          ],
          "scatter3d": [
           {
            "line": {
             "colorbar": {
              "outlinewidth": 0,
              "ticks": ""
             }
            },
            "marker": {
             "colorbar": {
              "outlinewidth": 0,
              "ticks": ""
             }
            },
            "type": "scatter3d"
           }
          ],
          "scattercarpet": [
           {
            "marker": {
             "colorbar": {
              "outlinewidth": 0,
              "ticks": ""
             }
            },
            "type": "scattercarpet"
           }
          ],
          "scattergeo": [
           {
            "marker": {
             "colorbar": {
              "outlinewidth": 0,
              "ticks": ""
             }
            },
            "type": "scattergeo"
           }
          ],
          "scattergl": [
           {
            "marker": {
             "colorbar": {
              "outlinewidth": 0,
              "ticks": ""
             }
            },
            "type": "scattergl"
           }
          ],
          "scattermapbox": [
           {
            "marker": {
             "colorbar": {
              "outlinewidth": 0,
              "ticks": ""
             }
            },
            "type": "scattermapbox"
           }
          ],
          "scatterpolar": [
           {
            "marker": {
             "colorbar": {
              "outlinewidth": 0,
              "ticks": ""
             }
            },
            "type": "scatterpolar"
           }
          ],
          "scatterpolargl": [
           {
            "marker": {
             "colorbar": {
              "outlinewidth": 0,
              "ticks": ""
             }
            },
            "type": "scatterpolargl"
           }
          ],
          "scatterternary": [
           {
            "marker": {
             "colorbar": {
              "outlinewidth": 0,
              "ticks": ""
             }
            },
            "type": "scatterternary"
           }
          ],
          "surface": [
           {
            "colorbar": {
             "outlinewidth": 0,
             "ticks": ""
            },
            "colorscale": [
             [
              0,
              "#0d0887"
             ],
             [
              0.1111111111111111,
              "#46039f"
             ],
             [
              0.2222222222222222,
              "#7201a8"
             ],
             [
              0.3333333333333333,
              "#9c179e"
             ],
             [
              0.4444444444444444,
              "#bd3786"
             ],
             [
              0.5555555555555556,
              "#d8576b"
             ],
             [
              0.6666666666666666,
              "#ed7953"
             ],
             [
              0.7777777777777778,
              "#fb9f3a"
             ],
             [
              0.8888888888888888,
              "#fdca26"
             ],
             [
              1,
              "#f0f921"
             ]
            ],
            "type": "surface"
           }
          ],
          "table": [
           {
            "cells": {
             "fill": {
              "color": "#EBF0F8"
             },
             "line": {
              "color": "white"
             }
            },
            "header": {
             "fill": {
              "color": "#C8D4E3"
             },
             "line": {
              "color": "white"
             }
            },
            "type": "table"
           }
          ]
         },
         "layout": {
          "annotationdefaults": {
           "arrowcolor": "#2a3f5f",
           "arrowhead": 0,
           "arrowwidth": 1
          },
          "autotypenumbers": "strict",
          "coloraxis": {
           "colorbar": {
            "outlinewidth": 0,
            "ticks": ""
           }
          },
          "colorscale": {
           "diverging": [
            [
             0,
             "#8e0152"
            ],
            [
             0.1,
             "#c51b7d"
            ],
            [
             0.2,
             "#de77ae"
            ],
            [
             0.3,
             "#f1b6da"
            ],
            [
             0.4,
             "#fde0ef"
            ],
            [
             0.5,
             "#f7f7f7"
            ],
            [
             0.6,
             "#e6f5d0"
            ],
            [
             0.7,
             "#b8e186"
            ],
            [
             0.8,
             "#7fbc41"
            ],
            [
             0.9,
             "#4d9221"
            ],
            [
             1,
             "#276419"
            ]
           ],
           "sequential": [
            [
             0,
             "#0d0887"
            ],
            [
             0.1111111111111111,
             "#46039f"
            ],
            [
             0.2222222222222222,
             "#7201a8"
            ],
            [
             0.3333333333333333,
             "#9c179e"
            ],
            [
             0.4444444444444444,
             "#bd3786"
            ],
            [
             0.5555555555555556,
             "#d8576b"
            ],
            [
             0.6666666666666666,
             "#ed7953"
            ],
            [
             0.7777777777777778,
             "#fb9f3a"
            ],
            [
             0.8888888888888888,
             "#fdca26"
            ],
            [
             1,
             "#f0f921"
            ]
           ],
           "sequentialminus": [
            [
             0,
             "#0d0887"
            ],
            [
             0.1111111111111111,
             "#46039f"
            ],
            [
             0.2222222222222222,
             "#7201a8"
            ],
            [
             0.3333333333333333,
             "#9c179e"
            ],
            [
             0.4444444444444444,
             "#bd3786"
            ],
            [
             0.5555555555555556,
             "#d8576b"
            ],
            [
             0.6666666666666666,
             "#ed7953"
            ],
            [
             0.7777777777777778,
             "#fb9f3a"
            ],
            [
             0.8888888888888888,
             "#fdca26"
            ],
            [
             1,
             "#f0f921"
            ]
           ]
          },
          "colorway": [
           "#636efa",
           "#EF553B",
           "#00cc96",
           "#ab63fa",
           "#FFA15A",
           "#19d3f3",
           "#FF6692",
           "#B6E880",
           "#FF97FF",
           "#FECB52"
          ],
          "font": {
           "color": "#2a3f5f"
          },
          "geo": {
           "bgcolor": "white",
           "lakecolor": "white",
           "landcolor": "#E5ECF6",
           "showlakes": true,
           "showland": true,
           "subunitcolor": "white"
          },
          "hoverlabel": {
           "align": "left"
          },
          "hovermode": "closest",
          "mapbox": {
           "style": "light"
          },
          "paper_bgcolor": "white",
          "plot_bgcolor": "#E5ECF6",
          "polar": {
           "angularaxis": {
            "gridcolor": "white",
            "linecolor": "white",
            "ticks": ""
           },
           "bgcolor": "#E5ECF6",
           "radialaxis": {
            "gridcolor": "white",
            "linecolor": "white",
            "ticks": ""
           }
          },
          "scene": {
           "xaxis": {
            "backgroundcolor": "#E5ECF6",
            "gridcolor": "white",
            "gridwidth": 2,
            "linecolor": "white",
            "showbackground": true,
            "ticks": "",
            "zerolinecolor": "white"
           },
           "yaxis": {
            "backgroundcolor": "#E5ECF6",
            "gridcolor": "white",
            "gridwidth": 2,
            "linecolor": "white",
            "showbackground": true,
            "ticks": "",
            "zerolinecolor": "white"
           },
           "zaxis": {
            "backgroundcolor": "#E5ECF6",
            "gridcolor": "white",
            "gridwidth": 2,
            "linecolor": "white",
            "showbackground": true,
            "ticks": "",
            "zerolinecolor": "white"
           }
          },
          "shapedefaults": {
           "line": {
            "color": "#2a3f5f"
           }
          },
          "ternary": {
           "aaxis": {
            "gridcolor": "white",
            "linecolor": "white",
            "ticks": ""
           },
           "baxis": {
            "gridcolor": "white",
            "linecolor": "white",
            "ticks": ""
           },
           "bgcolor": "#E5ECF6",
           "caxis": {
            "gridcolor": "white",
            "linecolor": "white",
            "ticks": ""
           }
          },
          "title": {
           "x": 0.05
          },
          "xaxis": {
           "automargin": true,
           "gridcolor": "white",
           "linecolor": "white",
           "ticks": "",
           "title": {
            "standoff": 15
           },
           "zerolinecolor": "white",
           "zerolinewidth": 2
          },
          "yaxis": {
           "automargin": true,
           "gridcolor": "white",
           "linecolor": "white",
           "ticks": "",
           "title": {
            "standoff": 15
           },
           "zerolinecolor": "white",
           "zerolinewidth": 2
          }
         }
        },
        "width": 800
       }
      },
      "text/html": [
       "<div>                            <div id=\"ca26f334-076d-4538-9539-13401e6d47b6\" class=\"plotly-graph-div\" style=\"height:200px; width:800px;\"></div>            <script type=\"text/javascript\">                require([\"plotly\"], function(Plotly) {                    window.PLOTLYENV=window.PLOTLYENV || {};                                    if (document.getElementById(\"ca26f334-076d-4538-9539-13401e6d47b6\")) {                    Plotly.newPlot(                        \"ca26f334-076d-4538-9539-13401e6d47b6\",                        [{\"legendgroup\":\"text\",\"marker\":{\"color\":\"#00CC96\"},\"name\":\"text\",\"orientation\":\"h\",\"showlegend\":true,\"x\":[0.8035961266504457],\"y\":[\"disbert\"],\"type\":\"bar\"},{\"legendgroup\":\"tab\",\"marker\":{\"color\":\"#AB63FA\"},\"name\":\"tab\",\"orientation\":\"h\",\"showlegend\":true,\"x\":[0.023461113546665913],\"y\":[\"disbert\"],\"type\":\"bar\"},{\"legendgroup\":\"text template\",\"marker\":{\"color\":\"#FFA15A\"},\"name\":\"text template\",\"orientation\":\"h\",\"showlegend\":true,\"x\":[0.03494053782356018],\"y\":[\"disbert\"],\"type\":\"bar\"},{\"legendgroup\":\"tab template\",\"marker\":{\"color\":\"#19D3F3\"},\"name\":\"tab template\",\"orientation\":\"h\",\"showlegend\":true,\"x\":[0.022996962213275136],\"y\":[\"disbert\"],\"type\":\"bar\"},{\"legendgroup\":\"text\",\"marker\":{\"color\":\"#00CC96\"},\"name\":\"text\",\"orientation\":\"h\",\"showlegend\":false,\"x\":[1.7631892583124047],\"y\":[\"drob\"],\"type\":\"bar\"},{\"legendgroup\":\"tab\",\"marker\":{\"color\":\"#AB63FA\"},\"name\":\"tab\",\"orientation\":\"h\",\"showlegend\":false,\"x\":[0.053286311994023464],\"y\":[\"drob\"],\"type\":\"bar\"},{\"legendgroup\":\"text template\",\"marker\":{\"color\":\"#FFA15A\"},\"name\":\"text template\",\"orientation\":\"h\",\"showlegend\":false,\"x\":[0.0999597137787478],\"y\":[\"drob\"],\"type\":\"bar\"},{\"legendgroup\":\"tab template\",\"marker\":{\"color\":\"#19D3F3\"},\"name\":\"tab template\",\"orientation\":\"h\",\"showlegend\":false,\"x\":[0.03499351622853615],\"y\":[\"drob\"],\"type\":\"bar\"},{\"legendgroup\":\"text\",\"marker\":{\"color\":\"#00CC96\"},\"name\":\"text\",\"orientation\":\"h\",\"showlegend\":false,\"x\":[0.13481750310997068],\"y\":[\"deberta\"],\"type\":\"bar\"},{\"legendgroup\":\"tab\",\"marker\":{\"color\":\"#AB63FA\"},\"name\":\"tab\",\"orientation\":\"h\",\"showlegend\":false,\"x\":[0.006639069285944067],\"y\":[\"deberta\"],\"type\":\"bar\"},{\"legendgroup\":\"text template\",\"marker\":{\"color\":\"#FFA15A\"},\"name\":\"text template\",\"orientation\":\"h\",\"showlegend\":false,\"x\":[0.01009682641351698],\"y\":[\"deberta\"],\"type\":\"bar\"},{\"legendgroup\":\"tab template\",\"marker\":{\"color\":\"#19D3F3\"},\"name\":\"tab template\",\"orientation\":\"h\",\"showlegend\":false,\"x\":[0.006111925976988435],\"y\":[\"deberta\"],\"type\":\"bar\"},{\"legendgroup\":\"text\",\"marker\":{\"color\":\"#00CC96\"},\"name\":\"text\",\"orientation\":\"h\",\"showlegend\":false,\"x\":[0.46051627811544416],\"y\":[\"bert\"],\"type\":\"bar\"},{\"legendgroup\":\"tab\",\"marker\":{\"color\":\"#AB63FA\"},\"name\":\"tab\",\"orientation\":\"h\",\"showlegend\":false,\"x\":[0.027788133106114422],\"y\":[\"bert\"],\"type\":\"bar\"},{\"legendgroup\":\"text template\",\"marker\":{\"color\":\"#FFA15A\"},\"name\":\"text template\",\"orientation\":\"h\",\"showlegend\":false,\"x\":[0.03223407672779489],\"y\":[\"bert\"],\"type\":\"bar\"},{\"legendgroup\":\"tab template\",\"marker\":{\"color\":\"#19D3F3\"},\"name\":\"tab template\",\"orientation\":\"h\",\"showlegend\":false,\"x\":[0.025430425905826053],\"y\":[\"bert\"],\"type\":\"bar\"}],                        {\"template\":{\"data\":{\"histogram2dcontour\":[{\"type\":\"histogram2dcontour\",\"colorbar\":{\"outlinewidth\":0,\"ticks\":\"\"},\"colorscale\":[[0.0,\"#0d0887\"],[0.1111111111111111,\"#46039f\"],[0.2222222222222222,\"#7201a8\"],[0.3333333333333333,\"#9c179e\"],[0.4444444444444444,\"#bd3786\"],[0.5555555555555556,\"#d8576b\"],[0.6666666666666666,\"#ed7953\"],[0.7777777777777778,\"#fb9f3a\"],[0.8888888888888888,\"#fdca26\"],[1.0,\"#f0f921\"]]}],\"choropleth\":[{\"type\":\"choropleth\",\"colorbar\":{\"outlinewidth\":0,\"ticks\":\"\"}}],\"histogram2d\":[{\"type\":\"histogram2d\",\"colorbar\":{\"outlinewidth\":0,\"ticks\":\"\"},\"colorscale\":[[0.0,\"#0d0887\"],[0.1111111111111111,\"#46039f\"],[0.2222222222222222,\"#7201a8\"],[0.3333333333333333,\"#9c179e\"],[0.4444444444444444,\"#bd3786\"],[0.5555555555555556,\"#d8576b\"],[0.6666666666666666,\"#ed7953\"],[0.7777777777777778,\"#fb9f3a\"],[0.8888888888888888,\"#fdca26\"],[1.0,\"#f0f921\"]]}],\"heatmap\":[{\"type\":\"heatmap\",\"colorbar\":{\"outlinewidth\":0,\"ticks\":\"\"},\"colorscale\":[[0.0,\"#0d0887\"],[0.1111111111111111,\"#46039f\"],[0.2222222222222222,\"#7201a8\"],[0.3333333333333333,\"#9c179e\"],[0.4444444444444444,\"#bd3786\"],[0.5555555555555556,\"#d8576b\"],[0.6666666666666666,\"#ed7953\"],[0.7777777777777778,\"#fb9f3a\"],[0.8888888888888888,\"#fdca26\"],[1.0,\"#f0f921\"]]}],\"heatmapgl\":[{\"type\":\"heatmapgl\",\"colorbar\":{\"outlinewidth\":0,\"ticks\":\"\"},\"colorscale\":[[0.0,\"#0d0887\"],[0.1111111111111111,\"#46039f\"],[0.2222222222222222,\"#7201a8\"],[0.3333333333333333,\"#9c179e\"],[0.4444444444444444,\"#bd3786\"],[0.5555555555555556,\"#d8576b\"],[0.6666666666666666,\"#ed7953\"],[0.7777777777777778,\"#fb9f3a\"],[0.8888888888888888,\"#fdca26\"],[1.0,\"#f0f921\"]]}],\"contourcarpet\":[{\"type\":\"contourcarpet\",\"colorbar\":{\"outlinewidth\":0,\"ticks\":\"\"}}],\"contour\":[{\"type\":\"contour\",\"colorbar\":{\"outlinewidth\":0,\"ticks\":\"\"},\"colorscale\":[[0.0,\"#0d0887\"],[0.1111111111111111,\"#46039f\"],[0.2222222222222222,\"#7201a8\"],[0.3333333333333333,\"#9c179e\"],[0.4444444444444444,\"#bd3786\"],[0.5555555555555556,\"#d8576b\"],[0.6666666666666666,\"#ed7953\"],[0.7777777777777778,\"#fb9f3a\"],[0.8888888888888888,\"#fdca26\"],[1.0,\"#f0f921\"]]}],\"surface\":[{\"type\":\"surface\",\"colorbar\":{\"outlinewidth\":0,\"ticks\":\"\"},\"colorscale\":[[0.0,\"#0d0887\"],[0.1111111111111111,\"#46039f\"],[0.2222222222222222,\"#7201a8\"],[0.3333333333333333,\"#9c179e\"],[0.4444444444444444,\"#bd3786\"],[0.5555555555555556,\"#d8576b\"],[0.6666666666666666,\"#ed7953\"],[0.7777777777777778,\"#fb9f3a\"],[0.8888888888888888,\"#fdca26\"],[1.0,\"#f0f921\"]]}],\"mesh3d\":[{\"type\":\"mesh3d\",\"colorbar\":{\"outlinewidth\":0,\"ticks\":\"\"}}],\"scatter\":[{\"fillpattern\":{\"fillmode\":\"overlay\",\"size\":10,\"solidity\":0.2},\"type\":\"scatter\"}],\"parcoords\":[{\"type\":\"parcoords\",\"line\":{\"colorbar\":{\"outlinewidth\":0,\"ticks\":\"\"}}}],\"scatterpolargl\":[{\"type\":\"scatterpolargl\",\"marker\":{\"colorbar\":{\"outlinewidth\":0,\"ticks\":\"\"}}}],\"bar\":[{\"error_x\":{\"color\":\"#2a3f5f\"},\"error_y\":{\"color\":\"#2a3f5f\"},\"marker\":{\"line\":{\"color\":\"#E5ECF6\",\"width\":0.5},\"pattern\":{\"fillmode\":\"overlay\",\"size\":10,\"solidity\":0.2}},\"type\":\"bar\"}],\"scattergeo\":[{\"type\":\"scattergeo\",\"marker\":{\"colorbar\":{\"outlinewidth\":0,\"ticks\":\"\"}}}],\"scatterpolar\":[{\"type\":\"scatterpolar\",\"marker\":{\"colorbar\":{\"outlinewidth\":0,\"ticks\":\"\"}}}],\"histogram\":[{\"marker\":{\"pattern\":{\"fillmode\":\"overlay\",\"size\":10,\"solidity\":0.2}},\"type\":\"histogram\"}],\"scattergl\":[{\"type\":\"scattergl\",\"marker\":{\"colorbar\":{\"outlinewidth\":0,\"ticks\":\"\"}}}],\"scatter3d\":[{\"type\":\"scatter3d\",\"line\":{\"colorbar\":{\"outlinewidth\":0,\"ticks\":\"\"}},\"marker\":{\"colorbar\":{\"outlinewidth\":0,\"ticks\":\"\"}}}],\"scattermapbox\":[{\"type\":\"scattermapbox\",\"marker\":{\"colorbar\":{\"outlinewidth\":0,\"ticks\":\"\"}}}],\"scatterternary\":[{\"type\":\"scatterternary\",\"marker\":{\"colorbar\":{\"outlinewidth\":0,\"ticks\":\"\"}}}],\"scattercarpet\":[{\"type\":\"scattercarpet\",\"marker\":{\"colorbar\":{\"outlinewidth\":0,\"ticks\":\"\"}}}],\"carpet\":[{\"aaxis\":{\"endlinecolor\":\"#2a3f5f\",\"gridcolor\":\"white\",\"linecolor\":\"white\",\"minorgridcolor\":\"white\",\"startlinecolor\":\"#2a3f5f\"},\"baxis\":{\"endlinecolor\":\"#2a3f5f\",\"gridcolor\":\"white\",\"linecolor\":\"white\",\"minorgridcolor\":\"white\",\"startlinecolor\":\"#2a3f5f\"},\"type\":\"carpet\"}],\"table\":[{\"cells\":{\"fill\":{\"color\":\"#EBF0F8\"},\"line\":{\"color\":\"white\"}},\"header\":{\"fill\":{\"color\":\"#C8D4E3\"},\"line\":{\"color\":\"white\"}},\"type\":\"table\"}],\"barpolar\":[{\"marker\":{\"line\":{\"color\":\"#E5ECF6\",\"width\":0.5},\"pattern\":{\"fillmode\":\"overlay\",\"size\":10,\"solidity\":0.2}},\"type\":\"barpolar\"}],\"pie\":[{\"automargin\":true,\"type\":\"pie\"}]},\"layout\":{\"autotypenumbers\":\"strict\",\"colorway\":[\"#636efa\",\"#EF553B\",\"#00cc96\",\"#ab63fa\",\"#FFA15A\",\"#19d3f3\",\"#FF6692\",\"#B6E880\",\"#FF97FF\",\"#FECB52\"],\"font\":{\"color\":\"#2a3f5f\"},\"hovermode\":\"closest\",\"hoverlabel\":{\"align\":\"left\"},\"paper_bgcolor\":\"white\",\"plot_bgcolor\":\"#E5ECF6\",\"polar\":{\"bgcolor\":\"#E5ECF6\",\"angularaxis\":{\"gridcolor\":\"white\",\"linecolor\":\"white\",\"ticks\":\"\"},\"radialaxis\":{\"gridcolor\":\"white\",\"linecolor\":\"white\",\"ticks\":\"\"}},\"ternary\":{\"bgcolor\":\"#E5ECF6\",\"aaxis\":{\"gridcolor\":\"white\",\"linecolor\":\"white\",\"ticks\":\"\"},\"baxis\":{\"gridcolor\":\"white\",\"linecolor\":\"white\",\"ticks\":\"\"},\"caxis\":{\"gridcolor\":\"white\",\"linecolor\":\"white\",\"ticks\":\"\"}},\"coloraxis\":{\"colorbar\":{\"outlinewidth\":0,\"ticks\":\"\"}},\"colorscale\":{\"sequential\":[[0.0,\"#0d0887\"],[0.1111111111111111,\"#46039f\"],[0.2222222222222222,\"#7201a8\"],[0.3333333333333333,\"#9c179e\"],[0.4444444444444444,\"#bd3786\"],[0.5555555555555556,\"#d8576b\"],[0.6666666666666666,\"#ed7953\"],[0.7777777777777778,\"#fb9f3a\"],[0.8888888888888888,\"#fdca26\"],[1.0,\"#f0f921\"]],\"sequentialminus\":[[0.0,\"#0d0887\"],[0.1111111111111111,\"#46039f\"],[0.2222222222222222,\"#7201a8\"],[0.3333333333333333,\"#9c179e\"],[0.4444444444444444,\"#bd3786\"],[0.5555555555555556,\"#d8576b\"],[0.6666666666666666,\"#ed7953\"],[0.7777777777777778,\"#fb9f3a\"],[0.8888888888888888,\"#fdca26\"],[1.0,\"#f0f921\"]],\"diverging\":[[0,\"#8e0152\"],[0.1,\"#c51b7d\"],[0.2,\"#de77ae\"],[0.3,\"#f1b6da\"],[0.4,\"#fde0ef\"],[0.5,\"#f7f7f7\"],[0.6,\"#e6f5d0\"],[0.7,\"#b8e186\"],[0.8,\"#7fbc41\"],[0.9,\"#4d9221\"],[1,\"#276419\"]]},\"xaxis\":{\"gridcolor\":\"white\",\"linecolor\":\"white\",\"ticks\":\"\",\"title\":{\"standoff\":15},\"zerolinecolor\":\"white\",\"automargin\":true,\"zerolinewidth\":2},\"yaxis\":{\"gridcolor\":\"white\",\"linecolor\":\"white\",\"ticks\":\"\",\"title\":{\"standoff\":15},\"zerolinecolor\":\"white\",\"automargin\":true,\"zerolinewidth\":2},\"scene\":{\"xaxis\":{\"backgroundcolor\":\"#E5ECF6\",\"gridcolor\":\"white\",\"linecolor\":\"white\",\"showbackground\":true,\"ticks\":\"\",\"zerolinecolor\":\"white\",\"gridwidth\":2},\"yaxis\":{\"backgroundcolor\":\"#E5ECF6\",\"gridcolor\":\"white\",\"linecolor\":\"white\",\"showbackground\":true,\"ticks\":\"\",\"zerolinecolor\":\"white\",\"gridwidth\":2},\"zaxis\":{\"backgroundcolor\":\"#E5ECF6\",\"gridcolor\":\"white\",\"linecolor\":\"white\",\"showbackground\":true,\"ticks\":\"\",\"zerolinecolor\":\"white\",\"gridwidth\":2}},\"shapedefaults\":{\"line\":{\"color\":\"#2a3f5f\"}},\"annotationdefaults\":{\"arrowcolor\":\"#2a3f5f\",\"arrowhead\":0,\"arrowwidth\":1},\"geo\":{\"bgcolor\":\"white\",\"landcolor\":\"#E5ECF6\",\"subunitcolor\":\"white\",\"showland\":true,\"showlakes\":true,\"lakecolor\":\"white\"},\"title\":{\"x\":0.05},\"mapbox\":{\"style\":\"light\"}}},\"legend\":{\"orientation\":\"h\",\"yanchor\":\"top\",\"y\":1.25,\"xanchor\":\"left\",\"x\":0},\"margin\":{\"l\":0,\"r\":0,\"t\":0,\"b\":0},\"barmode\":\"stack\",\"hovermode\":\"y unified\",\"height\":200,\"width\":800},                        {\"responsive\": true}                    ).then(function(){\n",
       "                            \n",
       "var gd = document.getElementById('ca26f334-076d-4538-9539-13401e6d47b6');\n",
       "var x = new MutationObserver(function (mutations, observer) {{\n",
       "        var display = window.getComputedStyle(gd).display;\n",
       "        if (!display || display === 'none') {{\n",
       "            console.log([gd, 'removed!']);\n",
       "            Plotly.purge(gd);\n",
       "            observer.disconnect();\n",
       "        }}\n",
       "}});\n",
       "\n",
       "// Listen for the removal of the full notebook cells\n",
       "var notebookContainer = gd.closest('#notebook-container');\n",
       "if (notebookContainer) {{\n",
       "    x.observe(notebookContainer, {childList: true});\n",
       "}}\n",
       "\n",
       "// Listen for the clearing of the current output cell\n",
       "var outputEl = gd.closest('.output');\n",
       "if (outputEl) {{\n",
       "    x.observe(outputEl, {childList: true});\n",
       "}}\n",
       "\n",
       "                        })                };                });            </script>        </div>"
      ]
     },
     "metadata": {},
     "output_type": "display_data"
    },
    {
     "name": "stdout",
     "output_type": "stream",
     "text": [
      "jigsaw\n"
     ]
    },
    {
     "data": {
      "application/vnd.plotly.v1+json": {
       "config": {
        "plotlyServerURL": "https://plot.ly"
       },
       "data": [
        {
         "legendgroup": "text",
         "marker": {
          "color": "#00CC96"
         },
         "name": "text",
         "orientation": "h",
         "showlegend": true,
         "type": "bar",
         "x": [
          0.08054661344701529
         ],
         "y": [
          "disbert"
         ]
        },
        {
         "legendgroup": "tab",
         "marker": {
          "color": "#AB63FA"
         },
         "name": "tab",
         "orientation": "h",
         "showlegend": true,
         "type": "bar",
         "x": [
          0.006536409460830814
         ],
         "y": [
          "disbert"
         ]
        },
        {
         "legendgroup": "text template",
         "marker": {
          "color": "#FFA15A"
         },
         "name": "text template",
         "orientation": "h",
         "showlegend": true,
         "type": "bar",
         "x": [
          0.003573594072485119
         ],
         "y": [
          "disbert"
         ]
        },
        {
         "legendgroup": "tab template",
         "marker": {
          "color": "#19D3F3"
         },
         "name": "tab template",
         "orientation": "h",
         "showlegend": true,
         "type": "bar",
         "x": [
          0.023950120279430137
         ],
         "y": [
          "disbert"
         ]
        },
        {
         "legendgroup": "text",
         "marker": {
          "color": "#00CC96"
         },
         "name": "text",
         "orientation": "h",
         "showlegend": false,
         "type": "bar",
         "x": [
          0.11056163938926239
         ],
         "y": [
          "drob"
         ]
        },
        {
         "legendgroup": "tab",
         "marker": {
          "color": "#AB63FA"
         },
         "name": "tab",
         "orientation": "h",
         "showlegend": false,
         "type": "bar",
         "x": [
          0.012782242602924244
         ],
         "y": [
          "drob"
         ]
        },
        {
         "legendgroup": "text template",
         "marker": {
          "color": "#FFA15A"
         },
         "name": "text template",
         "orientation": "h",
         "showlegend": false,
         "type": "bar",
         "x": [
          0.007896134401199384
         ],
         "y": [
          "drob"
         ]
        },
        {
         "legendgroup": "tab template",
         "marker": {
          "color": "#19D3F3"
         },
         "name": "tab template",
         "orientation": "h",
         "showlegend": false,
         "type": "bar",
         "x": [
          0.05341068255643756
         ],
         "y": [
          "drob"
         ]
        },
        {
         "legendgroup": "text",
         "marker": {
          "color": "#00CC96"
         },
         "name": "text",
         "orientation": "h",
         "showlegend": false,
         "type": "bar",
         "x": [
          0.06075206886269122
         ],
         "y": [
          "deberta"
         ]
        },
        {
         "legendgroup": "tab",
         "marker": {
          "color": "#AB63FA"
         },
         "name": "tab",
         "orientation": "h",
         "showlegend": false,
         "type": "bar",
         "x": [
          0.004879668961087433
         ],
         "y": [
          "deberta"
         ]
        },
        {
         "legendgroup": "text template",
         "marker": {
          "color": "#FFA15A"
         },
         "name": "text template",
         "orientation": "h",
         "showlegend": false,
         "type": "bar",
         "x": [
          0.0030328505167445136
         ],
         "y": [
          "deberta"
         ]
        },
        {
         "legendgroup": "tab template",
         "marker": {
          "color": "#19D3F3"
         },
         "name": "tab template",
         "orientation": "h",
         "showlegend": false,
         "type": "bar",
         "x": [
          0.01645941088281783
         ],
         "y": [
          "deberta"
         ]
        },
        {
         "legendgroup": "text",
         "marker": {
          "color": "#00CC96"
         },
         "name": "text",
         "orientation": "h",
         "showlegend": false,
         "type": "bar",
         "x": [
          0.11191784667998687
         ],
         "y": [
          "bert"
         ]
        },
        {
         "legendgroup": "tab",
         "marker": {
          "color": "#AB63FA"
         },
         "name": "tab",
         "orientation": "h",
         "showlegend": false,
         "type": "bar",
         "x": [
          0.021373592405633513
         ],
         "y": [
          "bert"
         ]
        },
        {
         "legendgroup": "text template",
         "marker": {
          "color": "#FFA15A"
         },
         "name": "text template",
         "orientation": "h",
         "showlegend": false,
         "type": "bar",
         "x": [
          0.0038801155744739324
         ],
         "y": [
          "bert"
         ]
        },
        {
         "legendgroup": "tab template",
         "marker": {
          "color": "#19D3F3"
         },
         "name": "tab template",
         "orientation": "h",
         "showlegend": false,
         "type": "bar",
         "x": [
          0.06516291909724455
         ],
         "y": [
          "bert"
         ]
        }
       ],
       "layout": {
        "barmode": "stack",
        "height": 200,
        "hovermode": "y unified",
        "legend": {
         "orientation": "h",
         "x": 0,
         "xanchor": "left",
         "y": 1.25,
         "yanchor": "top"
        },
        "margin": {
         "b": 0,
         "l": 0,
         "r": 0,
         "t": 0
        },
        "template": {
         "data": {
          "bar": [
           {
            "error_x": {
             "color": "#2a3f5f"
            },
            "error_y": {
             "color": "#2a3f5f"
            },
            "marker": {
             "line": {
              "color": "#E5ECF6",
              "width": 0.5
             },
             "pattern": {
              "fillmode": "overlay",
              "size": 10,
              "solidity": 0.2
             }
            },
            "type": "bar"
           }
          ],
          "barpolar": [
           {
            "marker": {
             "line": {
              "color": "#E5ECF6",
              "width": 0.5
             },
             "pattern": {
              "fillmode": "overlay",
              "size": 10,
              "solidity": 0.2
             }
            },
            "type": "barpolar"
           }
          ],
          "carpet": [
           {
            "aaxis": {
             "endlinecolor": "#2a3f5f",
             "gridcolor": "white",
             "linecolor": "white",
             "minorgridcolor": "white",
             "startlinecolor": "#2a3f5f"
            },
            "baxis": {
             "endlinecolor": "#2a3f5f",
             "gridcolor": "white",
             "linecolor": "white",
             "minorgridcolor": "white",
             "startlinecolor": "#2a3f5f"
            },
            "type": "carpet"
           }
          ],
          "choropleth": [
           {
            "colorbar": {
             "outlinewidth": 0,
             "ticks": ""
            },
            "type": "choropleth"
           }
          ],
          "contour": [
           {
            "colorbar": {
             "outlinewidth": 0,
             "ticks": ""
            },
            "colorscale": [
             [
              0,
              "#0d0887"
             ],
             [
              0.1111111111111111,
              "#46039f"
             ],
             [
              0.2222222222222222,
              "#7201a8"
             ],
             [
              0.3333333333333333,
              "#9c179e"
             ],
             [
              0.4444444444444444,
              "#bd3786"
             ],
             [
              0.5555555555555556,
              "#d8576b"
             ],
             [
              0.6666666666666666,
              "#ed7953"
             ],
             [
              0.7777777777777778,
              "#fb9f3a"
             ],
             [
              0.8888888888888888,
              "#fdca26"
             ],
             [
              1,
              "#f0f921"
             ]
            ],
            "type": "contour"
           }
          ],
          "contourcarpet": [
           {
            "colorbar": {
             "outlinewidth": 0,
             "ticks": ""
            },
            "type": "contourcarpet"
           }
          ],
          "heatmap": [
           {
            "colorbar": {
             "outlinewidth": 0,
             "ticks": ""
            },
            "colorscale": [
             [
              0,
              "#0d0887"
             ],
             [
              0.1111111111111111,
              "#46039f"
             ],
             [
              0.2222222222222222,
              "#7201a8"
             ],
             [
              0.3333333333333333,
              "#9c179e"
             ],
             [
              0.4444444444444444,
              "#bd3786"
             ],
             [
              0.5555555555555556,
              "#d8576b"
             ],
             [
              0.6666666666666666,
              "#ed7953"
             ],
             [
              0.7777777777777778,
              "#fb9f3a"
             ],
             [
              0.8888888888888888,
              "#fdca26"
             ],
             [
              1,
              "#f0f921"
             ]
            ],
            "type": "heatmap"
           }
          ],
          "heatmapgl": [
           {
            "colorbar": {
             "outlinewidth": 0,
             "ticks": ""
            },
            "colorscale": [
             [
              0,
              "#0d0887"
             ],
             [
              0.1111111111111111,
              "#46039f"
             ],
             [
              0.2222222222222222,
              "#7201a8"
             ],
             [
              0.3333333333333333,
              "#9c179e"
             ],
             [
              0.4444444444444444,
              "#bd3786"
             ],
             [
              0.5555555555555556,
              "#d8576b"
             ],
             [
              0.6666666666666666,
              "#ed7953"
             ],
             [
              0.7777777777777778,
              "#fb9f3a"
             ],
             [
              0.8888888888888888,
              "#fdca26"
             ],
             [
              1,
              "#f0f921"
             ]
            ],
            "type": "heatmapgl"
           }
          ],
          "histogram": [
           {
            "marker": {
             "pattern": {
              "fillmode": "overlay",
              "size": 10,
              "solidity": 0.2
             }
            },
            "type": "histogram"
           }
          ],
          "histogram2d": [
           {
            "colorbar": {
             "outlinewidth": 0,
             "ticks": ""
            },
            "colorscale": [
             [
              0,
              "#0d0887"
             ],
             [
              0.1111111111111111,
              "#46039f"
             ],
             [
              0.2222222222222222,
              "#7201a8"
             ],
             [
              0.3333333333333333,
              "#9c179e"
             ],
             [
              0.4444444444444444,
              "#bd3786"
             ],
             [
              0.5555555555555556,
              "#d8576b"
             ],
             [
              0.6666666666666666,
              "#ed7953"
             ],
             [
              0.7777777777777778,
              "#fb9f3a"
             ],
             [
              0.8888888888888888,
              "#fdca26"
             ],
             [
              1,
              "#f0f921"
             ]
            ],
            "type": "histogram2d"
           }
          ],
          "histogram2dcontour": [
           {
            "colorbar": {
             "outlinewidth": 0,
             "ticks": ""
            },
            "colorscale": [
             [
              0,
              "#0d0887"
             ],
             [
              0.1111111111111111,
              "#46039f"
             ],
             [
              0.2222222222222222,
              "#7201a8"
             ],
             [
              0.3333333333333333,
              "#9c179e"
             ],
             [
              0.4444444444444444,
              "#bd3786"
             ],
             [
              0.5555555555555556,
              "#d8576b"
             ],
             [
              0.6666666666666666,
              "#ed7953"
             ],
             [
              0.7777777777777778,
              "#fb9f3a"
             ],
             [
              0.8888888888888888,
              "#fdca26"
             ],
             [
              1,
              "#f0f921"
             ]
            ],
            "type": "histogram2dcontour"
           }
          ],
          "mesh3d": [
           {
            "colorbar": {
             "outlinewidth": 0,
             "ticks": ""
            },
            "type": "mesh3d"
           }
          ],
          "parcoords": [
           {
            "line": {
             "colorbar": {
              "outlinewidth": 0,
              "ticks": ""
             }
            },
            "type": "parcoords"
           }
          ],
          "pie": [
           {
            "automargin": true,
            "type": "pie"
           }
          ],
          "scatter": [
           {
            "fillpattern": {
             "fillmode": "overlay",
             "size": 10,
             "solidity": 0.2
            },
            "type": "scatter"
           }
          ],
          "scatter3d": [
           {
            "line": {
             "colorbar": {
              "outlinewidth": 0,
              "ticks": ""
             }
            },
            "marker": {
             "colorbar": {
              "outlinewidth": 0,
              "ticks": ""
             }
            },
            "type": "scatter3d"
           }
          ],
          "scattercarpet": [
           {
            "marker": {
             "colorbar": {
              "outlinewidth": 0,
              "ticks": ""
             }
            },
            "type": "scattercarpet"
           }
          ],
          "scattergeo": [
           {
            "marker": {
             "colorbar": {
              "outlinewidth": 0,
              "ticks": ""
             }
            },
            "type": "scattergeo"
           }
          ],
          "scattergl": [
           {
            "marker": {
             "colorbar": {
              "outlinewidth": 0,
              "ticks": ""
             }
            },
            "type": "scattergl"
           }
          ],
          "scattermapbox": [
           {
            "marker": {
             "colorbar": {
              "outlinewidth": 0,
              "ticks": ""
             }
            },
            "type": "scattermapbox"
           }
          ],
          "scatterpolar": [
           {
            "marker": {
             "colorbar": {
              "outlinewidth": 0,
              "ticks": ""
             }
            },
            "type": "scatterpolar"
           }
          ],
          "scatterpolargl": [
           {
            "marker": {
             "colorbar": {
              "outlinewidth": 0,
              "ticks": ""
             }
            },
            "type": "scatterpolargl"
           }
          ],
          "scatterternary": [
           {
            "marker": {
             "colorbar": {
              "outlinewidth": 0,
              "ticks": ""
             }
            },
            "type": "scatterternary"
           }
          ],
          "surface": [
           {
            "colorbar": {
             "outlinewidth": 0,
             "ticks": ""
            },
            "colorscale": [
             [
              0,
              "#0d0887"
             ],
             [
              0.1111111111111111,
              "#46039f"
             ],
             [
              0.2222222222222222,
              "#7201a8"
             ],
             [
              0.3333333333333333,
              "#9c179e"
             ],
             [
              0.4444444444444444,
              "#bd3786"
             ],
             [
              0.5555555555555556,
              "#d8576b"
             ],
             [
              0.6666666666666666,
              "#ed7953"
             ],
             [
              0.7777777777777778,
              "#fb9f3a"
             ],
             [
              0.8888888888888888,
              "#fdca26"
             ],
             [
              1,
              "#f0f921"
             ]
            ],
            "type": "surface"
           }
          ],
          "table": [
           {
            "cells": {
             "fill": {
              "color": "#EBF0F8"
             },
             "line": {
              "color": "white"
             }
            },
            "header": {
             "fill": {
              "color": "#C8D4E3"
             },
             "line": {
              "color": "white"
             }
            },
            "type": "table"
           }
          ]
         },
         "layout": {
          "annotationdefaults": {
           "arrowcolor": "#2a3f5f",
           "arrowhead": 0,
           "arrowwidth": 1
          },
          "autotypenumbers": "strict",
          "coloraxis": {
           "colorbar": {
            "outlinewidth": 0,
            "ticks": ""
           }
          },
          "colorscale": {
           "diverging": [
            [
             0,
             "#8e0152"
            ],
            [
             0.1,
             "#c51b7d"
            ],
            [
             0.2,
             "#de77ae"
            ],
            [
             0.3,
             "#f1b6da"
            ],
            [
             0.4,
             "#fde0ef"
            ],
            [
             0.5,
             "#f7f7f7"
            ],
            [
             0.6,
             "#e6f5d0"
            ],
            [
             0.7,
             "#b8e186"
            ],
            [
             0.8,
             "#7fbc41"
            ],
            [
             0.9,
             "#4d9221"
            ],
            [
             1,
             "#276419"
            ]
           ],
           "sequential": [
            [
             0,
             "#0d0887"
            ],
            [
             0.1111111111111111,
             "#46039f"
            ],
            [
             0.2222222222222222,
             "#7201a8"
            ],
            [
             0.3333333333333333,
             "#9c179e"
            ],
            [
             0.4444444444444444,
             "#bd3786"
            ],
            [
             0.5555555555555556,
             "#d8576b"
            ],
            [
             0.6666666666666666,
             "#ed7953"
            ],
            [
             0.7777777777777778,
             "#fb9f3a"
            ],
            [
             0.8888888888888888,
             "#fdca26"
            ],
            [
             1,
             "#f0f921"
            ]
           ],
           "sequentialminus": [
            [
             0,
             "#0d0887"
            ],
            [
             0.1111111111111111,
             "#46039f"
            ],
            [
             0.2222222222222222,
             "#7201a8"
            ],
            [
             0.3333333333333333,
             "#9c179e"
            ],
            [
             0.4444444444444444,
             "#bd3786"
            ],
            [
             0.5555555555555556,
             "#d8576b"
            ],
            [
             0.6666666666666666,
             "#ed7953"
            ],
            [
             0.7777777777777778,
             "#fb9f3a"
            ],
            [
             0.8888888888888888,
             "#fdca26"
            ],
            [
             1,
             "#f0f921"
            ]
           ]
          },
          "colorway": [
           "#636efa",
           "#EF553B",
           "#00cc96",
           "#ab63fa",
           "#FFA15A",
           "#19d3f3",
           "#FF6692",
           "#B6E880",
           "#FF97FF",
           "#FECB52"
          ],
          "font": {
           "color": "#2a3f5f"
          },
          "geo": {
           "bgcolor": "white",
           "lakecolor": "white",
           "landcolor": "#E5ECF6",
           "showlakes": true,
           "showland": true,
           "subunitcolor": "white"
          },
          "hoverlabel": {
           "align": "left"
          },
          "hovermode": "closest",
          "mapbox": {
           "style": "light"
          },
          "paper_bgcolor": "white",
          "plot_bgcolor": "#E5ECF6",
          "polar": {
           "angularaxis": {
            "gridcolor": "white",
            "linecolor": "white",
            "ticks": ""
           },
           "bgcolor": "#E5ECF6",
           "radialaxis": {
            "gridcolor": "white",
            "linecolor": "white",
            "ticks": ""
           }
          },
          "scene": {
           "xaxis": {
            "backgroundcolor": "#E5ECF6",
            "gridcolor": "white",
            "gridwidth": 2,
            "linecolor": "white",
            "showbackground": true,
            "ticks": "",
            "zerolinecolor": "white"
           },
           "yaxis": {
            "backgroundcolor": "#E5ECF6",
            "gridcolor": "white",
            "gridwidth": 2,
            "linecolor": "white",
            "showbackground": true,
            "ticks": "",
            "zerolinecolor": "white"
           },
           "zaxis": {
            "backgroundcolor": "#E5ECF6",
            "gridcolor": "white",
            "gridwidth": 2,
            "linecolor": "white",
            "showbackground": true,
            "ticks": "",
            "zerolinecolor": "white"
           }
          },
          "shapedefaults": {
           "line": {
            "color": "#2a3f5f"
           }
          },
          "ternary": {
           "aaxis": {
            "gridcolor": "white",
            "linecolor": "white",
            "ticks": ""
           },
           "baxis": {
            "gridcolor": "white",
            "linecolor": "white",
            "ticks": ""
           },
           "bgcolor": "#E5ECF6",
           "caxis": {
            "gridcolor": "white",
            "linecolor": "white",
            "ticks": ""
           }
          },
          "title": {
           "x": 0.05
          },
          "xaxis": {
           "automargin": true,
           "gridcolor": "white",
           "linecolor": "white",
           "ticks": "",
           "title": {
            "standoff": 15
           },
           "zerolinecolor": "white",
           "zerolinewidth": 2
          },
          "yaxis": {
           "automargin": true,
           "gridcolor": "white",
           "linecolor": "white",
           "ticks": "",
           "title": {
            "standoff": 15
           },
           "zerolinecolor": "white",
           "zerolinewidth": 2
          }
         }
        },
        "width": 800
       }
      },
      "text/html": [
       "<div>                            <div id=\"496b0a32-b844-4d9d-b1cf-74e541763aa7\" class=\"plotly-graph-div\" style=\"height:200px; width:800px;\"></div>            <script type=\"text/javascript\">                require([\"plotly\"], function(Plotly) {                    window.PLOTLYENV=window.PLOTLYENV || {};                                    if (document.getElementById(\"496b0a32-b844-4d9d-b1cf-74e541763aa7\")) {                    Plotly.newPlot(                        \"496b0a32-b844-4d9d-b1cf-74e541763aa7\",                        [{\"legendgroup\":\"text\",\"marker\":{\"color\":\"#00CC96\"},\"name\":\"text\",\"orientation\":\"h\",\"showlegend\":true,\"x\":[0.08054661344701529],\"y\":[\"disbert\"],\"type\":\"bar\"},{\"legendgroup\":\"tab\",\"marker\":{\"color\":\"#AB63FA\"},\"name\":\"tab\",\"orientation\":\"h\",\"showlegend\":true,\"x\":[0.006536409460830814],\"y\":[\"disbert\"],\"type\":\"bar\"},{\"legendgroup\":\"text template\",\"marker\":{\"color\":\"#FFA15A\"},\"name\":\"text template\",\"orientation\":\"h\",\"showlegend\":true,\"x\":[0.003573594072485119],\"y\":[\"disbert\"],\"type\":\"bar\"},{\"legendgroup\":\"tab template\",\"marker\":{\"color\":\"#19D3F3\"},\"name\":\"tab template\",\"orientation\":\"h\",\"showlegend\":true,\"x\":[0.023950120279430137],\"y\":[\"disbert\"],\"type\":\"bar\"},{\"legendgroup\":\"text\",\"marker\":{\"color\":\"#00CC96\"},\"name\":\"text\",\"orientation\":\"h\",\"showlegend\":false,\"x\":[0.11056163938926239],\"y\":[\"drob\"],\"type\":\"bar\"},{\"legendgroup\":\"tab\",\"marker\":{\"color\":\"#AB63FA\"},\"name\":\"tab\",\"orientation\":\"h\",\"showlegend\":false,\"x\":[0.012782242602924244],\"y\":[\"drob\"],\"type\":\"bar\"},{\"legendgroup\":\"text template\",\"marker\":{\"color\":\"#FFA15A\"},\"name\":\"text template\",\"orientation\":\"h\",\"showlegend\":false,\"x\":[0.007896134401199384],\"y\":[\"drob\"],\"type\":\"bar\"},{\"legendgroup\":\"tab template\",\"marker\":{\"color\":\"#19D3F3\"},\"name\":\"tab template\",\"orientation\":\"h\",\"showlegend\":false,\"x\":[0.05341068255643756],\"y\":[\"drob\"],\"type\":\"bar\"},{\"legendgroup\":\"text\",\"marker\":{\"color\":\"#00CC96\"},\"name\":\"text\",\"orientation\":\"h\",\"showlegend\":false,\"x\":[0.06075206886269122],\"y\":[\"deberta\"],\"type\":\"bar\"},{\"legendgroup\":\"tab\",\"marker\":{\"color\":\"#AB63FA\"},\"name\":\"tab\",\"orientation\":\"h\",\"showlegend\":false,\"x\":[0.004879668961087433],\"y\":[\"deberta\"],\"type\":\"bar\"},{\"legendgroup\":\"text template\",\"marker\":{\"color\":\"#FFA15A\"},\"name\":\"text template\",\"orientation\":\"h\",\"showlegend\":false,\"x\":[0.0030328505167445136],\"y\":[\"deberta\"],\"type\":\"bar\"},{\"legendgroup\":\"tab template\",\"marker\":{\"color\":\"#19D3F3\"},\"name\":\"tab template\",\"orientation\":\"h\",\"showlegend\":false,\"x\":[0.01645941088281783],\"y\":[\"deberta\"],\"type\":\"bar\"},{\"legendgroup\":\"text\",\"marker\":{\"color\":\"#00CC96\"},\"name\":\"text\",\"orientation\":\"h\",\"showlegend\":false,\"x\":[0.11191784667998687],\"y\":[\"bert\"],\"type\":\"bar\"},{\"legendgroup\":\"tab\",\"marker\":{\"color\":\"#AB63FA\"},\"name\":\"tab\",\"orientation\":\"h\",\"showlegend\":false,\"x\":[0.021373592405633513],\"y\":[\"bert\"],\"type\":\"bar\"},{\"legendgroup\":\"text template\",\"marker\":{\"color\":\"#FFA15A\"},\"name\":\"text template\",\"orientation\":\"h\",\"showlegend\":false,\"x\":[0.0038801155744739324],\"y\":[\"bert\"],\"type\":\"bar\"},{\"legendgroup\":\"tab template\",\"marker\":{\"color\":\"#19D3F3\"},\"name\":\"tab template\",\"orientation\":\"h\",\"showlegend\":false,\"x\":[0.06516291909724455],\"y\":[\"bert\"],\"type\":\"bar\"}],                        {\"template\":{\"data\":{\"histogram2dcontour\":[{\"type\":\"histogram2dcontour\",\"colorbar\":{\"outlinewidth\":0,\"ticks\":\"\"},\"colorscale\":[[0.0,\"#0d0887\"],[0.1111111111111111,\"#46039f\"],[0.2222222222222222,\"#7201a8\"],[0.3333333333333333,\"#9c179e\"],[0.4444444444444444,\"#bd3786\"],[0.5555555555555556,\"#d8576b\"],[0.6666666666666666,\"#ed7953\"],[0.7777777777777778,\"#fb9f3a\"],[0.8888888888888888,\"#fdca26\"],[1.0,\"#f0f921\"]]}],\"choropleth\":[{\"type\":\"choropleth\",\"colorbar\":{\"outlinewidth\":0,\"ticks\":\"\"}}],\"histogram2d\":[{\"type\":\"histogram2d\",\"colorbar\":{\"outlinewidth\":0,\"ticks\":\"\"},\"colorscale\":[[0.0,\"#0d0887\"],[0.1111111111111111,\"#46039f\"],[0.2222222222222222,\"#7201a8\"],[0.3333333333333333,\"#9c179e\"],[0.4444444444444444,\"#bd3786\"],[0.5555555555555556,\"#d8576b\"],[0.6666666666666666,\"#ed7953\"],[0.7777777777777778,\"#fb9f3a\"],[0.8888888888888888,\"#fdca26\"],[1.0,\"#f0f921\"]]}],\"heatmap\":[{\"type\":\"heatmap\",\"colorbar\":{\"outlinewidth\":0,\"ticks\":\"\"},\"colorscale\":[[0.0,\"#0d0887\"],[0.1111111111111111,\"#46039f\"],[0.2222222222222222,\"#7201a8\"],[0.3333333333333333,\"#9c179e\"],[0.4444444444444444,\"#bd3786\"],[0.5555555555555556,\"#d8576b\"],[0.6666666666666666,\"#ed7953\"],[0.7777777777777778,\"#fb9f3a\"],[0.8888888888888888,\"#fdca26\"],[1.0,\"#f0f921\"]]}],\"heatmapgl\":[{\"type\":\"heatmapgl\",\"colorbar\":{\"outlinewidth\":0,\"ticks\":\"\"},\"colorscale\":[[0.0,\"#0d0887\"],[0.1111111111111111,\"#46039f\"],[0.2222222222222222,\"#7201a8\"],[0.3333333333333333,\"#9c179e\"],[0.4444444444444444,\"#bd3786\"],[0.5555555555555556,\"#d8576b\"],[0.6666666666666666,\"#ed7953\"],[0.7777777777777778,\"#fb9f3a\"],[0.8888888888888888,\"#fdca26\"],[1.0,\"#f0f921\"]]}],\"contourcarpet\":[{\"type\":\"contourcarpet\",\"colorbar\":{\"outlinewidth\":0,\"ticks\":\"\"}}],\"contour\":[{\"type\":\"contour\",\"colorbar\":{\"outlinewidth\":0,\"ticks\":\"\"},\"colorscale\":[[0.0,\"#0d0887\"],[0.1111111111111111,\"#46039f\"],[0.2222222222222222,\"#7201a8\"],[0.3333333333333333,\"#9c179e\"],[0.4444444444444444,\"#bd3786\"],[0.5555555555555556,\"#d8576b\"],[0.6666666666666666,\"#ed7953\"],[0.7777777777777778,\"#fb9f3a\"],[0.8888888888888888,\"#fdca26\"],[1.0,\"#f0f921\"]]}],\"surface\":[{\"type\":\"surface\",\"colorbar\":{\"outlinewidth\":0,\"ticks\":\"\"},\"colorscale\":[[0.0,\"#0d0887\"],[0.1111111111111111,\"#46039f\"],[0.2222222222222222,\"#7201a8\"],[0.3333333333333333,\"#9c179e\"],[0.4444444444444444,\"#bd3786\"],[0.5555555555555556,\"#d8576b\"],[0.6666666666666666,\"#ed7953\"],[0.7777777777777778,\"#fb9f3a\"],[0.8888888888888888,\"#fdca26\"],[1.0,\"#f0f921\"]]}],\"mesh3d\":[{\"type\":\"mesh3d\",\"colorbar\":{\"outlinewidth\":0,\"ticks\":\"\"}}],\"scatter\":[{\"fillpattern\":{\"fillmode\":\"overlay\",\"size\":10,\"solidity\":0.2},\"type\":\"scatter\"}],\"parcoords\":[{\"type\":\"parcoords\",\"line\":{\"colorbar\":{\"outlinewidth\":0,\"ticks\":\"\"}}}],\"scatterpolargl\":[{\"type\":\"scatterpolargl\",\"marker\":{\"colorbar\":{\"outlinewidth\":0,\"ticks\":\"\"}}}],\"bar\":[{\"error_x\":{\"color\":\"#2a3f5f\"},\"error_y\":{\"color\":\"#2a3f5f\"},\"marker\":{\"line\":{\"color\":\"#E5ECF6\",\"width\":0.5},\"pattern\":{\"fillmode\":\"overlay\",\"size\":10,\"solidity\":0.2}},\"type\":\"bar\"}],\"scattergeo\":[{\"type\":\"scattergeo\",\"marker\":{\"colorbar\":{\"outlinewidth\":0,\"ticks\":\"\"}}}],\"scatterpolar\":[{\"type\":\"scatterpolar\",\"marker\":{\"colorbar\":{\"outlinewidth\":0,\"ticks\":\"\"}}}],\"histogram\":[{\"marker\":{\"pattern\":{\"fillmode\":\"overlay\",\"size\":10,\"solidity\":0.2}},\"type\":\"histogram\"}],\"scattergl\":[{\"type\":\"scattergl\",\"marker\":{\"colorbar\":{\"outlinewidth\":0,\"ticks\":\"\"}}}],\"scatter3d\":[{\"type\":\"scatter3d\",\"line\":{\"colorbar\":{\"outlinewidth\":0,\"ticks\":\"\"}},\"marker\":{\"colorbar\":{\"outlinewidth\":0,\"ticks\":\"\"}}}],\"scattermapbox\":[{\"type\":\"scattermapbox\",\"marker\":{\"colorbar\":{\"outlinewidth\":0,\"ticks\":\"\"}}}],\"scatterternary\":[{\"type\":\"scatterternary\",\"marker\":{\"colorbar\":{\"outlinewidth\":0,\"ticks\":\"\"}}}],\"scattercarpet\":[{\"type\":\"scattercarpet\",\"marker\":{\"colorbar\":{\"outlinewidth\":0,\"ticks\":\"\"}}}],\"carpet\":[{\"aaxis\":{\"endlinecolor\":\"#2a3f5f\",\"gridcolor\":\"white\",\"linecolor\":\"white\",\"minorgridcolor\":\"white\",\"startlinecolor\":\"#2a3f5f\"},\"baxis\":{\"endlinecolor\":\"#2a3f5f\",\"gridcolor\":\"white\",\"linecolor\":\"white\",\"minorgridcolor\":\"white\",\"startlinecolor\":\"#2a3f5f\"},\"type\":\"carpet\"}],\"table\":[{\"cells\":{\"fill\":{\"color\":\"#EBF0F8\"},\"line\":{\"color\":\"white\"}},\"header\":{\"fill\":{\"color\":\"#C8D4E3\"},\"line\":{\"color\":\"white\"}},\"type\":\"table\"}],\"barpolar\":[{\"marker\":{\"line\":{\"color\":\"#E5ECF6\",\"width\":0.5},\"pattern\":{\"fillmode\":\"overlay\",\"size\":10,\"solidity\":0.2}},\"type\":\"barpolar\"}],\"pie\":[{\"automargin\":true,\"type\":\"pie\"}]},\"layout\":{\"autotypenumbers\":\"strict\",\"colorway\":[\"#636efa\",\"#EF553B\",\"#00cc96\",\"#ab63fa\",\"#FFA15A\",\"#19d3f3\",\"#FF6692\",\"#B6E880\",\"#FF97FF\",\"#FECB52\"],\"font\":{\"color\":\"#2a3f5f\"},\"hovermode\":\"closest\",\"hoverlabel\":{\"align\":\"left\"},\"paper_bgcolor\":\"white\",\"plot_bgcolor\":\"#E5ECF6\",\"polar\":{\"bgcolor\":\"#E5ECF6\",\"angularaxis\":{\"gridcolor\":\"white\",\"linecolor\":\"white\",\"ticks\":\"\"},\"radialaxis\":{\"gridcolor\":\"white\",\"linecolor\":\"white\",\"ticks\":\"\"}},\"ternary\":{\"bgcolor\":\"#E5ECF6\",\"aaxis\":{\"gridcolor\":\"white\",\"linecolor\":\"white\",\"ticks\":\"\"},\"baxis\":{\"gridcolor\":\"white\",\"linecolor\":\"white\",\"ticks\":\"\"},\"caxis\":{\"gridcolor\":\"white\",\"linecolor\":\"white\",\"ticks\":\"\"}},\"coloraxis\":{\"colorbar\":{\"outlinewidth\":0,\"ticks\":\"\"}},\"colorscale\":{\"sequential\":[[0.0,\"#0d0887\"],[0.1111111111111111,\"#46039f\"],[0.2222222222222222,\"#7201a8\"],[0.3333333333333333,\"#9c179e\"],[0.4444444444444444,\"#bd3786\"],[0.5555555555555556,\"#d8576b\"],[0.6666666666666666,\"#ed7953\"],[0.7777777777777778,\"#fb9f3a\"],[0.8888888888888888,\"#fdca26\"],[1.0,\"#f0f921\"]],\"sequentialminus\":[[0.0,\"#0d0887\"],[0.1111111111111111,\"#46039f\"],[0.2222222222222222,\"#7201a8\"],[0.3333333333333333,\"#9c179e\"],[0.4444444444444444,\"#bd3786\"],[0.5555555555555556,\"#d8576b\"],[0.6666666666666666,\"#ed7953\"],[0.7777777777777778,\"#fb9f3a\"],[0.8888888888888888,\"#fdca26\"],[1.0,\"#f0f921\"]],\"diverging\":[[0,\"#8e0152\"],[0.1,\"#c51b7d\"],[0.2,\"#de77ae\"],[0.3,\"#f1b6da\"],[0.4,\"#fde0ef\"],[0.5,\"#f7f7f7\"],[0.6,\"#e6f5d0\"],[0.7,\"#b8e186\"],[0.8,\"#7fbc41\"],[0.9,\"#4d9221\"],[1,\"#276419\"]]},\"xaxis\":{\"gridcolor\":\"white\",\"linecolor\":\"white\",\"ticks\":\"\",\"title\":{\"standoff\":15},\"zerolinecolor\":\"white\",\"automargin\":true,\"zerolinewidth\":2},\"yaxis\":{\"gridcolor\":\"white\",\"linecolor\":\"white\",\"ticks\":\"\",\"title\":{\"standoff\":15},\"zerolinecolor\":\"white\",\"automargin\":true,\"zerolinewidth\":2},\"scene\":{\"xaxis\":{\"backgroundcolor\":\"#E5ECF6\",\"gridcolor\":\"white\",\"linecolor\":\"white\",\"showbackground\":true,\"ticks\":\"\",\"zerolinecolor\":\"white\",\"gridwidth\":2},\"yaxis\":{\"backgroundcolor\":\"#E5ECF6\",\"gridcolor\":\"white\",\"linecolor\":\"white\",\"showbackground\":true,\"ticks\":\"\",\"zerolinecolor\":\"white\",\"gridwidth\":2},\"zaxis\":{\"backgroundcolor\":\"#E5ECF6\",\"gridcolor\":\"white\",\"linecolor\":\"white\",\"showbackground\":true,\"ticks\":\"\",\"zerolinecolor\":\"white\",\"gridwidth\":2}},\"shapedefaults\":{\"line\":{\"color\":\"#2a3f5f\"}},\"annotationdefaults\":{\"arrowcolor\":\"#2a3f5f\",\"arrowhead\":0,\"arrowwidth\":1},\"geo\":{\"bgcolor\":\"white\",\"landcolor\":\"#E5ECF6\",\"subunitcolor\":\"white\",\"showland\":true,\"showlakes\":true,\"lakecolor\":\"white\"},\"title\":{\"x\":0.05},\"mapbox\":{\"style\":\"light\"}}},\"legend\":{\"orientation\":\"h\",\"yanchor\":\"top\",\"y\":1.25,\"xanchor\":\"left\",\"x\":0},\"margin\":{\"l\":0,\"r\":0,\"t\":0,\"b\":0},\"barmode\":\"stack\",\"hovermode\":\"y unified\",\"height\":200,\"width\":800},                        {\"responsive\": true}                    ).then(function(){\n",
       "                            \n",
       "var gd = document.getElementById('496b0a32-b844-4d9d-b1cf-74e541763aa7');\n",
       "var x = new MutationObserver(function (mutations, observer) {{\n",
       "        var display = window.getComputedStyle(gd).display;\n",
       "        if (!display || display === 'none') {{\n",
       "            console.log([gd, 'removed!']);\n",
       "            Plotly.purge(gd);\n",
       "            observer.disconnect();\n",
       "        }}\n",
       "}});\n",
       "\n",
       "// Listen for the removal of the full notebook cells\n",
       "var notebookContainer = gd.closest('#notebook-container');\n",
       "if (notebookContainer) {{\n",
       "    x.observe(notebookContainer, {childList: true});\n",
       "}}\n",
       "\n",
       "// Listen for the clearing of the current output cell\n",
       "var outputEl = gd.closest('.output');\n",
       "if (outputEl) {{\n",
       "    x.observe(outputEl, {childList: true});\n",
       "}}\n",
       "\n",
       "                        })                };                });            </script>        </div>"
      ]
     },
     "metadata": {},
     "output_type": "display_data"
    },
    {
     "name": "stdout",
     "output_type": "stream",
     "text": [
      "kick\n"
     ]
    },
    {
     "data": {
      "application/vnd.plotly.v1+json": {
       "config": {
        "plotlyServerURL": "https://plot.ly"
       },
       "data": [
        {
         "legendgroup": "text",
         "marker": {
          "color": "#00CC96"
         },
         "name": "text",
         "orientation": "h",
         "showlegend": true,
         "type": "bar",
         "x": [
          0.2540344012851743
         ],
         "y": [
          "disbert"
         ]
        },
        {
         "legendgroup": "tab",
         "marker": {
          "color": "#AB63FA"
         },
         "name": "tab",
         "orientation": "h",
         "showlegend": true,
         "type": "bar",
         "x": [
          0.15399927644429035
         ],
         "y": [
          "disbert"
         ]
        },
        {
         "legendgroup": "text template",
         "marker": {
          "color": "#FFA15A"
         },
         "name": "text template",
         "orientation": "h",
         "showlegend": true,
         "type": "bar",
         "x": [
          0.033561587680933126
         ],
         "y": [
          "disbert"
         ]
        },
        {
         "legendgroup": "tab template",
         "marker": {
          "color": "#19D3F3"
         },
         "name": "tab template",
         "orientation": "h",
         "showlegend": true,
         "type": "bar",
         "x": [
          0.06665934062788709
         ],
         "y": [
          "disbert"
         ]
        },
        {
         "legendgroup": "text",
         "marker": {
          "color": "#00CC96"
         },
         "name": "text",
         "orientation": "h",
         "showlegend": false,
         "type": "bar",
         "x": [
          0.4657458574469024
         ],
         "y": [
          "drob"
         ]
        },
        {
         "legendgroup": "tab",
         "marker": {
          "color": "#AB63FA"
         },
         "name": "tab",
         "orientation": "h",
         "showlegend": false,
         "type": "bar",
         "x": [
          0.13810345408961291
         ],
         "y": [
          "drob"
         ]
        },
        {
         "legendgroup": "text template",
         "marker": {
          "color": "#FFA15A"
         },
         "name": "text template",
         "orientation": "h",
         "showlegend": false,
         "type": "bar",
         "x": [
          0.04548741500585463
         ],
         "y": [
          "drob"
         ]
        },
        {
         "legendgroup": "tab template",
         "marker": {
          "color": "#19D3F3"
         },
         "name": "tab template",
         "orientation": "h",
         "showlegend": false,
         "type": "bar",
         "x": [
          0.09393772746427981
         ],
         "y": [
          "drob"
         ]
        },
        {
         "legendgroup": "text",
         "marker": {
          "color": "#00CC96"
         },
         "name": "text",
         "orientation": "h",
         "showlegend": false,
         "type": "bar",
         "x": [
          0.332727552677056
         ],
         "y": [
          "deberta"
         ]
        },
        {
         "legendgroup": "tab",
         "marker": {
          "color": "#AB63FA"
         },
         "name": "tab",
         "orientation": "h",
         "showlegend": false,
         "type": "bar",
         "x": [
          0.27478492456447456
         ],
         "y": [
          "deberta"
         ]
        },
        {
         "legendgroup": "text template",
         "marker": {
          "color": "#FFA15A"
         },
         "name": "text template",
         "orientation": "h",
         "showlegend": false,
         "type": "bar",
         "x": [
          0.08006920559725063
         ],
         "y": [
          "deberta"
         ]
        },
        {
         "legendgroup": "tab template",
         "marker": {
          "color": "#19D3F3"
         },
         "name": "tab template",
         "orientation": "h",
         "showlegend": false,
         "type": "bar",
         "x": [
          0.11182111894819874
         ],
         "y": [
          "deberta"
         ]
        },
        {
         "legendgroup": "text",
         "marker": {
          "color": "#00CC96"
         },
         "name": "text",
         "orientation": "h",
         "showlegend": false,
         "type": "bar",
         "x": [
          0.2843775397409123
         ],
         "y": [
          "bert"
         ]
        },
        {
         "legendgroup": "tab",
         "marker": {
          "color": "#AB63FA"
         },
         "name": "tab",
         "orientation": "h",
         "showlegend": false,
         "type": "bar",
         "x": [
          0.178499773333265
         ],
         "y": [
          "bert"
         ]
        },
        {
         "legendgroup": "text template",
         "marker": {
          "color": "#FFA15A"
         },
         "name": "text template",
         "orientation": "h",
         "showlegend": false,
         "type": "bar",
         "x": [
          0.03327721666075689
         ],
         "y": [
          "bert"
         ]
        },
        {
         "legendgroup": "tab template",
         "marker": {
          "color": "#19D3F3"
         },
         "name": "tab template",
         "orientation": "h",
         "showlegend": false,
         "type": "bar",
         "x": [
          0.12879865395884788
         ],
         "y": [
          "bert"
         ]
        }
       ],
       "layout": {
        "barmode": "stack",
        "height": 200,
        "hovermode": "y unified",
        "legend": {
         "orientation": "h",
         "x": 0,
         "xanchor": "left",
         "y": 1.25,
         "yanchor": "top"
        },
        "margin": {
         "b": 0,
         "l": 0,
         "r": 0,
         "t": 0
        },
        "template": {
         "data": {
          "bar": [
           {
            "error_x": {
             "color": "#2a3f5f"
            },
            "error_y": {
             "color": "#2a3f5f"
            },
            "marker": {
             "line": {
              "color": "#E5ECF6",
              "width": 0.5
             },
             "pattern": {
              "fillmode": "overlay",
              "size": 10,
              "solidity": 0.2
             }
            },
            "type": "bar"
           }
          ],
          "barpolar": [
           {
            "marker": {
             "line": {
              "color": "#E5ECF6",
              "width": 0.5
             },
             "pattern": {
              "fillmode": "overlay",
              "size": 10,
              "solidity": 0.2
             }
            },
            "type": "barpolar"
           }
          ],
          "carpet": [
           {
            "aaxis": {
             "endlinecolor": "#2a3f5f",
             "gridcolor": "white",
             "linecolor": "white",
             "minorgridcolor": "white",
             "startlinecolor": "#2a3f5f"
            },
            "baxis": {
             "endlinecolor": "#2a3f5f",
             "gridcolor": "white",
             "linecolor": "white",
             "minorgridcolor": "white",
             "startlinecolor": "#2a3f5f"
            },
            "type": "carpet"
           }
          ],
          "choropleth": [
           {
            "colorbar": {
             "outlinewidth": 0,
             "ticks": ""
            },
            "type": "choropleth"
           }
          ],
          "contour": [
           {
            "colorbar": {
             "outlinewidth": 0,
             "ticks": ""
            },
            "colorscale": [
             [
              0,
              "#0d0887"
             ],
             [
              0.1111111111111111,
              "#46039f"
             ],
             [
              0.2222222222222222,
              "#7201a8"
             ],
             [
              0.3333333333333333,
              "#9c179e"
             ],
             [
              0.4444444444444444,
              "#bd3786"
             ],
             [
              0.5555555555555556,
              "#d8576b"
             ],
             [
              0.6666666666666666,
              "#ed7953"
             ],
             [
              0.7777777777777778,
              "#fb9f3a"
             ],
             [
              0.8888888888888888,
              "#fdca26"
             ],
             [
              1,
              "#f0f921"
             ]
            ],
            "type": "contour"
           }
          ],
          "contourcarpet": [
           {
            "colorbar": {
             "outlinewidth": 0,
             "ticks": ""
            },
            "type": "contourcarpet"
           }
          ],
          "heatmap": [
           {
            "colorbar": {
             "outlinewidth": 0,
             "ticks": ""
            },
            "colorscale": [
             [
              0,
              "#0d0887"
             ],
             [
              0.1111111111111111,
              "#46039f"
             ],
             [
              0.2222222222222222,
              "#7201a8"
             ],
             [
              0.3333333333333333,
              "#9c179e"
             ],
             [
              0.4444444444444444,
              "#bd3786"
             ],
             [
              0.5555555555555556,
              "#d8576b"
             ],
             [
              0.6666666666666666,
              "#ed7953"
             ],
             [
              0.7777777777777778,
              "#fb9f3a"
             ],
             [
              0.8888888888888888,
              "#fdca26"
             ],
             [
              1,
              "#f0f921"
             ]
            ],
            "type": "heatmap"
           }
          ],
          "heatmapgl": [
           {
            "colorbar": {
             "outlinewidth": 0,
             "ticks": ""
            },
            "colorscale": [
             [
              0,
              "#0d0887"
             ],
             [
              0.1111111111111111,
              "#46039f"
             ],
             [
              0.2222222222222222,
              "#7201a8"
             ],
             [
              0.3333333333333333,
              "#9c179e"
             ],
             [
              0.4444444444444444,
              "#bd3786"
             ],
             [
              0.5555555555555556,
              "#d8576b"
             ],
             [
              0.6666666666666666,
              "#ed7953"
             ],
             [
              0.7777777777777778,
              "#fb9f3a"
             ],
             [
              0.8888888888888888,
              "#fdca26"
             ],
             [
              1,
              "#f0f921"
             ]
            ],
            "type": "heatmapgl"
           }
          ],
          "histogram": [
           {
            "marker": {
             "pattern": {
              "fillmode": "overlay",
              "size": 10,
              "solidity": 0.2
             }
            },
            "type": "histogram"
           }
          ],
          "histogram2d": [
           {
            "colorbar": {
             "outlinewidth": 0,
             "ticks": ""
            },
            "colorscale": [
             [
              0,
              "#0d0887"
             ],
             [
              0.1111111111111111,
              "#46039f"
             ],
             [
              0.2222222222222222,
              "#7201a8"
             ],
             [
              0.3333333333333333,
              "#9c179e"
             ],
             [
              0.4444444444444444,
              "#bd3786"
             ],
             [
              0.5555555555555556,
              "#d8576b"
             ],
             [
              0.6666666666666666,
              "#ed7953"
             ],
             [
              0.7777777777777778,
              "#fb9f3a"
             ],
             [
              0.8888888888888888,
              "#fdca26"
             ],
             [
              1,
              "#f0f921"
             ]
            ],
            "type": "histogram2d"
           }
          ],
          "histogram2dcontour": [
           {
            "colorbar": {
             "outlinewidth": 0,
             "ticks": ""
            },
            "colorscale": [
             [
              0,
              "#0d0887"
             ],
             [
              0.1111111111111111,
              "#46039f"
             ],
             [
              0.2222222222222222,
              "#7201a8"
             ],
             [
              0.3333333333333333,
              "#9c179e"
             ],
             [
              0.4444444444444444,
              "#bd3786"
             ],
             [
              0.5555555555555556,
              "#d8576b"
             ],
             [
              0.6666666666666666,
              "#ed7953"
             ],
             [
              0.7777777777777778,
              "#fb9f3a"
             ],
             [
              0.8888888888888888,
              "#fdca26"
             ],
             [
              1,
              "#f0f921"
             ]
            ],
            "type": "histogram2dcontour"
           }
          ],
          "mesh3d": [
           {
            "colorbar": {
             "outlinewidth": 0,
             "ticks": ""
            },
            "type": "mesh3d"
           }
          ],
          "parcoords": [
           {
            "line": {
             "colorbar": {
              "outlinewidth": 0,
              "ticks": ""
             }
            },
            "type": "parcoords"
           }
          ],
          "pie": [
           {
            "automargin": true,
            "type": "pie"
           }
          ],
          "scatter": [
           {
            "fillpattern": {
             "fillmode": "overlay",
             "size": 10,
             "solidity": 0.2
            },
            "type": "scatter"
           }
          ],
          "scatter3d": [
           {
            "line": {
             "colorbar": {
              "outlinewidth": 0,
              "ticks": ""
             }
            },
            "marker": {
             "colorbar": {
              "outlinewidth": 0,
              "ticks": ""
             }
            },
            "type": "scatter3d"
           }
          ],
          "scattercarpet": [
           {
            "marker": {
             "colorbar": {
              "outlinewidth": 0,
              "ticks": ""
             }
            },
            "type": "scattercarpet"
           }
          ],
          "scattergeo": [
           {
            "marker": {
             "colorbar": {
              "outlinewidth": 0,
              "ticks": ""
             }
            },
            "type": "scattergeo"
           }
          ],
          "scattergl": [
           {
            "marker": {
             "colorbar": {
              "outlinewidth": 0,
              "ticks": ""
             }
            },
            "type": "scattergl"
           }
          ],
          "scattermapbox": [
           {
            "marker": {
             "colorbar": {
              "outlinewidth": 0,
              "ticks": ""
             }
            },
            "type": "scattermapbox"
           }
          ],
          "scatterpolar": [
           {
            "marker": {
             "colorbar": {
              "outlinewidth": 0,
              "ticks": ""
             }
            },
            "type": "scatterpolar"
           }
          ],
          "scatterpolargl": [
           {
            "marker": {
             "colorbar": {
              "outlinewidth": 0,
              "ticks": ""
             }
            },
            "type": "scatterpolargl"
           }
          ],
          "scatterternary": [
           {
            "marker": {
             "colorbar": {
              "outlinewidth": 0,
              "ticks": ""
             }
            },
            "type": "scatterternary"
           }
          ],
          "surface": [
           {
            "colorbar": {
             "outlinewidth": 0,
             "ticks": ""
            },
            "colorscale": [
             [
              0,
              "#0d0887"
             ],
             [
              0.1111111111111111,
              "#46039f"
             ],
             [
              0.2222222222222222,
              "#7201a8"
             ],
             [
              0.3333333333333333,
              "#9c179e"
             ],
             [
              0.4444444444444444,
              "#bd3786"
             ],
             [
              0.5555555555555556,
              "#d8576b"
             ],
             [
              0.6666666666666666,
              "#ed7953"
             ],
             [
              0.7777777777777778,
              "#fb9f3a"
             ],
             [
              0.8888888888888888,
              "#fdca26"
             ],
             [
              1,
              "#f0f921"
             ]
            ],
            "type": "surface"
           }
          ],
          "table": [
           {
            "cells": {
             "fill": {
              "color": "#EBF0F8"
             },
             "line": {
              "color": "white"
             }
            },
            "header": {
             "fill": {
              "color": "#C8D4E3"
             },
             "line": {
              "color": "white"
             }
            },
            "type": "table"
           }
          ]
         },
         "layout": {
          "annotationdefaults": {
           "arrowcolor": "#2a3f5f",
           "arrowhead": 0,
           "arrowwidth": 1
          },
          "autotypenumbers": "strict",
          "coloraxis": {
           "colorbar": {
            "outlinewidth": 0,
            "ticks": ""
           }
          },
          "colorscale": {
           "diverging": [
            [
             0,
             "#8e0152"
            ],
            [
             0.1,
             "#c51b7d"
            ],
            [
             0.2,
             "#de77ae"
            ],
            [
             0.3,
             "#f1b6da"
            ],
            [
             0.4,
             "#fde0ef"
            ],
            [
             0.5,
             "#f7f7f7"
            ],
            [
             0.6,
             "#e6f5d0"
            ],
            [
             0.7,
             "#b8e186"
            ],
            [
             0.8,
             "#7fbc41"
            ],
            [
             0.9,
             "#4d9221"
            ],
            [
             1,
             "#276419"
            ]
           ],
           "sequential": [
            [
             0,
             "#0d0887"
            ],
            [
             0.1111111111111111,
             "#46039f"
            ],
            [
             0.2222222222222222,
             "#7201a8"
            ],
            [
             0.3333333333333333,
             "#9c179e"
            ],
            [
             0.4444444444444444,
             "#bd3786"
            ],
            [
             0.5555555555555556,
             "#d8576b"
            ],
            [
             0.6666666666666666,
             "#ed7953"
            ],
            [
             0.7777777777777778,
             "#fb9f3a"
            ],
            [
             0.8888888888888888,
             "#fdca26"
            ],
            [
             1,
             "#f0f921"
            ]
           ],
           "sequentialminus": [
            [
             0,
             "#0d0887"
            ],
            [
             0.1111111111111111,
             "#46039f"
            ],
            [
             0.2222222222222222,
             "#7201a8"
            ],
            [
             0.3333333333333333,
             "#9c179e"
            ],
            [
             0.4444444444444444,
             "#bd3786"
            ],
            [
             0.5555555555555556,
             "#d8576b"
            ],
            [
             0.6666666666666666,
             "#ed7953"
            ],
            [
             0.7777777777777778,
             "#fb9f3a"
            ],
            [
             0.8888888888888888,
             "#fdca26"
            ],
            [
             1,
             "#f0f921"
            ]
           ]
          },
          "colorway": [
           "#636efa",
           "#EF553B",
           "#00cc96",
           "#ab63fa",
           "#FFA15A",
           "#19d3f3",
           "#FF6692",
           "#B6E880",
           "#FF97FF",
           "#FECB52"
          ],
          "font": {
           "color": "#2a3f5f"
          },
          "geo": {
           "bgcolor": "white",
           "lakecolor": "white",
           "landcolor": "#E5ECF6",
           "showlakes": true,
           "showland": true,
           "subunitcolor": "white"
          },
          "hoverlabel": {
           "align": "left"
          },
          "hovermode": "closest",
          "mapbox": {
           "style": "light"
          },
          "paper_bgcolor": "white",
          "plot_bgcolor": "#E5ECF6",
          "polar": {
           "angularaxis": {
            "gridcolor": "white",
            "linecolor": "white",
            "ticks": ""
           },
           "bgcolor": "#E5ECF6",
           "radialaxis": {
            "gridcolor": "white",
            "linecolor": "white",
            "ticks": ""
           }
          },
          "scene": {
           "xaxis": {
            "backgroundcolor": "#E5ECF6",
            "gridcolor": "white",
            "gridwidth": 2,
            "linecolor": "white",
            "showbackground": true,
            "ticks": "",
            "zerolinecolor": "white"
           },
           "yaxis": {
            "backgroundcolor": "#E5ECF6",
            "gridcolor": "white",
            "gridwidth": 2,
            "linecolor": "white",
            "showbackground": true,
            "ticks": "",
            "zerolinecolor": "white"
           },
           "zaxis": {
            "backgroundcolor": "#E5ECF6",
            "gridcolor": "white",
            "gridwidth": 2,
            "linecolor": "white",
            "showbackground": true,
            "ticks": "",
            "zerolinecolor": "white"
           }
          },
          "shapedefaults": {
           "line": {
            "color": "#2a3f5f"
           }
          },
          "ternary": {
           "aaxis": {
            "gridcolor": "white",
            "linecolor": "white",
            "ticks": ""
           },
           "baxis": {
            "gridcolor": "white",
            "linecolor": "white",
            "ticks": ""
           },
           "bgcolor": "#E5ECF6",
           "caxis": {
            "gridcolor": "white",
            "linecolor": "white",
            "ticks": ""
           }
          },
          "title": {
           "x": 0.05
          },
          "xaxis": {
           "automargin": true,
           "gridcolor": "white",
           "linecolor": "white",
           "ticks": "",
           "title": {
            "standoff": 15
           },
           "zerolinecolor": "white",
           "zerolinewidth": 2
          },
          "yaxis": {
           "automargin": true,
           "gridcolor": "white",
           "linecolor": "white",
           "ticks": "",
           "title": {
            "standoff": 15
           },
           "zerolinecolor": "white",
           "zerolinewidth": 2
          }
         }
        },
        "width": 800
       }
      },
      "text/html": [
       "<div>                            <div id=\"85436632-5f0f-4c47-ac74-3314cd25927a\" class=\"plotly-graph-div\" style=\"height:200px; width:800px;\"></div>            <script type=\"text/javascript\">                require([\"plotly\"], function(Plotly) {                    window.PLOTLYENV=window.PLOTLYENV || {};                                    if (document.getElementById(\"85436632-5f0f-4c47-ac74-3314cd25927a\")) {                    Plotly.newPlot(                        \"85436632-5f0f-4c47-ac74-3314cd25927a\",                        [{\"legendgroup\":\"text\",\"marker\":{\"color\":\"#00CC96\"},\"name\":\"text\",\"orientation\":\"h\",\"showlegend\":true,\"x\":[0.2540344012851743],\"y\":[\"disbert\"],\"type\":\"bar\"},{\"legendgroup\":\"tab\",\"marker\":{\"color\":\"#AB63FA\"},\"name\":\"tab\",\"orientation\":\"h\",\"showlegend\":true,\"x\":[0.15399927644429035],\"y\":[\"disbert\"],\"type\":\"bar\"},{\"legendgroup\":\"text template\",\"marker\":{\"color\":\"#FFA15A\"},\"name\":\"text template\",\"orientation\":\"h\",\"showlegend\":true,\"x\":[0.033561587680933126],\"y\":[\"disbert\"],\"type\":\"bar\"},{\"legendgroup\":\"tab template\",\"marker\":{\"color\":\"#19D3F3\"},\"name\":\"tab template\",\"orientation\":\"h\",\"showlegend\":true,\"x\":[0.06665934062788709],\"y\":[\"disbert\"],\"type\":\"bar\"},{\"legendgroup\":\"text\",\"marker\":{\"color\":\"#00CC96\"},\"name\":\"text\",\"orientation\":\"h\",\"showlegend\":false,\"x\":[0.4657458574469024],\"y\":[\"drob\"],\"type\":\"bar\"},{\"legendgroup\":\"tab\",\"marker\":{\"color\":\"#AB63FA\"},\"name\":\"tab\",\"orientation\":\"h\",\"showlegend\":false,\"x\":[0.13810345408961291],\"y\":[\"drob\"],\"type\":\"bar\"},{\"legendgroup\":\"text template\",\"marker\":{\"color\":\"#FFA15A\"},\"name\":\"text template\",\"orientation\":\"h\",\"showlegend\":false,\"x\":[0.04548741500585463],\"y\":[\"drob\"],\"type\":\"bar\"},{\"legendgroup\":\"tab template\",\"marker\":{\"color\":\"#19D3F3\"},\"name\":\"tab template\",\"orientation\":\"h\",\"showlegend\":false,\"x\":[0.09393772746427981],\"y\":[\"drob\"],\"type\":\"bar\"},{\"legendgroup\":\"text\",\"marker\":{\"color\":\"#00CC96\"},\"name\":\"text\",\"orientation\":\"h\",\"showlegend\":false,\"x\":[0.332727552677056],\"y\":[\"deberta\"],\"type\":\"bar\"},{\"legendgroup\":\"tab\",\"marker\":{\"color\":\"#AB63FA\"},\"name\":\"tab\",\"orientation\":\"h\",\"showlegend\":false,\"x\":[0.27478492456447456],\"y\":[\"deberta\"],\"type\":\"bar\"},{\"legendgroup\":\"text template\",\"marker\":{\"color\":\"#FFA15A\"},\"name\":\"text template\",\"orientation\":\"h\",\"showlegend\":false,\"x\":[0.08006920559725063],\"y\":[\"deberta\"],\"type\":\"bar\"},{\"legendgroup\":\"tab template\",\"marker\":{\"color\":\"#19D3F3\"},\"name\":\"tab template\",\"orientation\":\"h\",\"showlegend\":false,\"x\":[0.11182111894819874],\"y\":[\"deberta\"],\"type\":\"bar\"},{\"legendgroup\":\"text\",\"marker\":{\"color\":\"#00CC96\"},\"name\":\"text\",\"orientation\":\"h\",\"showlegend\":false,\"x\":[0.2843775397409123],\"y\":[\"bert\"],\"type\":\"bar\"},{\"legendgroup\":\"tab\",\"marker\":{\"color\":\"#AB63FA\"},\"name\":\"tab\",\"orientation\":\"h\",\"showlegend\":false,\"x\":[0.178499773333265],\"y\":[\"bert\"],\"type\":\"bar\"},{\"legendgroup\":\"text template\",\"marker\":{\"color\":\"#FFA15A\"},\"name\":\"text template\",\"orientation\":\"h\",\"showlegend\":false,\"x\":[0.03327721666075689],\"y\":[\"bert\"],\"type\":\"bar\"},{\"legendgroup\":\"tab template\",\"marker\":{\"color\":\"#19D3F3\"},\"name\":\"tab template\",\"orientation\":\"h\",\"showlegend\":false,\"x\":[0.12879865395884788],\"y\":[\"bert\"],\"type\":\"bar\"}],                        {\"template\":{\"data\":{\"histogram2dcontour\":[{\"type\":\"histogram2dcontour\",\"colorbar\":{\"outlinewidth\":0,\"ticks\":\"\"},\"colorscale\":[[0.0,\"#0d0887\"],[0.1111111111111111,\"#46039f\"],[0.2222222222222222,\"#7201a8\"],[0.3333333333333333,\"#9c179e\"],[0.4444444444444444,\"#bd3786\"],[0.5555555555555556,\"#d8576b\"],[0.6666666666666666,\"#ed7953\"],[0.7777777777777778,\"#fb9f3a\"],[0.8888888888888888,\"#fdca26\"],[1.0,\"#f0f921\"]]}],\"choropleth\":[{\"type\":\"choropleth\",\"colorbar\":{\"outlinewidth\":0,\"ticks\":\"\"}}],\"histogram2d\":[{\"type\":\"histogram2d\",\"colorbar\":{\"outlinewidth\":0,\"ticks\":\"\"},\"colorscale\":[[0.0,\"#0d0887\"],[0.1111111111111111,\"#46039f\"],[0.2222222222222222,\"#7201a8\"],[0.3333333333333333,\"#9c179e\"],[0.4444444444444444,\"#bd3786\"],[0.5555555555555556,\"#d8576b\"],[0.6666666666666666,\"#ed7953\"],[0.7777777777777778,\"#fb9f3a\"],[0.8888888888888888,\"#fdca26\"],[1.0,\"#f0f921\"]]}],\"heatmap\":[{\"type\":\"heatmap\",\"colorbar\":{\"outlinewidth\":0,\"ticks\":\"\"},\"colorscale\":[[0.0,\"#0d0887\"],[0.1111111111111111,\"#46039f\"],[0.2222222222222222,\"#7201a8\"],[0.3333333333333333,\"#9c179e\"],[0.4444444444444444,\"#bd3786\"],[0.5555555555555556,\"#d8576b\"],[0.6666666666666666,\"#ed7953\"],[0.7777777777777778,\"#fb9f3a\"],[0.8888888888888888,\"#fdca26\"],[1.0,\"#f0f921\"]]}],\"heatmapgl\":[{\"type\":\"heatmapgl\",\"colorbar\":{\"outlinewidth\":0,\"ticks\":\"\"},\"colorscale\":[[0.0,\"#0d0887\"],[0.1111111111111111,\"#46039f\"],[0.2222222222222222,\"#7201a8\"],[0.3333333333333333,\"#9c179e\"],[0.4444444444444444,\"#bd3786\"],[0.5555555555555556,\"#d8576b\"],[0.6666666666666666,\"#ed7953\"],[0.7777777777777778,\"#fb9f3a\"],[0.8888888888888888,\"#fdca26\"],[1.0,\"#f0f921\"]]}],\"contourcarpet\":[{\"type\":\"contourcarpet\",\"colorbar\":{\"outlinewidth\":0,\"ticks\":\"\"}}],\"contour\":[{\"type\":\"contour\",\"colorbar\":{\"outlinewidth\":0,\"ticks\":\"\"},\"colorscale\":[[0.0,\"#0d0887\"],[0.1111111111111111,\"#46039f\"],[0.2222222222222222,\"#7201a8\"],[0.3333333333333333,\"#9c179e\"],[0.4444444444444444,\"#bd3786\"],[0.5555555555555556,\"#d8576b\"],[0.6666666666666666,\"#ed7953\"],[0.7777777777777778,\"#fb9f3a\"],[0.8888888888888888,\"#fdca26\"],[1.0,\"#f0f921\"]]}],\"surface\":[{\"type\":\"surface\",\"colorbar\":{\"outlinewidth\":0,\"ticks\":\"\"},\"colorscale\":[[0.0,\"#0d0887\"],[0.1111111111111111,\"#46039f\"],[0.2222222222222222,\"#7201a8\"],[0.3333333333333333,\"#9c179e\"],[0.4444444444444444,\"#bd3786\"],[0.5555555555555556,\"#d8576b\"],[0.6666666666666666,\"#ed7953\"],[0.7777777777777778,\"#fb9f3a\"],[0.8888888888888888,\"#fdca26\"],[1.0,\"#f0f921\"]]}],\"mesh3d\":[{\"type\":\"mesh3d\",\"colorbar\":{\"outlinewidth\":0,\"ticks\":\"\"}}],\"scatter\":[{\"fillpattern\":{\"fillmode\":\"overlay\",\"size\":10,\"solidity\":0.2},\"type\":\"scatter\"}],\"parcoords\":[{\"type\":\"parcoords\",\"line\":{\"colorbar\":{\"outlinewidth\":0,\"ticks\":\"\"}}}],\"scatterpolargl\":[{\"type\":\"scatterpolargl\",\"marker\":{\"colorbar\":{\"outlinewidth\":0,\"ticks\":\"\"}}}],\"bar\":[{\"error_x\":{\"color\":\"#2a3f5f\"},\"error_y\":{\"color\":\"#2a3f5f\"},\"marker\":{\"line\":{\"color\":\"#E5ECF6\",\"width\":0.5},\"pattern\":{\"fillmode\":\"overlay\",\"size\":10,\"solidity\":0.2}},\"type\":\"bar\"}],\"scattergeo\":[{\"type\":\"scattergeo\",\"marker\":{\"colorbar\":{\"outlinewidth\":0,\"ticks\":\"\"}}}],\"scatterpolar\":[{\"type\":\"scatterpolar\",\"marker\":{\"colorbar\":{\"outlinewidth\":0,\"ticks\":\"\"}}}],\"histogram\":[{\"marker\":{\"pattern\":{\"fillmode\":\"overlay\",\"size\":10,\"solidity\":0.2}},\"type\":\"histogram\"}],\"scattergl\":[{\"type\":\"scattergl\",\"marker\":{\"colorbar\":{\"outlinewidth\":0,\"ticks\":\"\"}}}],\"scatter3d\":[{\"type\":\"scatter3d\",\"line\":{\"colorbar\":{\"outlinewidth\":0,\"ticks\":\"\"}},\"marker\":{\"colorbar\":{\"outlinewidth\":0,\"ticks\":\"\"}}}],\"scattermapbox\":[{\"type\":\"scattermapbox\",\"marker\":{\"colorbar\":{\"outlinewidth\":0,\"ticks\":\"\"}}}],\"scatterternary\":[{\"type\":\"scatterternary\",\"marker\":{\"colorbar\":{\"outlinewidth\":0,\"ticks\":\"\"}}}],\"scattercarpet\":[{\"type\":\"scattercarpet\",\"marker\":{\"colorbar\":{\"outlinewidth\":0,\"ticks\":\"\"}}}],\"carpet\":[{\"aaxis\":{\"endlinecolor\":\"#2a3f5f\",\"gridcolor\":\"white\",\"linecolor\":\"white\",\"minorgridcolor\":\"white\",\"startlinecolor\":\"#2a3f5f\"},\"baxis\":{\"endlinecolor\":\"#2a3f5f\",\"gridcolor\":\"white\",\"linecolor\":\"white\",\"minorgridcolor\":\"white\",\"startlinecolor\":\"#2a3f5f\"},\"type\":\"carpet\"}],\"table\":[{\"cells\":{\"fill\":{\"color\":\"#EBF0F8\"},\"line\":{\"color\":\"white\"}},\"header\":{\"fill\":{\"color\":\"#C8D4E3\"},\"line\":{\"color\":\"white\"}},\"type\":\"table\"}],\"barpolar\":[{\"marker\":{\"line\":{\"color\":\"#E5ECF6\",\"width\":0.5},\"pattern\":{\"fillmode\":\"overlay\",\"size\":10,\"solidity\":0.2}},\"type\":\"barpolar\"}],\"pie\":[{\"automargin\":true,\"type\":\"pie\"}]},\"layout\":{\"autotypenumbers\":\"strict\",\"colorway\":[\"#636efa\",\"#EF553B\",\"#00cc96\",\"#ab63fa\",\"#FFA15A\",\"#19d3f3\",\"#FF6692\",\"#B6E880\",\"#FF97FF\",\"#FECB52\"],\"font\":{\"color\":\"#2a3f5f\"},\"hovermode\":\"closest\",\"hoverlabel\":{\"align\":\"left\"},\"paper_bgcolor\":\"white\",\"plot_bgcolor\":\"#E5ECF6\",\"polar\":{\"bgcolor\":\"#E5ECF6\",\"angularaxis\":{\"gridcolor\":\"white\",\"linecolor\":\"white\",\"ticks\":\"\"},\"radialaxis\":{\"gridcolor\":\"white\",\"linecolor\":\"white\",\"ticks\":\"\"}},\"ternary\":{\"bgcolor\":\"#E5ECF6\",\"aaxis\":{\"gridcolor\":\"white\",\"linecolor\":\"white\",\"ticks\":\"\"},\"baxis\":{\"gridcolor\":\"white\",\"linecolor\":\"white\",\"ticks\":\"\"},\"caxis\":{\"gridcolor\":\"white\",\"linecolor\":\"white\",\"ticks\":\"\"}},\"coloraxis\":{\"colorbar\":{\"outlinewidth\":0,\"ticks\":\"\"}},\"colorscale\":{\"sequential\":[[0.0,\"#0d0887\"],[0.1111111111111111,\"#46039f\"],[0.2222222222222222,\"#7201a8\"],[0.3333333333333333,\"#9c179e\"],[0.4444444444444444,\"#bd3786\"],[0.5555555555555556,\"#d8576b\"],[0.6666666666666666,\"#ed7953\"],[0.7777777777777778,\"#fb9f3a\"],[0.8888888888888888,\"#fdca26\"],[1.0,\"#f0f921\"]],\"sequentialminus\":[[0.0,\"#0d0887\"],[0.1111111111111111,\"#46039f\"],[0.2222222222222222,\"#7201a8\"],[0.3333333333333333,\"#9c179e\"],[0.4444444444444444,\"#bd3786\"],[0.5555555555555556,\"#d8576b\"],[0.6666666666666666,\"#ed7953\"],[0.7777777777777778,\"#fb9f3a\"],[0.8888888888888888,\"#fdca26\"],[1.0,\"#f0f921\"]],\"diverging\":[[0,\"#8e0152\"],[0.1,\"#c51b7d\"],[0.2,\"#de77ae\"],[0.3,\"#f1b6da\"],[0.4,\"#fde0ef\"],[0.5,\"#f7f7f7\"],[0.6,\"#e6f5d0\"],[0.7,\"#b8e186\"],[0.8,\"#7fbc41\"],[0.9,\"#4d9221\"],[1,\"#276419\"]]},\"xaxis\":{\"gridcolor\":\"white\",\"linecolor\":\"white\",\"ticks\":\"\",\"title\":{\"standoff\":15},\"zerolinecolor\":\"white\",\"automargin\":true,\"zerolinewidth\":2},\"yaxis\":{\"gridcolor\":\"white\",\"linecolor\":\"white\",\"ticks\":\"\",\"title\":{\"standoff\":15},\"zerolinecolor\":\"white\",\"automargin\":true,\"zerolinewidth\":2},\"scene\":{\"xaxis\":{\"backgroundcolor\":\"#E5ECF6\",\"gridcolor\":\"white\",\"linecolor\":\"white\",\"showbackground\":true,\"ticks\":\"\",\"zerolinecolor\":\"white\",\"gridwidth\":2},\"yaxis\":{\"backgroundcolor\":\"#E5ECF6\",\"gridcolor\":\"white\",\"linecolor\":\"white\",\"showbackground\":true,\"ticks\":\"\",\"zerolinecolor\":\"white\",\"gridwidth\":2},\"zaxis\":{\"backgroundcolor\":\"#E5ECF6\",\"gridcolor\":\"white\",\"linecolor\":\"white\",\"showbackground\":true,\"ticks\":\"\",\"zerolinecolor\":\"white\",\"gridwidth\":2}},\"shapedefaults\":{\"line\":{\"color\":\"#2a3f5f\"}},\"annotationdefaults\":{\"arrowcolor\":\"#2a3f5f\",\"arrowhead\":0,\"arrowwidth\":1},\"geo\":{\"bgcolor\":\"white\",\"landcolor\":\"#E5ECF6\",\"subunitcolor\":\"white\",\"showland\":true,\"showlakes\":true,\"lakecolor\":\"white\"},\"title\":{\"x\":0.05},\"mapbox\":{\"style\":\"light\"}}},\"legend\":{\"orientation\":\"h\",\"yanchor\":\"top\",\"y\":1.25,\"xanchor\":\"left\",\"x\":0},\"margin\":{\"l\":0,\"r\":0,\"t\":0,\"b\":0},\"barmode\":\"stack\",\"hovermode\":\"y unified\",\"height\":200,\"width\":800},                        {\"responsive\": true}                    ).then(function(){\n",
       "                            \n",
       "var gd = document.getElementById('85436632-5f0f-4c47-ac74-3314cd25927a');\n",
       "var x = new MutationObserver(function (mutations, observer) {{\n",
       "        var display = window.getComputedStyle(gd).display;\n",
       "        if (!display || display === 'none') {{\n",
       "            console.log([gd, 'removed!']);\n",
       "            Plotly.purge(gd);\n",
       "            observer.disconnect();\n",
       "        }}\n",
       "}});\n",
       "\n",
       "// Listen for the removal of the full notebook cells\n",
       "var notebookContainer = gd.closest('#notebook-container');\n",
       "if (notebookContainer) {{\n",
       "    x.observe(notebookContainer, {childList: true});\n",
       "}}\n",
       "\n",
       "// Listen for the clearing of the current output cell\n",
       "var outputEl = gd.closest('.output');\n",
       "if (outputEl) {{\n",
       "    x.observe(outputEl, {childList: true});\n",
       "}}\n",
       "\n",
       "                        })                };                });            </script>        </div>"
      ]
     },
     "metadata": {},
     "output_type": "display_data"
    },
    {
     "name": "stdout",
     "output_type": "stream",
     "text": [
      "wine\n"
     ]
    },
    {
     "data": {
      "application/vnd.plotly.v1+json": {
       "config": {
        "plotlyServerURL": "https://plot.ly"
       },
       "data": [
        {
         "legendgroup": "text",
         "marker": {
          "color": "#00CC96"
         },
         "name": "text",
         "orientation": "h",
         "showlegend": true,
         "type": "bar",
         "x": [
          2.1148720014988585
         ],
         "y": [
          "disbert"
         ]
        },
        {
         "legendgroup": "tab",
         "marker": {
          "color": "#AB63FA"
         },
         "name": "tab",
         "orientation": "h",
         "showlegend": true,
         "type": "bar",
         "x": [
          0.07235380737812767
         ],
         "y": [
          "disbert"
         ]
        },
        {
         "legendgroup": "text template",
         "marker": {
          "color": "#FFA15A"
         },
         "name": "text template",
         "orientation": "h",
         "showlegend": true,
         "type": "bar",
         "x": [
          0.21989067110466176
         ],
         "y": [
          "disbert"
         ]
        },
        {
         "legendgroup": "tab template",
         "marker": {
          "color": "#19D3F3"
         },
         "name": "tab template",
         "orientation": "h",
         "showlegend": true,
         "type": "bar",
         "x": [
          0.07335308478863029
         ],
         "y": [
          "disbert"
         ]
        },
        {
         "legendgroup": "text",
         "marker": {
          "color": "#00CC96"
         },
         "name": "text",
         "orientation": "h",
         "showlegend": false,
         "type": "bar",
         "x": [
          2.2992188784374252
         ],
         "y": [
          "drob"
         ]
        },
        {
         "legendgroup": "tab",
         "marker": {
          "color": "#AB63FA"
         },
         "name": "tab",
         "orientation": "h",
         "showlegend": false,
         "type": "bar",
         "x": [
          0.10358219025685236
         ],
         "y": [
          "drob"
         ]
        },
        {
         "legendgroup": "text template",
         "marker": {
          "color": "#FFA15A"
         },
         "name": "text template",
         "orientation": "h",
         "showlegend": false,
         "type": "bar",
         "x": [
          0.37798970319119907
         ],
         "y": [
          "drob"
         ]
        },
        {
         "legendgroup": "tab template",
         "marker": {
          "color": "#19D3F3"
         },
         "name": "tab template",
         "orientation": "h",
         "showlegend": false,
         "type": "bar",
         "x": [
          0.13928101146347757
         ],
         "y": [
          "drob"
         ]
        },
        {
         "legendgroup": "text",
         "marker": {
          "color": "#00CC96"
         },
         "name": "text",
         "orientation": "h",
         "showlegend": false,
         "type": "bar",
         "x": [
          1.832488090897752
         ],
         "y": [
          "deberta"
         ]
        },
        {
         "legendgroup": "tab",
         "marker": {
          "color": "#AB63FA"
         },
         "name": "tab",
         "orientation": "h",
         "showlegend": false,
         "type": "bar",
         "x": [
          0.19523689686376908
         ],
         "y": [
          "deberta"
         ]
        },
        {
         "legendgroup": "text template",
         "marker": {
          "color": "#FFA15A"
         },
         "name": "text template",
         "orientation": "h",
         "showlegend": false,
         "type": "bar",
         "x": [
          0.28989177668972255
         ],
         "y": [
          "deberta"
         ]
        },
        {
         "legendgroup": "tab template",
         "marker": {
          "color": "#19D3F3"
         },
         "name": "tab template",
         "orientation": "h",
         "showlegend": false,
         "type": "bar",
         "x": [
          0.10579955478132305
         ],
         "y": [
          "deberta"
         ]
        },
        {
         "legendgroup": "text",
         "marker": {
          "color": "#00CC96"
         },
         "name": "text",
         "orientation": "h",
         "showlegend": false,
         "type": "bar",
         "x": [
          2.1439689815828067
         ],
         "y": [
          "bert"
         ]
        },
        {
         "legendgroup": "tab",
         "marker": {
          "color": "#AB63FA"
         },
         "name": "tab",
         "orientation": "h",
         "showlegend": false,
         "type": "bar",
         "x": [
          0.07685464284423639
         ],
         "y": [
          "bert"
         ]
        },
        {
         "legendgroup": "text template",
         "marker": {
          "color": "#FFA15A"
         },
         "name": "text template",
         "orientation": "h",
         "showlegend": false,
         "type": "bar",
         "x": [
          0.19758228008344675
         ],
         "y": [
          "bert"
         ]
        },
        {
         "legendgroup": "tab template",
         "marker": {
          "color": "#19D3F3"
         },
         "name": "tab template",
         "orientation": "h",
         "showlegend": false,
         "type": "bar",
         "x": [
          0.06974591457944572
         ],
         "y": [
          "bert"
         ]
        }
       ],
       "layout": {
        "barmode": "stack",
        "height": 200,
        "hovermode": "y unified",
        "legend": {
         "orientation": "h",
         "x": 0,
         "xanchor": "left",
         "y": 1.25,
         "yanchor": "top"
        },
        "margin": {
         "b": 0,
         "l": 0,
         "r": 0,
         "t": 0
        },
        "template": {
         "data": {
          "bar": [
           {
            "error_x": {
             "color": "#2a3f5f"
            },
            "error_y": {
             "color": "#2a3f5f"
            },
            "marker": {
             "line": {
              "color": "#E5ECF6",
              "width": 0.5
             },
             "pattern": {
              "fillmode": "overlay",
              "size": 10,
              "solidity": 0.2
             }
            },
            "type": "bar"
           }
          ],
          "barpolar": [
           {
            "marker": {
             "line": {
              "color": "#E5ECF6",
              "width": 0.5
             },
             "pattern": {
              "fillmode": "overlay",
              "size": 10,
              "solidity": 0.2
             }
            },
            "type": "barpolar"
           }
          ],
          "carpet": [
           {
            "aaxis": {
             "endlinecolor": "#2a3f5f",
             "gridcolor": "white",
             "linecolor": "white",
             "minorgridcolor": "white",
             "startlinecolor": "#2a3f5f"
            },
            "baxis": {
             "endlinecolor": "#2a3f5f",
             "gridcolor": "white",
             "linecolor": "white",
             "minorgridcolor": "white",
             "startlinecolor": "#2a3f5f"
            },
            "type": "carpet"
           }
          ],
          "choropleth": [
           {
            "colorbar": {
             "outlinewidth": 0,
             "ticks": ""
            },
            "type": "choropleth"
           }
          ],
          "contour": [
           {
            "colorbar": {
             "outlinewidth": 0,
             "ticks": ""
            },
            "colorscale": [
             [
              0,
              "#0d0887"
             ],
             [
              0.1111111111111111,
              "#46039f"
             ],
             [
              0.2222222222222222,
              "#7201a8"
             ],
             [
              0.3333333333333333,
              "#9c179e"
             ],
             [
              0.4444444444444444,
              "#bd3786"
             ],
             [
              0.5555555555555556,
              "#d8576b"
             ],
             [
              0.6666666666666666,
              "#ed7953"
             ],
             [
              0.7777777777777778,
              "#fb9f3a"
             ],
             [
              0.8888888888888888,
              "#fdca26"
             ],
             [
              1,
              "#f0f921"
             ]
            ],
            "type": "contour"
           }
          ],
          "contourcarpet": [
           {
            "colorbar": {
             "outlinewidth": 0,
             "ticks": ""
            },
            "type": "contourcarpet"
           }
          ],
          "heatmap": [
           {
            "colorbar": {
             "outlinewidth": 0,
             "ticks": ""
            },
            "colorscale": [
             [
              0,
              "#0d0887"
             ],
             [
              0.1111111111111111,
              "#46039f"
             ],
             [
              0.2222222222222222,
              "#7201a8"
             ],
             [
              0.3333333333333333,
              "#9c179e"
             ],
             [
              0.4444444444444444,
              "#bd3786"
             ],
             [
              0.5555555555555556,
              "#d8576b"
             ],
             [
              0.6666666666666666,
              "#ed7953"
             ],
             [
              0.7777777777777778,
              "#fb9f3a"
             ],
             [
              0.8888888888888888,
              "#fdca26"
             ],
             [
              1,
              "#f0f921"
             ]
            ],
            "type": "heatmap"
           }
          ],
          "heatmapgl": [
           {
            "colorbar": {
             "outlinewidth": 0,
             "ticks": ""
            },
            "colorscale": [
             [
              0,
              "#0d0887"
             ],
             [
              0.1111111111111111,
              "#46039f"
             ],
             [
              0.2222222222222222,
              "#7201a8"
             ],
             [
              0.3333333333333333,
              "#9c179e"
             ],
             [
              0.4444444444444444,
              "#bd3786"
             ],
             [
              0.5555555555555556,
              "#d8576b"
             ],
             [
              0.6666666666666666,
              "#ed7953"
             ],
             [
              0.7777777777777778,
              "#fb9f3a"
             ],
             [
              0.8888888888888888,
              "#fdca26"
             ],
             [
              1,
              "#f0f921"
             ]
            ],
            "type": "heatmapgl"
           }
          ],
          "histogram": [
           {
            "marker": {
             "pattern": {
              "fillmode": "overlay",
              "size": 10,
              "solidity": 0.2
             }
            },
            "type": "histogram"
           }
          ],
          "histogram2d": [
           {
            "colorbar": {
             "outlinewidth": 0,
             "ticks": ""
            },
            "colorscale": [
             [
              0,
              "#0d0887"
             ],
             [
              0.1111111111111111,
              "#46039f"
             ],
             [
              0.2222222222222222,
              "#7201a8"
             ],
             [
              0.3333333333333333,
              "#9c179e"
             ],
             [
              0.4444444444444444,
              "#bd3786"
             ],
             [
              0.5555555555555556,
              "#d8576b"
             ],
             [
              0.6666666666666666,
              "#ed7953"
             ],
             [
              0.7777777777777778,
              "#fb9f3a"
             ],
             [
              0.8888888888888888,
              "#fdca26"
             ],
             [
              1,
              "#f0f921"
             ]
            ],
            "type": "histogram2d"
           }
          ],
          "histogram2dcontour": [
           {
            "colorbar": {
             "outlinewidth": 0,
             "ticks": ""
            },
            "colorscale": [
             [
              0,
              "#0d0887"
             ],
             [
              0.1111111111111111,
              "#46039f"
             ],
             [
              0.2222222222222222,
              "#7201a8"
             ],
             [
              0.3333333333333333,
              "#9c179e"
             ],
             [
              0.4444444444444444,
              "#bd3786"
             ],
             [
              0.5555555555555556,
              "#d8576b"
             ],
             [
              0.6666666666666666,
              "#ed7953"
             ],
             [
              0.7777777777777778,
              "#fb9f3a"
             ],
             [
              0.8888888888888888,
              "#fdca26"
             ],
             [
              1,
              "#f0f921"
             ]
            ],
            "type": "histogram2dcontour"
           }
          ],
          "mesh3d": [
           {
            "colorbar": {
             "outlinewidth": 0,
             "ticks": ""
            },
            "type": "mesh3d"
           }
          ],
          "parcoords": [
           {
            "line": {
             "colorbar": {
              "outlinewidth": 0,
              "ticks": ""
             }
            },
            "type": "parcoords"
           }
          ],
          "pie": [
           {
            "automargin": true,
            "type": "pie"
           }
          ],
          "scatter": [
           {
            "fillpattern": {
             "fillmode": "overlay",
             "size": 10,
             "solidity": 0.2
            },
            "type": "scatter"
           }
          ],
          "scatter3d": [
           {
            "line": {
             "colorbar": {
              "outlinewidth": 0,
              "ticks": ""
             }
            },
            "marker": {
             "colorbar": {
              "outlinewidth": 0,
              "ticks": ""
             }
            },
            "type": "scatter3d"
           }
          ],
          "scattercarpet": [
           {
            "marker": {
             "colorbar": {
              "outlinewidth": 0,
              "ticks": ""
             }
            },
            "type": "scattercarpet"
           }
          ],
          "scattergeo": [
           {
            "marker": {
             "colorbar": {
              "outlinewidth": 0,
              "ticks": ""
             }
            },
            "type": "scattergeo"
           }
          ],
          "scattergl": [
           {
            "marker": {
             "colorbar": {
              "outlinewidth": 0,
              "ticks": ""
             }
            },
            "type": "scattergl"
           }
          ],
          "scattermapbox": [
           {
            "marker": {
             "colorbar": {
              "outlinewidth": 0,
              "ticks": ""
             }
            },
            "type": "scattermapbox"
           }
          ],
          "scatterpolar": [
           {
            "marker": {
             "colorbar": {
              "outlinewidth": 0,
              "ticks": ""
             }
            },
            "type": "scatterpolar"
           }
          ],
          "scatterpolargl": [
           {
            "marker": {
             "colorbar": {
              "outlinewidth": 0,
              "ticks": ""
             }
            },
            "type": "scatterpolargl"
           }
          ],
          "scatterternary": [
           {
            "marker": {
             "colorbar": {
              "outlinewidth": 0,
              "ticks": ""
             }
            },
            "type": "scatterternary"
           }
          ],
          "surface": [
           {
            "colorbar": {
             "outlinewidth": 0,
             "ticks": ""
            },
            "colorscale": [
             [
              0,
              "#0d0887"
             ],
             [
              0.1111111111111111,
              "#46039f"
             ],
             [
              0.2222222222222222,
              "#7201a8"
             ],
             [
              0.3333333333333333,
              "#9c179e"
             ],
             [
              0.4444444444444444,
              "#bd3786"
             ],
             [
              0.5555555555555556,
              "#d8576b"
             ],
             [
              0.6666666666666666,
              "#ed7953"
             ],
             [
              0.7777777777777778,
              "#fb9f3a"
             ],
             [
              0.8888888888888888,
              "#fdca26"
             ],
             [
              1,
              "#f0f921"
             ]
            ],
            "type": "surface"
           }
          ],
          "table": [
           {
            "cells": {
             "fill": {
              "color": "#EBF0F8"
             },
             "line": {
              "color": "white"
             }
            },
            "header": {
             "fill": {
              "color": "#C8D4E3"
             },
             "line": {
              "color": "white"
             }
            },
            "type": "table"
           }
          ]
         },
         "layout": {
          "annotationdefaults": {
           "arrowcolor": "#2a3f5f",
           "arrowhead": 0,
           "arrowwidth": 1
          },
          "autotypenumbers": "strict",
          "coloraxis": {
           "colorbar": {
            "outlinewidth": 0,
            "ticks": ""
           }
          },
          "colorscale": {
           "diverging": [
            [
             0,
             "#8e0152"
            ],
            [
             0.1,
             "#c51b7d"
            ],
            [
             0.2,
             "#de77ae"
            ],
            [
             0.3,
             "#f1b6da"
            ],
            [
             0.4,
             "#fde0ef"
            ],
            [
             0.5,
             "#f7f7f7"
            ],
            [
             0.6,
             "#e6f5d0"
            ],
            [
             0.7,
             "#b8e186"
            ],
            [
             0.8,
             "#7fbc41"
            ],
            [
             0.9,
             "#4d9221"
            ],
            [
             1,
             "#276419"
            ]
           ],
           "sequential": [
            [
             0,
             "#0d0887"
            ],
            [
             0.1111111111111111,
             "#46039f"
            ],
            [
             0.2222222222222222,
             "#7201a8"
            ],
            [
             0.3333333333333333,
             "#9c179e"
            ],
            [
             0.4444444444444444,
             "#bd3786"
            ],
            [
             0.5555555555555556,
             "#d8576b"
            ],
            [
             0.6666666666666666,
             "#ed7953"
            ],
            [
             0.7777777777777778,
             "#fb9f3a"
            ],
            [
             0.8888888888888888,
             "#fdca26"
            ],
            [
             1,
             "#f0f921"
            ]
           ],
           "sequentialminus": [
            [
             0,
             "#0d0887"
            ],
            [
             0.1111111111111111,
             "#46039f"
            ],
            [
             0.2222222222222222,
             "#7201a8"
            ],
            [
             0.3333333333333333,
             "#9c179e"
            ],
            [
             0.4444444444444444,
             "#bd3786"
            ],
            [
             0.5555555555555556,
             "#d8576b"
            ],
            [
             0.6666666666666666,
             "#ed7953"
            ],
            [
             0.7777777777777778,
             "#fb9f3a"
            ],
            [
             0.8888888888888888,
             "#fdca26"
            ],
            [
             1,
             "#f0f921"
            ]
           ]
          },
          "colorway": [
           "#636efa",
           "#EF553B",
           "#00cc96",
           "#ab63fa",
           "#FFA15A",
           "#19d3f3",
           "#FF6692",
           "#B6E880",
           "#FF97FF",
           "#FECB52"
          ],
          "font": {
           "color": "#2a3f5f"
          },
          "geo": {
           "bgcolor": "white",
           "lakecolor": "white",
           "landcolor": "#E5ECF6",
           "showlakes": true,
           "showland": true,
           "subunitcolor": "white"
          },
          "hoverlabel": {
           "align": "left"
          },
          "hovermode": "closest",
          "mapbox": {
           "style": "light"
          },
          "paper_bgcolor": "white",
          "plot_bgcolor": "#E5ECF6",
          "polar": {
           "angularaxis": {
            "gridcolor": "white",
            "linecolor": "white",
            "ticks": ""
           },
           "bgcolor": "#E5ECF6",
           "radialaxis": {
            "gridcolor": "white",
            "linecolor": "white",
            "ticks": ""
           }
          },
          "scene": {
           "xaxis": {
            "backgroundcolor": "#E5ECF6",
            "gridcolor": "white",
            "gridwidth": 2,
            "linecolor": "white",
            "showbackground": true,
            "ticks": "",
            "zerolinecolor": "white"
           },
           "yaxis": {
            "backgroundcolor": "#E5ECF6",
            "gridcolor": "white",
            "gridwidth": 2,
            "linecolor": "white",
            "showbackground": true,
            "ticks": "",
            "zerolinecolor": "white"
           },
           "zaxis": {
            "backgroundcolor": "#E5ECF6",
            "gridcolor": "white",
            "gridwidth": 2,
            "linecolor": "white",
            "showbackground": true,
            "ticks": "",
            "zerolinecolor": "white"
           }
          },
          "shapedefaults": {
           "line": {
            "color": "#2a3f5f"
           }
          },
          "ternary": {
           "aaxis": {
            "gridcolor": "white",
            "linecolor": "white",
            "ticks": ""
           },
           "baxis": {
            "gridcolor": "white",
            "linecolor": "white",
            "ticks": ""
           },
           "bgcolor": "#E5ECF6",
           "caxis": {
            "gridcolor": "white",
            "linecolor": "white",
            "ticks": ""
           }
          },
          "title": {
           "x": 0.05
          },
          "xaxis": {
           "automargin": true,
           "gridcolor": "white",
           "linecolor": "white",
           "ticks": "",
           "title": {
            "standoff": 15
           },
           "zerolinecolor": "white",
           "zerolinewidth": 2
          },
          "yaxis": {
           "automargin": true,
           "gridcolor": "white",
           "linecolor": "white",
           "ticks": "",
           "title": {
            "standoff": 15
           },
           "zerolinecolor": "white",
           "zerolinewidth": 2
          }
         }
        },
        "width": 800
       }
      },
      "text/html": [
       "<div>                            <div id=\"2415f16c-4206-44f5-a426-373e9c49d78a\" class=\"plotly-graph-div\" style=\"height:200px; width:800px;\"></div>            <script type=\"text/javascript\">                require([\"plotly\"], function(Plotly) {                    window.PLOTLYENV=window.PLOTLYENV || {};                                    if (document.getElementById(\"2415f16c-4206-44f5-a426-373e9c49d78a\")) {                    Plotly.newPlot(                        \"2415f16c-4206-44f5-a426-373e9c49d78a\",                        [{\"legendgroup\":\"text\",\"marker\":{\"color\":\"#00CC96\"},\"name\":\"text\",\"orientation\":\"h\",\"showlegend\":true,\"x\":[2.1148720014988585],\"y\":[\"disbert\"],\"type\":\"bar\"},{\"legendgroup\":\"tab\",\"marker\":{\"color\":\"#AB63FA\"},\"name\":\"tab\",\"orientation\":\"h\",\"showlegend\":true,\"x\":[0.07235380737812767],\"y\":[\"disbert\"],\"type\":\"bar\"},{\"legendgroup\":\"text template\",\"marker\":{\"color\":\"#FFA15A\"},\"name\":\"text template\",\"orientation\":\"h\",\"showlegend\":true,\"x\":[0.21989067110466176],\"y\":[\"disbert\"],\"type\":\"bar\"},{\"legendgroup\":\"tab template\",\"marker\":{\"color\":\"#19D3F3\"},\"name\":\"tab template\",\"orientation\":\"h\",\"showlegend\":true,\"x\":[0.07335308478863029],\"y\":[\"disbert\"],\"type\":\"bar\"},{\"legendgroup\":\"text\",\"marker\":{\"color\":\"#00CC96\"},\"name\":\"text\",\"orientation\":\"h\",\"showlegend\":false,\"x\":[2.2992188784374252],\"y\":[\"drob\"],\"type\":\"bar\"},{\"legendgroup\":\"tab\",\"marker\":{\"color\":\"#AB63FA\"},\"name\":\"tab\",\"orientation\":\"h\",\"showlegend\":false,\"x\":[0.10358219025685236],\"y\":[\"drob\"],\"type\":\"bar\"},{\"legendgroup\":\"text template\",\"marker\":{\"color\":\"#FFA15A\"},\"name\":\"text template\",\"orientation\":\"h\",\"showlegend\":false,\"x\":[0.37798970319119907],\"y\":[\"drob\"],\"type\":\"bar\"},{\"legendgroup\":\"tab template\",\"marker\":{\"color\":\"#19D3F3\"},\"name\":\"tab template\",\"orientation\":\"h\",\"showlegend\":false,\"x\":[0.13928101146347757],\"y\":[\"drob\"],\"type\":\"bar\"},{\"legendgroup\":\"text\",\"marker\":{\"color\":\"#00CC96\"},\"name\":\"text\",\"orientation\":\"h\",\"showlegend\":false,\"x\":[1.832488090897752],\"y\":[\"deberta\"],\"type\":\"bar\"},{\"legendgroup\":\"tab\",\"marker\":{\"color\":\"#AB63FA\"},\"name\":\"tab\",\"orientation\":\"h\",\"showlegend\":false,\"x\":[0.19523689686376908],\"y\":[\"deberta\"],\"type\":\"bar\"},{\"legendgroup\":\"text template\",\"marker\":{\"color\":\"#FFA15A\"},\"name\":\"text template\",\"orientation\":\"h\",\"showlegend\":false,\"x\":[0.28989177668972255],\"y\":[\"deberta\"],\"type\":\"bar\"},{\"legendgroup\":\"tab template\",\"marker\":{\"color\":\"#19D3F3\"},\"name\":\"tab template\",\"orientation\":\"h\",\"showlegend\":false,\"x\":[0.10579955478132305],\"y\":[\"deberta\"],\"type\":\"bar\"},{\"legendgroup\":\"text\",\"marker\":{\"color\":\"#00CC96\"},\"name\":\"text\",\"orientation\":\"h\",\"showlegend\":false,\"x\":[2.1439689815828067],\"y\":[\"bert\"],\"type\":\"bar\"},{\"legendgroup\":\"tab\",\"marker\":{\"color\":\"#AB63FA\"},\"name\":\"tab\",\"orientation\":\"h\",\"showlegend\":false,\"x\":[0.07685464284423639],\"y\":[\"bert\"],\"type\":\"bar\"},{\"legendgroup\":\"text template\",\"marker\":{\"color\":\"#FFA15A\"},\"name\":\"text template\",\"orientation\":\"h\",\"showlegend\":false,\"x\":[0.19758228008344675],\"y\":[\"bert\"],\"type\":\"bar\"},{\"legendgroup\":\"tab template\",\"marker\":{\"color\":\"#19D3F3\"},\"name\":\"tab template\",\"orientation\":\"h\",\"showlegend\":false,\"x\":[0.06974591457944572],\"y\":[\"bert\"],\"type\":\"bar\"}],                        {\"template\":{\"data\":{\"histogram2dcontour\":[{\"type\":\"histogram2dcontour\",\"colorbar\":{\"outlinewidth\":0,\"ticks\":\"\"},\"colorscale\":[[0.0,\"#0d0887\"],[0.1111111111111111,\"#46039f\"],[0.2222222222222222,\"#7201a8\"],[0.3333333333333333,\"#9c179e\"],[0.4444444444444444,\"#bd3786\"],[0.5555555555555556,\"#d8576b\"],[0.6666666666666666,\"#ed7953\"],[0.7777777777777778,\"#fb9f3a\"],[0.8888888888888888,\"#fdca26\"],[1.0,\"#f0f921\"]]}],\"choropleth\":[{\"type\":\"choropleth\",\"colorbar\":{\"outlinewidth\":0,\"ticks\":\"\"}}],\"histogram2d\":[{\"type\":\"histogram2d\",\"colorbar\":{\"outlinewidth\":0,\"ticks\":\"\"},\"colorscale\":[[0.0,\"#0d0887\"],[0.1111111111111111,\"#46039f\"],[0.2222222222222222,\"#7201a8\"],[0.3333333333333333,\"#9c179e\"],[0.4444444444444444,\"#bd3786\"],[0.5555555555555556,\"#d8576b\"],[0.6666666666666666,\"#ed7953\"],[0.7777777777777778,\"#fb9f3a\"],[0.8888888888888888,\"#fdca26\"],[1.0,\"#f0f921\"]]}],\"heatmap\":[{\"type\":\"heatmap\",\"colorbar\":{\"outlinewidth\":0,\"ticks\":\"\"},\"colorscale\":[[0.0,\"#0d0887\"],[0.1111111111111111,\"#46039f\"],[0.2222222222222222,\"#7201a8\"],[0.3333333333333333,\"#9c179e\"],[0.4444444444444444,\"#bd3786\"],[0.5555555555555556,\"#d8576b\"],[0.6666666666666666,\"#ed7953\"],[0.7777777777777778,\"#fb9f3a\"],[0.8888888888888888,\"#fdca26\"],[1.0,\"#f0f921\"]]}],\"heatmapgl\":[{\"type\":\"heatmapgl\",\"colorbar\":{\"outlinewidth\":0,\"ticks\":\"\"},\"colorscale\":[[0.0,\"#0d0887\"],[0.1111111111111111,\"#46039f\"],[0.2222222222222222,\"#7201a8\"],[0.3333333333333333,\"#9c179e\"],[0.4444444444444444,\"#bd3786\"],[0.5555555555555556,\"#d8576b\"],[0.6666666666666666,\"#ed7953\"],[0.7777777777777778,\"#fb9f3a\"],[0.8888888888888888,\"#fdca26\"],[1.0,\"#f0f921\"]]}],\"contourcarpet\":[{\"type\":\"contourcarpet\",\"colorbar\":{\"outlinewidth\":0,\"ticks\":\"\"}}],\"contour\":[{\"type\":\"contour\",\"colorbar\":{\"outlinewidth\":0,\"ticks\":\"\"},\"colorscale\":[[0.0,\"#0d0887\"],[0.1111111111111111,\"#46039f\"],[0.2222222222222222,\"#7201a8\"],[0.3333333333333333,\"#9c179e\"],[0.4444444444444444,\"#bd3786\"],[0.5555555555555556,\"#d8576b\"],[0.6666666666666666,\"#ed7953\"],[0.7777777777777778,\"#fb9f3a\"],[0.8888888888888888,\"#fdca26\"],[1.0,\"#f0f921\"]]}],\"surface\":[{\"type\":\"surface\",\"colorbar\":{\"outlinewidth\":0,\"ticks\":\"\"},\"colorscale\":[[0.0,\"#0d0887\"],[0.1111111111111111,\"#46039f\"],[0.2222222222222222,\"#7201a8\"],[0.3333333333333333,\"#9c179e\"],[0.4444444444444444,\"#bd3786\"],[0.5555555555555556,\"#d8576b\"],[0.6666666666666666,\"#ed7953\"],[0.7777777777777778,\"#fb9f3a\"],[0.8888888888888888,\"#fdca26\"],[1.0,\"#f0f921\"]]}],\"mesh3d\":[{\"type\":\"mesh3d\",\"colorbar\":{\"outlinewidth\":0,\"ticks\":\"\"}}],\"scatter\":[{\"fillpattern\":{\"fillmode\":\"overlay\",\"size\":10,\"solidity\":0.2},\"type\":\"scatter\"}],\"parcoords\":[{\"type\":\"parcoords\",\"line\":{\"colorbar\":{\"outlinewidth\":0,\"ticks\":\"\"}}}],\"scatterpolargl\":[{\"type\":\"scatterpolargl\",\"marker\":{\"colorbar\":{\"outlinewidth\":0,\"ticks\":\"\"}}}],\"bar\":[{\"error_x\":{\"color\":\"#2a3f5f\"},\"error_y\":{\"color\":\"#2a3f5f\"},\"marker\":{\"line\":{\"color\":\"#E5ECF6\",\"width\":0.5},\"pattern\":{\"fillmode\":\"overlay\",\"size\":10,\"solidity\":0.2}},\"type\":\"bar\"}],\"scattergeo\":[{\"type\":\"scattergeo\",\"marker\":{\"colorbar\":{\"outlinewidth\":0,\"ticks\":\"\"}}}],\"scatterpolar\":[{\"type\":\"scatterpolar\",\"marker\":{\"colorbar\":{\"outlinewidth\":0,\"ticks\":\"\"}}}],\"histogram\":[{\"marker\":{\"pattern\":{\"fillmode\":\"overlay\",\"size\":10,\"solidity\":0.2}},\"type\":\"histogram\"}],\"scattergl\":[{\"type\":\"scattergl\",\"marker\":{\"colorbar\":{\"outlinewidth\":0,\"ticks\":\"\"}}}],\"scatter3d\":[{\"type\":\"scatter3d\",\"line\":{\"colorbar\":{\"outlinewidth\":0,\"ticks\":\"\"}},\"marker\":{\"colorbar\":{\"outlinewidth\":0,\"ticks\":\"\"}}}],\"scattermapbox\":[{\"type\":\"scattermapbox\",\"marker\":{\"colorbar\":{\"outlinewidth\":0,\"ticks\":\"\"}}}],\"scatterternary\":[{\"type\":\"scatterternary\",\"marker\":{\"colorbar\":{\"outlinewidth\":0,\"ticks\":\"\"}}}],\"scattercarpet\":[{\"type\":\"scattercarpet\",\"marker\":{\"colorbar\":{\"outlinewidth\":0,\"ticks\":\"\"}}}],\"carpet\":[{\"aaxis\":{\"endlinecolor\":\"#2a3f5f\",\"gridcolor\":\"white\",\"linecolor\":\"white\",\"minorgridcolor\":\"white\",\"startlinecolor\":\"#2a3f5f\"},\"baxis\":{\"endlinecolor\":\"#2a3f5f\",\"gridcolor\":\"white\",\"linecolor\":\"white\",\"minorgridcolor\":\"white\",\"startlinecolor\":\"#2a3f5f\"},\"type\":\"carpet\"}],\"table\":[{\"cells\":{\"fill\":{\"color\":\"#EBF0F8\"},\"line\":{\"color\":\"white\"}},\"header\":{\"fill\":{\"color\":\"#C8D4E3\"},\"line\":{\"color\":\"white\"}},\"type\":\"table\"}],\"barpolar\":[{\"marker\":{\"line\":{\"color\":\"#E5ECF6\",\"width\":0.5},\"pattern\":{\"fillmode\":\"overlay\",\"size\":10,\"solidity\":0.2}},\"type\":\"barpolar\"}],\"pie\":[{\"automargin\":true,\"type\":\"pie\"}]},\"layout\":{\"autotypenumbers\":\"strict\",\"colorway\":[\"#636efa\",\"#EF553B\",\"#00cc96\",\"#ab63fa\",\"#FFA15A\",\"#19d3f3\",\"#FF6692\",\"#B6E880\",\"#FF97FF\",\"#FECB52\"],\"font\":{\"color\":\"#2a3f5f\"},\"hovermode\":\"closest\",\"hoverlabel\":{\"align\":\"left\"},\"paper_bgcolor\":\"white\",\"plot_bgcolor\":\"#E5ECF6\",\"polar\":{\"bgcolor\":\"#E5ECF6\",\"angularaxis\":{\"gridcolor\":\"white\",\"linecolor\":\"white\",\"ticks\":\"\"},\"radialaxis\":{\"gridcolor\":\"white\",\"linecolor\":\"white\",\"ticks\":\"\"}},\"ternary\":{\"bgcolor\":\"#E5ECF6\",\"aaxis\":{\"gridcolor\":\"white\",\"linecolor\":\"white\",\"ticks\":\"\"},\"baxis\":{\"gridcolor\":\"white\",\"linecolor\":\"white\",\"ticks\":\"\"},\"caxis\":{\"gridcolor\":\"white\",\"linecolor\":\"white\",\"ticks\":\"\"}},\"coloraxis\":{\"colorbar\":{\"outlinewidth\":0,\"ticks\":\"\"}},\"colorscale\":{\"sequential\":[[0.0,\"#0d0887\"],[0.1111111111111111,\"#46039f\"],[0.2222222222222222,\"#7201a8\"],[0.3333333333333333,\"#9c179e\"],[0.4444444444444444,\"#bd3786\"],[0.5555555555555556,\"#d8576b\"],[0.6666666666666666,\"#ed7953\"],[0.7777777777777778,\"#fb9f3a\"],[0.8888888888888888,\"#fdca26\"],[1.0,\"#f0f921\"]],\"sequentialminus\":[[0.0,\"#0d0887\"],[0.1111111111111111,\"#46039f\"],[0.2222222222222222,\"#7201a8\"],[0.3333333333333333,\"#9c179e\"],[0.4444444444444444,\"#bd3786\"],[0.5555555555555556,\"#d8576b\"],[0.6666666666666666,\"#ed7953\"],[0.7777777777777778,\"#fb9f3a\"],[0.8888888888888888,\"#fdca26\"],[1.0,\"#f0f921\"]],\"diverging\":[[0,\"#8e0152\"],[0.1,\"#c51b7d\"],[0.2,\"#de77ae\"],[0.3,\"#f1b6da\"],[0.4,\"#fde0ef\"],[0.5,\"#f7f7f7\"],[0.6,\"#e6f5d0\"],[0.7,\"#b8e186\"],[0.8,\"#7fbc41\"],[0.9,\"#4d9221\"],[1,\"#276419\"]]},\"xaxis\":{\"gridcolor\":\"white\",\"linecolor\":\"white\",\"ticks\":\"\",\"title\":{\"standoff\":15},\"zerolinecolor\":\"white\",\"automargin\":true,\"zerolinewidth\":2},\"yaxis\":{\"gridcolor\":\"white\",\"linecolor\":\"white\",\"ticks\":\"\",\"title\":{\"standoff\":15},\"zerolinecolor\":\"white\",\"automargin\":true,\"zerolinewidth\":2},\"scene\":{\"xaxis\":{\"backgroundcolor\":\"#E5ECF6\",\"gridcolor\":\"white\",\"linecolor\":\"white\",\"showbackground\":true,\"ticks\":\"\",\"zerolinecolor\":\"white\",\"gridwidth\":2},\"yaxis\":{\"backgroundcolor\":\"#E5ECF6\",\"gridcolor\":\"white\",\"linecolor\":\"white\",\"showbackground\":true,\"ticks\":\"\",\"zerolinecolor\":\"white\",\"gridwidth\":2},\"zaxis\":{\"backgroundcolor\":\"#E5ECF6\",\"gridcolor\":\"white\",\"linecolor\":\"white\",\"showbackground\":true,\"ticks\":\"\",\"zerolinecolor\":\"white\",\"gridwidth\":2}},\"shapedefaults\":{\"line\":{\"color\":\"#2a3f5f\"}},\"annotationdefaults\":{\"arrowcolor\":\"#2a3f5f\",\"arrowhead\":0,\"arrowwidth\":1},\"geo\":{\"bgcolor\":\"white\",\"landcolor\":\"#E5ECF6\",\"subunitcolor\":\"white\",\"showland\":true,\"showlakes\":true,\"lakecolor\":\"white\"},\"title\":{\"x\":0.05},\"mapbox\":{\"style\":\"light\"}}},\"legend\":{\"orientation\":\"h\",\"yanchor\":\"top\",\"y\":1.25,\"xanchor\":\"left\",\"x\":0},\"margin\":{\"l\":0,\"r\":0,\"t\":0,\"b\":0},\"barmode\":\"stack\",\"hovermode\":\"y unified\",\"height\":200,\"width\":800},                        {\"responsive\": true}                    ).then(function(){\n",
       "                            \n",
       "var gd = document.getElementById('2415f16c-4206-44f5-a426-373e9c49d78a');\n",
       "var x = new MutationObserver(function (mutations, observer) {{\n",
       "        var display = window.getComputedStyle(gd).display;\n",
       "        if (!display || display === 'none') {{\n",
       "            console.log([gd, 'removed!']);\n",
       "            Plotly.purge(gd);\n",
       "            observer.disconnect();\n",
       "        }}\n",
       "}});\n",
       "\n",
       "// Listen for the removal of the full notebook cells\n",
       "var notebookContainer = gd.closest('#notebook-container');\n",
       "if (notebookContainer) {{\n",
       "    x.observe(notebookContainer, {childList: true});\n",
       "}}\n",
       "\n",
       "// Listen for the clearing of the current output cell\n",
       "var outputEl = gd.closest('.output');\n",
       "if (outputEl) {{\n",
       "    x.observe(outputEl, {childList: true});\n",
       "}}\n",
       "\n",
       "                        })                };                });            </script>        </div>"
      ]
     },
     "metadata": {},
     "output_type": "display_data"
    },
    {
     "name": "stdout",
     "output_type": "stream",
     "text": [
      "imdb_genre\n"
     ]
    },
    {
     "data": {
      "application/vnd.plotly.v1+json": {
       "config": {
        "plotlyServerURL": "https://plot.ly"
       },
       "data": [
        {
         "legendgroup": "text",
         "marker": {
          "color": "#00CC96"
         },
         "name": "text",
         "orientation": "h",
         "showlegend": true,
         "type": "bar",
         "x": [
          0.3425457038379502
         ],
         "y": [
          "disbert"
         ]
        },
        {
         "legendgroup": "tab",
         "marker": {
          "color": "#AB63FA"
         },
         "name": "tab",
         "orientation": "h",
         "showlegend": true,
         "type": "bar",
         "x": [
          0.04407660025599814
         ],
         "y": [
          "disbert"
         ]
        },
        {
         "legendgroup": "text template",
         "marker": {
          "color": "#FFA15A"
         },
         "name": "text template",
         "orientation": "h",
         "showlegend": true,
         "type": "bar",
         "x": [
          0.02844865359014166
         ],
         "y": [
          "disbert"
         ]
        },
        {
         "legendgroup": "tab template",
         "marker": {
          "color": "#19D3F3"
         },
         "name": "tab template",
         "orientation": "h",
         "showlegend": true,
         "type": "bar",
         "x": [
          0.07676141736318126
         ],
         "y": [
          "disbert"
         ]
        },
        {
         "legendgroup": "text",
         "marker": {
          "color": "#00CC96"
         },
         "name": "text",
         "orientation": "h",
         "showlegend": false,
         "type": "bar",
         "x": [
          0.4809538092921239
         ],
         "y": [
          "drob"
         ]
        },
        {
         "legendgroup": "tab",
         "marker": {
          "color": "#AB63FA"
         },
         "name": "tab",
         "orientation": "h",
         "showlegend": false,
         "type": "bar",
         "x": [
          0.04874568822213396
         ],
         "y": [
          "drob"
         ]
        },
        {
         "legendgroup": "text template",
         "marker": {
          "color": "#FFA15A"
         },
         "name": "text template",
         "orientation": "h",
         "showlegend": false,
         "type": "bar",
         "x": [
          0.014054430487562702
         ],
         "y": [
          "drob"
         ]
        },
        {
         "legendgroup": "tab template",
         "marker": {
          "color": "#19D3F3"
         },
         "name": "tab template",
         "orientation": "h",
         "showlegend": false,
         "type": "bar",
         "x": [
          0.13570379610908434
         ],
         "y": [
          "drob"
         ]
        },
        {
         "legendgroup": "text",
         "marker": {
          "color": "#00CC96"
         },
         "name": "text",
         "orientation": "h",
         "showlegend": false,
         "type": "bar",
         "x": [
          0.5480727867815288
         ],
         "y": [
          "deberta"
         ]
        },
        {
         "legendgroup": "tab",
         "marker": {
          "color": "#AB63FA"
         },
         "name": "tab",
         "orientation": "h",
         "showlegend": false,
         "type": "bar",
         "x": [
          0.018576610651614502
         ],
         "y": [
          "deberta"
         ]
        },
        {
         "legendgroup": "text template",
         "marker": {
          "color": "#FFA15A"
         },
         "name": "text template",
         "orientation": "h",
         "showlegend": false,
         "type": "bar",
         "x": [
          0.011692705252615603
         ],
         "y": [
          "deberta"
         ]
        },
        {
         "legendgroup": "tab template",
         "marker": {
          "color": "#19D3F3"
         },
         "name": "tab template",
         "orientation": "h",
         "showlegend": false,
         "type": "bar",
         "x": [
          0.04269411052094676
         ],
         "y": [
          "deberta"
         ]
        },
        {
         "legendgroup": "text",
         "marker": {
          "color": "#00CC96"
         },
         "name": "text",
         "orientation": "h",
         "showlegend": false,
         "type": "bar",
         "x": [
          0.36813327645301674
         ],
         "y": [
          "bert"
         ]
        },
        {
         "legendgroup": "tab",
         "marker": {
          "color": "#AB63FA"
         },
         "name": "tab",
         "orientation": "h",
         "showlegend": false,
         "type": "bar",
         "x": [
          0.08235450109732603
         ],
         "y": [
          "bert"
         ]
        },
        {
         "legendgroup": "text template",
         "marker": {
          "color": "#FFA15A"
         },
         "name": "text template",
         "orientation": "h",
         "showlegend": false,
         "type": "bar",
         "x": [
          0.03162702945391191
         ],
         "y": [
          "bert"
         ]
        },
        {
         "legendgroup": "tab template",
         "marker": {
          "color": "#19D3F3"
         },
         "name": "tab template",
         "orientation": "h",
         "showlegend": false,
         "type": "bar",
         "x": [
          0.14881254633323934
         ],
         "y": [
          "bert"
         ]
        }
       ],
       "layout": {
        "barmode": "stack",
        "height": 200,
        "hovermode": "y unified",
        "legend": {
         "orientation": "h",
         "x": 0,
         "xanchor": "left",
         "y": 1.25,
         "yanchor": "top"
        },
        "margin": {
         "b": 0,
         "l": 0,
         "r": 0,
         "t": 0
        },
        "template": {
         "data": {
          "bar": [
           {
            "error_x": {
             "color": "#2a3f5f"
            },
            "error_y": {
             "color": "#2a3f5f"
            },
            "marker": {
             "line": {
              "color": "#E5ECF6",
              "width": 0.5
             },
             "pattern": {
              "fillmode": "overlay",
              "size": 10,
              "solidity": 0.2
             }
            },
            "type": "bar"
           }
          ],
          "barpolar": [
           {
            "marker": {
             "line": {
              "color": "#E5ECF6",
              "width": 0.5
             },
             "pattern": {
              "fillmode": "overlay",
              "size": 10,
              "solidity": 0.2
             }
            },
            "type": "barpolar"
           }
          ],
          "carpet": [
           {
            "aaxis": {
             "endlinecolor": "#2a3f5f",
             "gridcolor": "white",
             "linecolor": "white",
             "minorgridcolor": "white",
             "startlinecolor": "#2a3f5f"
            },
            "baxis": {
             "endlinecolor": "#2a3f5f",
             "gridcolor": "white",
             "linecolor": "white",
             "minorgridcolor": "white",
             "startlinecolor": "#2a3f5f"
            },
            "type": "carpet"
           }
          ],
          "choropleth": [
           {
            "colorbar": {
             "outlinewidth": 0,
             "ticks": ""
            },
            "type": "choropleth"
           }
          ],
          "contour": [
           {
            "colorbar": {
             "outlinewidth": 0,
             "ticks": ""
            },
            "colorscale": [
             [
              0,
              "#0d0887"
             ],
             [
              0.1111111111111111,
              "#46039f"
             ],
             [
              0.2222222222222222,
              "#7201a8"
             ],
             [
              0.3333333333333333,
              "#9c179e"
             ],
             [
              0.4444444444444444,
              "#bd3786"
             ],
             [
              0.5555555555555556,
              "#d8576b"
             ],
             [
              0.6666666666666666,
              "#ed7953"
             ],
             [
              0.7777777777777778,
              "#fb9f3a"
             ],
             [
              0.8888888888888888,
              "#fdca26"
             ],
             [
              1,
              "#f0f921"
             ]
            ],
            "type": "contour"
           }
          ],
          "contourcarpet": [
           {
            "colorbar": {
             "outlinewidth": 0,
             "ticks": ""
            },
            "type": "contourcarpet"
           }
          ],
          "heatmap": [
           {
            "colorbar": {
             "outlinewidth": 0,
             "ticks": ""
            },
            "colorscale": [
             [
              0,
              "#0d0887"
             ],
             [
              0.1111111111111111,
              "#46039f"
             ],
             [
              0.2222222222222222,
              "#7201a8"
             ],
             [
              0.3333333333333333,
              "#9c179e"
             ],
             [
              0.4444444444444444,
              "#bd3786"
             ],
             [
              0.5555555555555556,
              "#d8576b"
             ],
             [
              0.6666666666666666,
              "#ed7953"
             ],
             [
              0.7777777777777778,
              "#fb9f3a"
             ],
             [
              0.8888888888888888,
              "#fdca26"
             ],
             [
              1,
              "#f0f921"
             ]
            ],
            "type": "heatmap"
           }
          ],
          "heatmapgl": [
           {
            "colorbar": {
             "outlinewidth": 0,
             "ticks": ""
            },
            "colorscale": [
             [
              0,
              "#0d0887"
             ],
             [
              0.1111111111111111,
              "#46039f"
             ],
             [
              0.2222222222222222,
              "#7201a8"
             ],
             [
              0.3333333333333333,
              "#9c179e"
             ],
             [
              0.4444444444444444,
              "#bd3786"
             ],
             [
              0.5555555555555556,
              "#d8576b"
             ],
             [
              0.6666666666666666,
              "#ed7953"
             ],
             [
              0.7777777777777778,
              "#fb9f3a"
             ],
             [
              0.8888888888888888,
              "#fdca26"
             ],
             [
              1,
              "#f0f921"
             ]
            ],
            "type": "heatmapgl"
           }
          ],
          "histogram": [
           {
            "marker": {
             "pattern": {
              "fillmode": "overlay",
              "size": 10,
              "solidity": 0.2
             }
            },
            "type": "histogram"
           }
          ],
          "histogram2d": [
           {
            "colorbar": {
             "outlinewidth": 0,
             "ticks": ""
            },
            "colorscale": [
             [
              0,
              "#0d0887"
             ],
             [
              0.1111111111111111,
              "#46039f"
             ],
             [
              0.2222222222222222,
              "#7201a8"
             ],
             [
              0.3333333333333333,
              "#9c179e"
             ],
             [
              0.4444444444444444,
              "#bd3786"
             ],
             [
              0.5555555555555556,
              "#d8576b"
             ],
             [
              0.6666666666666666,
              "#ed7953"
             ],
             [
              0.7777777777777778,
              "#fb9f3a"
             ],
             [
              0.8888888888888888,
              "#fdca26"
             ],
             [
              1,
              "#f0f921"
             ]
            ],
            "type": "histogram2d"
           }
          ],
          "histogram2dcontour": [
           {
            "colorbar": {
             "outlinewidth": 0,
             "ticks": ""
            },
            "colorscale": [
             [
              0,
              "#0d0887"
             ],
             [
              0.1111111111111111,
              "#46039f"
             ],
             [
              0.2222222222222222,
              "#7201a8"
             ],
             [
              0.3333333333333333,
              "#9c179e"
             ],
             [
              0.4444444444444444,
              "#bd3786"
             ],
             [
              0.5555555555555556,
              "#d8576b"
             ],
             [
              0.6666666666666666,
              "#ed7953"
             ],
             [
              0.7777777777777778,
              "#fb9f3a"
             ],
             [
              0.8888888888888888,
              "#fdca26"
             ],
             [
              1,
              "#f0f921"
             ]
            ],
            "type": "histogram2dcontour"
           }
          ],
          "mesh3d": [
           {
            "colorbar": {
             "outlinewidth": 0,
             "ticks": ""
            },
            "type": "mesh3d"
           }
          ],
          "parcoords": [
           {
            "line": {
             "colorbar": {
              "outlinewidth": 0,
              "ticks": ""
             }
            },
            "type": "parcoords"
           }
          ],
          "pie": [
           {
            "automargin": true,
            "type": "pie"
           }
          ],
          "scatter": [
           {
            "fillpattern": {
             "fillmode": "overlay",
             "size": 10,
             "solidity": 0.2
            },
            "type": "scatter"
           }
          ],
          "scatter3d": [
           {
            "line": {
             "colorbar": {
              "outlinewidth": 0,
              "ticks": ""
             }
            },
            "marker": {
             "colorbar": {
              "outlinewidth": 0,
              "ticks": ""
             }
            },
            "type": "scatter3d"
           }
          ],
          "scattercarpet": [
           {
            "marker": {
             "colorbar": {
              "outlinewidth": 0,
              "ticks": ""
             }
            },
            "type": "scattercarpet"
           }
          ],
          "scattergeo": [
           {
            "marker": {
             "colorbar": {
              "outlinewidth": 0,
              "ticks": ""
             }
            },
            "type": "scattergeo"
           }
          ],
          "scattergl": [
           {
            "marker": {
             "colorbar": {
              "outlinewidth": 0,
              "ticks": ""
             }
            },
            "type": "scattergl"
           }
          ],
          "scattermapbox": [
           {
            "marker": {
             "colorbar": {
              "outlinewidth": 0,
              "ticks": ""
             }
            },
            "type": "scattermapbox"
           }
          ],
          "scatterpolar": [
           {
            "marker": {
             "colorbar": {
              "outlinewidth": 0,
              "ticks": ""
             }
            },
            "type": "scatterpolar"
           }
          ],
          "scatterpolargl": [
           {
            "marker": {
             "colorbar": {
              "outlinewidth": 0,
              "ticks": ""
             }
            },
            "type": "scatterpolargl"
           }
          ],
          "scatterternary": [
           {
            "marker": {
             "colorbar": {
              "outlinewidth": 0,
              "ticks": ""
             }
            },
            "type": "scatterternary"
           }
          ],
          "surface": [
           {
            "colorbar": {
             "outlinewidth": 0,
             "ticks": ""
            },
            "colorscale": [
             [
              0,
              "#0d0887"
             ],
             [
              0.1111111111111111,
              "#46039f"
             ],
             [
              0.2222222222222222,
              "#7201a8"
             ],
             [
              0.3333333333333333,
              "#9c179e"
             ],
             [
              0.4444444444444444,
              "#bd3786"
             ],
             [
              0.5555555555555556,
              "#d8576b"
             ],
             [
              0.6666666666666666,
              "#ed7953"
             ],
             [
              0.7777777777777778,
              "#fb9f3a"
             ],
             [
              0.8888888888888888,
              "#fdca26"
             ],
             [
              1,
              "#f0f921"
             ]
            ],
            "type": "surface"
           }
          ],
          "table": [
           {
            "cells": {
             "fill": {
              "color": "#EBF0F8"
             },
             "line": {
              "color": "white"
             }
            },
            "header": {
             "fill": {
              "color": "#C8D4E3"
             },
             "line": {
              "color": "white"
             }
            },
            "type": "table"
           }
          ]
         },
         "layout": {
          "annotationdefaults": {
           "arrowcolor": "#2a3f5f",
           "arrowhead": 0,
           "arrowwidth": 1
          },
          "autotypenumbers": "strict",
          "coloraxis": {
           "colorbar": {
            "outlinewidth": 0,
            "ticks": ""
           }
          },
          "colorscale": {
           "diverging": [
            [
             0,
             "#8e0152"
            ],
            [
             0.1,
             "#c51b7d"
            ],
            [
             0.2,
             "#de77ae"
            ],
            [
             0.3,
             "#f1b6da"
            ],
            [
             0.4,
             "#fde0ef"
            ],
            [
             0.5,
             "#f7f7f7"
            ],
            [
             0.6,
             "#e6f5d0"
            ],
            [
             0.7,
             "#b8e186"
            ],
            [
             0.8,
             "#7fbc41"
            ],
            [
             0.9,
             "#4d9221"
            ],
            [
             1,
             "#276419"
            ]
           ],
           "sequential": [
            [
             0,
             "#0d0887"
            ],
            [
             0.1111111111111111,
             "#46039f"
            ],
            [
             0.2222222222222222,
             "#7201a8"
            ],
            [
             0.3333333333333333,
             "#9c179e"
            ],
            [
             0.4444444444444444,
             "#bd3786"
            ],
            [
             0.5555555555555556,
             "#d8576b"
            ],
            [
             0.6666666666666666,
             "#ed7953"
            ],
            [
             0.7777777777777778,
             "#fb9f3a"
            ],
            [
             0.8888888888888888,
             "#fdca26"
            ],
            [
             1,
             "#f0f921"
            ]
           ],
           "sequentialminus": [
            [
             0,
             "#0d0887"
            ],
            [
             0.1111111111111111,
             "#46039f"
            ],
            [
             0.2222222222222222,
             "#7201a8"
            ],
            [
             0.3333333333333333,
             "#9c179e"
            ],
            [
             0.4444444444444444,
             "#bd3786"
            ],
            [
             0.5555555555555556,
             "#d8576b"
            ],
            [
             0.6666666666666666,
             "#ed7953"
            ],
            [
             0.7777777777777778,
             "#fb9f3a"
            ],
            [
             0.8888888888888888,
             "#fdca26"
            ],
            [
             1,
             "#f0f921"
            ]
           ]
          },
          "colorway": [
           "#636efa",
           "#EF553B",
           "#00cc96",
           "#ab63fa",
           "#FFA15A",
           "#19d3f3",
           "#FF6692",
           "#B6E880",
           "#FF97FF",
           "#FECB52"
          ],
          "font": {
           "color": "#2a3f5f"
          },
          "geo": {
           "bgcolor": "white",
           "lakecolor": "white",
           "landcolor": "#E5ECF6",
           "showlakes": true,
           "showland": true,
           "subunitcolor": "white"
          },
          "hoverlabel": {
           "align": "left"
          },
          "hovermode": "closest",
          "mapbox": {
           "style": "light"
          },
          "paper_bgcolor": "white",
          "plot_bgcolor": "#E5ECF6",
          "polar": {
           "angularaxis": {
            "gridcolor": "white",
            "linecolor": "white",
            "ticks": ""
           },
           "bgcolor": "#E5ECF6",
           "radialaxis": {
            "gridcolor": "white",
            "linecolor": "white",
            "ticks": ""
           }
          },
          "scene": {
           "xaxis": {
            "backgroundcolor": "#E5ECF6",
            "gridcolor": "white",
            "gridwidth": 2,
            "linecolor": "white",
            "showbackground": true,
            "ticks": "",
            "zerolinecolor": "white"
           },
           "yaxis": {
            "backgroundcolor": "#E5ECF6",
            "gridcolor": "white",
            "gridwidth": 2,
            "linecolor": "white",
            "showbackground": true,
            "ticks": "",
            "zerolinecolor": "white"
           },
           "zaxis": {
            "backgroundcolor": "#E5ECF6",
            "gridcolor": "white",
            "gridwidth": 2,
            "linecolor": "white",
            "showbackground": true,
            "ticks": "",
            "zerolinecolor": "white"
           }
          },
          "shapedefaults": {
           "line": {
            "color": "#2a3f5f"
           }
          },
          "ternary": {
           "aaxis": {
            "gridcolor": "white",
            "linecolor": "white",
            "ticks": ""
           },
           "baxis": {
            "gridcolor": "white",
            "linecolor": "white",
            "ticks": ""
           },
           "bgcolor": "#E5ECF6",
           "caxis": {
            "gridcolor": "white",
            "linecolor": "white",
            "ticks": ""
           }
          },
          "title": {
           "x": 0.05
          },
          "xaxis": {
           "automargin": true,
           "gridcolor": "white",
           "linecolor": "white",
           "ticks": "",
           "title": {
            "standoff": 15
           },
           "zerolinecolor": "white",
           "zerolinewidth": 2
          },
          "yaxis": {
           "automargin": true,
           "gridcolor": "white",
           "linecolor": "white",
           "ticks": "",
           "title": {
            "standoff": 15
           },
           "zerolinecolor": "white",
           "zerolinewidth": 2
          }
         }
        },
        "width": 800
       }
      },
      "text/html": [
       "<div>                            <div id=\"309f0771-7402-4b0f-a221-3e0f9e4c1a86\" class=\"plotly-graph-div\" style=\"height:200px; width:800px;\"></div>            <script type=\"text/javascript\">                require([\"plotly\"], function(Plotly) {                    window.PLOTLYENV=window.PLOTLYENV || {};                                    if (document.getElementById(\"309f0771-7402-4b0f-a221-3e0f9e4c1a86\")) {                    Plotly.newPlot(                        \"309f0771-7402-4b0f-a221-3e0f9e4c1a86\",                        [{\"legendgroup\":\"text\",\"marker\":{\"color\":\"#00CC96\"},\"name\":\"text\",\"orientation\":\"h\",\"showlegend\":true,\"x\":[0.3425457038379502],\"y\":[\"disbert\"],\"type\":\"bar\"},{\"legendgroup\":\"tab\",\"marker\":{\"color\":\"#AB63FA\"},\"name\":\"tab\",\"orientation\":\"h\",\"showlegend\":true,\"x\":[0.04407660025599814],\"y\":[\"disbert\"],\"type\":\"bar\"},{\"legendgroup\":\"text template\",\"marker\":{\"color\":\"#FFA15A\"},\"name\":\"text template\",\"orientation\":\"h\",\"showlegend\":true,\"x\":[0.02844865359014166],\"y\":[\"disbert\"],\"type\":\"bar\"},{\"legendgroup\":\"tab template\",\"marker\":{\"color\":\"#19D3F3\"},\"name\":\"tab template\",\"orientation\":\"h\",\"showlegend\":true,\"x\":[0.07676141736318126],\"y\":[\"disbert\"],\"type\":\"bar\"},{\"legendgroup\":\"text\",\"marker\":{\"color\":\"#00CC96\"},\"name\":\"text\",\"orientation\":\"h\",\"showlegend\":false,\"x\":[0.4809538092921239],\"y\":[\"drob\"],\"type\":\"bar\"},{\"legendgroup\":\"tab\",\"marker\":{\"color\":\"#AB63FA\"},\"name\":\"tab\",\"orientation\":\"h\",\"showlegend\":false,\"x\":[0.04874568822213396],\"y\":[\"drob\"],\"type\":\"bar\"},{\"legendgroup\":\"text template\",\"marker\":{\"color\":\"#FFA15A\"},\"name\":\"text template\",\"orientation\":\"h\",\"showlegend\":false,\"x\":[0.014054430487562702],\"y\":[\"drob\"],\"type\":\"bar\"},{\"legendgroup\":\"tab template\",\"marker\":{\"color\":\"#19D3F3\"},\"name\":\"tab template\",\"orientation\":\"h\",\"showlegend\":false,\"x\":[0.13570379610908434],\"y\":[\"drob\"],\"type\":\"bar\"},{\"legendgroup\":\"text\",\"marker\":{\"color\":\"#00CC96\"},\"name\":\"text\",\"orientation\":\"h\",\"showlegend\":false,\"x\":[0.5480727867815288],\"y\":[\"deberta\"],\"type\":\"bar\"},{\"legendgroup\":\"tab\",\"marker\":{\"color\":\"#AB63FA\"},\"name\":\"tab\",\"orientation\":\"h\",\"showlegend\":false,\"x\":[0.018576610651614502],\"y\":[\"deberta\"],\"type\":\"bar\"},{\"legendgroup\":\"text template\",\"marker\":{\"color\":\"#FFA15A\"},\"name\":\"text template\",\"orientation\":\"h\",\"showlegend\":false,\"x\":[0.011692705252615603],\"y\":[\"deberta\"],\"type\":\"bar\"},{\"legendgroup\":\"tab template\",\"marker\":{\"color\":\"#19D3F3\"},\"name\":\"tab template\",\"orientation\":\"h\",\"showlegend\":false,\"x\":[0.04269411052094676],\"y\":[\"deberta\"],\"type\":\"bar\"},{\"legendgroup\":\"text\",\"marker\":{\"color\":\"#00CC96\"},\"name\":\"text\",\"orientation\":\"h\",\"showlegend\":false,\"x\":[0.36813327645301674],\"y\":[\"bert\"],\"type\":\"bar\"},{\"legendgroup\":\"tab\",\"marker\":{\"color\":\"#AB63FA\"},\"name\":\"tab\",\"orientation\":\"h\",\"showlegend\":false,\"x\":[0.08235450109732603],\"y\":[\"bert\"],\"type\":\"bar\"},{\"legendgroup\":\"text template\",\"marker\":{\"color\":\"#FFA15A\"},\"name\":\"text template\",\"orientation\":\"h\",\"showlegend\":false,\"x\":[0.03162702945391191],\"y\":[\"bert\"],\"type\":\"bar\"},{\"legendgroup\":\"tab template\",\"marker\":{\"color\":\"#19D3F3\"},\"name\":\"tab template\",\"orientation\":\"h\",\"showlegend\":false,\"x\":[0.14881254633323934],\"y\":[\"bert\"],\"type\":\"bar\"}],                        {\"template\":{\"data\":{\"histogram2dcontour\":[{\"type\":\"histogram2dcontour\",\"colorbar\":{\"outlinewidth\":0,\"ticks\":\"\"},\"colorscale\":[[0.0,\"#0d0887\"],[0.1111111111111111,\"#46039f\"],[0.2222222222222222,\"#7201a8\"],[0.3333333333333333,\"#9c179e\"],[0.4444444444444444,\"#bd3786\"],[0.5555555555555556,\"#d8576b\"],[0.6666666666666666,\"#ed7953\"],[0.7777777777777778,\"#fb9f3a\"],[0.8888888888888888,\"#fdca26\"],[1.0,\"#f0f921\"]]}],\"choropleth\":[{\"type\":\"choropleth\",\"colorbar\":{\"outlinewidth\":0,\"ticks\":\"\"}}],\"histogram2d\":[{\"type\":\"histogram2d\",\"colorbar\":{\"outlinewidth\":0,\"ticks\":\"\"},\"colorscale\":[[0.0,\"#0d0887\"],[0.1111111111111111,\"#46039f\"],[0.2222222222222222,\"#7201a8\"],[0.3333333333333333,\"#9c179e\"],[0.4444444444444444,\"#bd3786\"],[0.5555555555555556,\"#d8576b\"],[0.6666666666666666,\"#ed7953\"],[0.7777777777777778,\"#fb9f3a\"],[0.8888888888888888,\"#fdca26\"],[1.0,\"#f0f921\"]]}],\"heatmap\":[{\"type\":\"heatmap\",\"colorbar\":{\"outlinewidth\":0,\"ticks\":\"\"},\"colorscale\":[[0.0,\"#0d0887\"],[0.1111111111111111,\"#46039f\"],[0.2222222222222222,\"#7201a8\"],[0.3333333333333333,\"#9c179e\"],[0.4444444444444444,\"#bd3786\"],[0.5555555555555556,\"#d8576b\"],[0.6666666666666666,\"#ed7953\"],[0.7777777777777778,\"#fb9f3a\"],[0.8888888888888888,\"#fdca26\"],[1.0,\"#f0f921\"]]}],\"heatmapgl\":[{\"type\":\"heatmapgl\",\"colorbar\":{\"outlinewidth\":0,\"ticks\":\"\"},\"colorscale\":[[0.0,\"#0d0887\"],[0.1111111111111111,\"#46039f\"],[0.2222222222222222,\"#7201a8\"],[0.3333333333333333,\"#9c179e\"],[0.4444444444444444,\"#bd3786\"],[0.5555555555555556,\"#d8576b\"],[0.6666666666666666,\"#ed7953\"],[0.7777777777777778,\"#fb9f3a\"],[0.8888888888888888,\"#fdca26\"],[1.0,\"#f0f921\"]]}],\"contourcarpet\":[{\"type\":\"contourcarpet\",\"colorbar\":{\"outlinewidth\":0,\"ticks\":\"\"}}],\"contour\":[{\"type\":\"contour\",\"colorbar\":{\"outlinewidth\":0,\"ticks\":\"\"},\"colorscale\":[[0.0,\"#0d0887\"],[0.1111111111111111,\"#46039f\"],[0.2222222222222222,\"#7201a8\"],[0.3333333333333333,\"#9c179e\"],[0.4444444444444444,\"#bd3786\"],[0.5555555555555556,\"#d8576b\"],[0.6666666666666666,\"#ed7953\"],[0.7777777777777778,\"#fb9f3a\"],[0.8888888888888888,\"#fdca26\"],[1.0,\"#f0f921\"]]}],\"surface\":[{\"type\":\"surface\",\"colorbar\":{\"outlinewidth\":0,\"ticks\":\"\"},\"colorscale\":[[0.0,\"#0d0887\"],[0.1111111111111111,\"#46039f\"],[0.2222222222222222,\"#7201a8\"],[0.3333333333333333,\"#9c179e\"],[0.4444444444444444,\"#bd3786\"],[0.5555555555555556,\"#d8576b\"],[0.6666666666666666,\"#ed7953\"],[0.7777777777777778,\"#fb9f3a\"],[0.8888888888888888,\"#fdca26\"],[1.0,\"#f0f921\"]]}],\"mesh3d\":[{\"type\":\"mesh3d\",\"colorbar\":{\"outlinewidth\":0,\"ticks\":\"\"}}],\"scatter\":[{\"fillpattern\":{\"fillmode\":\"overlay\",\"size\":10,\"solidity\":0.2},\"type\":\"scatter\"}],\"parcoords\":[{\"type\":\"parcoords\",\"line\":{\"colorbar\":{\"outlinewidth\":0,\"ticks\":\"\"}}}],\"scatterpolargl\":[{\"type\":\"scatterpolargl\",\"marker\":{\"colorbar\":{\"outlinewidth\":0,\"ticks\":\"\"}}}],\"bar\":[{\"error_x\":{\"color\":\"#2a3f5f\"},\"error_y\":{\"color\":\"#2a3f5f\"},\"marker\":{\"line\":{\"color\":\"#E5ECF6\",\"width\":0.5},\"pattern\":{\"fillmode\":\"overlay\",\"size\":10,\"solidity\":0.2}},\"type\":\"bar\"}],\"scattergeo\":[{\"type\":\"scattergeo\",\"marker\":{\"colorbar\":{\"outlinewidth\":0,\"ticks\":\"\"}}}],\"scatterpolar\":[{\"type\":\"scatterpolar\",\"marker\":{\"colorbar\":{\"outlinewidth\":0,\"ticks\":\"\"}}}],\"histogram\":[{\"marker\":{\"pattern\":{\"fillmode\":\"overlay\",\"size\":10,\"solidity\":0.2}},\"type\":\"histogram\"}],\"scattergl\":[{\"type\":\"scattergl\",\"marker\":{\"colorbar\":{\"outlinewidth\":0,\"ticks\":\"\"}}}],\"scatter3d\":[{\"type\":\"scatter3d\",\"line\":{\"colorbar\":{\"outlinewidth\":0,\"ticks\":\"\"}},\"marker\":{\"colorbar\":{\"outlinewidth\":0,\"ticks\":\"\"}}}],\"scattermapbox\":[{\"type\":\"scattermapbox\",\"marker\":{\"colorbar\":{\"outlinewidth\":0,\"ticks\":\"\"}}}],\"scatterternary\":[{\"type\":\"scatterternary\",\"marker\":{\"colorbar\":{\"outlinewidth\":0,\"ticks\":\"\"}}}],\"scattercarpet\":[{\"type\":\"scattercarpet\",\"marker\":{\"colorbar\":{\"outlinewidth\":0,\"ticks\":\"\"}}}],\"carpet\":[{\"aaxis\":{\"endlinecolor\":\"#2a3f5f\",\"gridcolor\":\"white\",\"linecolor\":\"white\",\"minorgridcolor\":\"white\",\"startlinecolor\":\"#2a3f5f\"},\"baxis\":{\"endlinecolor\":\"#2a3f5f\",\"gridcolor\":\"white\",\"linecolor\":\"white\",\"minorgridcolor\":\"white\",\"startlinecolor\":\"#2a3f5f\"},\"type\":\"carpet\"}],\"table\":[{\"cells\":{\"fill\":{\"color\":\"#EBF0F8\"},\"line\":{\"color\":\"white\"}},\"header\":{\"fill\":{\"color\":\"#C8D4E3\"},\"line\":{\"color\":\"white\"}},\"type\":\"table\"}],\"barpolar\":[{\"marker\":{\"line\":{\"color\":\"#E5ECF6\",\"width\":0.5},\"pattern\":{\"fillmode\":\"overlay\",\"size\":10,\"solidity\":0.2}},\"type\":\"barpolar\"}],\"pie\":[{\"automargin\":true,\"type\":\"pie\"}]},\"layout\":{\"autotypenumbers\":\"strict\",\"colorway\":[\"#636efa\",\"#EF553B\",\"#00cc96\",\"#ab63fa\",\"#FFA15A\",\"#19d3f3\",\"#FF6692\",\"#B6E880\",\"#FF97FF\",\"#FECB52\"],\"font\":{\"color\":\"#2a3f5f\"},\"hovermode\":\"closest\",\"hoverlabel\":{\"align\":\"left\"},\"paper_bgcolor\":\"white\",\"plot_bgcolor\":\"#E5ECF6\",\"polar\":{\"bgcolor\":\"#E5ECF6\",\"angularaxis\":{\"gridcolor\":\"white\",\"linecolor\":\"white\",\"ticks\":\"\"},\"radialaxis\":{\"gridcolor\":\"white\",\"linecolor\":\"white\",\"ticks\":\"\"}},\"ternary\":{\"bgcolor\":\"#E5ECF6\",\"aaxis\":{\"gridcolor\":\"white\",\"linecolor\":\"white\",\"ticks\":\"\"},\"baxis\":{\"gridcolor\":\"white\",\"linecolor\":\"white\",\"ticks\":\"\"},\"caxis\":{\"gridcolor\":\"white\",\"linecolor\":\"white\",\"ticks\":\"\"}},\"coloraxis\":{\"colorbar\":{\"outlinewidth\":0,\"ticks\":\"\"}},\"colorscale\":{\"sequential\":[[0.0,\"#0d0887\"],[0.1111111111111111,\"#46039f\"],[0.2222222222222222,\"#7201a8\"],[0.3333333333333333,\"#9c179e\"],[0.4444444444444444,\"#bd3786\"],[0.5555555555555556,\"#d8576b\"],[0.6666666666666666,\"#ed7953\"],[0.7777777777777778,\"#fb9f3a\"],[0.8888888888888888,\"#fdca26\"],[1.0,\"#f0f921\"]],\"sequentialminus\":[[0.0,\"#0d0887\"],[0.1111111111111111,\"#46039f\"],[0.2222222222222222,\"#7201a8\"],[0.3333333333333333,\"#9c179e\"],[0.4444444444444444,\"#bd3786\"],[0.5555555555555556,\"#d8576b\"],[0.6666666666666666,\"#ed7953\"],[0.7777777777777778,\"#fb9f3a\"],[0.8888888888888888,\"#fdca26\"],[1.0,\"#f0f921\"]],\"diverging\":[[0,\"#8e0152\"],[0.1,\"#c51b7d\"],[0.2,\"#de77ae\"],[0.3,\"#f1b6da\"],[0.4,\"#fde0ef\"],[0.5,\"#f7f7f7\"],[0.6,\"#e6f5d0\"],[0.7,\"#b8e186\"],[0.8,\"#7fbc41\"],[0.9,\"#4d9221\"],[1,\"#276419\"]]},\"xaxis\":{\"gridcolor\":\"white\",\"linecolor\":\"white\",\"ticks\":\"\",\"title\":{\"standoff\":15},\"zerolinecolor\":\"white\",\"automargin\":true,\"zerolinewidth\":2},\"yaxis\":{\"gridcolor\":\"white\",\"linecolor\":\"white\",\"ticks\":\"\",\"title\":{\"standoff\":15},\"zerolinecolor\":\"white\",\"automargin\":true,\"zerolinewidth\":2},\"scene\":{\"xaxis\":{\"backgroundcolor\":\"#E5ECF6\",\"gridcolor\":\"white\",\"linecolor\":\"white\",\"showbackground\":true,\"ticks\":\"\",\"zerolinecolor\":\"white\",\"gridwidth\":2},\"yaxis\":{\"backgroundcolor\":\"#E5ECF6\",\"gridcolor\":\"white\",\"linecolor\":\"white\",\"showbackground\":true,\"ticks\":\"\",\"zerolinecolor\":\"white\",\"gridwidth\":2},\"zaxis\":{\"backgroundcolor\":\"#E5ECF6\",\"gridcolor\":\"white\",\"linecolor\":\"white\",\"showbackground\":true,\"ticks\":\"\",\"zerolinecolor\":\"white\",\"gridwidth\":2}},\"shapedefaults\":{\"line\":{\"color\":\"#2a3f5f\"}},\"annotationdefaults\":{\"arrowcolor\":\"#2a3f5f\",\"arrowhead\":0,\"arrowwidth\":1},\"geo\":{\"bgcolor\":\"white\",\"landcolor\":\"#E5ECF6\",\"subunitcolor\":\"white\",\"showland\":true,\"showlakes\":true,\"lakecolor\":\"white\"},\"title\":{\"x\":0.05},\"mapbox\":{\"style\":\"light\"}}},\"legend\":{\"orientation\":\"h\",\"yanchor\":\"top\",\"y\":1.25,\"xanchor\":\"left\",\"x\":0},\"margin\":{\"l\":0,\"r\":0,\"t\":0,\"b\":0},\"barmode\":\"stack\",\"hovermode\":\"y unified\",\"height\":200,\"width\":800},                        {\"responsive\": true}                    ).then(function(){\n",
       "                            \n",
       "var gd = document.getElementById('309f0771-7402-4b0f-a221-3e0f9e4c1a86');\n",
       "var x = new MutationObserver(function (mutations, observer) {{\n",
       "        var display = window.getComputedStyle(gd).display;\n",
       "        if (!display || display === 'none') {{\n",
       "            console.log([gd, 'removed!']);\n",
       "            Plotly.purge(gd);\n",
       "            observer.disconnect();\n",
       "        }}\n",
       "}});\n",
       "\n",
       "// Listen for the removal of the full notebook cells\n",
       "var notebookContainer = gd.closest('#notebook-container');\n",
       "if (notebookContainer) {{\n",
       "    x.observe(notebookContainer, {childList: true});\n",
       "}}\n",
       "\n",
       "// Listen for the clearing of the current output cell\n",
       "var outputEl = gd.closest('.output');\n",
       "if (outputEl) {{\n",
       "    x.observe(outputEl, {childList: true});\n",
       "}}\n",
       "\n",
       "                        })                };                });            </script>        </div>"
      ]
     },
     "metadata": {},
     "output_type": "display_data"
    },
    {
     "name": "stdout",
     "output_type": "stream",
     "text": [
      "prod_sent\n"
     ]
    },
    {
     "data": {
      "application/vnd.plotly.v1+json": {
       "config": {
        "plotlyServerURL": "https://plot.ly"
       },
       "data": [
        {
         "legendgroup": "text",
         "marker": {
          "color": "#00CC96"
         },
         "name": "text",
         "orientation": "h",
         "showlegend": true,
         "type": "bar",
         "x": [
          0.46626402272712125
         ],
         "y": [
          "disbert"
         ]
        },
        {
         "legendgroup": "tab",
         "marker": {
          "color": "#AB63FA"
         },
         "name": "tab",
         "orientation": "h",
         "showlegend": true,
         "type": "bar",
         "x": [
          0.8473009665493145
         ],
         "y": [
          "disbert"
         ]
        },
        {
         "legendgroup": "text template",
         "marker": {
          "color": "#FFA15A"
         },
         "name": "text template",
         "orientation": "h",
         "showlegend": true,
         "type": "bar",
         "x": [
          0.06633056114333603
         ],
         "y": [
          "disbert"
         ]
        },
        {
         "legendgroup": "tab template",
         "marker": {
          "color": "#19D3F3"
         },
         "name": "tab template",
         "orientation": "h",
         "showlegend": true,
         "type": "bar",
         "x": [
          0.11209988508344546
         ],
         "y": [
          "disbert"
         ]
        },
        {
         "legendgroup": "text",
         "marker": {
          "color": "#00CC96"
         },
         "name": "text",
         "orientation": "h",
         "showlegend": false,
         "type": "bar",
         "x": [
          1.115879607648904
         ],
         "y": [
          "drob"
         ]
        },
        {
         "legendgroup": "tab",
         "marker": {
          "color": "#AB63FA"
         },
         "name": "tab",
         "orientation": "h",
         "showlegend": false,
         "type": "bar",
         "x": [
          0.6941172797493554
         ],
         "y": [
          "drob"
         ]
        },
        {
         "legendgroup": "text template",
         "marker": {
          "color": "#FFA15A"
         },
         "name": "text template",
         "orientation": "h",
         "showlegend": false,
         "type": "bar",
         "x": [
          0.0698102410883478
         ],
         "y": [
          "drob"
         ]
        },
        {
         "legendgroup": "tab template",
         "marker": {
          "color": "#19D3F3"
         },
         "name": "tab template",
         "orientation": "h",
         "showlegend": false,
         "type": "bar",
         "x": [
          0.06577949675945309
         ],
         "y": [
          "drob"
         ]
        },
        {
         "legendgroup": "text",
         "marker": {
          "color": "#00CC96"
         },
         "name": "text",
         "orientation": "h",
         "showlegend": false,
         "type": "bar",
         "x": [
          0.5451188586428697
         ],
         "y": [
          "deberta"
         ]
        },
        {
         "legendgroup": "tab",
         "marker": {
          "color": "#AB63FA"
         },
         "name": "tab",
         "orientation": "h",
         "showlegend": false,
         "type": "bar",
         "x": [
          0.953122448861607
         ],
         "y": [
          "deberta"
         ]
        },
        {
         "legendgroup": "text template",
         "marker": {
          "color": "#FFA15A"
         },
         "name": "text template",
         "orientation": "h",
         "showlegend": false,
         "type": "bar",
         "x": [
          0.06982212995822816
         ],
         "y": [
          "deberta"
         ]
        },
        {
         "legendgroup": "tab template",
         "marker": {
          "color": "#19D3F3"
         },
         "name": "tab template",
         "orientation": "h",
         "showlegend": false,
         "type": "bar",
         "x": [
          0.06389912217961623
         ],
         "y": [
          "deberta"
         ]
        },
        {
         "legendgroup": "text",
         "marker": {
          "color": "#00CC96"
         },
         "name": "text",
         "orientation": "h",
         "showlegend": false,
         "type": "bar",
         "x": [
          0.4338572294130176
         ],
         "y": [
          "bert"
         ]
        },
        {
         "legendgroup": "tab",
         "marker": {
          "color": "#AB63FA"
         },
         "name": "tab",
         "orientation": "h",
         "showlegend": false,
         "type": "bar",
         "x": [
          0.9798971317896411
         ],
         "y": [
          "bert"
         ]
        },
        {
         "legendgroup": "text template",
         "marker": {
          "color": "#FFA15A"
         },
         "name": "text template",
         "orientation": "h",
         "showlegend": false,
         "type": "bar",
         "x": [
          0.37495396697058825
         ],
         "y": [
          "bert"
         ]
        },
        {
         "legendgroup": "tab template",
         "marker": {
          "color": "#19D3F3"
         },
         "name": "tab template",
         "orientation": "h",
         "showlegend": false,
         "type": "bar",
         "x": [
          0.10361113992175505
         ],
         "y": [
          "bert"
         ]
        }
       ],
       "layout": {
        "barmode": "stack",
        "height": 200,
        "hovermode": "y unified",
        "legend": {
         "orientation": "h",
         "x": 0,
         "xanchor": "left",
         "y": 1.25,
         "yanchor": "top"
        },
        "margin": {
         "b": 0,
         "l": 0,
         "r": 0,
         "t": 0
        },
        "template": {
         "data": {
          "bar": [
           {
            "error_x": {
             "color": "#2a3f5f"
            },
            "error_y": {
             "color": "#2a3f5f"
            },
            "marker": {
             "line": {
              "color": "#E5ECF6",
              "width": 0.5
             },
             "pattern": {
              "fillmode": "overlay",
              "size": 10,
              "solidity": 0.2
             }
            },
            "type": "bar"
           }
          ],
          "barpolar": [
           {
            "marker": {
             "line": {
              "color": "#E5ECF6",
              "width": 0.5
             },
             "pattern": {
              "fillmode": "overlay",
              "size": 10,
              "solidity": 0.2
             }
            },
            "type": "barpolar"
           }
          ],
          "carpet": [
           {
            "aaxis": {
             "endlinecolor": "#2a3f5f",
             "gridcolor": "white",
             "linecolor": "white",
             "minorgridcolor": "white",
             "startlinecolor": "#2a3f5f"
            },
            "baxis": {
             "endlinecolor": "#2a3f5f",
             "gridcolor": "white",
             "linecolor": "white",
             "minorgridcolor": "white",
             "startlinecolor": "#2a3f5f"
            },
            "type": "carpet"
           }
          ],
          "choropleth": [
           {
            "colorbar": {
             "outlinewidth": 0,
             "ticks": ""
            },
            "type": "choropleth"
           }
          ],
          "contour": [
           {
            "colorbar": {
             "outlinewidth": 0,
             "ticks": ""
            },
            "colorscale": [
             [
              0,
              "#0d0887"
             ],
             [
              0.1111111111111111,
              "#46039f"
             ],
             [
              0.2222222222222222,
              "#7201a8"
             ],
             [
              0.3333333333333333,
              "#9c179e"
             ],
             [
              0.4444444444444444,
              "#bd3786"
             ],
             [
              0.5555555555555556,
              "#d8576b"
             ],
             [
              0.6666666666666666,
              "#ed7953"
             ],
             [
              0.7777777777777778,
              "#fb9f3a"
             ],
             [
              0.8888888888888888,
              "#fdca26"
             ],
             [
              1,
              "#f0f921"
             ]
            ],
            "type": "contour"
           }
          ],
          "contourcarpet": [
           {
            "colorbar": {
             "outlinewidth": 0,
             "ticks": ""
            },
            "type": "contourcarpet"
           }
          ],
          "heatmap": [
           {
            "colorbar": {
             "outlinewidth": 0,
             "ticks": ""
            },
            "colorscale": [
             [
              0,
              "#0d0887"
             ],
             [
              0.1111111111111111,
              "#46039f"
             ],
             [
              0.2222222222222222,
              "#7201a8"
             ],
             [
              0.3333333333333333,
              "#9c179e"
             ],
             [
              0.4444444444444444,
              "#bd3786"
             ],
             [
              0.5555555555555556,
              "#d8576b"
             ],
             [
              0.6666666666666666,
              "#ed7953"
             ],
             [
              0.7777777777777778,
              "#fb9f3a"
             ],
             [
              0.8888888888888888,
              "#fdca26"
             ],
             [
              1,
              "#f0f921"
             ]
            ],
            "type": "heatmap"
           }
          ],
          "heatmapgl": [
           {
            "colorbar": {
             "outlinewidth": 0,
             "ticks": ""
            },
            "colorscale": [
             [
              0,
              "#0d0887"
             ],
             [
              0.1111111111111111,
              "#46039f"
             ],
             [
              0.2222222222222222,
              "#7201a8"
             ],
             [
              0.3333333333333333,
              "#9c179e"
             ],
             [
              0.4444444444444444,
              "#bd3786"
             ],
             [
              0.5555555555555556,
              "#d8576b"
             ],
             [
              0.6666666666666666,
              "#ed7953"
             ],
             [
              0.7777777777777778,
              "#fb9f3a"
             ],
             [
              0.8888888888888888,
              "#fdca26"
             ],
             [
              1,
              "#f0f921"
             ]
            ],
            "type": "heatmapgl"
           }
          ],
          "histogram": [
           {
            "marker": {
             "pattern": {
              "fillmode": "overlay",
              "size": 10,
              "solidity": 0.2
             }
            },
            "type": "histogram"
           }
          ],
          "histogram2d": [
           {
            "colorbar": {
             "outlinewidth": 0,
             "ticks": ""
            },
            "colorscale": [
             [
              0,
              "#0d0887"
             ],
             [
              0.1111111111111111,
              "#46039f"
             ],
             [
              0.2222222222222222,
              "#7201a8"
             ],
             [
              0.3333333333333333,
              "#9c179e"
             ],
             [
              0.4444444444444444,
              "#bd3786"
             ],
             [
              0.5555555555555556,
              "#d8576b"
             ],
             [
              0.6666666666666666,
              "#ed7953"
             ],
             [
              0.7777777777777778,
              "#fb9f3a"
             ],
             [
              0.8888888888888888,
              "#fdca26"
             ],
             [
              1,
              "#f0f921"
             ]
            ],
            "type": "histogram2d"
           }
          ],
          "histogram2dcontour": [
           {
            "colorbar": {
             "outlinewidth": 0,
             "ticks": ""
            },
            "colorscale": [
             [
              0,
              "#0d0887"
             ],
             [
              0.1111111111111111,
              "#46039f"
             ],
             [
              0.2222222222222222,
              "#7201a8"
             ],
             [
              0.3333333333333333,
              "#9c179e"
             ],
             [
              0.4444444444444444,
              "#bd3786"
             ],
             [
              0.5555555555555556,
              "#d8576b"
             ],
             [
              0.6666666666666666,
              "#ed7953"
             ],
             [
              0.7777777777777778,
              "#fb9f3a"
             ],
             [
              0.8888888888888888,
              "#fdca26"
             ],
             [
              1,
              "#f0f921"
             ]
            ],
            "type": "histogram2dcontour"
           }
          ],
          "mesh3d": [
           {
            "colorbar": {
             "outlinewidth": 0,
             "ticks": ""
            },
            "type": "mesh3d"
           }
          ],
          "parcoords": [
           {
            "line": {
             "colorbar": {
              "outlinewidth": 0,
              "ticks": ""
             }
            },
            "type": "parcoords"
           }
          ],
          "pie": [
           {
            "automargin": true,
            "type": "pie"
           }
          ],
          "scatter": [
           {
            "fillpattern": {
             "fillmode": "overlay",
             "size": 10,
             "solidity": 0.2
            },
            "type": "scatter"
           }
          ],
          "scatter3d": [
           {
            "line": {
             "colorbar": {
              "outlinewidth": 0,
              "ticks": ""
             }
            },
            "marker": {
             "colorbar": {
              "outlinewidth": 0,
              "ticks": ""
             }
            },
            "type": "scatter3d"
           }
          ],
          "scattercarpet": [
           {
            "marker": {
             "colorbar": {
              "outlinewidth": 0,
              "ticks": ""
             }
            },
            "type": "scattercarpet"
           }
          ],
          "scattergeo": [
           {
            "marker": {
             "colorbar": {
              "outlinewidth": 0,
              "ticks": ""
             }
            },
            "type": "scattergeo"
           }
          ],
          "scattergl": [
           {
            "marker": {
             "colorbar": {
              "outlinewidth": 0,
              "ticks": ""
             }
            },
            "type": "scattergl"
           }
          ],
          "scattermapbox": [
           {
            "marker": {
             "colorbar": {
              "outlinewidth": 0,
              "ticks": ""
             }
            },
            "type": "scattermapbox"
           }
          ],
          "scatterpolar": [
           {
            "marker": {
             "colorbar": {
              "outlinewidth": 0,
              "ticks": ""
             }
            },
            "type": "scatterpolar"
           }
          ],
          "scatterpolargl": [
           {
            "marker": {
             "colorbar": {
              "outlinewidth": 0,
              "ticks": ""
             }
            },
            "type": "scatterpolargl"
           }
          ],
          "scatterternary": [
           {
            "marker": {
             "colorbar": {
              "outlinewidth": 0,
              "ticks": ""
             }
            },
            "type": "scatterternary"
           }
          ],
          "surface": [
           {
            "colorbar": {
             "outlinewidth": 0,
             "ticks": ""
            },
            "colorscale": [
             [
              0,
              "#0d0887"
             ],
             [
              0.1111111111111111,
              "#46039f"
             ],
             [
              0.2222222222222222,
              "#7201a8"
             ],
             [
              0.3333333333333333,
              "#9c179e"
             ],
             [
              0.4444444444444444,
              "#bd3786"
             ],
             [
              0.5555555555555556,
              "#d8576b"
             ],
             [
              0.6666666666666666,
              "#ed7953"
             ],
             [
              0.7777777777777778,
              "#fb9f3a"
             ],
             [
              0.8888888888888888,
              "#fdca26"
             ],
             [
              1,
              "#f0f921"
             ]
            ],
            "type": "surface"
           }
          ],
          "table": [
           {
            "cells": {
             "fill": {
              "color": "#EBF0F8"
             },
             "line": {
              "color": "white"
             }
            },
            "header": {
             "fill": {
              "color": "#C8D4E3"
             },
             "line": {
              "color": "white"
             }
            },
            "type": "table"
           }
          ]
         },
         "layout": {
          "annotationdefaults": {
           "arrowcolor": "#2a3f5f",
           "arrowhead": 0,
           "arrowwidth": 1
          },
          "autotypenumbers": "strict",
          "coloraxis": {
           "colorbar": {
            "outlinewidth": 0,
            "ticks": ""
           }
          },
          "colorscale": {
           "diverging": [
            [
             0,
             "#8e0152"
            ],
            [
             0.1,
             "#c51b7d"
            ],
            [
             0.2,
             "#de77ae"
            ],
            [
             0.3,
             "#f1b6da"
            ],
            [
             0.4,
             "#fde0ef"
            ],
            [
             0.5,
             "#f7f7f7"
            ],
            [
             0.6,
             "#e6f5d0"
            ],
            [
             0.7,
             "#b8e186"
            ],
            [
             0.8,
             "#7fbc41"
            ],
            [
             0.9,
             "#4d9221"
            ],
            [
             1,
             "#276419"
            ]
           ],
           "sequential": [
            [
             0,
             "#0d0887"
            ],
            [
             0.1111111111111111,
             "#46039f"
            ],
            [
             0.2222222222222222,
             "#7201a8"
            ],
            [
             0.3333333333333333,
             "#9c179e"
            ],
            [
             0.4444444444444444,
             "#bd3786"
            ],
            [
             0.5555555555555556,
             "#d8576b"
            ],
            [
             0.6666666666666666,
             "#ed7953"
            ],
            [
             0.7777777777777778,
             "#fb9f3a"
            ],
            [
             0.8888888888888888,
             "#fdca26"
            ],
            [
             1,
             "#f0f921"
            ]
           ],
           "sequentialminus": [
            [
             0,
             "#0d0887"
            ],
            [
             0.1111111111111111,
             "#46039f"
            ],
            [
             0.2222222222222222,
             "#7201a8"
            ],
            [
             0.3333333333333333,
             "#9c179e"
            ],
            [
             0.4444444444444444,
             "#bd3786"
            ],
            [
             0.5555555555555556,
             "#d8576b"
            ],
            [
             0.6666666666666666,
             "#ed7953"
            ],
            [
             0.7777777777777778,
             "#fb9f3a"
            ],
            [
             0.8888888888888888,
             "#fdca26"
            ],
            [
             1,
             "#f0f921"
            ]
           ]
          },
          "colorway": [
           "#636efa",
           "#EF553B",
           "#00cc96",
           "#ab63fa",
           "#FFA15A",
           "#19d3f3",
           "#FF6692",
           "#B6E880",
           "#FF97FF",
           "#FECB52"
          ],
          "font": {
           "color": "#2a3f5f"
          },
          "geo": {
           "bgcolor": "white",
           "lakecolor": "white",
           "landcolor": "#E5ECF6",
           "showlakes": true,
           "showland": true,
           "subunitcolor": "white"
          },
          "hoverlabel": {
           "align": "left"
          },
          "hovermode": "closest",
          "mapbox": {
           "style": "light"
          },
          "paper_bgcolor": "white",
          "plot_bgcolor": "#E5ECF6",
          "polar": {
           "angularaxis": {
            "gridcolor": "white",
            "linecolor": "white",
            "ticks": ""
           },
           "bgcolor": "#E5ECF6",
           "radialaxis": {
            "gridcolor": "white",
            "linecolor": "white",
            "ticks": ""
           }
          },
          "scene": {
           "xaxis": {
            "backgroundcolor": "#E5ECF6",
            "gridcolor": "white",
            "gridwidth": 2,
            "linecolor": "white",
            "showbackground": true,
            "ticks": "",
            "zerolinecolor": "white"
           },
           "yaxis": {
            "backgroundcolor": "#E5ECF6",
            "gridcolor": "white",
            "gridwidth": 2,
            "linecolor": "white",
            "showbackground": true,
            "ticks": "",
            "zerolinecolor": "white"
           },
           "zaxis": {
            "backgroundcolor": "#E5ECF6",
            "gridcolor": "white",
            "gridwidth": 2,
            "linecolor": "white",
            "showbackground": true,
            "ticks": "",
            "zerolinecolor": "white"
           }
          },
          "shapedefaults": {
           "line": {
            "color": "#2a3f5f"
           }
          },
          "ternary": {
           "aaxis": {
            "gridcolor": "white",
            "linecolor": "white",
            "ticks": ""
           },
           "baxis": {
            "gridcolor": "white",
            "linecolor": "white",
            "ticks": ""
           },
           "bgcolor": "#E5ECF6",
           "caxis": {
            "gridcolor": "white",
            "linecolor": "white",
            "ticks": ""
           }
          },
          "title": {
           "x": 0.05
          },
          "xaxis": {
           "automargin": true,
           "gridcolor": "white",
           "linecolor": "white",
           "ticks": "",
           "title": {
            "standoff": 15
           },
           "zerolinecolor": "white",
           "zerolinewidth": 2
          },
          "yaxis": {
           "automargin": true,
           "gridcolor": "white",
           "linecolor": "white",
           "ticks": "",
           "title": {
            "standoff": 15
           },
           "zerolinecolor": "white",
           "zerolinewidth": 2
          }
         }
        },
        "width": 800
       }
      },
      "text/html": [
       "<div>                            <div id=\"a1eeaf51-e98f-4d8d-b9b1-f5414978bb51\" class=\"plotly-graph-div\" style=\"height:200px; width:800px;\"></div>            <script type=\"text/javascript\">                require([\"plotly\"], function(Plotly) {                    window.PLOTLYENV=window.PLOTLYENV || {};                                    if (document.getElementById(\"a1eeaf51-e98f-4d8d-b9b1-f5414978bb51\")) {                    Plotly.newPlot(                        \"a1eeaf51-e98f-4d8d-b9b1-f5414978bb51\",                        [{\"legendgroup\":\"text\",\"marker\":{\"color\":\"#00CC96\"},\"name\":\"text\",\"orientation\":\"h\",\"showlegend\":true,\"x\":[0.46626402272712125],\"y\":[\"disbert\"],\"type\":\"bar\"},{\"legendgroup\":\"tab\",\"marker\":{\"color\":\"#AB63FA\"},\"name\":\"tab\",\"orientation\":\"h\",\"showlegend\":true,\"x\":[0.8473009665493145],\"y\":[\"disbert\"],\"type\":\"bar\"},{\"legendgroup\":\"text template\",\"marker\":{\"color\":\"#FFA15A\"},\"name\":\"text template\",\"orientation\":\"h\",\"showlegend\":true,\"x\":[0.06633056114333603],\"y\":[\"disbert\"],\"type\":\"bar\"},{\"legendgroup\":\"tab template\",\"marker\":{\"color\":\"#19D3F3\"},\"name\":\"tab template\",\"orientation\":\"h\",\"showlegend\":true,\"x\":[0.11209988508344546],\"y\":[\"disbert\"],\"type\":\"bar\"},{\"legendgroup\":\"text\",\"marker\":{\"color\":\"#00CC96\"},\"name\":\"text\",\"orientation\":\"h\",\"showlegend\":false,\"x\":[1.115879607648904],\"y\":[\"drob\"],\"type\":\"bar\"},{\"legendgroup\":\"tab\",\"marker\":{\"color\":\"#AB63FA\"},\"name\":\"tab\",\"orientation\":\"h\",\"showlegend\":false,\"x\":[0.6941172797493554],\"y\":[\"drob\"],\"type\":\"bar\"},{\"legendgroup\":\"text template\",\"marker\":{\"color\":\"#FFA15A\"},\"name\":\"text template\",\"orientation\":\"h\",\"showlegend\":false,\"x\":[0.0698102410883478],\"y\":[\"drob\"],\"type\":\"bar\"},{\"legendgroup\":\"tab template\",\"marker\":{\"color\":\"#19D3F3\"},\"name\":\"tab template\",\"orientation\":\"h\",\"showlegend\":false,\"x\":[0.06577949675945309],\"y\":[\"drob\"],\"type\":\"bar\"},{\"legendgroup\":\"text\",\"marker\":{\"color\":\"#00CC96\"},\"name\":\"text\",\"orientation\":\"h\",\"showlegend\":false,\"x\":[0.5451188586428697],\"y\":[\"deberta\"],\"type\":\"bar\"},{\"legendgroup\":\"tab\",\"marker\":{\"color\":\"#AB63FA\"},\"name\":\"tab\",\"orientation\":\"h\",\"showlegend\":false,\"x\":[0.953122448861607],\"y\":[\"deberta\"],\"type\":\"bar\"},{\"legendgroup\":\"text template\",\"marker\":{\"color\":\"#FFA15A\"},\"name\":\"text template\",\"orientation\":\"h\",\"showlegend\":false,\"x\":[0.06982212995822816],\"y\":[\"deberta\"],\"type\":\"bar\"},{\"legendgroup\":\"tab template\",\"marker\":{\"color\":\"#19D3F3\"},\"name\":\"tab template\",\"orientation\":\"h\",\"showlegend\":false,\"x\":[0.06389912217961623],\"y\":[\"deberta\"],\"type\":\"bar\"},{\"legendgroup\":\"text\",\"marker\":{\"color\":\"#00CC96\"},\"name\":\"text\",\"orientation\":\"h\",\"showlegend\":false,\"x\":[0.4338572294130176],\"y\":[\"bert\"],\"type\":\"bar\"},{\"legendgroup\":\"tab\",\"marker\":{\"color\":\"#AB63FA\"},\"name\":\"tab\",\"orientation\":\"h\",\"showlegend\":false,\"x\":[0.9798971317896411],\"y\":[\"bert\"],\"type\":\"bar\"},{\"legendgroup\":\"text template\",\"marker\":{\"color\":\"#FFA15A\"},\"name\":\"text template\",\"orientation\":\"h\",\"showlegend\":false,\"x\":[0.37495396697058825],\"y\":[\"bert\"],\"type\":\"bar\"},{\"legendgroup\":\"tab template\",\"marker\":{\"color\":\"#19D3F3\"},\"name\":\"tab template\",\"orientation\":\"h\",\"showlegend\":false,\"x\":[0.10361113992175505],\"y\":[\"bert\"],\"type\":\"bar\"}],                        {\"template\":{\"data\":{\"histogram2dcontour\":[{\"type\":\"histogram2dcontour\",\"colorbar\":{\"outlinewidth\":0,\"ticks\":\"\"},\"colorscale\":[[0.0,\"#0d0887\"],[0.1111111111111111,\"#46039f\"],[0.2222222222222222,\"#7201a8\"],[0.3333333333333333,\"#9c179e\"],[0.4444444444444444,\"#bd3786\"],[0.5555555555555556,\"#d8576b\"],[0.6666666666666666,\"#ed7953\"],[0.7777777777777778,\"#fb9f3a\"],[0.8888888888888888,\"#fdca26\"],[1.0,\"#f0f921\"]]}],\"choropleth\":[{\"type\":\"choropleth\",\"colorbar\":{\"outlinewidth\":0,\"ticks\":\"\"}}],\"histogram2d\":[{\"type\":\"histogram2d\",\"colorbar\":{\"outlinewidth\":0,\"ticks\":\"\"},\"colorscale\":[[0.0,\"#0d0887\"],[0.1111111111111111,\"#46039f\"],[0.2222222222222222,\"#7201a8\"],[0.3333333333333333,\"#9c179e\"],[0.4444444444444444,\"#bd3786\"],[0.5555555555555556,\"#d8576b\"],[0.6666666666666666,\"#ed7953\"],[0.7777777777777778,\"#fb9f3a\"],[0.8888888888888888,\"#fdca26\"],[1.0,\"#f0f921\"]]}],\"heatmap\":[{\"type\":\"heatmap\",\"colorbar\":{\"outlinewidth\":0,\"ticks\":\"\"},\"colorscale\":[[0.0,\"#0d0887\"],[0.1111111111111111,\"#46039f\"],[0.2222222222222222,\"#7201a8\"],[0.3333333333333333,\"#9c179e\"],[0.4444444444444444,\"#bd3786\"],[0.5555555555555556,\"#d8576b\"],[0.6666666666666666,\"#ed7953\"],[0.7777777777777778,\"#fb9f3a\"],[0.8888888888888888,\"#fdca26\"],[1.0,\"#f0f921\"]]}],\"heatmapgl\":[{\"type\":\"heatmapgl\",\"colorbar\":{\"outlinewidth\":0,\"ticks\":\"\"},\"colorscale\":[[0.0,\"#0d0887\"],[0.1111111111111111,\"#46039f\"],[0.2222222222222222,\"#7201a8\"],[0.3333333333333333,\"#9c179e\"],[0.4444444444444444,\"#bd3786\"],[0.5555555555555556,\"#d8576b\"],[0.6666666666666666,\"#ed7953\"],[0.7777777777777778,\"#fb9f3a\"],[0.8888888888888888,\"#fdca26\"],[1.0,\"#f0f921\"]]}],\"contourcarpet\":[{\"type\":\"contourcarpet\",\"colorbar\":{\"outlinewidth\":0,\"ticks\":\"\"}}],\"contour\":[{\"type\":\"contour\",\"colorbar\":{\"outlinewidth\":0,\"ticks\":\"\"},\"colorscale\":[[0.0,\"#0d0887\"],[0.1111111111111111,\"#46039f\"],[0.2222222222222222,\"#7201a8\"],[0.3333333333333333,\"#9c179e\"],[0.4444444444444444,\"#bd3786\"],[0.5555555555555556,\"#d8576b\"],[0.6666666666666666,\"#ed7953\"],[0.7777777777777778,\"#fb9f3a\"],[0.8888888888888888,\"#fdca26\"],[1.0,\"#f0f921\"]]}],\"surface\":[{\"type\":\"surface\",\"colorbar\":{\"outlinewidth\":0,\"ticks\":\"\"},\"colorscale\":[[0.0,\"#0d0887\"],[0.1111111111111111,\"#46039f\"],[0.2222222222222222,\"#7201a8\"],[0.3333333333333333,\"#9c179e\"],[0.4444444444444444,\"#bd3786\"],[0.5555555555555556,\"#d8576b\"],[0.6666666666666666,\"#ed7953\"],[0.7777777777777778,\"#fb9f3a\"],[0.8888888888888888,\"#fdca26\"],[1.0,\"#f0f921\"]]}],\"mesh3d\":[{\"type\":\"mesh3d\",\"colorbar\":{\"outlinewidth\":0,\"ticks\":\"\"}}],\"scatter\":[{\"fillpattern\":{\"fillmode\":\"overlay\",\"size\":10,\"solidity\":0.2},\"type\":\"scatter\"}],\"parcoords\":[{\"type\":\"parcoords\",\"line\":{\"colorbar\":{\"outlinewidth\":0,\"ticks\":\"\"}}}],\"scatterpolargl\":[{\"type\":\"scatterpolargl\",\"marker\":{\"colorbar\":{\"outlinewidth\":0,\"ticks\":\"\"}}}],\"bar\":[{\"error_x\":{\"color\":\"#2a3f5f\"},\"error_y\":{\"color\":\"#2a3f5f\"},\"marker\":{\"line\":{\"color\":\"#E5ECF6\",\"width\":0.5},\"pattern\":{\"fillmode\":\"overlay\",\"size\":10,\"solidity\":0.2}},\"type\":\"bar\"}],\"scattergeo\":[{\"type\":\"scattergeo\",\"marker\":{\"colorbar\":{\"outlinewidth\":0,\"ticks\":\"\"}}}],\"scatterpolar\":[{\"type\":\"scatterpolar\",\"marker\":{\"colorbar\":{\"outlinewidth\":0,\"ticks\":\"\"}}}],\"histogram\":[{\"marker\":{\"pattern\":{\"fillmode\":\"overlay\",\"size\":10,\"solidity\":0.2}},\"type\":\"histogram\"}],\"scattergl\":[{\"type\":\"scattergl\",\"marker\":{\"colorbar\":{\"outlinewidth\":0,\"ticks\":\"\"}}}],\"scatter3d\":[{\"type\":\"scatter3d\",\"line\":{\"colorbar\":{\"outlinewidth\":0,\"ticks\":\"\"}},\"marker\":{\"colorbar\":{\"outlinewidth\":0,\"ticks\":\"\"}}}],\"scattermapbox\":[{\"type\":\"scattermapbox\",\"marker\":{\"colorbar\":{\"outlinewidth\":0,\"ticks\":\"\"}}}],\"scatterternary\":[{\"type\":\"scatterternary\",\"marker\":{\"colorbar\":{\"outlinewidth\":0,\"ticks\":\"\"}}}],\"scattercarpet\":[{\"type\":\"scattercarpet\",\"marker\":{\"colorbar\":{\"outlinewidth\":0,\"ticks\":\"\"}}}],\"carpet\":[{\"aaxis\":{\"endlinecolor\":\"#2a3f5f\",\"gridcolor\":\"white\",\"linecolor\":\"white\",\"minorgridcolor\":\"white\",\"startlinecolor\":\"#2a3f5f\"},\"baxis\":{\"endlinecolor\":\"#2a3f5f\",\"gridcolor\":\"white\",\"linecolor\":\"white\",\"minorgridcolor\":\"white\",\"startlinecolor\":\"#2a3f5f\"},\"type\":\"carpet\"}],\"table\":[{\"cells\":{\"fill\":{\"color\":\"#EBF0F8\"},\"line\":{\"color\":\"white\"}},\"header\":{\"fill\":{\"color\":\"#C8D4E3\"},\"line\":{\"color\":\"white\"}},\"type\":\"table\"}],\"barpolar\":[{\"marker\":{\"line\":{\"color\":\"#E5ECF6\",\"width\":0.5},\"pattern\":{\"fillmode\":\"overlay\",\"size\":10,\"solidity\":0.2}},\"type\":\"barpolar\"}],\"pie\":[{\"automargin\":true,\"type\":\"pie\"}]},\"layout\":{\"autotypenumbers\":\"strict\",\"colorway\":[\"#636efa\",\"#EF553B\",\"#00cc96\",\"#ab63fa\",\"#FFA15A\",\"#19d3f3\",\"#FF6692\",\"#B6E880\",\"#FF97FF\",\"#FECB52\"],\"font\":{\"color\":\"#2a3f5f\"},\"hovermode\":\"closest\",\"hoverlabel\":{\"align\":\"left\"},\"paper_bgcolor\":\"white\",\"plot_bgcolor\":\"#E5ECF6\",\"polar\":{\"bgcolor\":\"#E5ECF6\",\"angularaxis\":{\"gridcolor\":\"white\",\"linecolor\":\"white\",\"ticks\":\"\"},\"radialaxis\":{\"gridcolor\":\"white\",\"linecolor\":\"white\",\"ticks\":\"\"}},\"ternary\":{\"bgcolor\":\"#E5ECF6\",\"aaxis\":{\"gridcolor\":\"white\",\"linecolor\":\"white\",\"ticks\":\"\"},\"baxis\":{\"gridcolor\":\"white\",\"linecolor\":\"white\",\"ticks\":\"\"},\"caxis\":{\"gridcolor\":\"white\",\"linecolor\":\"white\",\"ticks\":\"\"}},\"coloraxis\":{\"colorbar\":{\"outlinewidth\":0,\"ticks\":\"\"}},\"colorscale\":{\"sequential\":[[0.0,\"#0d0887\"],[0.1111111111111111,\"#46039f\"],[0.2222222222222222,\"#7201a8\"],[0.3333333333333333,\"#9c179e\"],[0.4444444444444444,\"#bd3786\"],[0.5555555555555556,\"#d8576b\"],[0.6666666666666666,\"#ed7953\"],[0.7777777777777778,\"#fb9f3a\"],[0.8888888888888888,\"#fdca26\"],[1.0,\"#f0f921\"]],\"sequentialminus\":[[0.0,\"#0d0887\"],[0.1111111111111111,\"#46039f\"],[0.2222222222222222,\"#7201a8\"],[0.3333333333333333,\"#9c179e\"],[0.4444444444444444,\"#bd3786\"],[0.5555555555555556,\"#d8576b\"],[0.6666666666666666,\"#ed7953\"],[0.7777777777777778,\"#fb9f3a\"],[0.8888888888888888,\"#fdca26\"],[1.0,\"#f0f921\"]],\"diverging\":[[0,\"#8e0152\"],[0.1,\"#c51b7d\"],[0.2,\"#de77ae\"],[0.3,\"#f1b6da\"],[0.4,\"#fde0ef\"],[0.5,\"#f7f7f7\"],[0.6,\"#e6f5d0\"],[0.7,\"#b8e186\"],[0.8,\"#7fbc41\"],[0.9,\"#4d9221\"],[1,\"#276419\"]]},\"xaxis\":{\"gridcolor\":\"white\",\"linecolor\":\"white\",\"ticks\":\"\",\"title\":{\"standoff\":15},\"zerolinecolor\":\"white\",\"automargin\":true,\"zerolinewidth\":2},\"yaxis\":{\"gridcolor\":\"white\",\"linecolor\":\"white\",\"ticks\":\"\",\"title\":{\"standoff\":15},\"zerolinecolor\":\"white\",\"automargin\":true,\"zerolinewidth\":2},\"scene\":{\"xaxis\":{\"backgroundcolor\":\"#E5ECF6\",\"gridcolor\":\"white\",\"linecolor\":\"white\",\"showbackground\":true,\"ticks\":\"\",\"zerolinecolor\":\"white\",\"gridwidth\":2},\"yaxis\":{\"backgroundcolor\":\"#E5ECF6\",\"gridcolor\":\"white\",\"linecolor\":\"white\",\"showbackground\":true,\"ticks\":\"\",\"zerolinecolor\":\"white\",\"gridwidth\":2},\"zaxis\":{\"backgroundcolor\":\"#E5ECF6\",\"gridcolor\":\"white\",\"linecolor\":\"white\",\"showbackground\":true,\"ticks\":\"\",\"zerolinecolor\":\"white\",\"gridwidth\":2}},\"shapedefaults\":{\"line\":{\"color\":\"#2a3f5f\"}},\"annotationdefaults\":{\"arrowcolor\":\"#2a3f5f\",\"arrowhead\":0,\"arrowwidth\":1},\"geo\":{\"bgcolor\":\"white\",\"landcolor\":\"#E5ECF6\",\"subunitcolor\":\"white\",\"showland\":true,\"showlakes\":true,\"lakecolor\":\"white\"},\"title\":{\"x\":0.05},\"mapbox\":{\"style\":\"light\"}}},\"legend\":{\"orientation\":\"h\",\"yanchor\":\"top\",\"y\":1.25,\"xanchor\":\"left\",\"x\":0},\"margin\":{\"l\":0,\"r\":0,\"t\":0,\"b\":0},\"barmode\":\"stack\",\"hovermode\":\"y unified\",\"height\":200,\"width\":800},                        {\"responsive\": true}                    ).then(function(){\n",
       "                            \n",
       "var gd = document.getElementById('a1eeaf51-e98f-4d8d-b9b1-f5414978bb51');\n",
       "var x = new MutationObserver(function (mutations, observer) {{\n",
       "        var display = window.getComputedStyle(gd).display;\n",
       "        if (!display || display === 'none') {{\n",
       "            console.log([gd, 'removed!']);\n",
       "            Plotly.purge(gd);\n",
       "            observer.disconnect();\n",
       "        }}\n",
       "}});\n",
       "\n",
       "// Listen for the removal of the full notebook cells\n",
       "var notebookContainer = gd.closest('#notebook-container');\n",
       "if (notebookContainer) {{\n",
       "    x.observe(notebookContainer, {childList: true});\n",
       "}}\n",
       "\n",
       "// Listen for the clearing of the current output cell\n",
       "var outputEl = gd.closest('.output');\n",
       "if (outputEl) {{\n",
       "    x.observe(outputEl, {childList: true});\n",
       "}}\n",
       "\n",
       "                        })                };                });            </script>        </div>"
      ]
     },
     "metadata": {},
     "output_type": "display_data"
    },
    {
     "name": "stdout",
     "output_type": "stream",
     "text": [
      "salary\n"
     ]
    },
    {
     "data": {
      "application/vnd.plotly.v1+json": {
       "config": {
        "plotlyServerURL": "https://plot.ly"
       },
       "data": [
        {
         "legendgroup": "text",
         "marker": {
          "color": "#00CC96"
         },
         "name": "text",
         "orientation": "h",
         "showlegend": true,
         "type": "bar",
         "x": [
          0.8738172700937076
         ],
         "y": [
          "disbert"
         ]
        },
        {
         "legendgroup": "tab",
         "marker": {
          "color": "#AB63FA"
         },
         "name": "tab",
         "orientation": "h",
         "showlegend": true,
         "type": "bar",
         "x": [
          0.02516218195041195
         ],
         "y": [
          "disbert"
         ]
        },
        {
         "legendgroup": "text template",
         "marker": {
          "color": "#FFA15A"
         },
         "name": "text template",
         "orientation": "h",
         "showlegend": true,
         "type": "bar",
         "x": [
          0.23454616228366354
         ],
         "y": [
          "disbert"
         ]
        },
        {
         "legendgroup": "tab template",
         "marker": {
          "color": "#19D3F3"
         },
         "name": "tab template",
         "orientation": "h",
         "showlegend": true,
         "type": "bar",
         "x": [
          0.03286482399596328
         ],
         "y": [
          "disbert"
         ]
        },
        {
         "legendgroup": "text",
         "marker": {
          "color": "#00CC96"
         },
         "name": "text",
         "orientation": "h",
         "showlegend": false,
         "type": "bar",
         "x": [
          1.4733384396075029
         ],
         "y": [
          "drob"
         ]
        },
        {
         "legendgroup": "tab",
         "marker": {
          "color": "#AB63FA"
         },
         "name": "tab",
         "orientation": "h",
         "showlegend": false,
         "type": "bar",
         "x": [
          0.08353258627233036
         ],
         "y": [
          "drob"
         ]
        },
        {
         "legendgroup": "text template",
         "marker": {
          "color": "#FFA15A"
         },
         "name": "text template",
         "orientation": "h",
         "showlegend": false,
         "type": "bar",
         "x": [
          0.23909707804767696
         ],
         "y": [
          "drob"
         ]
        },
        {
         "legendgroup": "tab template",
         "marker": {
          "color": "#19D3F3"
         },
         "name": "tab template",
         "orientation": "h",
         "showlegend": false,
         "type": "bar",
         "x": [
          0.03099946591371427
         ],
         "y": [
          "drob"
         ]
        },
        {
         "legendgroup": "text",
         "marker": {
          "color": "#00CC96"
         },
         "name": "text",
         "orientation": "h",
         "showlegend": false,
         "type": "bar",
         "x": [
          1.0591780013909904
         ],
         "y": [
          "deberta"
         ]
        },
        {
         "legendgroup": "tab",
         "marker": {
          "color": "#AB63FA"
         },
         "name": "tab",
         "orientation": "h",
         "showlegend": false,
         "type": "bar",
         "x": [
          0.01776680806117303
         ],
         "y": [
          "deberta"
         ]
        },
        {
         "legendgroup": "text template",
         "marker": {
          "color": "#FFA15A"
         },
         "name": "text template",
         "orientation": "h",
         "showlegend": false,
         "type": "bar",
         "x": [
          0.26458784514831113
         ],
         "y": [
          "deberta"
         ]
        },
        {
         "legendgroup": "tab template",
         "marker": {
          "color": "#19D3F3"
         },
         "name": "tab template",
         "orientation": "h",
         "showlegend": false,
         "type": "bar",
         "x": [
          0.020336752841680315
         ],
         "y": [
          "deberta"
         ]
        },
        {
         "legendgroup": "text",
         "marker": {
          "color": "#00CC96"
         },
         "name": "text",
         "orientation": "h",
         "showlegend": false,
         "type": "bar",
         "x": [
          1.381502608839919
         ],
         "y": [
          "bert"
         ]
        },
        {
         "legendgroup": "tab",
         "marker": {
          "color": "#AB63FA"
         },
         "name": "tab",
         "orientation": "h",
         "showlegend": false,
         "type": "bar",
         "x": [
          0.043987602440751
         ],
         "y": [
          "bert"
         ]
        },
        {
         "legendgroup": "text template",
         "marker": {
          "color": "#FFA15A"
         },
         "name": "text template",
         "orientation": "h",
         "showlegend": false,
         "type": "bar",
         "x": [
          0.27224894443066144
         ],
         "y": [
          "bert"
         ]
        },
        {
         "legendgroup": "tab template",
         "marker": {
          "color": "#19D3F3"
         },
         "name": "tab template",
         "orientation": "h",
         "showlegend": false,
         "type": "bar",
         "x": [
          0.028737514747094312
         ],
         "y": [
          "bert"
         ]
        }
       ],
       "layout": {
        "barmode": "stack",
        "height": 200,
        "hovermode": "y unified",
        "legend": {
         "orientation": "h",
         "x": 0,
         "xanchor": "left",
         "y": 1.25,
         "yanchor": "top"
        },
        "margin": {
         "b": 0,
         "l": 0,
         "r": 0,
         "t": 0
        },
        "template": {
         "data": {
          "bar": [
           {
            "error_x": {
             "color": "#2a3f5f"
            },
            "error_y": {
             "color": "#2a3f5f"
            },
            "marker": {
             "line": {
              "color": "#E5ECF6",
              "width": 0.5
             },
             "pattern": {
              "fillmode": "overlay",
              "size": 10,
              "solidity": 0.2
             }
            },
            "type": "bar"
           }
          ],
          "barpolar": [
           {
            "marker": {
             "line": {
              "color": "#E5ECF6",
              "width": 0.5
             },
             "pattern": {
              "fillmode": "overlay",
              "size": 10,
              "solidity": 0.2
             }
            },
            "type": "barpolar"
           }
          ],
          "carpet": [
           {
            "aaxis": {
             "endlinecolor": "#2a3f5f",
             "gridcolor": "white",
             "linecolor": "white",
             "minorgridcolor": "white",
             "startlinecolor": "#2a3f5f"
            },
            "baxis": {
             "endlinecolor": "#2a3f5f",
             "gridcolor": "white",
             "linecolor": "white",
             "minorgridcolor": "white",
             "startlinecolor": "#2a3f5f"
            },
            "type": "carpet"
           }
          ],
          "choropleth": [
           {
            "colorbar": {
             "outlinewidth": 0,
             "ticks": ""
            },
            "type": "choropleth"
           }
          ],
          "contour": [
           {
            "colorbar": {
             "outlinewidth": 0,
             "ticks": ""
            },
            "colorscale": [
             [
              0,
              "#0d0887"
             ],
             [
              0.1111111111111111,
              "#46039f"
             ],
             [
              0.2222222222222222,
              "#7201a8"
             ],
             [
              0.3333333333333333,
              "#9c179e"
             ],
             [
              0.4444444444444444,
              "#bd3786"
             ],
             [
              0.5555555555555556,
              "#d8576b"
             ],
             [
              0.6666666666666666,
              "#ed7953"
             ],
             [
              0.7777777777777778,
              "#fb9f3a"
             ],
             [
              0.8888888888888888,
              "#fdca26"
             ],
             [
              1,
              "#f0f921"
             ]
            ],
            "type": "contour"
           }
          ],
          "contourcarpet": [
           {
            "colorbar": {
             "outlinewidth": 0,
             "ticks": ""
            },
            "type": "contourcarpet"
           }
          ],
          "heatmap": [
           {
            "colorbar": {
             "outlinewidth": 0,
             "ticks": ""
            },
            "colorscale": [
             [
              0,
              "#0d0887"
             ],
             [
              0.1111111111111111,
              "#46039f"
             ],
             [
              0.2222222222222222,
              "#7201a8"
             ],
             [
              0.3333333333333333,
              "#9c179e"
             ],
             [
              0.4444444444444444,
              "#bd3786"
             ],
             [
              0.5555555555555556,
              "#d8576b"
             ],
             [
              0.6666666666666666,
              "#ed7953"
             ],
             [
              0.7777777777777778,
              "#fb9f3a"
             ],
             [
              0.8888888888888888,
              "#fdca26"
             ],
             [
              1,
              "#f0f921"
             ]
            ],
            "type": "heatmap"
           }
          ],
          "heatmapgl": [
           {
            "colorbar": {
             "outlinewidth": 0,
             "ticks": ""
            },
            "colorscale": [
             [
              0,
              "#0d0887"
             ],
             [
              0.1111111111111111,
              "#46039f"
             ],
             [
              0.2222222222222222,
              "#7201a8"
             ],
             [
              0.3333333333333333,
              "#9c179e"
             ],
             [
              0.4444444444444444,
              "#bd3786"
             ],
             [
              0.5555555555555556,
              "#d8576b"
             ],
             [
              0.6666666666666666,
              "#ed7953"
             ],
             [
              0.7777777777777778,
              "#fb9f3a"
             ],
             [
              0.8888888888888888,
              "#fdca26"
             ],
             [
              1,
              "#f0f921"
             ]
            ],
            "type": "heatmapgl"
           }
          ],
          "histogram": [
           {
            "marker": {
             "pattern": {
              "fillmode": "overlay",
              "size": 10,
              "solidity": 0.2
             }
            },
            "type": "histogram"
           }
          ],
          "histogram2d": [
           {
            "colorbar": {
             "outlinewidth": 0,
             "ticks": ""
            },
            "colorscale": [
             [
              0,
              "#0d0887"
             ],
             [
              0.1111111111111111,
              "#46039f"
             ],
             [
              0.2222222222222222,
              "#7201a8"
             ],
             [
              0.3333333333333333,
              "#9c179e"
             ],
             [
              0.4444444444444444,
              "#bd3786"
             ],
             [
              0.5555555555555556,
              "#d8576b"
             ],
             [
              0.6666666666666666,
              "#ed7953"
             ],
             [
              0.7777777777777778,
              "#fb9f3a"
             ],
             [
              0.8888888888888888,
              "#fdca26"
             ],
             [
              1,
              "#f0f921"
             ]
            ],
            "type": "histogram2d"
           }
          ],
          "histogram2dcontour": [
           {
            "colorbar": {
             "outlinewidth": 0,
             "ticks": ""
            },
            "colorscale": [
             [
              0,
              "#0d0887"
             ],
             [
              0.1111111111111111,
              "#46039f"
             ],
             [
              0.2222222222222222,
              "#7201a8"
             ],
             [
              0.3333333333333333,
              "#9c179e"
             ],
             [
              0.4444444444444444,
              "#bd3786"
             ],
             [
              0.5555555555555556,
              "#d8576b"
             ],
             [
              0.6666666666666666,
              "#ed7953"
             ],
             [
              0.7777777777777778,
              "#fb9f3a"
             ],
             [
              0.8888888888888888,
              "#fdca26"
             ],
             [
              1,
              "#f0f921"
             ]
            ],
            "type": "histogram2dcontour"
           }
          ],
          "mesh3d": [
           {
            "colorbar": {
             "outlinewidth": 0,
             "ticks": ""
            },
            "type": "mesh3d"
           }
          ],
          "parcoords": [
           {
            "line": {
             "colorbar": {
              "outlinewidth": 0,
              "ticks": ""
             }
            },
            "type": "parcoords"
           }
          ],
          "pie": [
           {
            "automargin": true,
            "type": "pie"
           }
          ],
          "scatter": [
           {
            "fillpattern": {
             "fillmode": "overlay",
             "size": 10,
             "solidity": 0.2
            },
            "type": "scatter"
           }
          ],
          "scatter3d": [
           {
            "line": {
             "colorbar": {
              "outlinewidth": 0,
              "ticks": ""
             }
            },
            "marker": {
             "colorbar": {
              "outlinewidth": 0,
              "ticks": ""
             }
            },
            "type": "scatter3d"
           }
          ],
          "scattercarpet": [
           {
            "marker": {
             "colorbar": {
              "outlinewidth": 0,
              "ticks": ""
             }
            },
            "type": "scattercarpet"
           }
          ],
          "scattergeo": [
           {
            "marker": {
             "colorbar": {
              "outlinewidth": 0,
              "ticks": ""
             }
            },
            "type": "scattergeo"
           }
          ],
          "scattergl": [
           {
            "marker": {
             "colorbar": {
              "outlinewidth": 0,
              "ticks": ""
             }
            },
            "type": "scattergl"
           }
          ],
          "scattermapbox": [
           {
            "marker": {
             "colorbar": {
              "outlinewidth": 0,
              "ticks": ""
             }
            },
            "type": "scattermapbox"
           }
          ],
          "scatterpolar": [
           {
            "marker": {
             "colorbar": {
              "outlinewidth": 0,
              "ticks": ""
             }
            },
            "type": "scatterpolar"
           }
          ],
          "scatterpolargl": [
           {
            "marker": {
             "colorbar": {
              "outlinewidth": 0,
              "ticks": ""
             }
            },
            "type": "scatterpolargl"
           }
          ],
          "scatterternary": [
           {
            "marker": {
             "colorbar": {
              "outlinewidth": 0,
              "ticks": ""
             }
            },
            "type": "scatterternary"
           }
          ],
          "surface": [
           {
            "colorbar": {
             "outlinewidth": 0,
             "ticks": ""
            },
            "colorscale": [
             [
              0,
              "#0d0887"
             ],
             [
              0.1111111111111111,
              "#46039f"
             ],
             [
              0.2222222222222222,
              "#7201a8"
             ],
             [
              0.3333333333333333,
              "#9c179e"
             ],
             [
              0.4444444444444444,
              "#bd3786"
             ],
             [
              0.5555555555555556,
              "#d8576b"
             ],
             [
              0.6666666666666666,
              "#ed7953"
             ],
             [
              0.7777777777777778,
              "#fb9f3a"
             ],
             [
              0.8888888888888888,
              "#fdca26"
             ],
             [
              1,
              "#f0f921"
             ]
            ],
            "type": "surface"
           }
          ],
          "table": [
           {
            "cells": {
             "fill": {
              "color": "#EBF0F8"
             },
             "line": {
              "color": "white"
             }
            },
            "header": {
             "fill": {
              "color": "#C8D4E3"
             },
             "line": {
              "color": "white"
             }
            },
            "type": "table"
           }
          ]
         },
         "layout": {
          "annotationdefaults": {
           "arrowcolor": "#2a3f5f",
           "arrowhead": 0,
           "arrowwidth": 1
          },
          "autotypenumbers": "strict",
          "coloraxis": {
           "colorbar": {
            "outlinewidth": 0,
            "ticks": ""
           }
          },
          "colorscale": {
           "diverging": [
            [
             0,
             "#8e0152"
            ],
            [
             0.1,
             "#c51b7d"
            ],
            [
             0.2,
             "#de77ae"
            ],
            [
             0.3,
             "#f1b6da"
            ],
            [
             0.4,
             "#fde0ef"
            ],
            [
             0.5,
             "#f7f7f7"
            ],
            [
             0.6,
             "#e6f5d0"
            ],
            [
             0.7,
             "#b8e186"
            ],
            [
             0.8,
             "#7fbc41"
            ],
            [
             0.9,
             "#4d9221"
            ],
            [
             1,
             "#276419"
            ]
           ],
           "sequential": [
            [
             0,
             "#0d0887"
            ],
            [
             0.1111111111111111,
             "#46039f"
            ],
            [
             0.2222222222222222,
             "#7201a8"
            ],
            [
             0.3333333333333333,
             "#9c179e"
            ],
            [
             0.4444444444444444,
             "#bd3786"
            ],
            [
             0.5555555555555556,
             "#d8576b"
            ],
            [
             0.6666666666666666,
             "#ed7953"
            ],
            [
             0.7777777777777778,
             "#fb9f3a"
            ],
            [
             0.8888888888888888,
             "#fdca26"
            ],
            [
             1,
             "#f0f921"
            ]
           ],
           "sequentialminus": [
            [
             0,
             "#0d0887"
            ],
            [
             0.1111111111111111,
             "#46039f"
            ],
            [
             0.2222222222222222,
             "#7201a8"
            ],
            [
             0.3333333333333333,
             "#9c179e"
            ],
            [
             0.4444444444444444,
             "#bd3786"
            ],
            [
             0.5555555555555556,
             "#d8576b"
            ],
            [
             0.6666666666666666,
             "#ed7953"
            ],
            [
             0.7777777777777778,
             "#fb9f3a"
            ],
            [
             0.8888888888888888,
             "#fdca26"
            ],
            [
             1,
             "#f0f921"
            ]
           ]
          },
          "colorway": [
           "#636efa",
           "#EF553B",
           "#00cc96",
           "#ab63fa",
           "#FFA15A",
           "#19d3f3",
           "#FF6692",
           "#B6E880",
           "#FF97FF",
           "#FECB52"
          ],
          "font": {
           "color": "#2a3f5f"
          },
          "geo": {
           "bgcolor": "white",
           "lakecolor": "white",
           "landcolor": "#E5ECF6",
           "showlakes": true,
           "showland": true,
           "subunitcolor": "white"
          },
          "hoverlabel": {
           "align": "left"
          },
          "hovermode": "closest",
          "mapbox": {
           "style": "light"
          },
          "paper_bgcolor": "white",
          "plot_bgcolor": "#E5ECF6",
          "polar": {
           "angularaxis": {
            "gridcolor": "white",
            "linecolor": "white",
            "ticks": ""
           },
           "bgcolor": "#E5ECF6",
           "radialaxis": {
            "gridcolor": "white",
            "linecolor": "white",
            "ticks": ""
           }
          },
          "scene": {
           "xaxis": {
            "backgroundcolor": "#E5ECF6",
            "gridcolor": "white",
            "gridwidth": 2,
            "linecolor": "white",
            "showbackground": true,
            "ticks": "",
            "zerolinecolor": "white"
           },
           "yaxis": {
            "backgroundcolor": "#E5ECF6",
            "gridcolor": "white",
            "gridwidth": 2,
            "linecolor": "white",
            "showbackground": true,
            "ticks": "",
            "zerolinecolor": "white"
           },
           "zaxis": {
            "backgroundcolor": "#E5ECF6",
            "gridcolor": "white",
            "gridwidth": 2,
            "linecolor": "white",
            "showbackground": true,
            "ticks": "",
            "zerolinecolor": "white"
           }
          },
          "shapedefaults": {
           "line": {
            "color": "#2a3f5f"
           }
          },
          "ternary": {
           "aaxis": {
            "gridcolor": "white",
            "linecolor": "white",
            "ticks": ""
           },
           "baxis": {
            "gridcolor": "white",
            "linecolor": "white",
            "ticks": ""
           },
           "bgcolor": "#E5ECF6",
           "caxis": {
            "gridcolor": "white",
            "linecolor": "white",
            "ticks": ""
           }
          },
          "title": {
           "x": 0.05
          },
          "xaxis": {
           "automargin": true,
           "gridcolor": "white",
           "linecolor": "white",
           "ticks": "",
           "title": {
            "standoff": 15
           },
           "zerolinecolor": "white",
           "zerolinewidth": 2
          },
          "yaxis": {
           "automargin": true,
           "gridcolor": "white",
           "linecolor": "white",
           "ticks": "",
           "title": {
            "standoff": 15
           },
           "zerolinecolor": "white",
           "zerolinewidth": 2
          }
         }
        },
        "width": 800
       }
      },
      "text/html": [
       "<div>                            <div id=\"c4db0474-ccd8-4f0d-bdb2-445b975b6e40\" class=\"plotly-graph-div\" style=\"height:200px; width:800px;\"></div>            <script type=\"text/javascript\">                require([\"plotly\"], function(Plotly) {                    window.PLOTLYENV=window.PLOTLYENV || {};                                    if (document.getElementById(\"c4db0474-ccd8-4f0d-bdb2-445b975b6e40\")) {                    Plotly.newPlot(                        \"c4db0474-ccd8-4f0d-bdb2-445b975b6e40\",                        [{\"legendgroup\":\"text\",\"marker\":{\"color\":\"#00CC96\"},\"name\":\"text\",\"orientation\":\"h\",\"showlegend\":true,\"x\":[0.8738172700937076],\"y\":[\"disbert\"],\"type\":\"bar\"},{\"legendgroup\":\"tab\",\"marker\":{\"color\":\"#AB63FA\"},\"name\":\"tab\",\"orientation\":\"h\",\"showlegend\":true,\"x\":[0.02516218195041195],\"y\":[\"disbert\"],\"type\":\"bar\"},{\"legendgroup\":\"text template\",\"marker\":{\"color\":\"#FFA15A\"},\"name\":\"text template\",\"orientation\":\"h\",\"showlegend\":true,\"x\":[0.23454616228366354],\"y\":[\"disbert\"],\"type\":\"bar\"},{\"legendgroup\":\"tab template\",\"marker\":{\"color\":\"#19D3F3\"},\"name\":\"tab template\",\"orientation\":\"h\",\"showlegend\":true,\"x\":[0.03286482399596328],\"y\":[\"disbert\"],\"type\":\"bar\"},{\"legendgroup\":\"text\",\"marker\":{\"color\":\"#00CC96\"},\"name\":\"text\",\"orientation\":\"h\",\"showlegend\":false,\"x\":[1.4733384396075029],\"y\":[\"drob\"],\"type\":\"bar\"},{\"legendgroup\":\"tab\",\"marker\":{\"color\":\"#AB63FA\"},\"name\":\"tab\",\"orientation\":\"h\",\"showlegend\":false,\"x\":[0.08353258627233036],\"y\":[\"drob\"],\"type\":\"bar\"},{\"legendgroup\":\"text template\",\"marker\":{\"color\":\"#FFA15A\"},\"name\":\"text template\",\"orientation\":\"h\",\"showlegend\":false,\"x\":[0.23909707804767696],\"y\":[\"drob\"],\"type\":\"bar\"},{\"legendgroup\":\"tab template\",\"marker\":{\"color\":\"#19D3F3\"},\"name\":\"tab template\",\"orientation\":\"h\",\"showlegend\":false,\"x\":[0.03099946591371427],\"y\":[\"drob\"],\"type\":\"bar\"},{\"legendgroup\":\"text\",\"marker\":{\"color\":\"#00CC96\"},\"name\":\"text\",\"orientation\":\"h\",\"showlegend\":false,\"x\":[1.0591780013909904],\"y\":[\"deberta\"],\"type\":\"bar\"},{\"legendgroup\":\"tab\",\"marker\":{\"color\":\"#AB63FA\"},\"name\":\"tab\",\"orientation\":\"h\",\"showlegend\":false,\"x\":[0.01776680806117303],\"y\":[\"deberta\"],\"type\":\"bar\"},{\"legendgroup\":\"text template\",\"marker\":{\"color\":\"#FFA15A\"},\"name\":\"text template\",\"orientation\":\"h\",\"showlegend\":false,\"x\":[0.26458784514831113],\"y\":[\"deberta\"],\"type\":\"bar\"},{\"legendgroup\":\"tab template\",\"marker\":{\"color\":\"#19D3F3\"},\"name\":\"tab template\",\"orientation\":\"h\",\"showlegend\":false,\"x\":[0.020336752841680315],\"y\":[\"deberta\"],\"type\":\"bar\"},{\"legendgroup\":\"text\",\"marker\":{\"color\":\"#00CC96\"},\"name\":\"text\",\"orientation\":\"h\",\"showlegend\":false,\"x\":[1.381502608839919],\"y\":[\"bert\"],\"type\":\"bar\"},{\"legendgroup\":\"tab\",\"marker\":{\"color\":\"#AB63FA\"},\"name\":\"tab\",\"orientation\":\"h\",\"showlegend\":false,\"x\":[0.043987602440751],\"y\":[\"bert\"],\"type\":\"bar\"},{\"legendgroup\":\"text template\",\"marker\":{\"color\":\"#FFA15A\"},\"name\":\"text template\",\"orientation\":\"h\",\"showlegend\":false,\"x\":[0.27224894443066144],\"y\":[\"bert\"],\"type\":\"bar\"},{\"legendgroup\":\"tab template\",\"marker\":{\"color\":\"#19D3F3\"},\"name\":\"tab template\",\"orientation\":\"h\",\"showlegend\":false,\"x\":[0.028737514747094312],\"y\":[\"bert\"],\"type\":\"bar\"}],                        {\"template\":{\"data\":{\"histogram2dcontour\":[{\"type\":\"histogram2dcontour\",\"colorbar\":{\"outlinewidth\":0,\"ticks\":\"\"},\"colorscale\":[[0.0,\"#0d0887\"],[0.1111111111111111,\"#46039f\"],[0.2222222222222222,\"#7201a8\"],[0.3333333333333333,\"#9c179e\"],[0.4444444444444444,\"#bd3786\"],[0.5555555555555556,\"#d8576b\"],[0.6666666666666666,\"#ed7953\"],[0.7777777777777778,\"#fb9f3a\"],[0.8888888888888888,\"#fdca26\"],[1.0,\"#f0f921\"]]}],\"choropleth\":[{\"type\":\"choropleth\",\"colorbar\":{\"outlinewidth\":0,\"ticks\":\"\"}}],\"histogram2d\":[{\"type\":\"histogram2d\",\"colorbar\":{\"outlinewidth\":0,\"ticks\":\"\"},\"colorscale\":[[0.0,\"#0d0887\"],[0.1111111111111111,\"#46039f\"],[0.2222222222222222,\"#7201a8\"],[0.3333333333333333,\"#9c179e\"],[0.4444444444444444,\"#bd3786\"],[0.5555555555555556,\"#d8576b\"],[0.6666666666666666,\"#ed7953\"],[0.7777777777777778,\"#fb9f3a\"],[0.8888888888888888,\"#fdca26\"],[1.0,\"#f0f921\"]]}],\"heatmap\":[{\"type\":\"heatmap\",\"colorbar\":{\"outlinewidth\":0,\"ticks\":\"\"},\"colorscale\":[[0.0,\"#0d0887\"],[0.1111111111111111,\"#46039f\"],[0.2222222222222222,\"#7201a8\"],[0.3333333333333333,\"#9c179e\"],[0.4444444444444444,\"#bd3786\"],[0.5555555555555556,\"#d8576b\"],[0.6666666666666666,\"#ed7953\"],[0.7777777777777778,\"#fb9f3a\"],[0.8888888888888888,\"#fdca26\"],[1.0,\"#f0f921\"]]}],\"heatmapgl\":[{\"type\":\"heatmapgl\",\"colorbar\":{\"outlinewidth\":0,\"ticks\":\"\"},\"colorscale\":[[0.0,\"#0d0887\"],[0.1111111111111111,\"#46039f\"],[0.2222222222222222,\"#7201a8\"],[0.3333333333333333,\"#9c179e\"],[0.4444444444444444,\"#bd3786\"],[0.5555555555555556,\"#d8576b\"],[0.6666666666666666,\"#ed7953\"],[0.7777777777777778,\"#fb9f3a\"],[0.8888888888888888,\"#fdca26\"],[1.0,\"#f0f921\"]]}],\"contourcarpet\":[{\"type\":\"contourcarpet\",\"colorbar\":{\"outlinewidth\":0,\"ticks\":\"\"}}],\"contour\":[{\"type\":\"contour\",\"colorbar\":{\"outlinewidth\":0,\"ticks\":\"\"},\"colorscale\":[[0.0,\"#0d0887\"],[0.1111111111111111,\"#46039f\"],[0.2222222222222222,\"#7201a8\"],[0.3333333333333333,\"#9c179e\"],[0.4444444444444444,\"#bd3786\"],[0.5555555555555556,\"#d8576b\"],[0.6666666666666666,\"#ed7953\"],[0.7777777777777778,\"#fb9f3a\"],[0.8888888888888888,\"#fdca26\"],[1.0,\"#f0f921\"]]}],\"surface\":[{\"type\":\"surface\",\"colorbar\":{\"outlinewidth\":0,\"ticks\":\"\"},\"colorscale\":[[0.0,\"#0d0887\"],[0.1111111111111111,\"#46039f\"],[0.2222222222222222,\"#7201a8\"],[0.3333333333333333,\"#9c179e\"],[0.4444444444444444,\"#bd3786\"],[0.5555555555555556,\"#d8576b\"],[0.6666666666666666,\"#ed7953\"],[0.7777777777777778,\"#fb9f3a\"],[0.8888888888888888,\"#fdca26\"],[1.0,\"#f0f921\"]]}],\"mesh3d\":[{\"type\":\"mesh3d\",\"colorbar\":{\"outlinewidth\":0,\"ticks\":\"\"}}],\"scatter\":[{\"fillpattern\":{\"fillmode\":\"overlay\",\"size\":10,\"solidity\":0.2},\"type\":\"scatter\"}],\"parcoords\":[{\"type\":\"parcoords\",\"line\":{\"colorbar\":{\"outlinewidth\":0,\"ticks\":\"\"}}}],\"scatterpolargl\":[{\"type\":\"scatterpolargl\",\"marker\":{\"colorbar\":{\"outlinewidth\":0,\"ticks\":\"\"}}}],\"bar\":[{\"error_x\":{\"color\":\"#2a3f5f\"},\"error_y\":{\"color\":\"#2a3f5f\"},\"marker\":{\"line\":{\"color\":\"#E5ECF6\",\"width\":0.5},\"pattern\":{\"fillmode\":\"overlay\",\"size\":10,\"solidity\":0.2}},\"type\":\"bar\"}],\"scattergeo\":[{\"type\":\"scattergeo\",\"marker\":{\"colorbar\":{\"outlinewidth\":0,\"ticks\":\"\"}}}],\"scatterpolar\":[{\"type\":\"scatterpolar\",\"marker\":{\"colorbar\":{\"outlinewidth\":0,\"ticks\":\"\"}}}],\"histogram\":[{\"marker\":{\"pattern\":{\"fillmode\":\"overlay\",\"size\":10,\"solidity\":0.2}},\"type\":\"histogram\"}],\"scattergl\":[{\"type\":\"scattergl\",\"marker\":{\"colorbar\":{\"outlinewidth\":0,\"ticks\":\"\"}}}],\"scatter3d\":[{\"type\":\"scatter3d\",\"line\":{\"colorbar\":{\"outlinewidth\":0,\"ticks\":\"\"}},\"marker\":{\"colorbar\":{\"outlinewidth\":0,\"ticks\":\"\"}}}],\"scattermapbox\":[{\"type\":\"scattermapbox\",\"marker\":{\"colorbar\":{\"outlinewidth\":0,\"ticks\":\"\"}}}],\"scatterternary\":[{\"type\":\"scatterternary\",\"marker\":{\"colorbar\":{\"outlinewidth\":0,\"ticks\":\"\"}}}],\"scattercarpet\":[{\"type\":\"scattercarpet\",\"marker\":{\"colorbar\":{\"outlinewidth\":0,\"ticks\":\"\"}}}],\"carpet\":[{\"aaxis\":{\"endlinecolor\":\"#2a3f5f\",\"gridcolor\":\"white\",\"linecolor\":\"white\",\"minorgridcolor\":\"white\",\"startlinecolor\":\"#2a3f5f\"},\"baxis\":{\"endlinecolor\":\"#2a3f5f\",\"gridcolor\":\"white\",\"linecolor\":\"white\",\"minorgridcolor\":\"white\",\"startlinecolor\":\"#2a3f5f\"},\"type\":\"carpet\"}],\"table\":[{\"cells\":{\"fill\":{\"color\":\"#EBF0F8\"},\"line\":{\"color\":\"white\"}},\"header\":{\"fill\":{\"color\":\"#C8D4E3\"},\"line\":{\"color\":\"white\"}},\"type\":\"table\"}],\"barpolar\":[{\"marker\":{\"line\":{\"color\":\"#E5ECF6\",\"width\":0.5},\"pattern\":{\"fillmode\":\"overlay\",\"size\":10,\"solidity\":0.2}},\"type\":\"barpolar\"}],\"pie\":[{\"automargin\":true,\"type\":\"pie\"}]},\"layout\":{\"autotypenumbers\":\"strict\",\"colorway\":[\"#636efa\",\"#EF553B\",\"#00cc96\",\"#ab63fa\",\"#FFA15A\",\"#19d3f3\",\"#FF6692\",\"#B6E880\",\"#FF97FF\",\"#FECB52\"],\"font\":{\"color\":\"#2a3f5f\"},\"hovermode\":\"closest\",\"hoverlabel\":{\"align\":\"left\"},\"paper_bgcolor\":\"white\",\"plot_bgcolor\":\"#E5ECF6\",\"polar\":{\"bgcolor\":\"#E5ECF6\",\"angularaxis\":{\"gridcolor\":\"white\",\"linecolor\":\"white\",\"ticks\":\"\"},\"radialaxis\":{\"gridcolor\":\"white\",\"linecolor\":\"white\",\"ticks\":\"\"}},\"ternary\":{\"bgcolor\":\"#E5ECF6\",\"aaxis\":{\"gridcolor\":\"white\",\"linecolor\":\"white\",\"ticks\":\"\"},\"baxis\":{\"gridcolor\":\"white\",\"linecolor\":\"white\",\"ticks\":\"\"},\"caxis\":{\"gridcolor\":\"white\",\"linecolor\":\"white\",\"ticks\":\"\"}},\"coloraxis\":{\"colorbar\":{\"outlinewidth\":0,\"ticks\":\"\"}},\"colorscale\":{\"sequential\":[[0.0,\"#0d0887\"],[0.1111111111111111,\"#46039f\"],[0.2222222222222222,\"#7201a8\"],[0.3333333333333333,\"#9c179e\"],[0.4444444444444444,\"#bd3786\"],[0.5555555555555556,\"#d8576b\"],[0.6666666666666666,\"#ed7953\"],[0.7777777777777778,\"#fb9f3a\"],[0.8888888888888888,\"#fdca26\"],[1.0,\"#f0f921\"]],\"sequentialminus\":[[0.0,\"#0d0887\"],[0.1111111111111111,\"#46039f\"],[0.2222222222222222,\"#7201a8\"],[0.3333333333333333,\"#9c179e\"],[0.4444444444444444,\"#bd3786\"],[0.5555555555555556,\"#d8576b\"],[0.6666666666666666,\"#ed7953\"],[0.7777777777777778,\"#fb9f3a\"],[0.8888888888888888,\"#fdca26\"],[1.0,\"#f0f921\"]],\"diverging\":[[0,\"#8e0152\"],[0.1,\"#c51b7d\"],[0.2,\"#de77ae\"],[0.3,\"#f1b6da\"],[0.4,\"#fde0ef\"],[0.5,\"#f7f7f7\"],[0.6,\"#e6f5d0\"],[0.7,\"#b8e186\"],[0.8,\"#7fbc41\"],[0.9,\"#4d9221\"],[1,\"#276419\"]]},\"xaxis\":{\"gridcolor\":\"white\",\"linecolor\":\"white\",\"ticks\":\"\",\"title\":{\"standoff\":15},\"zerolinecolor\":\"white\",\"automargin\":true,\"zerolinewidth\":2},\"yaxis\":{\"gridcolor\":\"white\",\"linecolor\":\"white\",\"ticks\":\"\",\"title\":{\"standoff\":15},\"zerolinecolor\":\"white\",\"automargin\":true,\"zerolinewidth\":2},\"scene\":{\"xaxis\":{\"backgroundcolor\":\"#E5ECF6\",\"gridcolor\":\"white\",\"linecolor\":\"white\",\"showbackground\":true,\"ticks\":\"\",\"zerolinecolor\":\"white\",\"gridwidth\":2},\"yaxis\":{\"backgroundcolor\":\"#E5ECF6\",\"gridcolor\":\"white\",\"linecolor\":\"white\",\"showbackground\":true,\"ticks\":\"\",\"zerolinecolor\":\"white\",\"gridwidth\":2},\"zaxis\":{\"backgroundcolor\":\"#E5ECF6\",\"gridcolor\":\"white\",\"linecolor\":\"white\",\"showbackground\":true,\"ticks\":\"\",\"zerolinecolor\":\"white\",\"gridwidth\":2}},\"shapedefaults\":{\"line\":{\"color\":\"#2a3f5f\"}},\"annotationdefaults\":{\"arrowcolor\":\"#2a3f5f\",\"arrowhead\":0,\"arrowwidth\":1},\"geo\":{\"bgcolor\":\"white\",\"landcolor\":\"#E5ECF6\",\"subunitcolor\":\"white\",\"showland\":true,\"showlakes\":true,\"lakecolor\":\"white\"},\"title\":{\"x\":0.05},\"mapbox\":{\"style\":\"light\"}}},\"legend\":{\"orientation\":\"h\",\"yanchor\":\"top\",\"y\":1.25,\"xanchor\":\"left\",\"x\":0},\"margin\":{\"l\":0,\"r\":0,\"t\":0,\"b\":0},\"barmode\":\"stack\",\"hovermode\":\"y unified\",\"height\":200,\"width\":800},                        {\"responsive\": true}                    ).then(function(){\n",
       "                            \n",
       "var gd = document.getElementById('c4db0474-ccd8-4f0d-bdb2-445b975b6e40');\n",
       "var x = new MutationObserver(function (mutations, observer) {{\n",
       "        var display = window.getComputedStyle(gd).display;\n",
       "        if (!display || display === 'none') {{\n",
       "            console.log([gd, 'removed!']);\n",
       "            Plotly.purge(gd);\n",
       "            observer.disconnect();\n",
       "        }}\n",
       "}});\n",
       "\n",
       "// Listen for the removal of the full notebook cells\n",
       "var notebookContainer = gd.closest('#notebook-container');\n",
       "if (notebookContainer) {{\n",
       "    x.observe(notebookContainer, {childList: true});\n",
       "}}\n",
       "\n",
       "// Listen for the clearing of the current output cell\n",
       "var outputEl = gd.closest('.output');\n",
       "if (outputEl) {{\n",
       "    x.observe(outputEl, {childList: true});\n",
       "}}\n",
       "\n",
       "                        })                };                });            </script>        </div>"
      ]
     },
     "metadata": {},
     "output_type": "display_data"
    },
    {
     "name": "stdout",
     "output_type": "stream",
     "text": [
      "channel\n"
     ]
    },
    {
     "data": {
      "application/vnd.plotly.v1+json": {
       "config": {
        "plotlyServerURL": "https://plot.ly"
       },
       "data": [
        {
         "legendgroup": "text",
         "marker": {
          "color": "#00CC96"
         },
         "name": "text",
         "orientation": "h",
         "showlegend": true,
         "type": "bar",
         "x": [
          0.19331027258408778
         ],
         "y": [
          "disbert"
         ]
        },
        {
         "legendgroup": "tab",
         "marker": {
          "color": "#AB63FA"
         },
         "name": "tab",
         "orientation": "h",
         "showlegend": true,
         "type": "bar",
         "x": [
          0.0715119245348805
         ],
         "y": [
          "disbert"
         ]
        },
        {
         "legendgroup": "text template",
         "marker": {
          "color": "#FFA15A"
         },
         "name": "text template",
         "orientation": "h",
         "showlegend": true,
         "type": "bar",
         "x": [
          0.020802634733768685
         ],
         "y": [
          "disbert"
         ]
        },
        {
         "legendgroup": "tab template",
         "marker": {
          "color": "#19D3F3"
         },
         "name": "tab template",
         "orientation": "h",
         "showlegend": true,
         "type": "bar",
         "x": [
          0.08339463939160738
         ],
         "y": [
          "disbert"
         ]
        },
        {
         "legendgroup": "text",
         "marker": {
          "color": "#00CC96"
         },
         "name": "text",
         "orientation": "h",
         "showlegend": false,
         "type": "bar",
         "x": [
          0.28398929385664695
         ],
         "y": [
          "drob"
         ]
        },
        {
         "legendgroup": "tab",
         "marker": {
          "color": "#AB63FA"
         },
         "name": "tab",
         "orientation": "h",
         "showlegend": false,
         "type": "bar",
         "x": [
          0.2604059437818141
         ],
         "y": [
          "drob"
         ]
        },
        {
         "legendgroup": "text template",
         "marker": {
          "color": "#FFA15A"
         },
         "name": "text template",
         "orientation": "h",
         "showlegend": false,
         "type": "bar",
         "x": [
          0.04815221266438404
         ],
         "y": [
          "drob"
         ]
        },
        {
         "legendgroup": "tab template",
         "marker": {
          "color": "#19D3F3"
         },
         "name": "tab template",
         "orientation": "h",
         "showlegend": false,
         "type": "bar",
         "x": [
          0.18373576782245055
         ],
         "y": [
          "drob"
         ]
        },
        {
         "legendgroup": "text",
         "marker": {
          "color": "#00CC96"
         },
         "name": "text",
         "orientation": "h",
         "showlegend": false,
         "type": "bar",
         "x": [
          0.257306380277128
         ],
         "y": [
          "deberta"
         ]
        },
        {
         "legendgroup": "tab",
         "marker": {
          "color": "#AB63FA"
         },
         "name": "tab",
         "orientation": "h",
         "showlegend": false,
         "type": "bar",
         "x": [
          0.05679128936490256
         ],
         "y": [
          "deberta"
         ]
        },
        {
         "legendgroup": "text template",
         "marker": {
          "color": "#FFA15A"
         },
         "name": "text template",
         "orientation": "h",
         "showlegend": false,
         "type": "bar",
         "x": [
          0.03184696463443571
         ],
         "y": [
          "deberta"
         ]
        },
        {
         "legendgroup": "tab template",
         "marker": {
          "color": "#19D3F3"
         },
         "name": "tab template",
         "orientation": "h",
         "showlegend": false,
         "type": "bar",
         "x": [
          0.08244262054174778
         ],
         "y": [
          "deberta"
         ]
        },
        {
         "legendgroup": "text",
         "marker": {
          "color": "#00CC96"
         },
         "name": "text",
         "orientation": "h",
         "showlegend": false,
         "type": "bar",
         "x": [
          3.018735908802451e-8
         ],
         "y": [
          "bert"
         ]
        },
        {
         "legendgroup": "tab",
         "marker": {
          "color": "#AB63FA"
         },
         "name": "tab",
         "orientation": "h",
         "showlegend": false,
         "type": "bar",
         "x": [
          0.0000011704419947057003
         ],
         "y": [
          "bert"
         ]
        },
        {
         "legendgroup": "text template",
         "marker": {
          "color": "#FFA15A"
         },
         "name": "text template",
         "orientation": "h",
         "showlegend": false,
         "type": "bar",
         "x": [
          3.36687768525387e-8
         ],
         "y": [
          "bert"
         ]
        },
        {
         "legendgroup": "tab template",
         "marker": {
          "color": "#19D3F3"
         },
         "name": "tab template",
         "orientation": "h",
         "showlegend": false,
         "type": "bar",
         "x": [
          9.945815439634939e-7
         ],
         "y": [
          "bert"
         ]
        }
       ],
       "layout": {
        "barmode": "stack",
        "height": 200,
        "hovermode": "y unified",
        "legend": {
         "orientation": "h",
         "x": 0,
         "xanchor": "left",
         "y": 1.25,
         "yanchor": "top"
        },
        "margin": {
         "b": 0,
         "l": 0,
         "r": 0,
         "t": 0
        },
        "template": {
         "data": {
          "bar": [
           {
            "error_x": {
             "color": "#2a3f5f"
            },
            "error_y": {
             "color": "#2a3f5f"
            },
            "marker": {
             "line": {
              "color": "#E5ECF6",
              "width": 0.5
             },
             "pattern": {
              "fillmode": "overlay",
              "size": 10,
              "solidity": 0.2
             }
            },
            "type": "bar"
           }
          ],
          "barpolar": [
           {
            "marker": {
             "line": {
              "color": "#E5ECF6",
              "width": 0.5
             },
             "pattern": {
              "fillmode": "overlay",
              "size": 10,
              "solidity": 0.2
             }
            },
            "type": "barpolar"
           }
          ],
          "carpet": [
           {
            "aaxis": {
             "endlinecolor": "#2a3f5f",
             "gridcolor": "white",
             "linecolor": "white",
             "minorgridcolor": "white",
             "startlinecolor": "#2a3f5f"
            },
            "baxis": {
             "endlinecolor": "#2a3f5f",
             "gridcolor": "white",
             "linecolor": "white",
             "minorgridcolor": "white",
             "startlinecolor": "#2a3f5f"
            },
            "type": "carpet"
           }
          ],
          "choropleth": [
           {
            "colorbar": {
             "outlinewidth": 0,
             "ticks": ""
            },
            "type": "choropleth"
           }
          ],
          "contour": [
           {
            "colorbar": {
             "outlinewidth": 0,
             "ticks": ""
            },
            "colorscale": [
             [
              0,
              "#0d0887"
             ],
             [
              0.1111111111111111,
              "#46039f"
             ],
             [
              0.2222222222222222,
              "#7201a8"
             ],
             [
              0.3333333333333333,
              "#9c179e"
             ],
             [
              0.4444444444444444,
              "#bd3786"
             ],
             [
              0.5555555555555556,
              "#d8576b"
             ],
             [
              0.6666666666666666,
              "#ed7953"
             ],
             [
              0.7777777777777778,
              "#fb9f3a"
             ],
             [
              0.8888888888888888,
              "#fdca26"
             ],
             [
              1,
              "#f0f921"
             ]
            ],
            "type": "contour"
           }
          ],
          "contourcarpet": [
           {
            "colorbar": {
             "outlinewidth": 0,
             "ticks": ""
            },
            "type": "contourcarpet"
           }
          ],
          "heatmap": [
           {
            "colorbar": {
             "outlinewidth": 0,
             "ticks": ""
            },
            "colorscale": [
             [
              0,
              "#0d0887"
             ],
             [
              0.1111111111111111,
              "#46039f"
             ],
             [
              0.2222222222222222,
              "#7201a8"
             ],
             [
              0.3333333333333333,
              "#9c179e"
             ],
             [
              0.4444444444444444,
              "#bd3786"
             ],
             [
              0.5555555555555556,
              "#d8576b"
             ],
             [
              0.6666666666666666,
              "#ed7953"
             ],
             [
              0.7777777777777778,
              "#fb9f3a"
             ],
             [
              0.8888888888888888,
              "#fdca26"
             ],
             [
              1,
              "#f0f921"
             ]
            ],
            "type": "heatmap"
           }
          ],
          "heatmapgl": [
           {
            "colorbar": {
             "outlinewidth": 0,
             "ticks": ""
            },
            "colorscale": [
             [
              0,
              "#0d0887"
             ],
             [
              0.1111111111111111,
              "#46039f"
             ],
             [
              0.2222222222222222,
              "#7201a8"
             ],
             [
              0.3333333333333333,
              "#9c179e"
             ],
             [
              0.4444444444444444,
              "#bd3786"
             ],
             [
              0.5555555555555556,
              "#d8576b"
             ],
             [
              0.6666666666666666,
              "#ed7953"
             ],
             [
              0.7777777777777778,
              "#fb9f3a"
             ],
             [
              0.8888888888888888,
              "#fdca26"
             ],
             [
              1,
              "#f0f921"
             ]
            ],
            "type": "heatmapgl"
           }
          ],
          "histogram": [
           {
            "marker": {
             "pattern": {
              "fillmode": "overlay",
              "size": 10,
              "solidity": 0.2
             }
            },
            "type": "histogram"
           }
          ],
          "histogram2d": [
           {
            "colorbar": {
             "outlinewidth": 0,
             "ticks": ""
            },
            "colorscale": [
             [
              0,
              "#0d0887"
             ],
             [
              0.1111111111111111,
              "#46039f"
             ],
             [
              0.2222222222222222,
              "#7201a8"
             ],
             [
              0.3333333333333333,
              "#9c179e"
             ],
             [
              0.4444444444444444,
              "#bd3786"
             ],
             [
              0.5555555555555556,
              "#d8576b"
             ],
             [
              0.6666666666666666,
              "#ed7953"
             ],
             [
              0.7777777777777778,
              "#fb9f3a"
             ],
             [
              0.8888888888888888,
              "#fdca26"
             ],
             [
              1,
              "#f0f921"
             ]
            ],
            "type": "histogram2d"
           }
          ],
          "histogram2dcontour": [
           {
            "colorbar": {
             "outlinewidth": 0,
             "ticks": ""
            },
            "colorscale": [
             [
              0,
              "#0d0887"
             ],
             [
              0.1111111111111111,
              "#46039f"
             ],
             [
              0.2222222222222222,
              "#7201a8"
             ],
             [
              0.3333333333333333,
              "#9c179e"
             ],
             [
              0.4444444444444444,
              "#bd3786"
             ],
             [
              0.5555555555555556,
              "#d8576b"
             ],
             [
              0.6666666666666666,
              "#ed7953"
             ],
             [
              0.7777777777777778,
              "#fb9f3a"
             ],
             [
              0.8888888888888888,
              "#fdca26"
             ],
             [
              1,
              "#f0f921"
             ]
            ],
            "type": "histogram2dcontour"
           }
          ],
          "mesh3d": [
           {
            "colorbar": {
             "outlinewidth": 0,
             "ticks": ""
            },
            "type": "mesh3d"
           }
          ],
          "parcoords": [
           {
            "line": {
             "colorbar": {
              "outlinewidth": 0,
              "ticks": ""
             }
            },
            "type": "parcoords"
           }
          ],
          "pie": [
           {
            "automargin": true,
            "type": "pie"
           }
          ],
          "scatter": [
           {
            "fillpattern": {
             "fillmode": "overlay",
             "size": 10,
             "solidity": 0.2
            },
            "type": "scatter"
           }
          ],
          "scatter3d": [
           {
            "line": {
             "colorbar": {
              "outlinewidth": 0,
              "ticks": ""
             }
            },
            "marker": {
             "colorbar": {
              "outlinewidth": 0,
              "ticks": ""
             }
            },
            "type": "scatter3d"
           }
          ],
          "scattercarpet": [
           {
            "marker": {
             "colorbar": {
              "outlinewidth": 0,
              "ticks": ""
             }
            },
            "type": "scattercarpet"
           }
          ],
          "scattergeo": [
           {
            "marker": {
             "colorbar": {
              "outlinewidth": 0,
              "ticks": ""
             }
            },
            "type": "scattergeo"
           }
          ],
          "scattergl": [
           {
            "marker": {
             "colorbar": {
              "outlinewidth": 0,
              "ticks": ""
             }
            },
            "type": "scattergl"
           }
          ],
          "scattermapbox": [
           {
            "marker": {
             "colorbar": {
              "outlinewidth": 0,
              "ticks": ""
             }
            },
            "type": "scattermapbox"
           }
          ],
          "scatterpolar": [
           {
            "marker": {
             "colorbar": {
              "outlinewidth": 0,
              "ticks": ""
             }
            },
            "type": "scatterpolar"
           }
          ],
          "scatterpolargl": [
           {
            "marker": {
             "colorbar": {
              "outlinewidth": 0,
              "ticks": ""
             }
            },
            "type": "scatterpolargl"
           }
          ],
          "scatterternary": [
           {
            "marker": {
             "colorbar": {
              "outlinewidth": 0,
              "ticks": ""
             }
            },
            "type": "scatterternary"
           }
          ],
          "surface": [
           {
            "colorbar": {
             "outlinewidth": 0,
             "ticks": ""
            },
            "colorscale": [
             [
              0,
              "#0d0887"
             ],
             [
              0.1111111111111111,
              "#46039f"
             ],
             [
              0.2222222222222222,
              "#7201a8"
             ],
             [
              0.3333333333333333,
              "#9c179e"
             ],
             [
              0.4444444444444444,
              "#bd3786"
             ],
             [
              0.5555555555555556,
              "#d8576b"
             ],
             [
              0.6666666666666666,
              "#ed7953"
             ],
             [
              0.7777777777777778,
              "#fb9f3a"
             ],
             [
              0.8888888888888888,
              "#fdca26"
             ],
             [
              1,
              "#f0f921"
             ]
            ],
            "type": "surface"
           }
          ],
          "table": [
           {
            "cells": {
             "fill": {
              "color": "#EBF0F8"
             },
             "line": {
              "color": "white"
             }
            },
            "header": {
             "fill": {
              "color": "#C8D4E3"
             },
             "line": {
              "color": "white"
             }
            },
            "type": "table"
           }
          ]
         },
         "layout": {
          "annotationdefaults": {
           "arrowcolor": "#2a3f5f",
           "arrowhead": 0,
           "arrowwidth": 1
          },
          "autotypenumbers": "strict",
          "coloraxis": {
           "colorbar": {
            "outlinewidth": 0,
            "ticks": ""
           }
          },
          "colorscale": {
           "diverging": [
            [
             0,
             "#8e0152"
            ],
            [
             0.1,
             "#c51b7d"
            ],
            [
             0.2,
             "#de77ae"
            ],
            [
             0.3,
             "#f1b6da"
            ],
            [
             0.4,
             "#fde0ef"
            ],
            [
             0.5,
             "#f7f7f7"
            ],
            [
             0.6,
             "#e6f5d0"
            ],
            [
             0.7,
             "#b8e186"
            ],
            [
             0.8,
             "#7fbc41"
            ],
            [
             0.9,
             "#4d9221"
            ],
            [
             1,
             "#276419"
            ]
           ],
           "sequential": [
            [
             0,
             "#0d0887"
            ],
            [
             0.1111111111111111,
             "#46039f"
            ],
            [
             0.2222222222222222,
             "#7201a8"
            ],
            [
             0.3333333333333333,
             "#9c179e"
            ],
            [
             0.4444444444444444,
             "#bd3786"
            ],
            [
             0.5555555555555556,
             "#d8576b"
            ],
            [
             0.6666666666666666,
             "#ed7953"
            ],
            [
             0.7777777777777778,
             "#fb9f3a"
            ],
            [
             0.8888888888888888,
             "#fdca26"
            ],
            [
             1,
             "#f0f921"
            ]
           ],
           "sequentialminus": [
            [
             0,
             "#0d0887"
            ],
            [
             0.1111111111111111,
             "#46039f"
            ],
            [
             0.2222222222222222,
             "#7201a8"
            ],
            [
             0.3333333333333333,
             "#9c179e"
            ],
            [
             0.4444444444444444,
             "#bd3786"
            ],
            [
             0.5555555555555556,
             "#d8576b"
            ],
            [
             0.6666666666666666,
             "#ed7953"
            ],
            [
             0.7777777777777778,
             "#fb9f3a"
            ],
            [
             0.8888888888888888,
             "#fdca26"
            ],
            [
             1,
             "#f0f921"
            ]
           ]
          },
          "colorway": [
           "#636efa",
           "#EF553B",
           "#00cc96",
           "#ab63fa",
           "#FFA15A",
           "#19d3f3",
           "#FF6692",
           "#B6E880",
           "#FF97FF",
           "#FECB52"
          ],
          "font": {
           "color": "#2a3f5f"
          },
          "geo": {
           "bgcolor": "white",
           "lakecolor": "white",
           "landcolor": "#E5ECF6",
           "showlakes": true,
           "showland": true,
           "subunitcolor": "white"
          },
          "hoverlabel": {
           "align": "left"
          },
          "hovermode": "closest",
          "mapbox": {
           "style": "light"
          },
          "paper_bgcolor": "white",
          "plot_bgcolor": "#E5ECF6",
          "polar": {
           "angularaxis": {
            "gridcolor": "white",
            "linecolor": "white",
            "ticks": ""
           },
           "bgcolor": "#E5ECF6",
           "radialaxis": {
            "gridcolor": "white",
            "linecolor": "white",
            "ticks": ""
           }
          },
          "scene": {
           "xaxis": {
            "backgroundcolor": "#E5ECF6",
            "gridcolor": "white",
            "gridwidth": 2,
            "linecolor": "white",
            "showbackground": true,
            "ticks": "",
            "zerolinecolor": "white"
           },
           "yaxis": {
            "backgroundcolor": "#E5ECF6",
            "gridcolor": "white",
            "gridwidth": 2,
            "linecolor": "white",
            "showbackground": true,
            "ticks": "",
            "zerolinecolor": "white"
           },
           "zaxis": {
            "backgroundcolor": "#E5ECF6",
            "gridcolor": "white",
            "gridwidth": 2,
            "linecolor": "white",
            "showbackground": true,
            "ticks": "",
            "zerolinecolor": "white"
           }
          },
          "shapedefaults": {
           "line": {
            "color": "#2a3f5f"
           }
          },
          "ternary": {
           "aaxis": {
            "gridcolor": "white",
            "linecolor": "white",
            "ticks": ""
           },
           "baxis": {
            "gridcolor": "white",
            "linecolor": "white",
            "ticks": ""
           },
           "bgcolor": "#E5ECF6",
           "caxis": {
            "gridcolor": "white",
            "linecolor": "white",
            "ticks": ""
           }
          },
          "title": {
           "x": 0.05
          },
          "xaxis": {
           "automargin": true,
           "gridcolor": "white",
           "linecolor": "white",
           "ticks": "",
           "title": {
            "standoff": 15
           },
           "zerolinecolor": "white",
           "zerolinewidth": 2
          },
          "yaxis": {
           "automargin": true,
           "gridcolor": "white",
           "linecolor": "white",
           "ticks": "",
           "title": {
            "standoff": 15
           },
           "zerolinecolor": "white",
           "zerolinewidth": 2
          }
         }
        },
        "width": 800
       }
      },
      "text/html": [
       "<div>                            <div id=\"37ce1824-1cef-4c80-b561-07e8a98201cf\" class=\"plotly-graph-div\" style=\"height:200px; width:800px;\"></div>            <script type=\"text/javascript\">                require([\"plotly\"], function(Plotly) {                    window.PLOTLYENV=window.PLOTLYENV || {};                                    if (document.getElementById(\"37ce1824-1cef-4c80-b561-07e8a98201cf\")) {                    Plotly.newPlot(                        \"37ce1824-1cef-4c80-b561-07e8a98201cf\",                        [{\"legendgroup\":\"text\",\"marker\":{\"color\":\"#00CC96\"},\"name\":\"text\",\"orientation\":\"h\",\"showlegend\":true,\"x\":[0.19331027258408778],\"y\":[\"disbert\"],\"type\":\"bar\"},{\"legendgroup\":\"tab\",\"marker\":{\"color\":\"#AB63FA\"},\"name\":\"tab\",\"orientation\":\"h\",\"showlegend\":true,\"x\":[0.0715119245348805],\"y\":[\"disbert\"],\"type\":\"bar\"},{\"legendgroup\":\"text template\",\"marker\":{\"color\":\"#FFA15A\"},\"name\":\"text template\",\"orientation\":\"h\",\"showlegend\":true,\"x\":[0.020802634733768685],\"y\":[\"disbert\"],\"type\":\"bar\"},{\"legendgroup\":\"tab template\",\"marker\":{\"color\":\"#19D3F3\"},\"name\":\"tab template\",\"orientation\":\"h\",\"showlegend\":true,\"x\":[0.08339463939160738],\"y\":[\"disbert\"],\"type\":\"bar\"},{\"legendgroup\":\"text\",\"marker\":{\"color\":\"#00CC96\"},\"name\":\"text\",\"orientation\":\"h\",\"showlegend\":false,\"x\":[0.28398929385664695],\"y\":[\"drob\"],\"type\":\"bar\"},{\"legendgroup\":\"tab\",\"marker\":{\"color\":\"#AB63FA\"},\"name\":\"tab\",\"orientation\":\"h\",\"showlegend\":false,\"x\":[0.2604059437818141],\"y\":[\"drob\"],\"type\":\"bar\"},{\"legendgroup\":\"text template\",\"marker\":{\"color\":\"#FFA15A\"},\"name\":\"text template\",\"orientation\":\"h\",\"showlegend\":false,\"x\":[0.04815221266438404],\"y\":[\"drob\"],\"type\":\"bar\"},{\"legendgroup\":\"tab template\",\"marker\":{\"color\":\"#19D3F3\"},\"name\":\"tab template\",\"orientation\":\"h\",\"showlegend\":false,\"x\":[0.18373576782245055],\"y\":[\"drob\"],\"type\":\"bar\"},{\"legendgroup\":\"text\",\"marker\":{\"color\":\"#00CC96\"},\"name\":\"text\",\"orientation\":\"h\",\"showlegend\":false,\"x\":[0.257306380277128],\"y\":[\"deberta\"],\"type\":\"bar\"},{\"legendgroup\":\"tab\",\"marker\":{\"color\":\"#AB63FA\"},\"name\":\"tab\",\"orientation\":\"h\",\"showlegend\":false,\"x\":[0.05679128936490256],\"y\":[\"deberta\"],\"type\":\"bar\"},{\"legendgroup\":\"text template\",\"marker\":{\"color\":\"#FFA15A\"},\"name\":\"text template\",\"orientation\":\"h\",\"showlegend\":false,\"x\":[0.03184696463443571],\"y\":[\"deberta\"],\"type\":\"bar\"},{\"legendgroup\":\"tab template\",\"marker\":{\"color\":\"#19D3F3\"},\"name\":\"tab template\",\"orientation\":\"h\",\"showlegend\":false,\"x\":[0.08244262054174778],\"y\":[\"deberta\"],\"type\":\"bar\"},{\"legendgroup\":\"text\",\"marker\":{\"color\":\"#00CC96\"},\"name\":\"text\",\"orientation\":\"h\",\"showlegend\":false,\"x\":[3.018735908802451e-08],\"y\":[\"bert\"],\"type\":\"bar\"},{\"legendgroup\":\"tab\",\"marker\":{\"color\":\"#AB63FA\"},\"name\":\"tab\",\"orientation\":\"h\",\"showlegend\":false,\"x\":[1.1704419947057003e-06],\"y\":[\"bert\"],\"type\":\"bar\"},{\"legendgroup\":\"text template\",\"marker\":{\"color\":\"#FFA15A\"},\"name\":\"text template\",\"orientation\":\"h\",\"showlegend\":false,\"x\":[3.36687768525387e-08],\"y\":[\"bert\"],\"type\":\"bar\"},{\"legendgroup\":\"tab template\",\"marker\":{\"color\":\"#19D3F3\"},\"name\":\"tab template\",\"orientation\":\"h\",\"showlegend\":false,\"x\":[9.945815439634939e-07],\"y\":[\"bert\"],\"type\":\"bar\"}],                        {\"template\":{\"data\":{\"histogram2dcontour\":[{\"type\":\"histogram2dcontour\",\"colorbar\":{\"outlinewidth\":0,\"ticks\":\"\"},\"colorscale\":[[0.0,\"#0d0887\"],[0.1111111111111111,\"#46039f\"],[0.2222222222222222,\"#7201a8\"],[0.3333333333333333,\"#9c179e\"],[0.4444444444444444,\"#bd3786\"],[0.5555555555555556,\"#d8576b\"],[0.6666666666666666,\"#ed7953\"],[0.7777777777777778,\"#fb9f3a\"],[0.8888888888888888,\"#fdca26\"],[1.0,\"#f0f921\"]]}],\"choropleth\":[{\"type\":\"choropleth\",\"colorbar\":{\"outlinewidth\":0,\"ticks\":\"\"}}],\"histogram2d\":[{\"type\":\"histogram2d\",\"colorbar\":{\"outlinewidth\":0,\"ticks\":\"\"},\"colorscale\":[[0.0,\"#0d0887\"],[0.1111111111111111,\"#46039f\"],[0.2222222222222222,\"#7201a8\"],[0.3333333333333333,\"#9c179e\"],[0.4444444444444444,\"#bd3786\"],[0.5555555555555556,\"#d8576b\"],[0.6666666666666666,\"#ed7953\"],[0.7777777777777778,\"#fb9f3a\"],[0.8888888888888888,\"#fdca26\"],[1.0,\"#f0f921\"]]}],\"heatmap\":[{\"type\":\"heatmap\",\"colorbar\":{\"outlinewidth\":0,\"ticks\":\"\"},\"colorscale\":[[0.0,\"#0d0887\"],[0.1111111111111111,\"#46039f\"],[0.2222222222222222,\"#7201a8\"],[0.3333333333333333,\"#9c179e\"],[0.4444444444444444,\"#bd3786\"],[0.5555555555555556,\"#d8576b\"],[0.6666666666666666,\"#ed7953\"],[0.7777777777777778,\"#fb9f3a\"],[0.8888888888888888,\"#fdca26\"],[1.0,\"#f0f921\"]]}],\"heatmapgl\":[{\"type\":\"heatmapgl\",\"colorbar\":{\"outlinewidth\":0,\"ticks\":\"\"},\"colorscale\":[[0.0,\"#0d0887\"],[0.1111111111111111,\"#46039f\"],[0.2222222222222222,\"#7201a8\"],[0.3333333333333333,\"#9c179e\"],[0.4444444444444444,\"#bd3786\"],[0.5555555555555556,\"#d8576b\"],[0.6666666666666666,\"#ed7953\"],[0.7777777777777778,\"#fb9f3a\"],[0.8888888888888888,\"#fdca26\"],[1.0,\"#f0f921\"]]}],\"contourcarpet\":[{\"type\":\"contourcarpet\",\"colorbar\":{\"outlinewidth\":0,\"ticks\":\"\"}}],\"contour\":[{\"type\":\"contour\",\"colorbar\":{\"outlinewidth\":0,\"ticks\":\"\"},\"colorscale\":[[0.0,\"#0d0887\"],[0.1111111111111111,\"#46039f\"],[0.2222222222222222,\"#7201a8\"],[0.3333333333333333,\"#9c179e\"],[0.4444444444444444,\"#bd3786\"],[0.5555555555555556,\"#d8576b\"],[0.6666666666666666,\"#ed7953\"],[0.7777777777777778,\"#fb9f3a\"],[0.8888888888888888,\"#fdca26\"],[1.0,\"#f0f921\"]]}],\"surface\":[{\"type\":\"surface\",\"colorbar\":{\"outlinewidth\":0,\"ticks\":\"\"},\"colorscale\":[[0.0,\"#0d0887\"],[0.1111111111111111,\"#46039f\"],[0.2222222222222222,\"#7201a8\"],[0.3333333333333333,\"#9c179e\"],[0.4444444444444444,\"#bd3786\"],[0.5555555555555556,\"#d8576b\"],[0.6666666666666666,\"#ed7953\"],[0.7777777777777778,\"#fb9f3a\"],[0.8888888888888888,\"#fdca26\"],[1.0,\"#f0f921\"]]}],\"mesh3d\":[{\"type\":\"mesh3d\",\"colorbar\":{\"outlinewidth\":0,\"ticks\":\"\"}}],\"scatter\":[{\"fillpattern\":{\"fillmode\":\"overlay\",\"size\":10,\"solidity\":0.2},\"type\":\"scatter\"}],\"parcoords\":[{\"type\":\"parcoords\",\"line\":{\"colorbar\":{\"outlinewidth\":0,\"ticks\":\"\"}}}],\"scatterpolargl\":[{\"type\":\"scatterpolargl\",\"marker\":{\"colorbar\":{\"outlinewidth\":0,\"ticks\":\"\"}}}],\"bar\":[{\"error_x\":{\"color\":\"#2a3f5f\"},\"error_y\":{\"color\":\"#2a3f5f\"},\"marker\":{\"line\":{\"color\":\"#E5ECF6\",\"width\":0.5},\"pattern\":{\"fillmode\":\"overlay\",\"size\":10,\"solidity\":0.2}},\"type\":\"bar\"}],\"scattergeo\":[{\"type\":\"scattergeo\",\"marker\":{\"colorbar\":{\"outlinewidth\":0,\"ticks\":\"\"}}}],\"scatterpolar\":[{\"type\":\"scatterpolar\",\"marker\":{\"colorbar\":{\"outlinewidth\":0,\"ticks\":\"\"}}}],\"histogram\":[{\"marker\":{\"pattern\":{\"fillmode\":\"overlay\",\"size\":10,\"solidity\":0.2}},\"type\":\"histogram\"}],\"scattergl\":[{\"type\":\"scattergl\",\"marker\":{\"colorbar\":{\"outlinewidth\":0,\"ticks\":\"\"}}}],\"scatter3d\":[{\"type\":\"scatter3d\",\"line\":{\"colorbar\":{\"outlinewidth\":0,\"ticks\":\"\"}},\"marker\":{\"colorbar\":{\"outlinewidth\":0,\"ticks\":\"\"}}}],\"scattermapbox\":[{\"type\":\"scattermapbox\",\"marker\":{\"colorbar\":{\"outlinewidth\":0,\"ticks\":\"\"}}}],\"scatterternary\":[{\"type\":\"scatterternary\",\"marker\":{\"colorbar\":{\"outlinewidth\":0,\"ticks\":\"\"}}}],\"scattercarpet\":[{\"type\":\"scattercarpet\",\"marker\":{\"colorbar\":{\"outlinewidth\":0,\"ticks\":\"\"}}}],\"carpet\":[{\"aaxis\":{\"endlinecolor\":\"#2a3f5f\",\"gridcolor\":\"white\",\"linecolor\":\"white\",\"minorgridcolor\":\"white\",\"startlinecolor\":\"#2a3f5f\"},\"baxis\":{\"endlinecolor\":\"#2a3f5f\",\"gridcolor\":\"white\",\"linecolor\":\"white\",\"minorgridcolor\":\"white\",\"startlinecolor\":\"#2a3f5f\"},\"type\":\"carpet\"}],\"table\":[{\"cells\":{\"fill\":{\"color\":\"#EBF0F8\"},\"line\":{\"color\":\"white\"}},\"header\":{\"fill\":{\"color\":\"#C8D4E3\"},\"line\":{\"color\":\"white\"}},\"type\":\"table\"}],\"barpolar\":[{\"marker\":{\"line\":{\"color\":\"#E5ECF6\",\"width\":0.5},\"pattern\":{\"fillmode\":\"overlay\",\"size\":10,\"solidity\":0.2}},\"type\":\"barpolar\"}],\"pie\":[{\"automargin\":true,\"type\":\"pie\"}]},\"layout\":{\"autotypenumbers\":\"strict\",\"colorway\":[\"#636efa\",\"#EF553B\",\"#00cc96\",\"#ab63fa\",\"#FFA15A\",\"#19d3f3\",\"#FF6692\",\"#B6E880\",\"#FF97FF\",\"#FECB52\"],\"font\":{\"color\":\"#2a3f5f\"},\"hovermode\":\"closest\",\"hoverlabel\":{\"align\":\"left\"},\"paper_bgcolor\":\"white\",\"plot_bgcolor\":\"#E5ECF6\",\"polar\":{\"bgcolor\":\"#E5ECF6\",\"angularaxis\":{\"gridcolor\":\"white\",\"linecolor\":\"white\",\"ticks\":\"\"},\"radialaxis\":{\"gridcolor\":\"white\",\"linecolor\":\"white\",\"ticks\":\"\"}},\"ternary\":{\"bgcolor\":\"#E5ECF6\",\"aaxis\":{\"gridcolor\":\"white\",\"linecolor\":\"white\",\"ticks\":\"\"},\"baxis\":{\"gridcolor\":\"white\",\"linecolor\":\"white\",\"ticks\":\"\"},\"caxis\":{\"gridcolor\":\"white\",\"linecolor\":\"white\",\"ticks\":\"\"}},\"coloraxis\":{\"colorbar\":{\"outlinewidth\":0,\"ticks\":\"\"}},\"colorscale\":{\"sequential\":[[0.0,\"#0d0887\"],[0.1111111111111111,\"#46039f\"],[0.2222222222222222,\"#7201a8\"],[0.3333333333333333,\"#9c179e\"],[0.4444444444444444,\"#bd3786\"],[0.5555555555555556,\"#d8576b\"],[0.6666666666666666,\"#ed7953\"],[0.7777777777777778,\"#fb9f3a\"],[0.8888888888888888,\"#fdca26\"],[1.0,\"#f0f921\"]],\"sequentialminus\":[[0.0,\"#0d0887\"],[0.1111111111111111,\"#46039f\"],[0.2222222222222222,\"#7201a8\"],[0.3333333333333333,\"#9c179e\"],[0.4444444444444444,\"#bd3786\"],[0.5555555555555556,\"#d8576b\"],[0.6666666666666666,\"#ed7953\"],[0.7777777777777778,\"#fb9f3a\"],[0.8888888888888888,\"#fdca26\"],[1.0,\"#f0f921\"]],\"diverging\":[[0,\"#8e0152\"],[0.1,\"#c51b7d\"],[0.2,\"#de77ae\"],[0.3,\"#f1b6da\"],[0.4,\"#fde0ef\"],[0.5,\"#f7f7f7\"],[0.6,\"#e6f5d0\"],[0.7,\"#b8e186\"],[0.8,\"#7fbc41\"],[0.9,\"#4d9221\"],[1,\"#276419\"]]},\"xaxis\":{\"gridcolor\":\"white\",\"linecolor\":\"white\",\"ticks\":\"\",\"title\":{\"standoff\":15},\"zerolinecolor\":\"white\",\"automargin\":true,\"zerolinewidth\":2},\"yaxis\":{\"gridcolor\":\"white\",\"linecolor\":\"white\",\"ticks\":\"\",\"title\":{\"standoff\":15},\"zerolinecolor\":\"white\",\"automargin\":true,\"zerolinewidth\":2},\"scene\":{\"xaxis\":{\"backgroundcolor\":\"#E5ECF6\",\"gridcolor\":\"white\",\"linecolor\":\"white\",\"showbackground\":true,\"ticks\":\"\",\"zerolinecolor\":\"white\",\"gridwidth\":2},\"yaxis\":{\"backgroundcolor\":\"#E5ECF6\",\"gridcolor\":\"white\",\"linecolor\":\"white\",\"showbackground\":true,\"ticks\":\"\",\"zerolinecolor\":\"white\",\"gridwidth\":2},\"zaxis\":{\"backgroundcolor\":\"#E5ECF6\",\"gridcolor\":\"white\",\"linecolor\":\"white\",\"showbackground\":true,\"ticks\":\"\",\"zerolinecolor\":\"white\",\"gridwidth\":2}},\"shapedefaults\":{\"line\":{\"color\":\"#2a3f5f\"}},\"annotationdefaults\":{\"arrowcolor\":\"#2a3f5f\",\"arrowhead\":0,\"arrowwidth\":1},\"geo\":{\"bgcolor\":\"white\",\"landcolor\":\"#E5ECF6\",\"subunitcolor\":\"white\",\"showland\":true,\"showlakes\":true,\"lakecolor\":\"white\"},\"title\":{\"x\":0.05},\"mapbox\":{\"style\":\"light\"}}},\"legend\":{\"orientation\":\"h\",\"yanchor\":\"top\",\"y\":1.25,\"xanchor\":\"left\",\"x\":0},\"margin\":{\"l\":0,\"r\":0,\"t\":0,\"b\":0},\"barmode\":\"stack\",\"hovermode\":\"y unified\",\"height\":200,\"width\":800},                        {\"responsive\": true}                    ).then(function(){\n",
       "                            \n",
       "var gd = document.getElementById('37ce1824-1cef-4c80-b561-07e8a98201cf');\n",
       "var x = new MutationObserver(function (mutations, observer) {{\n",
       "        var display = window.getComputedStyle(gd).display;\n",
       "        if (!display || display === 'none') {{\n",
       "            console.log([gd, 'removed!']);\n",
       "            Plotly.purge(gd);\n",
       "            observer.disconnect();\n",
       "        }}\n",
       "}});\n",
       "\n",
       "// Listen for the removal of the full notebook cells\n",
       "var notebookContainer = gd.closest('#notebook-container');\n",
       "if (notebookContainer) {{\n",
       "    x.observe(notebookContainer, {childList: true});\n",
       "}}\n",
       "\n",
       "// Listen for the clearing of the current output cell\n",
       "var outputEl = gd.closest('.output');\n",
       "if (outputEl) {{\n",
       "    x.observe(outputEl, {childList: true});\n",
       "}}\n",
       "\n",
       "                        })                };                });            </script>        </div>"
      ]
     },
     "metadata": {},
     "output_type": "display_data"
    },
    {
     "name": "stdout",
     "output_type": "stream",
     "text": [
      "airbnb\n"
     ]
    },
    {
     "data": {
      "application/vnd.plotly.v1+json": {
       "config": {
        "plotlyServerURL": "https://plot.ly"
       },
       "data": [
        {
         "legendgroup": "text",
         "marker": {
          "color": "#00CC96"
         },
         "name": "text",
         "orientation": "h",
         "showlegend": true,
         "type": "bar",
         "x": [
          0.47751122963373926
         ],
         "y": [
          "disbert"
         ]
        },
        {
         "legendgroup": "tab",
         "marker": {
          "color": "#AB63FA"
         },
         "name": "tab",
         "orientation": "h",
         "showlegend": true,
         "type": "bar",
         "x": [
          0.8052477026372081
         ],
         "y": [
          "disbert"
         ]
        },
        {
         "legendgroup": "text template",
         "marker": {
          "color": "#FFA15A"
         },
         "name": "text template",
         "orientation": "h",
         "showlegend": true,
         "type": "bar",
         "x": [
          0.05463514545543431
         ],
         "y": [
          "disbert"
         ]
        },
        {
         "legendgroup": "tab template",
         "marker": {
          "color": "#19D3F3"
         },
         "name": "tab template",
         "orientation": "h",
         "showlegend": true,
         "type": "bar",
         "x": [
          0.999192874544918
         ],
         "y": [
          "disbert"
         ]
        },
        {
         "legendgroup": "text",
         "marker": {
          "color": "#00CC96"
         },
         "name": "text",
         "orientation": "h",
         "showlegend": false,
         "type": "bar",
         "x": [
          0.5553927705159533
         ],
         "y": [
          "drob"
         ]
        },
        {
         "legendgroup": "tab",
         "marker": {
          "color": "#AB63FA"
         },
         "name": "tab",
         "orientation": "h",
         "showlegend": false,
         "type": "bar",
         "x": [
          1.030194863966799
         ],
         "y": [
          "drob"
         ]
        },
        {
         "legendgroup": "text template",
         "marker": {
          "color": "#FFA15A"
         },
         "name": "text template",
         "orientation": "h",
         "showlegend": false,
         "type": "bar",
         "x": [
          0.09063891726279792
         ],
         "y": [
          "drob"
         ]
        },
        {
         "legendgroup": "tab template",
         "marker": {
          "color": "#19D3F3"
         },
         "name": "tab template",
         "orientation": "h",
         "showlegend": false,
         "type": "bar",
         "x": [
          1.6636954047665786
         ],
         "y": [
          "drob"
         ]
        },
        {
         "legendgroup": "text",
         "marker": {
          "color": "#00CC96"
         },
         "name": "text",
         "orientation": "h",
         "showlegend": false,
         "type": "bar",
         "x": [
          0.5433150149995927
         ],
         "y": [
          "deberta"
         ]
        },
        {
         "legendgroup": "tab",
         "marker": {
          "color": "#AB63FA"
         },
         "name": "tab",
         "orientation": "h",
         "showlegend": false,
         "type": "bar",
         "x": [
          0.754638707209626
         ],
         "y": [
          "deberta"
         ]
        },
        {
         "legendgroup": "text template",
         "marker": {
          "color": "#FFA15A"
         },
         "name": "text template",
         "orientation": "h",
         "showlegend": false,
         "type": "bar",
         "x": [
          0.087657735525115
         ],
         "y": [
          "deberta"
         ]
        },
        {
         "legendgroup": "tab template",
         "marker": {
          "color": "#19D3F3"
         },
         "name": "tab template",
         "orientation": "h",
         "showlegend": false,
         "type": "bar",
         "x": [
          0.9974448710842022
         ],
         "y": [
          "deberta"
         ]
        },
        {
         "legendgroup": "text",
         "marker": {
          "color": "#00CC96"
         },
         "name": "text",
         "orientation": "h",
         "showlegend": false,
         "type": "bar",
         "x": [
          0.4406825851991329
         ],
         "y": [
          "bert"
         ]
        },
        {
         "legendgroup": "tab",
         "marker": {
          "color": "#AB63FA"
         },
         "name": "tab",
         "orientation": "h",
         "showlegend": false,
         "type": "bar",
         "x": [
          0.5771442699892617
         ],
         "y": [
          "bert"
         ]
        },
        {
         "legendgroup": "text template",
         "marker": {
          "color": "#FFA15A"
         },
         "name": "text template",
         "orientation": "h",
         "showlegend": false,
         "type": "bar",
         "x": [
          0.07519772953387362
         ],
         "y": [
          "bert"
         ]
        },
        {
         "legendgroup": "tab template",
         "marker": {
          "color": "#19D3F3"
         },
         "name": "tab template",
         "orientation": "h",
         "showlegend": false,
         "type": "bar",
         "x": [
          1.017154728942917
         ],
         "y": [
          "bert"
         ]
        }
       ],
       "layout": {
        "barmode": "stack",
        "height": 200,
        "hovermode": "y unified",
        "legend": {
         "orientation": "h",
         "x": 0,
         "xanchor": "left",
         "y": 1.25,
         "yanchor": "top"
        },
        "margin": {
         "b": 0,
         "l": 0,
         "r": 0,
         "t": 0
        },
        "template": {
         "data": {
          "bar": [
           {
            "error_x": {
             "color": "#2a3f5f"
            },
            "error_y": {
             "color": "#2a3f5f"
            },
            "marker": {
             "line": {
              "color": "#E5ECF6",
              "width": 0.5
             },
             "pattern": {
              "fillmode": "overlay",
              "size": 10,
              "solidity": 0.2
             }
            },
            "type": "bar"
           }
          ],
          "barpolar": [
           {
            "marker": {
             "line": {
              "color": "#E5ECF6",
              "width": 0.5
             },
             "pattern": {
              "fillmode": "overlay",
              "size": 10,
              "solidity": 0.2
             }
            },
            "type": "barpolar"
           }
          ],
          "carpet": [
           {
            "aaxis": {
             "endlinecolor": "#2a3f5f",
             "gridcolor": "white",
             "linecolor": "white",
             "minorgridcolor": "white",
             "startlinecolor": "#2a3f5f"
            },
            "baxis": {
             "endlinecolor": "#2a3f5f",
             "gridcolor": "white",
             "linecolor": "white",
             "minorgridcolor": "white",
             "startlinecolor": "#2a3f5f"
            },
            "type": "carpet"
           }
          ],
          "choropleth": [
           {
            "colorbar": {
             "outlinewidth": 0,
             "ticks": ""
            },
            "type": "choropleth"
           }
          ],
          "contour": [
           {
            "colorbar": {
             "outlinewidth": 0,
             "ticks": ""
            },
            "colorscale": [
             [
              0,
              "#0d0887"
             ],
             [
              0.1111111111111111,
              "#46039f"
             ],
             [
              0.2222222222222222,
              "#7201a8"
             ],
             [
              0.3333333333333333,
              "#9c179e"
             ],
             [
              0.4444444444444444,
              "#bd3786"
             ],
             [
              0.5555555555555556,
              "#d8576b"
             ],
             [
              0.6666666666666666,
              "#ed7953"
             ],
             [
              0.7777777777777778,
              "#fb9f3a"
             ],
             [
              0.8888888888888888,
              "#fdca26"
             ],
             [
              1,
              "#f0f921"
             ]
            ],
            "type": "contour"
           }
          ],
          "contourcarpet": [
           {
            "colorbar": {
             "outlinewidth": 0,
             "ticks": ""
            },
            "type": "contourcarpet"
           }
          ],
          "heatmap": [
           {
            "colorbar": {
             "outlinewidth": 0,
             "ticks": ""
            },
            "colorscale": [
             [
              0,
              "#0d0887"
             ],
             [
              0.1111111111111111,
              "#46039f"
             ],
             [
              0.2222222222222222,
              "#7201a8"
             ],
             [
              0.3333333333333333,
              "#9c179e"
             ],
             [
              0.4444444444444444,
              "#bd3786"
             ],
             [
              0.5555555555555556,
              "#d8576b"
             ],
             [
              0.6666666666666666,
              "#ed7953"
             ],
             [
              0.7777777777777778,
              "#fb9f3a"
             ],
             [
              0.8888888888888888,
              "#fdca26"
             ],
             [
              1,
              "#f0f921"
             ]
            ],
            "type": "heatmap"
           }
          ],
          "heatmapgl": [
           {
            "colorbar": {
             "outlinewidth": 0,
             "ticks": ""
            },
            "colorscale": [
             [
              0,
              "#0d0887"
             ],
             [
              0.1111111111111111,
              "#46039f"
             ],
             [
              0.2222222222222222,
              "#7201a8"
             ],
             [
              0.3333333333333333,
              "#9c179e"
             ],
             [
              0.4444444444444444,
              "#bd3786"
             ],
             [
              0.5555555555555556,
              "#d8576b"
             ],
             [
              0.6666666666666666,
              "#ed7953"
             ],
             [
              0.7777777777777778,
              "#fb9f3a"
             ],
             [
              0.8888888888888888,
              "#fdca26"
             ],
             [
              1,
              "#f0f921"
             ]
            ],
            "type": "heatmapgl"
           }
          ],
          "histogram": [
           {
            "marker": {
             "pattern": {
              "fillmode": "overlay",
              "size": 10,
              "solidity": 0.2
             }
            },
            "type": "histogram"
           }
          ],
          "histogram2d": [
           {
            "colorbar": {
             "outlinewidth": 0,
             "ticks": ""
            },
            "colorscale": [
             [
              0,
              "#0d0887"
             ],
             [
              0.1111111111111111,
              "#46039f"
             ],
             [
              0.2222222222222222,
              "#7201a8"
             ],
             [
              0.3333333333333333,
              "#9c179e"
             ],
             [
              0.4444444444444444,
              "#bd3786"
             ],
             [
              0.5555555555555556,
              "#d8576b"
             ],
             [
              0.6666666666666666,
              "#ed7953"
             ],
             [
              0.7777777777777778,
              "#fb9f3a"
             ],
             [
              0.8888888888888888,
              "#fdca26"
             ],
             [
              1,
              "#f0f921"
             ]
            ],
            "type": "histogram2d"
           }
          ],
          "histogram2dcontour": [
           {
            "colorbar": {
             "outlinewidth": 0,
             "ticks": ""
            },
            "colorscale": [
             [
              0,
              "#0d0887"
             ],
             [
              0.1111111111111111,
              "#46039f"
             ],
             [
              0.2222222222222222,
              "#7201a8"
             ],
             [
              0.3333333333333333,
              "#9c179e"
             ],
             [
              0.4444444444444444,
              "#bd3786"
             ],
             [
              0.5555555555555556,
              "#d8576b"
             ],
             [
              0.6666666666666666,
              "#ed7953"
             ],
             [
              0.7777777777777778,
              "#fb9f3a"
             ],
             [
              0.8888888888888888,
              "#fdca26"
             ],
             [
              1,
              "#f0f921"
             ]
            ],
            "type": "histogram2dcontour"
           }
          ],
          "mesh3d": [
           {
            "colorbar": {
             "outlinewidth": 0,
             "ticks": ""
            },
            "type": "mesh3d"
           }
          ],
          "parcoords": [
           {
            "line": {
             "colorbar": {
              "outlinewidth": 0,
              "ticks": ""
             }
            },
            "type": "parcoords"
           }
          ],
          "pie": [
           {
            "automargin": true,
            "type": "pie"
           }
          ],
          "scatter": [
           {
            "fillpattern": {
             "fillmode": "overlay",
             "size": 10,
             "solidity": 0.2
            },
            "type": "scatter"
           }
          ],
          "scatter3d": [
           {
            "line": {
             "colorbar": {
              "outlinewidth": 0,
              "ticks": ""
             }
            },
            "marker": {
             "colorbar": {
              "outlinewidth": 0,
              "ticks": ""
             }
            },
            "type": "scatter3d"
           }
          ],
          "scattercarpet": [
           {
            "marker": {
             "colorbar": {
              "outlinewidth": 0,
              "ticks": ""
             }
            },
            "type": "scattercarpet"
           }
          ],
          "scattergeo": [
           {
            "marker": {
             "colorbar": {
              "outlinewidth": 0,
              "ticks": ""
             }
            },
            "type": "scattergeo"
           }
          ],
          "scattergl": [
           {
            "marker": {
             "colorbar": {
              "outlinewidth": 0,
              "ticks": ""
             }
            },
            "type": "scattergl"
           }
          ],
          "scattermapbox": [
           {
            "marker": {
             "colorbar": {
              "outlinewidth": 0,
              "ticks": ""
             }
            },
            "type": "scattermapbox"
           }
          ],
          "scatterpolar": [
           {
            "marker": {
             "colorbar": {
              "outlinewidth": 0,
              "ticks": ""
             }
            },
            "type": "scatterpolar"
           }
          ],
          "scatterpolargl": [
           {
            "marker": {
             "colorbar": {
              "outlinewidth": 0,
              "ticks": ""
             }
            },
            "type": "scatterpolargl"
           }
          ],
          "scatterternary": [
           {
            "marker": {
             "colorbar": {
              "outlinewidth": 0,
              "ticks": ""
             }
            },
            "type": "scatterternary"
           }
          ],
          "surface": [
           {
            "colorbar": {
             "outlinewidth": 0,
             "ticks": ""
            },
            "colorscale": [
             [
              0,
              "#0d0887"
             ],
             [
              0.1111111111111111,
              "#46039f"
             ],
             [
              0.2222222222222222,
              "#7201a8"
             ],
             [
              0.3333333333333333,
              "#9c179e"
             ],
             [
              0.4444444444444444,
              "#bd3786"
             ],
             [
              0.5555555555555556,
              "#d8576b"
             ],
             [
              0.6666666666666666,
              "#ed7953"
             ],
             [
              0.7777777777777778,
              "#fb9f3a"
             ],
             [
              0.8888888888888888,
              "#fdca26"
             ],
             [
              1,
              "#f0f921"
             ]
            ],
            "type": "surface"
           }
          ],
          "table": [
           {
            "cells": {
             "fill": {
              "color": "#EBF0F8"
             },
             "line": {
              "color": "white"
             }
            },
            "header": {
             "fill": {
              "color": "#C8D4E3"
             },
             "line": {
              "color": "white"
             }
            },
            "type": "table"
           }
          ]
         },
         "layout": {
          "annotationdefaults": {
           "arrowcolor": "#2a3f5f",
           "arrowhead": 0,
           "arrowwidth": 1
          },
          "autotypenumbers": "strict",
          "coloraxis": {
           "colorbar": {
            "outlinewidth": 0,
            "ticks": ""
           }
          },
          "colorscale": {
           "diverging": [
            [
             0,
             "#8e0152"
            ],
            [
             0.1,
             "#c51b7d"
            ],
            [
             0.2,
             "#de77ae"
            ],
            [
             0.3,
             "#f1b6da"
            ],
            [
             0.4,
             "#fde0ef"
            ],
            [
             0.5,
             "#f7f7f7"
            ],
            [
             0.6,
             "#e6f5d0"
            ],
            [
             0.7,
             "#b8e186"
            ],
            [
             0.8,
             "#7fbc41"
            ],
            [
             0.9,
             "#4d9221"
            ],
            [
             1,
             "#276419"
            ]
           ],
           "sequential": [
            [
             0,
             "#0d0887"
            ],
            [
             0.1111111111111111,
             "#46039f"
            ],
            [
             0.2222222222222222,
             "#7201a8"
            ],
            [
             0.3333333333333333,
             "#9c179e"
            ],
            [
             0.4444444444444444,
             "#bd3786"
            ],
            [
             0.5555555555555556,
             "#d8576b"
            ],
            [
             0.6666666666666666,
             "#ed7953"
            ],
            [
             0.7777777777777778,
             "#fb9f3a"
            ],
            [
             0.8888888888888888,
             "#fdca26"
            ],
            [
             1,
             "#f0f921"
            ]
           ],
           "sequentialminus": [
            [
             0,
             "#0d0887"
            ],
            [
             0.1111111111111111,
             "#46039f"
            ],
            [
             0.2222222222222222,
             "#7201a8"
            ],
            [
             0.3333333333333333,
             "#9c179e"
            ],
            [
             0.4444444444444444,
             "#bd3786"
            ],
            [
             0.5555555555555556,
             "#d8576b"
            ],
            [
             0.6666666666666666,
             "#ed7953"
            ],
            [
             0.7777777777777778,
             "#fb9f3a"
            ],
            [
             0.8888888888888888,
             "#fdca26"
            ],
            [
             1,
             "#f0f921"
            ]
           ]
          },
          "colorway": [
           "#636efa",
           "#EF553B",
           "#00cc96",
           "#ab63fa",
           "#FFA15A",
           "#19d3f3",
           "#FF6692",
           "#B6E880",
           "#FF97FF",
           "#FECB52"
          ],
          "font": {
           "color": "#2a3f5f"
          },
          "geo": {
           "bgcolor": "white",
           "lakecolor": "white",
           "landcolor": "#E5ECF6",
           "showlakes": true,
           "showland": true,
           "subunitcolor": "white"
          },
          "hoverlabel": {
           "align": "left"
          },
          "hovermode": "closest",
          "mapbox": {
           "style": "light"
          },
          "paper_bgcolor": "white",
          "plot_bgcolor": "#E5ECF6",
          "polar": {
           "angularaxis": {
            "gridcolor": "white",
            "linecolor": "white",
            "ticks": ""
           },
           "bgcolor": "#E5ECF6",
           "radialaxis": {
            "gridcolor": "white",
            "linecolor": "white",
            "ticks": ""
           }
          },
          "scene": {
           "xaxis": {
            "backgroundcolor": "#E5ECF6",
            "gridcolor": "white",
            "gridwidth": 2,
            "linecolor": "white",
            "showbackground": true,
            "ticks": "",
            "zerolinecolor": "white"
           },
           "yaxis": {
            "backgroundcolor": "#E5ECF6",
            "gridcolor": "white",
            "gridwidth": 2,
            "linecolor": "white",
            "showbackground": true,
            "ticks": "",
            "zerolinecolor": "white"
           },
           "zaxis": {
            "backgroundcolor": "#E5ECF6",
            "gridcolor": "white",
            "gridwidth": 2,
            "linecolor": "white",
            "showbackground": true,
            "ticks": "",
            "zerolinecolor": "white"
           }
          },
          "shapedefaults": {
           "line": {
            "color": "#2a3f5f"
           }
          },
          "ternary": {
           "aaxis": {
            "gridcolor": "white",
            "linecolor": "white",
            "ticks": ""
           },
           "baxis": {
            "gridcolor": "white",
            "linecolor": "white",
            "ticks": ""
           },
           "bgcolor": "#E5ECF6",
           "caxis": {
            "gridcolor": "white",
            "linecolor": "white",
            "ticks": ""
           }
          },
          "title": {
           "x": 0.05
          },
          "xaxis": {
           "automargin": true,
           "gridcolor": "white",
           "linecolor": "white",
           "ticks": "",
           "title": {
            "standoff": 15
           },
           "zerolinecolor": "white",
           "zerolinewidth": 2
          },
          "yaxis": {
           "automargin": true,
           "gridcolor": "white",
           "linecolor": "white",
           "ticks": "",
           "title": {
            "standoff": 15
           },
           "zerolinecolor": "white",
           "zerolinewidth": 2
          }
         }
        },
        "width": 800
       }
      },
      "text/html": [
       "<div>                            <div id=\"048ae235-5a04-4ee9-a394-3498b010bf15\" class=\"plotly-graph-div\" style=\"height:200px; width:800px;\"></div>            <script type=\"text/javascript\">                require([\"plotly\"], function(Plotly) {                    window.PLOTLYENV=window.PLOTLYENV || {};                                    if (document.getElementById(\"048ae235-5a04-4ee9-a394-3498b010bf15\")) {                    Plotly.newPlot(                        \"048ae235-5a04-4ee9-a394-3498b010bf15\",                        [{\"legendgroup\":\"text\",\"marker\":{\"color\":\"#00CC96\"},\"name\":\"text\",\"orientation\":\"h\",\"showlegend\":true,\"x\":[0.47751122963373926],\"y\":[\"disbert\"],\"type\":\"bar\"},{\"legendgroup\":\"tab\",\"marker\":{\"color\":\"#AB63FA\"},\"name\":\"tab\",\"orientation\":\"h\",\"showlegend\":true,\"x\":[0.8052477026372081],\"y\":[\"disbert\"],\"type\":\"bar\"},{\"legendgroup\":\"text template\",\"marker\":{\"color\":\"#FFA15A\"},\"name\":\"text template\",\"orientation\":\"h\",\"showlegend\":true,\"x\":[0.05463514545543431],\"y\":[\"disbert\"],\"type\":\"bar\"},{\"legendgroup\":\"tab template\",\"marker\":{\"color\":\"#19D3F3\"},\"name\":\"tab template\",\"orientation\":\"h\",\"showlegend\":true,\"x\":[0.999192874544918],\"y\":[\"disbert\"],\"type\":\"bar\"},{\"legendgroup\":\"text\",\"marker\":{\"color\":\"#00CC96\"},\"name\":\"text\",\"orientation\":\"h\",\"showlegend\":false,\"x\":[0.5553927705159533],\"y\":[\"drob\"],\"type\":\"bar\"},{\"legendgroup\":\"tab\",\"marker\":{\"color\":\"#AB63FA\"},\"name\":\"tab\",\"orientation\":\"h\",\"showlegend\":false,\"x\":[1.030194863966799],\"y\":[\"drob\"],\"type\":\"bar\"},{\"legendgroup\":\"text template\",\"marker\":{\"color\":\"#FFA15A\"},\"name\":\"text template\",\"orientation\":\"h\",\"showlegend\":false,\"x\":[0.09063891726279792],\"y\":[\"drob\"],\"type\":\"bar\"},{\"legendgroup\":\"tab template\",\"marker\":{\"color\":\"#19D3F3\"},\"name\":\"tab template\",\"orientation\":\"h\",\"showlegend\":false,\"x\":[1.6636954047665786],\"y\":[\"drob\"],\"type\":\"bar\"},{\"legendgroup\":\"text\",\"marker\":{\"color\":\"#00CC96\"},\"name\":\"text\",\"orientation\":\"h\",\"showlegend\":false,\"x\":[0.5433150149995927],\"y\":[\"deberta\"],\"type\":\"bar\"},{\"legendgroup\":\"tab\",\"marker\":{\"color\":\"#AB63FA\"},\"name\":\"tab\",\"orientation\":\"h\",\"showlegend\":false,\"x\":[0.754638707209626],\"y\":[\"deberta\"],\"type\":\"bar\"},{\"legendgroup\":\"text template\",\"marker\":{\"color\":\"#FFA15A\"},\"name\":\"text template\",\"orientation\":\"h\",\"showlegend\":false,\"x\":[0.087657735525115],\"y\":[\"deberta\"],\"type\":\"bar\"},{\"legendgroup\":\"tab template\",\"marker\":{\"color\":\"#19D3F3\"},\"name\":\"tab template\",\"orientation\":\"h\",\"showlegend\":false,\"x\":[0.9974448710842022],\"y\":[\"deberta\"],\"type\":\"bar\"},{\"legendgroup\":\"text\",\"marker\":{\"color\":\"#00CC96\"},\"name\":\"text\",\"orientation\":\"h\",\"showlegend\":false,\"x\":[0.4406825851991329],\"y\":[\"bert\"],\"type\":\"bar\"},{\"legendgroup\":\"tab\",\"marker\":{\"color\":\"#AB63FA\"},\"name\":\"tab\",\"orientation\":\"h\",\"showlegend\":false,\"x\":[0.5771442699892617],\"y\":[\"bert\"],\"type\":\"bar\"},{\"legendgroup\":\"text template\",\"marker\":{\"color\":\"#FFA15A\"},\"name\":\"text template\",\"orientation\":\"h\",\"showlegend\":false,\"x\":[0.07519772953387362],\"y\":[\"bert\"],\"type\":\"bar\"},{\"legendgroup\":\"tab template\",\"marker\":{\"color\":\"#19D3F3\"},\"name\":\"tab template\",\"orientation\":\"h\",\"showlegend\":false,\"x\":[1.017154728942917],\"y\":[\"bert\"],\"type\":\"bar\"}],                        {\"template\":{\"data\":{\"histogram2dcontour\":[{\"type\":\"histogram2dcontour\",\"colorbar\":{\"outlinewidth\":0,\"ticks\":\"\"},\"colorscale\":[[0.0,\"#0d0887\"],[0.1111111111111111,\"#46039f\"],[0.2222222222222222,\"#7201a8\"],[0.3333333333333333,\"#9c179e\"],[0.4444444444444444,\"#bd3786\"],[0.5555555555555556,\"#d8576b\"],[0.6666666666666666,\"#ed7953\"],[0.7777777777777778,\"#fb9f3a\"],[0.8888888888888888,\"#fdca26\"],[1.0,\"#f0f921\"]]}],\"choropleth\":[{\"type\":\"choropleth\",\"colorbar\":{\"outlinewidth\":0,\"ticks\":\"\"}}],\"histogram2d\":[{\"type\":\"histogram2d\",\"colorbar\":{\"outlinewidth\":0,\"ticks\":\"\"},\"colorscale\":[[0.0,\"#0d0887\"],[0.1111111111111111,\"#46039f\"],[0.2222222222222222,\"#7201a8\"],[0.3333333333333333,\"#9c179e\"],[0.4444444444444444,\"#bd3786\"],[0.5555555555555556,\"#d8576b\"],[0.6666666666666666,\"#ed7953\"],[0.7777777777777778,\"#fb9f3a\"],[0.8888888888888888,\"#fdca26\"],[1.0,\"#f0f921\"]]}],\"heatmap\":[{\"type\":\"heatmap\",\"colorbar\":{\"outlinewidth\":0,\"ticks\":\"\"},\"colorscale\":[[0.0,\"#0d0887\"],[0.1111111111111111,\"#46039f\"],[0.2222222222222222,\"#7201a8\"],[0.3333333333333333,\"#9c179e\"],[0.4444444444444444,\"#bd3786\"],[0.5555555555555556,\"#d8576b\"],[0.6666666666666666,\"#ed7953\"],[0.7777777777777778,\"#fb9f3a\"],[0.8888888888888888,\"#fdca26\"],[1.0,\"#f0f921\"]]}],\"heatmapgl\":[{\"type\":\"heatmapgl\",\"colorbar\":{\"outlinewidth\":0,\"ticks\":\"\"},\"colorscale\":[[0.0,\"#0d0887\"],[0.1111111111111111,\"#46039f\"],[0.2222222222222222,\"#7201a8\"],[0.3333333333333333,\"#9c179e\"],[0.4444444444444444,\"#bd3786\"],[0.5555555555555556,\"#d8576b\"],[0.6666666666666666,\"#ed7953\"],[0.7777777777777778,\"#fb9f3a\"],[0.8888888888888888,\"#fdca26\"],[1.0,\"#f0f921\"]]}],\"contourcarpet\":[{\"type\":\"contourcarpet\",\"colorbar\":{\"outlinewidth\":0,\"ticks\":\"\"}}],\"contour\":[{\"type\":\"contour\",\"colorbar\":{\"outlinewidth\":0,\"ticks\":\"\"},\"colorscale\":[[0.0,\"#0d0887\"],[0.1111111111111111,\"#46039f\"],[0.2222222222222222,\"#7201a8\"],[0.3333333333333333,\"#9c179e\"],[0.4444444444444444,\"#bd3786\"],[0.5555555555555556,\"#d8576b\"],[0.6666666666666666,\"#ed7953\"],[0.7777777777777778,\"#fb9f3a\"],[0.8888888888888888,\"#fdca26\"],[1.0,\"#f0f921\"]]}],\"surface\":[{\"type\":\"surface\",\"colorbar\":{\"outlinewidth\":0,\"ticks\":\"\"},\"colorscale\":[[0.0,\"#0d0887\"],[0.1111111111111111,\"#46039f\"],[0.2222222222222222,\"#7201a8\"],[0.3333333333333333,\"#9c179e\"],[0.4444444444444444,\"#bd3786\"],[0.5555555555555556,\"#d8576b\"],[0.6666666666666666,\"#ed7953\"],[0.7777777777777778,\"#fb9f3a\"],[0.8888888888888888,\"#fdca26\"],[1.0,\"#f0f921\"]]}],\"mesh3d\":[{\"type\":\"mesh3d\",\"colorbar\":{\"outlinewidth\":0,\"ticks\":\"\"}}],\"scatter\":[{\"fillpattern\":{\"fillmode\":\"overlay\",\"size\":10,\"solidity\":0.2},\"type\":\"scatter\"}],\"parcoords\":[{\"type\":\"parcoords\",\"line\":{\"colorbar\":{\"outlinewidth\":0,\"ticks\":\"\"}}}],\"scatterpolargl\":[{\"type\":\"scatterpolargl\",\"marker\":{\"colorbar\":{\"outlinewidth\":0,\"ticks\":\"\"}}}],\"bar\":[{\"error_x\":{\"color\":\"#2a3f5f\"},\"error_y\":{\"color\":\"#2a3f5f\"},\"marker\":{\"line\":{\"color\":\"#E5ECF6\",\"width\":0.5},\"pattern\":{\"fillmode\":\"overlay\",\"size\":10,\"solidity\":0.2}},\"type\":\"bar\"}],\"scattergeo\":[{\"type\":\"scattergeo\",\"marker\":{\"colorbar\":{\"outlinewidth\":0,\"ticks\":\"\"}}}],\"scatterpolar\":[{\"type\":\"scatterpolar\",\"marker\":{\"colorbar\":{\"outlinewidth\":0,\"ticks\":\"\"}}}],\"histogram\":[{\"marker\":{\"pattern\":{\"fillmode\":\"overlay\",\"size\":10,\"solidity\":0.2}},\"type\":\"histogram\"}],\"scattergl\":[{\"type\":\"scattergl\",\"marker\":{\"colorbar\":{\"outlinewidth\":0,\"ticks\":\"\"}}}],\"scatter3d\":[{\"type\":\"scatter3d\",\"line\":{\"colorbar\":{\"outlinewidth\":0,\"ticks\":\"\"}},\"marker\":{\"colorbar\":{\"outlinewidth\":0,\"ticks\":\"\"}}}],\"scattermapbox\":[{\"type\":\"scattermapbox\",\"marker\":{\"colorbar\":{\"outlinewidth\":0,\"ticks\":\"\"}}}],\"scatterternary\":[{\"type\":\"scatterternary\",\"marker\":{\"colorbar\":{\"outlinewidth\":0,\"ticks\":\"\"}}}],\"scattercarpet\":[{\"type\":\"scattercarpet\",\"marker\":{\"colorbar\":{\"outlinewidth\":0,\"ticks\":\"\"}}}],\"carpet\":[{\"aaxis\":{\"endlinecolor\":\"#2a3f5f\",\"gridcolor\":\"white\",\"linecolor\":\"white\",\"minorgridcolor\":\"white\",\"startlinecolor\":\"#2a3f5f\"},\"baxis\":{\"endlinecolor\":\"#2a3f5f\",\"gridcolor\":\"white\",\"linecolor\":\"white\",\"minorgridcolor\":\"white\",\"startlinecolor\":\"#2a3f5f\"},\"type\":\"carpet\"}],\"table\":[{\"cells\":{\"fill\":{\"color\":\"#EBF0F8\"},\"line\":{\"color\":\"white\"}},\"header\":{\"fill\":{\"color\":\"#C8D4E3\"},\"line\":{\"color\":\"white\"}},\"type\":\"table\"}],\"barpolar\":[{\"marker\":{\"line\":{\"color\":\"#E5ECF6\",\"width\":0.5},\"pattern\":{\"fillmode\":\"overlay\",\"size\":10,\"solidity\":0.2}},\"type\":\"barpolar\"}],\"pie\":[{\"automargin\":true,\"type\":\"pie\"}]},\"layout\":{\"autotypenumbers\":\"strict\",\"colorway\":[\"#636efa\",\"#EF553B\",\"#00cc96\",\"#ab63fa\",\"#FFA15A\",\"#19d3f3\",\"#FF6692\",\"#B6E880\",\"#FF97FF\",\"#FECB52\"],\"font\":{\"color\":\"#2a3f5f\"},\"hovermode\":\"closest\",\"hoverlabel\":{\"align\":\"left\"},\"paper_bgcolor\":\"white\",\"plot_bgcolor\":\"#E5ECF6\",\"polar\":{\"bgcolor\":\"#E5ECF6\",\"angularaxis\":{\"gridcolor\":\"white\",\"linecolor\":\"white\",\"ticks\":\"\"},\"radialaxis\":{\"gridcolor\":\"white\",\"linecolor\":\"white\",\"ticks\":\"\"}},\"ternary\":{\"bgcolor\":\"#E5ECF6\",\"aaxis\":{\"gridcolor\":\"white\",\"linecolor\":\"white\",\"ticks\":\"\"},\"baxis\":{\"gridcolor\":\"white\",\"linecolor\":\"white\",\"ticks\":\"\"},\"caxis\":{\"gridcolor\":\"white\",\"linecolor\":\"white\",\"ticks\":\"\"}},\"coloraxis\":{\"colorbar\":{\"outlinewidth\":0,\"ticks\":\"\"}},\"colorscale\":{\"sequential\":[[0.0,\"#0d0887\"],[0.1111111111111111,\"#46039f\"],[0.2222222222222222,\"#7201a8\"],[0.3333333333333333,\"#9c179e\"],[0.4444444444444444,\"#bd3786\"],[0.5555555555555556,\"#d8576b\"],[0.6666666666666666,\"#ed7953\"],[0.7777777777777778,\"#fb9f3a\"],[0.8888888888888888,\"#fdca26\"],[1.0,\"#f0f921\"]],\"sequentialminus\":[[0.0,\"#0d0887\"],[0.1111111111111111,\"#46039f\"],[0.2222222222222222,\"#7201a8\"],[0.3333333333333333,\"#9c179e\"],[0.4444444444444444,\"#bd3786\"],[0.5555555555555556,\"#d8576b\"],[0.6666666666666666,\"#ed7953\"],[0.7777777777777778,\"#fb9f3a\"],[0.8888888888888888,\"#fdca26\"],[1.0,\"#f0f921\"]],\"diverging\":[[0,\"#8e0152\"],[0.1,\"#c51b7d\"],[0.2,\"#de77ae\"],[0.3,\"#f1b6da\"],[0.4,\"#fde0ef\"],[0.5,\"#f7f7f7\"],[0.6,\"#e6f5d0\"],[0.7,\"#b8e186\"],[0.8,\"#7fbc41\"],[0.9,\"#4d9221\"],[1,\"#276419\"]]},\"xaxis\":{\"gridcolor\":\"white\",\"linecolor\":\"white\",\"ticks\":\"\",\"title\":{\"standoff\":15},\"zerolinecolor\":\"white\",\"automargin\":true,\"zerolinewidth\":2},\"yaxis\":{\"gridcolor\":\"white\",\"linecolor\":\"white\",\"ticks\":\"\",\"title\":{\"standoff\":15},\"zerolinecolor\":\"white\",\"automargin\":true,\"zerolinewidth\":2},\"scene\":{\"xaxis\":{\"backgroundcolor\":\"#E5ECF6\",\"gridcolor\":\"white\",\"linecolor\":\"white\",\"showbackground\":true,\"ticks\":\"\",\"zerolinecolor\":\"white\",\"gridwidth\":2},\"yaxis\":{\"backgroundcolor\":\"#E5ECF6\",\"gridcolor\":\"white\",\"linecolor\":\"white\",\"showbackground\":true,\"ticks\":\"\",\"zerolinecolor\":\"white\",\"gridwidth\":2},\"zaxis\":{\"backgroundcolor\":\"#E5ECF6\",\"gridcolor\":\"white\",\"linecolor\":\"white\",\"showbackground\":true,\"ticks\":\"\",\"zerolinecolor\":\"white\",\"gridwidth\":2}},\"shapedefaults\":{\"line\":{\"color\":\"#2a3f5f\"}},\"annotationdefaults\":{\"arrowcolor\":\"#2a3f5f\",\"arrowhead\":0,\"arrowwidth\":1},\"geo\":{\"bgcolor\":\"white\",\"landcolor\":\"#E5ECF6\",\"subunitcolor\":\"white\",\"showland\":true,\"showlakes\":true,\"lakecolor\":\"white\"},\"title\":{\"x\":0.05},\"mapbox\":{\"style\":\"light\"}}},\"legend\":{\"orientation\":\"h\",\"yanchor\":\"top\",\"y\":1.25,\"xanchor\":\"left\",\"x\":0},\"margin\":{\"l\":0,\"r\":0,\"t\":0,\"b\":0},\"barmode\":\"stack\",\"hovermode\":\"y unified\",\"height\":200,\"width\":800},                        {\"responsive\": true}                    ).then(function(){\n",
       "                            \n",
       "var gd = document.getElementById('048ae235-5a04-4ee9-a394-3498b010bf15');\n",
       "var x = new MutationObserver(function (mutations, observer) {{\n",
       "        var display = window.getComputedStyle(gd).display;\n",
       "        if (!display || display === 'none') {{\n",
       "            console.log([gd, 'removed!']);\n",
       "            Plotly.purge(gd);\n",
       "            observer.disconnect();\n",
       "        }}\n",
       "}});\n",
       "\n",
       "// Listen for the removal of the full notebook cells\n",
       "var notebookContainer = gd.closest('#notebook-container');\n",
       "if (notebookContainer) {{\n",
       "    x.observe(notebookContainer, {childList: true});\n",
       "}}\n",
       "\n",
       "// Listen for the clearing of the current output cell\n",
       "var outputEl = gd.closest('.output');\n",
       "if (outputEl) {{\n",
       "    x.observe(outputEl, {childList: true});\n",
       "}}\n",
       "\n",
       "                        })                };                });            </script>        </div>"
      ]
     },
     "metadata": {},
     "output_type": "display_data"
    }
   ],
   "source": [
    "import kaleido\n",
    "\n",
    "for ds_name in [\n",
    "    \"fake\",\n",
    "    \"jigsaw\",\n",
    "    \"kick\",\n",
    "    \"wine\",\n",
    "    \"imdb_genre\",\n",
    "    \"prod_sent\",\n",
    "    \"salary\",\n",
    "    \"channel\",\n",
    "    \"airbnb\",\n",
    "]:\n",
    "    print(ds_name)\n",
    "    df1 = all_dfs[ds_name]\n",
    "    df1[\"showlegend\"] = df1.groupby(\"col\")[\"config\"].cumcount() == 0\n",
    "    colors = px.colors.qualitative.Plotly[2:]\n",
    "\n",
    "    fig = go.Figure()\n",
    "    fig.update_layout(\n",
    "        barmode=\"stack\",\n",
    "        hovermode=\"y unified\",\n",
    "        height=200,  # Set your desired height\n",
    "        width=800,  # Set your desired width\n",
    "        legend=dict(\n",
    "            orientation=\"h\",  # Set orientation to horizontal\n",
    "            yanchor=\"top\",\n",
    "            y=1.25,\n",
    "            xanchor=\"left\",\n",
    "            x=0,\n",
    "        ),\n",
    "        margin=dict(l=0, r=0, t=0, b=0),\n",
    "    )\n",
    "    for index, row in df1.iterrows():\n",
    "        fig.add_trace(\n",
    "            go.Bar(\n",
    "                y=[row[\"config\"]],\n",
    "                # y=[1],\n",
    "                x=[row[\"val\"]],\n",
    "                # customdata=[row[\"gdpPercap\"]],\n",
    "                # hovertemplate=\"%{x:2f}, GDP per capita: %{customdata:2f}\",\n",
    "                marker=dict(color=colors[int(row[\"col_index\"])]),\n",
    "                name=row[\"col\"],\n",
    "                legendgroup=row[\"col\"],\n",
    "                showlegend=row[\"showlegend\"],\n",
    "                orientation=\"h\",\n",
    "            )\n",
    "        )\n",
    "\n",
    "    fig.update_layout(barmode=\"stack\", hovermode=\"y unified\")\n",
    "    fig.show()\n",
    "\n",
    "    # save to file\n",
    "    fig.write_image(f\"images/template_proportion/{ds_name}.pdf\")"
   ]
  },
  {
   "cell_type": "code",
   "execution_count": 27,
   "metadata": {},
   "outputs": [
    {
     "ename": "TypeError",
     "evalue": "list indices must be integers or slices, not float",
     "output_type": "error",
     "traceback": [
      "\u001b[0;31m---------------------------------------------------------------------------\u001b[0m",
      "\u001b[0;31mTypeError\u001b[0m                                 Traceback (most recent call last)",
      "\u001b[1;32m/home/james/CodingProjects/TextNTabularExplanations/notebooks/template_proportion_charts.ipynb Cell 3\u001b[0m line \u001b[0;36m1\n\u001b[0;32m----> <a href='vscode-notebook-cell://ssh-remote%2Boffice/home/james/CodingProjects/TextNTabularExplanations/notebooks/template_proportion_charts.ipynb#X13sdnNjb2RlLXJlbW90ZQ%3D%3D?line=0'>1</a>\u001b[0m colors[row[\u001b[39m\"\u001b[39;49m\u001b[39mcol_index\u001b[39;49m\u001b[39m\"\u001b[39;49m]]\n",
      "\u001b[0;31mTypeError\u001b[0m: list indices must be integers or slices, not float"
     ]
    }
   ],
   "source": [
    "colors[row[\"col_index\"]]"
   ]
  },
  {
   "cell_type": "code",
   "execution_count": null,
   "metadata": {},
   "outputs": [
    {
     "data": {
      "text/html": [
       "<div>\n",
       "<style scoped>\n",
       "    .dataframe tbody tr th:only-of-type {\n",
       "        vertical-align: middle;\n",
       "    }\n",
       "\n",
       "    .dataframe tbody tr th {\n",
       "        vertical-align: top;\n",
       "    }\n",
       "\n",
       "    .dataframe thead th {\n",
       "        text-align: right;\n",
       "    }\n",
       "</style>\n",
       "<table border=\"1\" class=\"dataframe\">\n",
       "  <thead>\n",
       "    <tr style=\"text-align: right;\">\n",
       "      <th></th>\n",
       "      <th>config</th>\n",
       "      <th>col</th>\n",
       "      <th>val</th>\n",
       "      <th>total</th>\n",
       "      <th>col_index</th>\n",
       "      <th>showlegend</th>\n",
       "    </tr>\n",
       "  </thead>\n",
       "  <tbody>\n",
       "    <tr>\n",
       "      <th>0</th>\n",
       "      <td>disbert</td>\n",
       "      <td>text_fi</td>\n",
       "      <td>0.342546</td>\n",
       "      <td>1</td>\n",
       "      <td>0.0</td>\n",
       "      <td>True</td>\n",
       "    </tr>\n",
       "    <tr>\n",
       "      <th>1</th>\n",
       "      <td>disbert</td>\n",
       "      <td>tab_fi</td>\n",
       "      <td>0.044077</td>\n",
       "      <td>1</td>\n",
       "      <td>1.0</td>\n",
       "      <td>True</td>\n",
       "    </tr>\n",
       "    <tr>\n",
       "      <th>2</th>\n",
       "      <td>disbert</td>\n",
       "      <td>text_tmp_fi</td>\n",
       "      <td>0.028449</td>\n",
       "      <td>1</td>\n",
       "      <td>2.0</td>\n",
       "      <td>True</td>\n",
       "    </tr>\n",
       "    <tr>\n",
       "      <th>3</th>\n",
       "      <td>disbert</td>\n",
       "      <td>tab_tmp_fi</td>\n",
       "      <td>0.076761</td>\n",
       "      <td>1</td>\n",
       "      <td>3.0</td>\n",
       "      <td>True</td>\n",
       "    </tr>\n",
       "    <tr>\n",
       "      <th>4</th>\n",
       "      <td>drob</td>\n",
       "      <td>text_fi</td>\n",
       "      <td>0.480954</td>\n",
       "      <td>1</td>\n",
       "      <td>0.0</td>\n",
       "      <td>False</td>\n",
       "    </tr>\n",
       "    <tr>\n",
       "      <th>5</th>\n",
       "      <td>drob</td>\n",
       "      <td>tab_fi</td>\n",
       "      <td>0.048746</td>\n",
       "      <td>1</td>\n",
       "      <td>1.0</td>\n",
       "      <td>False</td>\n",
       "    </tr>\n",
       "    <tr>\n",
       "      <th>6</th>\n",
       "      <td>drob</td>\n",
       "      <td>text_tmp_fi</td>\n",
       "      <td>0.014054</td>\n",
       "      <td>1</td>\n",
       "      <td>2.0</td>\n",
       "      <td>False</td>\n",
       "    </tr>\n",
       "    <tr>\n",
       "      <th>7</th>\n",
       "      <td>drob</td>\n",
       "      <td>tab_tmp_fi</td>\n",
       "      <td>0.135704</td>\n",
       "      <td>1</td>\n",
       "      <td>3.0</td>\n",
       "      <td>False</td>\n",
       "    </tr>\n",
       "    <tr>\n",
       "      <th>8</th>\n",
       "      <td>deberta</td>\n",
       "      <td>text_fi</td>\n",
       "      <td>0.548073</td>\n",
       "      <td>1</td>\n",
       "      <td>0.0</td>\n",
       "      <td>False</td>\n",
       "    </tr>\n",
       "    <tr>\n",
       "      <th>9</th>\n",
       "      <td>deberta</td>\n",
       "      <td>tab_fi</td>\n",
       "      <td>0.018577</td>\n",
       "      <td>1</td>\n",
       "      <td>1.0</td>\n",
       "      <td>False</td>\n",
       "    </tr>\n",
       "    <tr>\n",
       "      <th>10</th>\n",
       "      <td>deberta</td>\n",
       "      <td>text_tmp_fi</td>\n",
       "      <td>0.011693</td>\n",
       "      <td>1</td>\n",
       "      <td>2.0</td>\n",
       "      <td>False</td>\n",
       "    </tr>\n",
       "    <tr>\n",
       "      <th>11</th>\n",
       "      <td>deberta</td>\n",
       "      <td>tab_tmp_fi</td>\n",
       "      <td>0.042694</td>\n",
       "      <td>1</td>\n",
       "      <td>3.0</td>\n",
       "      <td>False</td>\n",
       "    </tr>\n",
       "    <tr>\n",
       "      <th>12</th>\n",
       "      <td>bert</td>\n",
       "      <td>text_fi</td>\n",
       "      <td>0.368133</td>\n",
       "      <td>1</td>\n",
       "      <td>0.0</td>\n",
       "      <td>False</td>\n",
       "    </tr>\n",
       "    <tr>\n",
       "      <th>13</th>\n",
       "      <td>bert</td>\n",
       "      <td>tab_fi</td>\n",
       "      <td>0.082355</td>\n",
       "      <td>1</td>\n",
       "      <td>1.0</td>\n",
       "      <td>False</td>\n",
       "    </tr>\n",
       "    <tr>\n",
       "      <th>14</th>\n",
       "      <td>bert</td>\n",
       "      <td>text_tmp_fi</td>\n",
       "      <td>0.031627</td>\n",
       "      <td>1</td>\n",
       "      <td>2.0</td>\n",
       "      <td>False</td>\n",
       "    </tr>\n",
       "    <tr>\n",
       "      <th>15</th>\n",
       "      <td>bert</td>\n",
       "      <td>tab_tmp_fi</td>\n",
       "      <td>0.148813</td>\n",
       "      <td>1</td>\n",
       "      <td>3.0</td>\n",
       "      <td>False</td>\n",
       "    </tr>\n",
       "  </tbody>\n",
       "</table>\n",
       "</div>"
      ],
      "text/plain": [
       "     config          col       val total  col_index  showlegend\n",
       "0   disbert      text_fi  0.342546     1        0.0        True\n",
       "1   disbert       tab_fi  0.044077     1        1.0        True\n",
       "2   disbert  text_tmp_fi  0.028449     1        2.0        True\n",
       "3   disbert   tab_tmp_fi  0.076761     1        3.0        True\n",
       "4      drob      text_fi  0.480954     1        0.0       False\n",
       "5      drob       tab_fi  0.048746     1        1.0       False\n",
       "6      drob  text_tmp_fi  0.014054     1        2.0       False\n",
       "7      drob   tab_tmp_fi  0.135704     1        3.0       False\n",
       "8   deberta      text_fi  0.548073     1        0.0       False\n",
       "9   deberta       tab_fi  0.018577     1        1.0       False\n",
       "10  deberta  text_tmp_fi  0.011693     1        2.0       False\n",
       "11  deberta   tab_tmp_fi  0.042694     1        3.0       False\n",
       "12     bert      text_fi  0.368133     1        0.0       False\n",
       "13     bert       tab_fi  0.082355     1        1.0       False\n",
       "14     bert  text_tmp_fi  0.031627     1        2.0       False\n",
       "15     bert   tab_tmp_fi  0.148813     1        3.0       False"
      ]
     },
     "execution_count": 25,
     "metadata": {},
     "output_type": "execute_result"
    }
   ],
   "source": [
    "df1"
   ]
  },
  {
   "cell_type": "markdown",
   "metadata": {},
   "source": [
    "## Proportion charts"
   ]
  },
  {
   "cell_type": "code",
   "execution_count": null,
   "metadata": {},
   "outputs": [],
   "source": [
    "configs = [\n",
    "    \"vet_19d_stack\",\n",
    "    \"vet_59d_stack\",\n",
    "    \"vet_19d_ensemble_25\",\n",
    "    \"vet_59d_ensemble_25\",\n",
    "    \"vet_19d_ensemble_50\",\n",
    "    \"vet_59d_ensemble_50\",\n",
    "    \"vet_19d_ensemble_75\",\n",
    "    \"vet_59d_ensemble_75\",\n",
    "    \"vet_10d_all_text\",\n",
    "    # \"vet_10c_2_all_text\",\n",
    "    \"vet_50d_all_text\",\n",
    "]\n",
    "\n",
    "c2c_dict = {\n",
    "    \"vet_19d_ensemble_25\": \"A: BERT WE w=.25\",\n",
    "    \"vet_59d_ensemble_25\": \"B: PetBERT WE w=.25\",\n",
    "    \"vet_19d_ensemble_50\": \"C: BERT WE w=.50\",\n",
    "    \"vet_59d_ensemble_50\": \"D: PetBERT WE w=.50\",\n",
    "    \"vet_19d_ensemble_75\": \"E: BERT WE w=.75\",\n",
    "    \"vet_59d_ensemble_75\": \"F: PetBERT WE w=.75\",\n",
    "    \"vet_19d_stack\": \"G: BERT Stack\",\n",
    "    \"vet_59d_stack\": \"H: PetBERT Stack\",\n",
    "    \"vet_10d_all_text\": \"I: BERT All Text\",\n",
    "    \"vet_50d_all_text\": \"J: PetBERT All Text\",\n",
    "}\n",
    "\n",
    "\n",
    "val_dict = {}\n",
    "for config in configs:\n",
    "    with open(f\"../models/shap_vals/summed_{config}.pkl\", \"rb\") as f:\n",
    "        grouped_shap_vals = pickle.load(f)\n",
    "    val_dict[config] = (\n",
    "        abs(grouped_shap_vals).sum(axis=0).mean(axis=0)\n",
    "        / abs(grouped_shap_vals).sum(axis=0).mean(axis=0).sum()\n",
    "    )\n",
    "df1 = pd.DataFrame(columns=[\"config\", \"col\", \"val\", \"total\"])\n",
    "for idx, config in enumerate(configs):\n",
    "    vals = val_dict[config]\n",
    "    args = ConfigLoader(\n",
    "        config, \"../configs/shap_configs.yaml\", \"../configs/dataset_default.yaml\"\n",
    "    )\n",
    "    cols = args.categorical_cols + args.numerical_cols + args.text_cols\n",
    "    for i, col in enumerate(cols):\n",
    "        df1 = pd.concat(\n",
    "            [\n",
    "                df1,\n",
    "                pd.DataFrame(\n",
    "                    [\n",
    "                        {\n",
    "                            \"config\": c2c_dict[config],\n",
    "                            \"col\": col,\n",
    "                            \"val\": vals[i],\n",
    "                            \"total\": 1,\n",
    "                        }\n",
    "                    ]\n",
    "                ),\n",
    "            ],\n",
    "            ignore_index=True,\n",
    "        )\n",
    "# rename rows in col\n",
    "# record -> (Text ft) clinical narrative\n",
    "# Dental - > dental\n",
    "# age_at_consult -> age at consult\n",
    "# region -> (Text ft) region\n",
    "# breed -> (Text ft) breed\n",
    "# Neoplasms -> neoplasms\n",
    "# Nerous -> nervous\n",
    "\n",
    "df1.loc[df1[\"col\"] == \"record\", \"col\"] = \"(Text) clin. narr.\"\n",
    "df1.loc[df1[\"col\"] == \"Dental\", \"col\"] = \"dental\"\n",
    "df1.loc[df1[\"col\"] == \"age_at_consult\", \"col\"] = \"age at consult\"\n",
    "df1.loc[df1[\"col\"] == \"region\", \"col\"] = \"(Text) region\"\n",
    "df1.loc[df1[\"col\"] == \"breed\", \"col\"] = \"(Text) breed\"\n",
    "df1.loc[df1[\"col\"] == \"Neoplasms\", \"col\"] = \"neoplasms\"\n",
    "df1.loc[df1[\"col\"] == \"Nervous\", \"col\"] = \"nervous\"\n",
    "\n",
    "# country_index = col_index\n",
    "# year = config\n",
    "# country = col\n",
    "# pop = val\n",
    "# cols_to_use = set(df1[df1[\"val\"] > 0.05]['col'].values)\n",
    "cols_to_use = (\n",
    "    df1.groupby(\"col\")[\"val\"]\n",
    "    .sum()\n",
    "    .reset_index()\n",
    "    .sort_values(\"val\", ascending=False)[\"col\"]\n",
    "    .values[:6]\n",
    ")\n",
    "# if col not in cols_to_use: set col = 'other'\n",
    "df1.loc[~df1[\"col\"].isin(cols_to_use), \"col\"] = \"other\"\n",
    "# cols_to_use.add('other')\n",
    "# cols_to_use = list(cols_to_use)\n",
    "cols_to_use = list(cols_to_use) + [\"other\"]\n",
    "# df1 = df1.sort_values([\"val\"], ignore_index=True, ascending=False)\n",
    "# df1 = df1.sort_values([\"config\"], key=lambda x: x.map(dict(zip(configs, range(len(configs))))), ignore_index=False, ascending=True)\n",
    "# make col index based on cols_to_use\n",
    "df1[\"col_index\"] = df1[\"col\"].apply(lambda x: cols_to_use.index(x))\n",
    "# if col == 'other': set col_index = max(col_index) + 1\n",
    "df1.loc[df1[\"col\"] == \"other\", \"col_index\"] = df1[\"col_index\"].max() + 1\n",
    "# df1 = df1.sort_values([\"config\"], ignore_index=True, ascending=True)\n",
    "# df1 = df1.sort_values([\"col_index\"], ignore_index=True, ascending=True)\n",
    "\n",
    "\n",
    "# custom_order = dict(zip(range(len(cols_to_use)),configs ))\n",
    "# df1 = df1.sort_values(by=[\"col_index\", \"config\"], ignore_index=True, ascending=[True, True], key=lambda x: x.map(custom_order))\n",
    "\n",
    "\n",
    "# # custom_order = dict(zip(configs, range(len(configs)) ))\n",
    "# # df1 = df1.sort_values(by=[\"config\", \"col_index\" ], ignore_index=False, ascending=[True, True], key=lambda x: x.map(custom_order))\n",
    "# # df1 =\n",
    "# # # df1 = df1.sort_values(by=[\"col_index\", \"config\"], ignore_index=True, ascending=[True, True], key=lambda x: x.map(custom_order))\n",
    "\n",
    "df1 = df1.sort_values(\n",
    "    [\"col_index\", \"config\"], ignore_index=True, ascending=[True, False]\n",
    ")\n",
    "#\n",
    "# colors = px.colors.qualitative.Set3[:len(cols)]\n",
    "\n",
    "\n",
    "df1[\"showlegend\"] = df1.groupby(\"col\")[\"config\"].cumcount() == 0\n",
    "# + px.colors.qualitative.Pastel + px.colors.qualitative.Bold + px.colors.qualitative.Light24\n",
    "colors = px.colors.qualitative.Plotly\n",
    "\n",
    "fig = go.Figure()\n",
    "for index, row in df1.iterrows():\n",
    "    fig.add_trace(\n",
    "        go.Bar(\n",
    "            y=[row[\"config\"]],\n",
    "            # y=[1],\n",
    "            x=[row[\"val\"]],\n",
    "            # customdata=[row[\"gdpPercap\"]],\n",
    "            # hovertemplate=\"%{x:2f}, GDP per capita: %{customdata:2f}\",\n",
    "            marker=dict(color=colors[row[\"col_index\"]]),\n",
    "            name=row[\"col\"],\n",
    "            legendgroup=row[\"col\"],\n",
    "            showlegend=row[\"showlegend\"],\n",
    "            orientation=\"h\",\n",
    "        )\n",
    "    )\n",
    "\n",
    "fig.update_layout(barmode=\"stack\", hovermode=\"y unified\")"
   ]
  }
 ],
 "metadata": {
  "kernelspec": {
   "display_name": "env",
   "language": "python",
   "name": "python3"
  },
  "language_info": {
   "codemirror_mode": {
    "name": "ipython",
    "version": 3
   },
   "file_extension": ".py",
   "mimetype": "text/x-python",
   "name": "python",
   "nbconvert_exporter": "python",
   "pygments_lexer": "ipython3",
   "version": "3.10.12"
  }
 },
 "nbformat": 4,
 "nbformat_minor": 2
}
