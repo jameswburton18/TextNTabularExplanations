{
 "cells": [
  {
   "cell_type": "code",
   "execution_count": 1,
   "metadata": {},
   "outputs": [],
   "source": [
    "from src.dataset_info import get_dataset_info, get_dataset_info2\n"
   ]
  },
  {
   "cell_type": "code",
   "execution_count": 9,
   "metadata": {},
   "outputs": [
    {
     "name": "stderr",
     "output_type": "stream",
     "text": [
      "/home/james/CodingProjects/TextNTabularExplanations/src/dataset_info.py:190: UserWarning: No model type specified for fake. (This is fine during dataset creation)\n",
      "  tab_cols=[\"Product_Type\"],\n"
     ]
    },
    {
     "data": {
      "text/plain": [
       "{'ds_name': None,\n",
       " 'tab_cols': ['required_experience', 'required_education'],\n",
       " 'categorical_cols': ['required_experience', 'required_education'],\n",
       " 'text_cols': ['title', 'description', 'salary_range'],\n",
       " 'label_names': ['0', '1'],\n",
       " 'label_col': 'fraudulent',\n",
       " 'num_labels': 2,\n",
       " 'prob_type': 'single_label_classification',\n",
       " 'wandb_proj_name': 'Fake Job Postings',\n",
       " 'tnt_reorder_cols': {'bert': ['description',\n",
       "   'title',\n",
       "   'required_experience',\n",
       "   'required_education',\n",
       "   'salary_range'],\n",
       "  'disbert': ['description',\n",
       "   'title',\n",
       "   'required_education',\n",
       "   'required_experience',\n",
       "   'salary_range'],\n",
       "  'drob': ['description',\n",
       "   'title',\n",
       "   'required_education',\n",
       "   'required_experience',\n",
       "   'salary_range'],\n",
       "  'deberta': ['description',\n",
       "   'title',\n",
       "   'required_education',\n",
       "   'required_experience',\n",
       "   'salary_range']},\n",
       " 'base_reorder_cols': {'bert': ['description',\n",
       "   'title',\n",
       "   'required_education',\n",
       "   'required_experience',\n",
       "   'salary_range'],\n",
       "  'disbert': ['description',\n",
       "   'title',\n",
       "   'required_education',\n",
       "   'required_experience',\n",
       "   'salary_range'],\n",
       "  'drob': ['description',\n",
       "   'title',\n",
       "   'required_experience',\n",
       "   'required_education',\n",
       "   'salary_range'],\n",
       "  'deberta': ['description',\n",
       "   'title',\n",
       "   'required_education',\n",
       "   'salary_range',\n",
       "   'required_experience']},\n",
       " 'text_model_name': None}"
      ]
     },
     "execution_count": 9,
     "metadata": {},
     "output_type": "execute_result"
    }
   ],
   "source": [
    "ds_type = \"fake\"\n",
    "# model_type = 'all_text'\n",
    "\n",
    "di = get_dataset_info(ds_type)\n",
    "di.__dict__"
   ]
  },
  {
   "cell_type": "code",
   "execution_count": 6,
   "metadata": {},
   "outputs": [
    {
     "data": {
      "text/plain": [
       "{'ds_name': 'james-burton/imdb_genre_prediction_all_text',\n",
       " 'tab_cols': ['Year',\n",
       "  'Runtime (Minutes)',\n",
       "  'Rating',\n",
       "  'Votes',\n",
       "  'Revenue (Millions)',\n",
       "  'Metascore',\n",
       "  'Rank'],\n",
       " 'categorical_cols': [],\n",
       " 'text_cols': ['Description'],\n",
       " 'label_names': ['False', 'True'],\n",
       " 'label_col': 'Genre_is_Drama',\n",
       " 'num_labels': 2,\n",
       " 'prob_type': 'single_label_classification',\n",
       " 'wandb_proj_name': 'IMDB Genre',\n",
       " 'tnt_reorder_cols': {'bert': ['Description',\n",
       "   'Rank',\n",
       "   'Votes',\n",
       "   'Revenue (Millions)',\n",
       "   'Metascore',\n",
       "   'Runtime (Minutes)',\n",
       "   'Rating',\n",
       "   'Year'],\n",
       "  'disbert': ['Description',\n",
       "   'Votes',\n",
       "   'Rank',\n",
       "   'Revenue (Millions)',\n",
       "   'Runtime (Minutes)',\n",
       "   'Year',\n",
       "   'Metascore',\n",
       "   'Rating'],\n",
       "  'drob': ['Description',\n",
       "   'Year',\n",
       "   'Rank',\n",
       "   'Revenue (Millions)',\n",
       "   'Votes',\n",
       "   'Metascore',\n",
       "   'Runtime (Minutes)',\n",
       "   'Rating'],\n",
       "  'deberta': ['Description',\n",
       "   'Rank',\n",
       "   'Revenue (Millions)',\n",
       "   'Votes',\n",
       "   'Runtime (Minutes)',\n",
       "   'Metascore',\n",
       "   'Rating',\n",
       "   'Year']},\n",
       " 'base_reorder_cols': {'bert': ['Description',\n",
       "   'Metascore',\n",
       "   'Revenue (Millions)',\n",
       "   'Rank',\n",
       "   'Rating',\n",
       "   'Votes',\n",
       "   'Runtime (Minutes)',\n",
       "   'Year'],\n",
       "  'disbert': ['Description',\n",
       "   'Metascore',\n",
       "   'Rank',\n",
       "   'Rating',\n",
       "   'Revenue (Millions)',\n",
       "   'Votes',\n",
       "   'Year',\n",
       "   'Runtime (Minutes)'],\n",
       "  'drob': ['Description',\n",
       "   'Revenue (Millions)',\n",
       "   'Metascore',\n",
       "   'Votes',\n",
       "   'Year',\n",
       "   'Rank',\n",
       "   'Runtime (Minutes)',\n",
       "   'Rating'],\n",
       "  'deberta': ['Description',\n",
       "   'Rating',\n",
       "   'Metascore',\n",
       "   'Rank',\n",
       "   'Revenue (Millions)',\n",
       "   'Year',\n",
       "   'Votes',\n",
       "   'Runtime (Minutes)']},\n",
       " 'text_model_name': 'james-burton/imdb_genre_0'}"
      ]
     },
     "execution_count": 6,
     "metadata": {},
     "output_type": "execute_result"
    }
   ],
   "source": [
    "from src."
   ]
  },
  {
   "cell_type": "code",
   "execution_count": 7,
   "metadata": {},
   "outputs": [
    {
     "data": {
      "text/plain": [
       "True"
      ]
     },
     "execution_count": 7,
     "metadata": {},
     "output_type": "execute_result"
    }
   ],
   "source": [
    "long_to_short = {\"imdb_genre_prediction\": \"imdb_genre\",\n",
    "                 \"product_sentiment_machine_hack\": \"prod_sent\",\n",
    "                 \"fake_job_postings2\": \"fake\",\n",
    "                 \"kick_starter_funding\": \"kick\",\n",
    "                 \"jigsaw_unintended_bias100K\": \"jigsaw\",\n",
    "                 \"wine_reviews\": \"wine\",\n",
    "                 \"data_scientist_salary\": \"salary\",\n",
    "                 \"melbourne_airbnb\": \"airbnb\",\n",
    "                 \"news_channel\": \"news\"}\n",
    "\n",
    "\"news_channel\" in long_to_short"
   ]
  },
  {
   "cell_type": "code",
   "execution_count": null,
   "metadata": {},
   "outputs": [],
   "source": []
  }
 ],
 "metadata": {
  "kernelspec": {
   "display_name": "env",
   "language": "python",
   "name": "python3"
  },
  "language_info": {
   "codemirror_mode": {
    "name": "ipython",
    "version": 3
   },
   "file_extension": ".py",
   "mimetype": "text/x-python",
   "name": "python",
   "nbconvert_exporter": "python",
   "pygments_lexer": "ipython3",
   "version": "3.10.12"
  }
 },
 "nbformat": 4,
 "nbformat_minor": 2
}
