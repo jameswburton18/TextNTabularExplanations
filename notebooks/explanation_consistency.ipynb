{
 "cells": [
  {
   "cell_type": "code",
   "execution_count": 19,
   "metadata": {},
   "outputs": [],
   "source": [
    "import pickle\n",
    "import numpy as np"
   ]
  },
  {
   "cell_type": "code",
   "execution_count": 20,
   "metadata": {},
   "outputs": [],
   "source": [
    "from sklearn.linear_model import LogisticRegression\n",
    "from sklearn.model_selection import KFold\n",
    "\n",
    "\n",
    "def get_accuracy(padded_sv1_vals, padded_sv2_vals):\n",
    "    AvBx = np.concatenate((padded_sv1_vals, padded_sv2_vals), axis=0)\n",
    "    AvBy = np.concatenate(\n",
    "        (np.ones(len(padded_sv1_vals)), np.zeros(len(padded_sv2_vals))), axis=0\n",
    "    )\n",
    "\n",
    "    # Initialize the logistic regression model\n",
    "    AvB = LogisticRegression()\n",
    "\n",
    "    # Initialize KFold with 10 splits\n",
    "    kf = KFold(n_splits=10, shuffle=True, random_state=1)\n",
    "\n",
    "    # Lists to store accuracy scores for each fold\n",
    "    accuracy_scores = []\n",
    "\n",
    "    # Perform 10-fold cross-validation\n",
    "    for train_index, test_index in kf.split(AvBx):\n",
    "        X_train, X_test = AvBx[train_index], AvBx[test_index]\n",
    "        y_train, y_test = AvBy[train_index], AvBy[test_index]\n",
    "\n",
    "        # Fit the model on the training data\n",
    "        AvB.fit(X_train, y_train)\n",
    "\n",
    "        # Calculate accuracy on the test data\n",
    "        accuracy = AvB.score(X_test, y_test)\n",
    "        accuracy_scores.append(accuracy)\n",
    "\n",
    "    # Calculate the average accuracy across all folds\n",
    "    average_accuracy = np.mean(accuracy_scores)\n",
    "\n",
    "    print(\"Average accuracy:\", average_accuracy)\n",
    "\n",
    "    return average_accuracy\n",
    "\n",
    "\n",
    "def get_exp_consistency(accs):\n",
    "    return 1 - np.sum([2 * abs(acc - 0.5) for acc in accs]) / len(accs)\n"
   ]
  },
  {
   "cell_type": "markdown",
   "metadata": {},
   "source": [
    "## Load corrected"
   ]
  },
  {
   "cell_type": "code",
   "execution_count": 21,
   "metadata": {},
   "outputs": [],
   "source": [
    "sv1 = pickle.load(\n",
    "    open(\n",
    "        \"/home/james/CodingProjects/TextNTabularExplanations/models/shap_vals_drob_sf1_1/kick/shap_vals_all_text.pkl\",\n",
    "        \"rb\",\n",
    "    )\n",
    ")\n",
    "sv2 = pickle.load(\n",
    "    open(\n",
    "        \"/home/james/CodingProjects/TextNTabularExplanations/models/shap_vals_drob_sf1_2/kick/shap_vals_all_text.pkl\",\n",
    "        \"rb\",\n",
    "    )\n",
    ")\n",
    "sv3 = pickle.load(\n",
    "    open(\n",
    "        \"/home/james/CodingProjects/TextNTabularExplanations/models/shap_vals_drob_sf1_3/kick/shap_vals_all_text.pkl\",\n",
    "        \"rb\",\n",
    "    )\n",
    ")\n",
    "sv4 = pickle.load(\n",
    "    open(\n",
    "        \"/home/james/CodingProjects/TextNTabularExplanations/models/shap_vals_drob_sf1_4/kick/shap_vals_all_text.pkl\",\n",
    "        \"rb\",\n",
    "    )\n",
    ")\n"
   ]
  },
  {
   "cell_type": "code",
   "execution_count": 24,
   "metadata": {},
   "outputs": [
    {
     "name": "stdout",
     "output_type": "stream",
     "text": [
      "582\n"
     ]
    }
   ],
   "source": [
    "max_len = 0\n",
    "for i in range(len(sv1.values)):\n",
    "    if len(sv1.values[i]) > max_len:\n",
    "        max_len = len(sv1.values[i])\n",
    "print(max_len)\n",
    "\n",
    "# pad sv1.values with 0s to max_len so new shape is (max_len, 2)\n",
    "sv1_vals = [v[:, 1] for v in list(sv1.values)]\n",
    "padded_sv1_vals = []\n",
    "for i in range(len(sv1_vals)):\n",
    "    if len(sv1_vals[i]) < max_len:\n",
    "        padded_sv1_vals.append(\n",
    "            np.pad(sv1_vals[i], (0, max_len - len(sv1_vals[i])), \"constant\")\n",
    "        )\n",
    "    else:\n",
    "        padded_sv1_vals.append(sv1_vals[i])\n",
    "padded_sv1_vals = np.stack(padded_sv1_vals)\n",
    "\n",
    "sv2_vals = [v[:, 1] for v in list(sv2.values)]\n",
    "padded_sv2_vals = []\n",
    "for i in range(len(sv2_vals)):\n",
    "    if len(sv2_vals[i]) < max_len:\n",
    "        padded_sv2_vals.append(\n",
    "            np.pad(sv2_vals[i], (0, max_len - len(sv2_vals[i])), \"constant\")\n",
    "        )\n",
    "    else:\n",
    "        padded_sv2_vals.append(sv2_vals[i])\n",
    "padded_sv2_vals = np.stack(padded_sv2_vals)\n",
    "\n",
    "sv3_vals = [v[:, 1] for v in list(sv3.values)]\n",
    "padded_sv3_vals = []\n",
    "for i in range(len(sv3_vals)):\n",
    "    if len(sv3_vals[i]) < max_len:\n",
    "        padded_sv3_vals.append(\n",
    "            np.pad(sv3_vals[i], (0, max_len - len(sv3_vals[i])), \"constant\")\n",
    "        )\n",
    "    else:\n",
    "        padded_sv3_vals.append(sv3_vals[i])\n",
    "padded_sv3_vals = np.stack(padded_sv3_vals)\n",
    "\n",
    "sv4_vals = [v[:, 1] for v in list(sv4.values)]\n",
    "padded_sv4_vals = []\n",
    "for i in range(len(sv4_vals)):\n",
    "    if len(sv4_vals[i]) < max_len:\n",
    "        padded_sv4_vals.append(\n",
    "            np.pad(sv4_vals[i], (0, max_len - len(sv4_vals[i])), \"constant\")\n",
    "        )\n",
    "    else:\n",
    "        padded_sv4_vals.append(sv4_vals[i])\n",
    "padded_sv4_vals = np.stack(padded_sv4_vals)\n"
   ]
  },
  {
   "cell_type": "code",
   "execution_count": 25,
   "metadata": {},
   "outputs": [
    {
     "name": "stdout",
     "output_type": "stream",
     "text": [
      "Average accuracy: 0.5565\n",
      "Average accuracy: 0.5239999999999999\n",
      "Average accuracy: 0.5915\n",
      "Average accuracy: 0.5539999999999999\n",
      "Average accuracy: 0.635\n",
      "Average accuracy: 0.5795\n",
      "0.8531666666666667\n"
     ]
    }
   ],
   "source": [
    "pairs = [\n",
    "    (padded_sv1_vals, padded_sv2_vals),\n",
    "    (padded_sv1_vals, padded_sv3_vals),\n",
    "    (padded_sv1_vals, padded_sv4_vals),\n",
    "    (padded_sv2_vals, padded_sv3_vals),\n",
    "    (padded_sv2_vals, padded_sv4_vals),\n",
    "    (padded_sv3_vals, padded_sv4_vals),\n",
    "]\n",
    "accs = [get_accuracy(p[0], p[1]) for p in pairs]\n",
    "print(get_exp_consistency(accs))\n"
   ]
  },
  {
   "cell_type": "markdown",
   "metadata": {},
   "source": [
    "## Load baseline"
   ]
  },
  {
   "cell_type": "code",
   "execution_count": 26,
   "metadata": {},
   "outputs": [],
   "source": [
    "sv1_baseline = pickle.load(\n",
    "    open(\n",
    "        \"/home/james/CodingProjects/TextNTabularExplanations/models/shap_vals_drob_sf1_1/kick/shap_vals_all_text_baseline.pkl\",\n",
    "        \"rb\",\n",
    "    )\n",
    ")\n",
    "sv2_baseline = pickle.load(\n",
    "    open(\n",
    "        \"/home/james/CodingProjects/TextNTabularExplanations/models/shap_vals_drob_sf1_2/kick/shap_vals_all_text_baseline.pkl\",\n",
    "        \"rb\",\n",
    "    )\n",
    ")\n",
    "sv3_baseline = pickle.load(\n",
    "    open(\n",
    "        \"/home/james/CodingProjects/TextNTabularExplanations/models/shap_vals_drob_sf1_3/kick/shap_vals_all_text_baseline.pkl\",\n",
    "        \"rb\",\n",
    "    )\n",
    ")\n",
    "sv4_baseline = pickle.load(\n",
    "    open(\n",
    "        \"/home/james/CodingProjects/TextNTabularExplanations/models/shap_vals_drob_sf1_4/kick/shap_vals_all_text_baseline.pkl\",\n",
    "        \"rb\",\n",
    "    )\n",
    ")\n"
   ]
  },
  {
   "cell_type": "code",
   "execution_count": 29,
   "metadata": {},
   "outputs": [],
   "source": [
    "lens = [\n",
    "    (len(sv1_baseline.values[i]), len(sv1.values[i])) for i in range(len(sv1_baseline))\n",
    "]\n",
    "print(max([i[1] for i in lens]))\n",
    "print(max([i[0] for i in lens]))\n"
   ]
  },
  {
   "cell_type": "code",
   "execution_count": 32,
   "metadata": {},
   "outputs": [
    {
     "name": "stdout",
     "output_type": "stream",
     "text": [
      "621\n"
     ]
    }
   ],
   "source": [
    "max_len = 0\n",
    "for i in range(len(sv1_baseline.values)):\n",
    "    if len(sv1_baseline.values[i]) > max_len:\n",
    "        max_len = len(sv1_baseline.values[i])\n",
    "print(max_len)\n",
    "\n",
    "# pad sv1_baseline.values with 0s to max_len so new shape is (max_len, 2)\n",
    "sv1_baseline_vals = [v[:, 1] for v in list(sv1_baseline.values)]\n",
    "padded_sv1_baseline_vals = []\n",
    "for i in range(len(sv1_baseline_vals)):\n",
    "    if len(sv1_baseline_vals[i]) < max_len:\n",
    "        padded_sv1_baseline_vals.append(\n",
    "            np.pad(\n",
    "                sv1_baseline_vals[i],\n",
    "                (0, max_len - len(sv1_baseline_vals[i])),\n",
    "                \"constant\",\n",
    "            )\n",
    "        )\n",
    "    else:\n",
    "        padded_sv1_baseline_vals.append(sv1_baseline_vals[i])\n",
    "padded_sv1_baseline_vals = np.stack(padded_sv1_baseline_vals)\n",
    "\n",
    "sv2_baseline_vals = [v[:, 1] for v in list(sv2_baseline.values)]\n",
    "padded_sv2_baseline_vals = []\n",
    "for i in range(len(sv2_baseline_vals)):\n",
    "    if len(sv2_baseline_vals[i]) < max_len:\n",
    "        padded_sv2_baseline_vals.append(\n",
    "            np.pad(\n",
    "                sv2_baseline_vals[i],\n",
    "                (0, max_len - len(sv2_baseline_vals[i])),\n",
    "                \"constant\",\n",
    "            )\n",
    "        )\n",
    "    else:\n",
    "        padded_sv2_baseline_vals.append(sv2_baseline_vals[i])\n",
    "padded_sv2_baseline_vals = np.stack(padded_sv2_baseline_vals)\n",
    "\n",
    "sv3_baseline_vals = [v[:, 1] for v in list(sv3_baseline.values)]\n",
    "padded_sv3_baseline_vals = []\n",
    "for i in range(len(sv3_baseline_vals)):\n",
    "    if len(sv3_baseline_vals[i]) < max_len:\n",
    "        padded_sv3_baseline_vals.append(\n",
    "            np.pad(\n",
    "                sv3_baseline_vals[i],\n",
    "                (0, max_len - len(sv3_baseline_vals[i])),\n",
    "                \"constant\",\n",
    "            )\n",
    "        )\n",
    "    else:\n",
    "        padded_sv3_baseline_vals.append(sv3_baseline_vals[i])\n",
    "padded_sv3_baseline_vals = np.stack(padded_sv3_baseline_vals)\n",
    "\n",
    "sv4_baseline_vals = [v[:, 1] for v in list(sv4_baseline.values)]\n",
    "padded_sv4_baseline_vals = []\n",
    "for i in range(len(sv4_baseline_vals)):\n",
    "    if len(sv4_baseline_vals[i]) < max_len:\n",
    "        padded_sv4_baseline_vals.append(\n",
    "            np.pad(\n",
    "                sv4_baseline_vals[i],\n",
    "                (0, max_len - len(sv4_baseline_vals[i])),\n",
    "                \"constant\",\n",
    "            )\n",
    "        )\n",
    "    else:\n",
    "        padded_sv4_baseline_vals.append(sv4_baseline_vals[i])\n",
    "padded_sv4_baseline_vals = np.stack(padded_sv4_baseline_vals)\n"
   ]
  },
  {
   "cell_type": "code",
   "execution_count": null,
   "metadata": {},
   "outputs": [],
   "source": []
  },
  {
   "cell_type": "code",
   "execution_count": 34,
   "metadata": {},
   "outputs": [
    {
     "name": "stdout",
     "output_type": "stream",
     "text": [
      "Average accuracy: 0.5685\n",
      "Average accuracy: 0.6795\n",
      "Average accuracy: 0.7150000000000001\n",
      "Average accuracy: 0.665\n",
      "Average accuracy: 0.6885\n",
      "Average accuracy: 0.6475\n",
      "0.6786666666666666\n"
     ]
    }
   ],
   "source": [
    "pairs = [\n",
    "    (padded_sv1_baseline_vals, padded_sv2_baseline_vals),\n",
    "    (padded_sv1_baseline_vals, padded_sv3_baseline_vals),\n",
    "    (padded_sv1_baseline_vals, padded_sv4_baseline_vals),\n",
    "    (padded_sv2_baseline_vals, padded_sv3_baseline_vals),\n",
    "    (padded_sv2_baseline_vals, padded_sv4_baseline_vals),\n",
    "    (padded_sv3_baseline_vals, padded_sv4_baseline_vals),\n",
    "]\n",
    "accs = [get_accuracy(p[0], p[1]) for p in pairs]\n",
    "print(get_exp_consistency(accs))\n"
   ]
  },
  {
   "cell_type": "markdown",
   "metadata": {},
   "source": []
  }
 ],
 "metadata": {
  "kernelspec": {
   "display_name": "env",
   "language": "python",
   "name": "python3"
  },
  "language_info": {
   "codemirror_mode": {
    "name": "ipython",
    "version": 3
   },
   "file_extension": ".py",
   "mimetype": "text/x-python",
   "name": "python",
   "nbconvert_exporter": "python",
   "pygments_lexer": "ipython3",
   "version": "3.10.6"
  },
  "orig_nbformat": 4
 },
 "nbformat": 4,
 "nbformat_minor": 2
}
