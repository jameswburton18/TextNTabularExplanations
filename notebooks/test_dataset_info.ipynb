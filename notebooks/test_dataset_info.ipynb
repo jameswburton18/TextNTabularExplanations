{
 "cells": [
  {
   "cell_type": "code",
   "execution_count": 1,
   "metadata": {},
   "outputs": [],
   "source": [
    "from src.dataset_info import get_dataset_info, get_dataset_info2"
   ]
  },
  {
   "cell_type": "code",
   "execution_count": 2,
   "metadata": {},
   "outputs": [
    {
     "name": "stderr",
     "output_type": "stream",
     "text": [
      "/home/james/CodingProjects/TextNTabularExplanations/src/dataset_info.py:256: UserWarning: No model type specified for fake. (This is fine during dataset creation)\n",
      "  warn(\n"
     ]
    },
    {
     "data": {
      "text/plain": [
       "{'ds_name': None,\n",
       " 'tab_cols': ['required_experience', 'required_education'],\n",
       " 'categorical_cols': ['required_experience', 'required_education'],\n",
       " 'text_cols': ['title', 'description', 'salary_range'],\n",
       " 'label_names': ['0', '1'],\n",
       " 'label_col': 'fraudulent',\n",
       " 'num_labels': 2,\n",
       " 'prob_type': 'single_label_classification',\n",
       " 'wandb_proj_name': 'Fake Job Postings',\n",
       " 'tnt_reorder_cols': {'bert': ['description',\n",
       "   'title',\n",
       "   'required_experience',\n",
       "   'required_education',\n",
       "   'salary_range'],\n",
       "  'disbert': ['description',\n",
       "   'title',\n",
       "   'required_education',\n",
       "   'required_experience',\n",
       "   'salary_range'],\n",
       "  'drob': ['description',\n",
       "   'title',\n",
       "   'required_education',\n",
       "   'required_experience',\n",
       "   'salary_range'],\n",
       "  'deberta': ['description',\n",
       "   'title',\n",
       "   'required_education',\n",
       "   'required_experience',\n",
       "   'salary_range']},\n",
       " 'base_reorder_cols': {'bert': ['description',\n",
       "   'title',\n",
       "   'required_education',\n",
       "   'required_experience',\n",
       "   'salary_range'],\n",
       "  'disbert': ['description',\n",
       "   'title',\n",
       "   'required_education',\n",
       "   'required_experience',\n",
       "   'salary_range'],\n",
       "  'drob': ['description',\n",
       "   'title',\n",
       "   'required_experience',\n",
       "   'required_education',\n",
       "   'salary_range'],\n",
       "  'deberta': ['description',\n",
       "   'title',\n",
       "   'required_education',\n",
       "   'salary_range',\n",
       "   'required_experience']},\n",
       " 'text_model_name': None}"
      ]
     },
     "execution_count": 2,
     "metadata": {},
     "output_type": "execute_result"
    }
   ],
   "source": [
    "ds_type = \"fake\"\n",
    "# model_type = 'all_text'\n",
    "\n",
    "di = get_dataset_info(ds_type)\n",
    "di.__dict__\n"
   ]
  },
  {
   "cell_type": "code",
   "execution_count": 3,
   "metadata": {},
   "outputs": [
    {
     "ename": "FileNotFoundError",
     "evalue": "[Errno 2] No such file or directory: 'configs/dataset_defaults.yaml'",
     "output_type": "error",
     "traceback": [
      "\u001b[0;31m---------------------------------------------------------------------------\u001b[0m",
      "\u001b[0;31mFileNotFoundError\u001b[0m                         Traceback (most recent call last)",
      "\u001b[1;32m/home/james/CodingProjects/TextNTabularExplanations/notebooks/test_dataset_info.ipynb Cell 3\u001b[0m line \u001b[0;36m1\n\u001b[0;32m----> <a href='vscode-notebook-cell://ssh-remote%2Boffice/home/james/CodingProjects/TextNTabularExplanations/notebooks/test_dataset_info.ipynb#W2sdnNjb2RlLXJlbW90ZQ%3D%3D?line=0'>1</a>\u001b[0m di2 \u001b[39m=\u001b[39m get_dataset_info2(ds_type)\n",
      "File \u001b[0;32m~/CodingProjects/TextNTabularExplanations/src/dataset_info.py:82\u001b[0m, in \u001b[0;36mget_dataset_info2\u001b[0;34m(ds_type, model_type)\u001b[0m\n\u001b[1;32m     79\u001b[0m     cfg_sfx \u001b[39m=\u001b[39m \u001b[39m\"\u001b[39m\u001b[39m_ordinal\u001b[39m\u001b[39m\"\u001b[39m\n\u001b[1;32m     81\u001b[0m ds_type \u001b[39m=\u001b[39m l2s[ds_type] \u001b[39mif\u001b[39;00m ds_type \u001b[39min\u001b[39;00m l2s \u001b[39melse\u001b[39;00m ds_type\n\u001b[0;32m---> 82\u001b[0m dataset_info \u001b[39m=\u001b[39m DatasetConfigLoader(\n\u001b[1;32m     83\u001b[0m     config_name\u001b[39m=\u001b[39;49mds_type \u001b[39m+\u001b[39;49m cfg_sfx,\n\u001b[1;32m     84\u001b[0m     configs_path\u001b[39m=\u001b[39;49m\u001b[39m\"\u001b[39;49m\u001b[39mconfigs/dataset_configs.yaml\u001b[39;49m\u001b[39m\"\u001b[39;49m,\n\u001b[1;32m     85\u001b[0m     default_name\u001b[39m=\u001b[39;49mds_type,\n\u001b[1;32m     86\u001b[0m     defaults_path\u001b[39m=\u001b[39;49m\u001b[39m\"\u001b[39;49m\u001b[39mconfigs/dataset_defaults.yaml\u001b[39;49m\u001b[39m\"\u001b[39;49m,\n\u001b[1;32m     87\u001b[0m )\n",
      "File \u001b[0;32m~/CodingProjects/TextNTabularExplanations/src/dataset_info.py:35\u001b[0m, in \u001b[0;36mDatasetConfigLoader.__init__\u001b[0;34m(self, config_name, configs_path, default_name, defaults_path)\u001b[0m\n\u001b[1;32m     28\u001b[0m \u001b[39mdef\u001b[39;00m \u001b[39m__init__\u001b[39m(\n\u001b[1;32m     29\u001b[0m     \u001b[39mself\u001b[39m,\n\u001b[1;32m     30\u001b[0m     config_name,\n\u001b[0;32m   (...)\u001b[0m\n\u001b[1;32m     33\u001b[0m     defaults_path,\n\u001b[1;32m     34\u001b[0m ):\n\u001b[0;32m---> 35\u001b[0m     \u001b[39mwith\u001b[39;00m \u001b[39mopen\u001b[39;49m(defaults_path) \u001b[39mas\u001b[39;00m f:\n\u001b[1;32m     36\u001b[0m         all_default_args \u001b[39m=\u001b[39m yaml\u001b[39m.\u001b[39msafe_load_all(f)\n\u001b[1;32m     37\u001b[0m         \u001b[39mtry\u001b[39;00m:\n",
      "\u001b[0;31mFileNotFoundError\u001b[0m: [Errno 2] No such file or directory: 'configs/dataset_defaults.yaml'"
     ]
    }
   ],
   "source": [
    "di2 = get_dataset_info2(ds_type)\n"
   ]
  },
  {
   "cell_type": "code",
   "execution_count": null,
   "metadata": {},
   "outputs": [
    {
     "data": {
      "text/plain": [
       "True"
      ]
     },
     "execution_count": 7,
     "metadata": {},
     "output_type": "execute_result"
    }
   ],
   "source": [
    "long_to_short = {\n",
    "    \"imdb_genre_prediction\": \"imdb_genre\",\n",
    "    \"product_sentiment_machine_hack\": \"prod_sent\",\n",
    "    \"fake_job_postings2\": \"fake\",\n",
    "    \"kick_starter_funding\": \"kick\",\n",
    "    \"jigsaw_unintended_bias100K\": \"jigsaw\",\n",
    "    \"wine_reviews\": \"wine\",\n",
    "    \"data_scientist_salary\": \"salary\",\n",
    "    \"melbourne_airbnb\": \"airbnb\",\n",
    "    \"news_channel\": \"news\",\n",
    "}\n",
    "\n",
    "\"news_channel\" in long_to_short"
   ]
  },
  {
   "cell_type": "code",
   "execution_count": null,
   "metadata": {},
   "outputs": [],
   "source": []
  }
 ],
 "metadata": {
  "kernelspec": {
   "display_name": "env",
   "language": "python",
   "name": "python3"
  },
  "language_info": {
   "codemirror_mode": {
    "name": "ipython",
    "version": 3
   },
   "file_extension": ".py",
   "mimetype": "text/x-python",
   "name": "python",
   "nbconvert_exporter": "python",
   "pygments_lexer": "ipython3",
   "version": "3.10.12"
  }
 },
 "nbformat": 4,
 "nbformat_minor": 2
}
