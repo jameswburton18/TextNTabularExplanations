{
 "cells": [
  {
   "cell_type": "code",
   "execution_count": 1,
   "metadata": {},
   "outputs": [],
   "source": [
    "import pickle\n",
    "import numpy as np"
   ]
  },
  {
   "cell_type": "code",
   "execution_count": 2,
   "metadata": {},
   "outputs": [],
   "source": [
    "from sklearn.linear_model import LogisticRegression\n",
    "from sklearn.model_selection import KFold\n",
    "\n",
    "\n",
    "def get_accuracy(padded_sv1_vals, padded_sv2_vals):\n",
    "    AvBx = np.concatenate((padded_sv1_vals, padded_sv2_vals), axis=0)\n",
    "    AvBy = np.concatenate(\n",
    "        (np.ones(len(padded_sv1_vals)), np.zeros(len(padded_sv2_vals))), axis=0\n",
    "    )\n",
    "\n",
    "    # Initialize the logistic regression model\n",
    "    AvB = LogisticRegression()\n",
    "\n",
    "    # Initialize KFold with 10 splits\n",
    "    kf = KFold(n_splits=10, shuffle=True, random_state=1)\n",
    "\n",
    "    # Lists to store accuracy scores for each fold\n",
    "    accuracy_scores = []\n",
    "\n",
    "    # Perform 10-fold cross-validation\n",
    "    for train_index, test_index in kf.split(AvBx):\n",
    "        X_train, X_test = AvBx[train_index], AvBx[test_index]\n",
    "        y_train, y_test = AvBy[train_index], AvBy[test_index]\n",
    "\n",
    "        # Fit the model on the training data\n",
    "        AvB.fit(X_train, y_train)\n",
    "\n",
    "        # Calculate accuracy on the test data\n",
    "        accuracy = AvB.score(X_test, y_test)\n",
    "        accuracy_scores.append(accuracy)\n",
    "\n",
    "    # Calculate the average accuracy across all folds\n",
    "    average_accuracy = np.mean(accuracy_scores)\n",
    "\n",
    "    print(\"Average accuracy:\", average_accuracy)\n",
    "\n",
    "    return average_accuracy\n",
    "\n",
    "\n",
    "def get_exp_consistency(accs):\n",
    "    return 1 - np.sum([2 * abs(acc - 0.5) for acc in accs]) / len(accs)\n"
   ]
  },
  {
   "cell_type": "markdown",
   "metadata": {},
   "source": [
    "## Load corrected"
   ]
  },
  {
   "cell_type": "code",
   "execution_count": 3,
   "metadata": {},
   "outputs": [
    {
     "name": "stderr",
     "output_type": "stream",
     "text": [
      "/home/james/CodingProjects/TextNTabularExplanations/env/lib/python3.10/site-packages/tqdm/auto.py:22: TqdmWarning: IProgress not found. Please update jupyter and ipywidgets. See https://ipywidgets.readthedocs.io/en/stable/user_install.html\n",
      "  from .autonotebook import tqdm as notebook_tqdm\n"
     ]
    }
   ],
   "source": [
    "sv1 = pickle.load(\n",
    "    open(\n",
    "        \"/home/james/CodingProjects/TextNTabularExplanations/models/shap_vals_drob_sf1_1/kick/shap_vals_all_text.pkl\",\n",
    "        \"rb\",\n",
    "    )\n",
    ")\n",
    "sv2 = pickle.load(\n",
    "    open(\n",
    "        \"/home/james/CodingProjects/TextNTabularExplanations/models/shap_vals_drob_sf1_2/kick/shap_vals_all_text.pkl\",\n",
    "        \"rb\",\n",
    "    )\n",
    ")\n",
    "sv3 = pickle.load(\n",
    "    open(\n",
    "        \"/home/james/CodingProjects/TextNTabularExplanations/models/shap_vals_drob_sf1_3/kick/shap_vals_all_text.pkl\",\n",
    "        \"rb\",\n",
    "    )\n",
    ")\n",
    "sv4 = pickle.load(\n",
    "    open(\n",
    "        \"/home/james/CodingProjects/TextNTabularExplanations/models/shap_vals_drob_sf1_4/kick/shap_vals_all_text.pkl\",\n",
    "        \"rb\",\n",
    "    )\n",
    ")\n"
   ]
  },
  {
   "cell_type": "code",
   "execution_count": 4,
   "metadata": {},
   "outputs": [
    {
     "name": "stdout",
     "output_type": "stream",
     "text": [
      "582\n"
     ]
    }
   ],
   "source": [
    "max_len = 0\n",
    "for i in range(len(sv1.values)):\n",
    "    if len(sv1.values[i]) > max_len:\n",
    "        max_len = len(sv1.values[i])\n",
    "print(max_len)\n",
    "\n",
    "# pad sv1.values with 0s to max_len so new shape is (max_len, 2)\n",
    "sv1_vals = [v[:, 1] for v in list(sv1.values)]\n",
    "padded_sv1_vals = []\n",
    "for i in range(len(sv1_vals)):\n",
    "    if len(sv1_vals[i]) < max_len:\n",
    "        padded_sv1_vals.append(\n",
    "            np.pad(sv1_vals[i], (0, max_len - len(sv1_vals[i])), \"constant\")\n",
    "        )\n",
    "    else:\n",
    "        padded_sv1_vals.append(sv1_vals[i])\n",
    "padded_sv1_vals = np.stack(padded_sv1_vals)\n",
    "\n",
    "sv2_vals = [v[:, 1] for v in list(sv2.values)]\n",
    "padded_sv2_vals = []\n",
    "for i in range(len(sv2_vals)):\n",
    "    if len(sv2_vals[i]) < max_len:\n",
    "        padded_sv2_vals.append(\n",
    "            np.pad(sv2_vals[i], (0, max_len - len(sv2_vals[i])), \"constant\")\n",
    "        )\n",
    "    else:\n",
    "        padded_sv2_vals.append(sv2_vals[i])\n",
    "padded_sv2_vals = np.stack(padded_sv2_vals)\n",
    "\n",
    "sv3_vals = [v[:, 1] for v in list(sv3.values)]\n",
    "padded_sv3_vals = []\n",
    "for i in range(len(sv3_vals)):\n",
    "    if len(sv3_vals[i]) < max_len:\n",
    "        padded_sv3_vals.append(\n",
    "            np.pad(sv3_vals[i], (0, max_len - len(sv3_vals[i])), \"constant\")\n",
    "        )\n",
    "    else:\n",
    "        padded_sv3_vals.append(sv3_vals[i])\n",
    "padded_sv3_vals = np.stack(padded_sv3_vals)\n",
    "\n",
    "sv4_vals = [v[:, 1] for v in list(sv4.values)]\n",
    "padded_sv4_vals = []\n",
    "for i in range(len(sv4_vals)):\n",
    "    if len(sv4_vals[i]) < max_len:\n",
    "        padded_sv4_vals.append(\n",
    "            np.pad(sv4_vals[i], (0, max_len - len(sv4_vals[i])), \"constant\")\n",
    "        )\n",
    "    else:\n",
    "        padded_sv4_vals.append(sv4_vals[i])\n",
    "padded_sv4_vals = np.stack(padded_sv4_vals)\n"
   ]
  },
  {
   "cell_type": "code",
   "execution_count": 5,
   "metadata": {},
   "outputs": [
    {
     "name": "stdout",
     "output_type": "stream",
     "text": [
      "Average accuracy: 0.5565\n",
      "Average accuracy: 0.5239999999999999\n",
      "Average accuracy: 0.5915\n",
      "Average accuracy: 0.5539999999999999\n",
      "Average accuracy: 0.635\n",
      "Average accuracy: 0.5795\n",
      "0.8531666666666667\n"
     ]
    }
   ],
   "source": [
    "pairs = [\n",
    "    (padded_sv1_vals, padded_sv2_vals),\n",
    "    (padded_sv1_vals, padded_sv3_vals),\n",
    "    (padded_sv1_vals, padded_sv4_vals),\n",
    "    (padded_sv2_vals, padded_sv3_vals),\n",
    "    (padded_sv2_vals, padded_sv4_vals),\n",
    "    (padded_sv3_vals, padded_sv4_vals),\n",
    "]\n",
    "accs = [get_accuracy(p[0], p[1]) for p in pairs]\n",
    "print(get_exp_consistency(accs))\n"
   ]
  },
  {
   "cell_type": "markdown",
   "metadata": {},
   "source": [
    "## Load baseline"
   ]
  },
  {
   "cell_type": "code",
   "execution_count": 6,
   "metadata": {},
   "outputs": [],
   "source": [
    "sv1_baseline = pickle.load(\n",
    "    open(\n",
    "        \"/home/james/CodingProjects/TextNTabularExplanations/models/shap_vals_drob_sf1_1/kick/shap_vals_all_text_baseline.pkl\",\n",
    "        \"rb\",\n",
    "    )\n",
    ")\n",
    "sv2_baseline = pickle.load(\n",
    "    open(\n",
    "        \"/home/james/CodingProjects/TextNTabularExplanations/models/shap_vals_drob_sf1_2/kick/shap_vals_all_text_baseline.pkl\",\n",
    "        \"rb\",\n",
    "    )\n",
    ")\n",
    "sv3_baseline = pickle.load(\n",
    "    open(\n",
    "        \"/home/james/CodingProjects/TextNTabularExplanations/models/shap_vals_drob_sf1_3/kick/shap_vals_all_text_baseline.pkl\",\n",
    "        \"rb\",\n",
    "    )\n",
    ")\n",
    "sv4_baseline = pickle.load(\n",
    "    open(\n",
    "        \"/home/james/CodingProjects/TextNTabularExplanations/models/shap_vals_drob_sf1_4/kick/shap_vals_all_text_baseline.pkl\",\n",
    "        \"rb\",\n",
    "    )\n",
    ")\n"
   ]
  },
  {
   "cell_type": "code",
   "execution_count": 7,
   "metadata": {},
   "outputs": [
    {
     "name": "stdout",
     "output_type": "stream",
     "text": [
      "582\n",
      "621\n"
     ]
    }
   ],
   "source": [
    "lens = [\n",
    "    (len(sv1_baseline.values[i]), len(sv1.values[i])) for i in range(len(sv1_baseline))\n",
    "]\n",
    "print(max([i[1] for i in lens]))\n",
    "print(max([i[0] for i in lens]))\n"
   ]
  },
  {
   "cell_type": "code",
   "execution_count": 8,
   "metadata": {},
   "outputs": [
    {
     "name": "stdout",
     "output_type": "stream",
     "text": [
      "621\n"
     ]
    }
   ],
   "source": [
    "max_len = 0\n",
    "for i in range(len(sv1_baseline.values)):\n",
    "    if len(sv1_baseline.values[i]) > max_len:\n",
    "        max_len = len(sv1_baseline.values[i])\n",
    "print(max_len)\n",
    "\n",
    "# pad sv1_baseline.values with 0s to max_len so new shape is (max_len, 2)\n",
    "sv1_baseline_vals = [v[:, 1] for v in list(sv1_baseline.values)]\n",
    "padded_sv1_baseline_vals = []\n",
    "for i in range(len(sv1_baseline_vals)):\n",
    "    if len(sv1_baseline_vals[i]) < max_len:\n",
    "        padded_sv1_baseline_vals.append(\n",
    "            np.pad(\n",
    "                sv1_baseline_vals[i],\n",
    "                (0, max_len - len(sv1_baseline_vals[i])),\n",
    "                \"constant\",\n",
    "            )\n",
    "        )\n",
    "    else:\n",
    "        padded_sv1_baseline_vals.append(sv1_baseline_vals[i])\n",
    "padded_sv1_baseline_vals = np.stack(padded_sv1_baseline_vals)\n",
    "\n",
    "sv2_baseline_vals = [v[:, 1] for v in list(sv2_baseline.values)]\n",
    "padded_sv2_baseline_vals = []\n",
    "for i in range(len(sv2_baseline_vals)):\n",
    "    if len(sv2_baseline_vals[i]) < max_len:\n",
    "        padded_sv2_baseline_vals.append(\n",
    "            np.pad(\n",
    "                sv2_baseline_vals[i],\n",
    "                (0, max_len - len(sv2_baseline_vals[i])),\n",
    "                \"constant\",\n",
    "            )\n",
    "        )\n",
    "    else:\n",
    "        padded_sv2_baseline_vals.append(sv2_baseline_vals[i])\n",
    "padded_sv2_baseline_vals = np.stack(padded_sv2_baseline_vals)\n",
    "\n",
    "sv3_baseline_vals = [v[:, 1] for v in list(sv3_baseline.values)]\n",
    "padded_sv3_baseline_vals = []\n",
    "for i in range(len(sv3_baseline_vals)):\n",
    "    if len(sv3_baseline_vals[i]) < max_len:\n",
    "        padded_sv3_baseline_vals.append(\n",
    "            np.pad(\n",
    "                sv3_baseline_vals[i],\n",
    "                (0, max_len - len(sv3_baseline_vals[i])),\n",
    "                \"constant\",\n",
    "            )\n",
    "        )\n",
    "    else:\n",
    "        padded_sv3_baseline_vals.append(sv3_baseline_vals[i])\n",
    "padded_sv3_baseline_vals = np.stack(padded_sv3_baseline_vals)\n",
    "\n",
    "sv4_baseline_vals = [v[:, 1] for v in list(sv4_baseline.values)]\n",
    "padded_sv4_baseline_vals = []\n",
    "for i in range(len(sv4_baseline_vals)):\n",
    "    if len(sv4_baseline_vals[i]) < max_len:\n",
    "        padded_sv4_baseline_vals.append(\n",
    "            np.pad(\n",
    "                sv4_baseline_vals[i],\n",
    "                (0, max_len - len(sv4_baseline_vals[i])),\n",
    "                \"constant\",\n",
    "            )\n",
    "        )\n",
    "    else:\n",
    "        padded_sv4_baseline_vals.append(sv4_baseline_vals[i])\n",
    "padded_sv4_baseline_vals = np.stack(padded_sv4_baseline_vals)\n"
   ]
  },
  {
   "cell_type": "code",
   "execution_count": null,
   "metadata": {},
   "outputs": [],
   "source": []
  },
  {
   "cell_type": "code",
   "execution_count": 9,
   "metadata": {},
   "outputs": [
    {
     "name": "stdout",
     "output_type": "stream",
     "text": [
      "Average accuracy: 0.5685\n",
      "Average accuracy: 0.6795\n",
      "Average accuracy: 0.7150000000000001\n",
      "Average accuracy: 0.665\n",
      "Average accuracy: 0.6885\n",
      "Average accuracy: 0.6475\n",
      "0.6786666666666666\n"
     ]
    }
   ],
   "source": [
    "pairs = [\n",
    "    (padded_sv1_baseline_vals, padded_sv2_baseline_vals),\n",
    "    (padded_sv1_baseline_vals, padded_sv3_baseline_vals),\n",
    "    (padded_sv1_baseline_vals, padded_sv4_baseline_vals),\n",
    "    (padded_sv2_baseline_vals, padded_sv3_baseline_vals),\n",
    "    (padded_sv2_baseline_vals, padded_sv4_baseline_vals),\n",
    "    (padded_sv3_baseline_vals, padded_sv4_baseline_vals),\n",
    "]\n",
    "accs = [get_accuracy(p[0], p[1]) for p in pairs]\n",
    "print(get_exp_consistency(accs))\n"
   ]
  },
  {
   "cell_type": "markdown",
   "metadata": {},
   "source": [
    "## JSD"
   ]
  },
  {
   "cell_type": "code",
   "execution_count": 13,
   "metadata": {},
   "outputs": [
    {
     "data": {
      "text/plain": [
       "array([-570.67409531, -570.67488677, -570.67500148, -570.68242455,\n",
       "       -570.66857496, -570.67313158, -570.66970704, -570.67385718,\n",
       "       -570.67148537, -570.66782244, -570.67022827, -570.66818754,\n",
       "       -570.66860249, -570.67105623, -570.66973864, -570.67217233,\n",
       "       -570.6685751 , -570.67097368, -570.67052677, -570.67266202,\n",
       "       -570.67922602, -570.67430548, -570.66870807, -570.66812483,\n",
       "       -570.66929705, -570.6680218 , -570.67249949, -570.67387722,\n",
       "       -570.67088295, -570.67078594, -570.67532798, -570.67228728,\n",
       "       -570.68240685, -570.67425036, -570.67746368, -570.67240479,\n",
       "       -570.66793594, -570.67034567, -570.67253048, -570.6690912 ,\n",
       "       -570.66875698, -570.67560836, -570.68805166, -570.66918913,\n",
       "       -570.68016214, -570.66902537, -570.67214275, -570.66790234,\n",
       "       -570.6709033 , -570.6685027 , -570.67547151, -570.67297759,\n",
       "       -570.67676457, -570.67492385, -570.67766011, -570.66908472,\n",
       "       -570.66786092, -570.67109143, -570.669322  , -570.67096047,\n",
       "       -570.67190462, -570.67073908, -570.67038866, -570.67545506,\n",
       "       -570.67247482, -570.67174148, -570.67007594, -570.66965465,\n",
       "       -570.67023975, -570.67294353, -570.66885366, -570.67588833,\n",
       "       -570.67263059, -570.67311962, -570.67524897, -570.67518488,\n",
       "       -570.66914613, -570.67127332, -570.67337095, -570.66838529,\n",
       "       -570.66844013, -570.67940847, -570.67064094, -570.66794304,\n",
       "       -570.66910237, -570.66837051, -570.67781325, -570.67382446,\n",
       "       -570.67170572, -570.67014704, -570.67034107, -570.67089799,\n",
       "       -570.67370598, -570.67518857, -570.66823925, -570.69401931,\n",
       "       -570.67345221, -570.66914945, -570.66789718, -570.67033284,\n",
       "       -570.67402788, -570.6720707 , -570.66913677, -570.66984435,\n",
       "       -570.67174025, -570.67017092, -570.67135972, -570.66961305,\n",
       "       -570.67725162, -570.67401022, -570.66962063, -570.67266304,\n",
       "       -570.66887958, -570.66859511, -570.67239436, -570.67353985,\n",
       "       -570.67020678, -570.6770328 , -570.66897745, -570.68310002,\n",
       "       -570.67764876, -570.68009214, -570.67056405, -570.67000245,\n",
       "       -570.6686034 , -570.6736881 , -570.66850409, -570.67581313,\n",
       "       -570.67062148, -570.67063449, -570.67435663, -570.66943775,\n",
       "       -570.67336239, -570.67193812, -570.66997357, -570.71755737,\n",
       "       -570.66961125, -570.66932423, -570.67148371, -570.67898919,\n",
       "       -570.66797935, -570.67846202, -570.66838921, -570.66923533,\n",
       "       -570.67151169, -570.67350989, -570.66900384, -570.67006428,\n",
       "       -570.66948412, -570.67175879, -570.66835821, -570.67168131,\n",
       "       -570.6702754 , -570.73767783, -570.66837428, -570.67184867,\n",
       "       -570.67737348, -570.6801727 , -570.66783292, -570.67777291,\n",
       "       -570.67096946, -570.66881734, -570.66817715, -570.67958608,\n",
       "       -570.66912411, -570.68790947, -570.66859264, -570.6681294 ,\n",
       "       -570.67097804, -570.66816746, -570.67031192, -570.67333011,\n",
       "       -570.66876813, -570.67009385, -570.67076024, -570.67082006,\n",
       "       -570.67336451, -570.66792159, -570.67057634, -570.6685595 ,\n",
       "       -570.67358547, -570.69534479, -570.66998272, -570.67555599,\n",
       "       -570.67422666, -570.67082267, -570.67004188, -570.66987218,\n",
       "       -570.67081523, -570.6721162 , -570.67112284, -570.67056204,\n",
       "       -570.66915093, -570.66935956, -570.66935977, -570.66770493,\n",
       "       -570.67099081, -570.67050878, -570.66901042, -570.672845  ,\n",
       "       -570.68053316, -570.682507  , -570.67521469, -570.66926216,\n",
       "       -570.67170251, -570.66798801, -570.66892362, -570.66825915,\n",
       "       -570.67843729, -570.67304753, -570.67642625, -570.66812095,\n",
       "       -570.67811587, -570.67103504, -570.67337147, -570.67030503,\n",
       "       -570.67595527, -570.66913936, -570.66938328, -570.66802333,\n",
       "       -570.66837544, -570.66817364, -570.67182975, -570.66944424,\n",
       "       -570.67090484, -570.67181655, -570.67202292, -570.67011391,\n",
       "       -570.66864597, -570.67366565, -570.67253968, -570.67562055,\n",
       "       -570.66960594, -570.66802258, -570.67455152, -570.67038401,\n",
       "       -570.66914253, -570.66903109, -570.66774709, -570.66890793,\n",
       "       -570.67135795, -570.67368624, -570.67196248, -570.67314802,\n",
       "       -570.66869522, -570.68299672, -570.67199285, -570.67654856,\n",
       "       -570.67738461, -570.67780919, -570.67001386, -570.67135792,\n",
       "       -570.67414998, -570.66863952, -570.66875241, -570.67514636,\n",
       "       -570.66875331, -570.66925954, -570.67232198, -570.67260726,\n",
       "       -570.67429435, -570.67205826, -570.67338894, -570.69515727,\n",
       "       -570.66789809, -570.6808312 , -570.67104307, -570.67306394,\n",
       "       -570.667742  , -570.67545525, -570.66823104, -570.66781976,\n",
       "       -570.66993332, -570.67320084, -570.67382605, -570.6728332 ,\n",
       "       -570.67030239, -570.6729982 , -570.66883224, -570.68240528,\n",
       "       -570.67727895, -570.66886147, -570.6688731 , -570.66985646,\n",
       "       -570.6776263 , -570.6689537 , -570.66894056, -570.6737678 ,\n",
       "       -570.68009311, -570.66798459, -570.6704654 , -570.67005877,\n",
       "       -570.66773021, -570.67295913, -570.67292524, -570.67694707,\n",
       "       -570.66923801, -570.6688285 , -570.66798452, -570.6850107 ,\n",
       "       -570.67614392, -570.66796369, -570.66815879, -570.66971018,\n",
       "       -570.67251564, -570.67452662, -570.67283417, -570.66786006,\n",
       "       -570.67306764, -570.67341694, -570.72765671, -570.67196494,\n",
       "       -570.66763581, -570.6705702 , -570.6685121 , -570.66891472,\n",
       "       -570.67162999, -570.6766558 , -570.67867291, -570.68884545,\n",
       "       -570.67649524, -570.67139146, -570.67374081, -570.73760123,\n",
       "       -570.67015345, -570.67154945, -570.67358122, -570.67310293,\n",
       "       -570.67372817, -570.66860306, -570.67133673, -570.6703518 ,\n",
       "       -570.68768409, -570.67076231, -570.67160131, -570.66903573,\n",
       "       -570.66852244, -570.6697944 , -570.67137323, -570.66982209,\n",
       "       -570.66915236, -570.6749823 , -570.67092883, -570.6737317 ,\n",
       "       -570.66800812, -570.6781061 , -570.67026417, -570.67082217,\n",
       "       -570.67381276, -570.66879801, -570.66903378, -570.6805822 ,\n",
       "       -570.66838045, -570.67180483, -570.66775924, -570.6709686 ,\n",
       "       -570.67295295, -570.66767218, -570.67615502, -570.67796899,\n",
       "       -570.6682595 , -570.66853151, -570.67885225, -570.67190421,\n",
       "       -570.67157176, -570.67249073, -570.67080944, -570.66841784,\n",
       "       -570.67163232, -570.66853435, -570.67223856, -570.67607211,\n",
       "       -570.67035054, -570.6851012 , -570.67901806, -570.67160796,\n",
       "       -570.6756336 , -570.67449647, -570.6697292 , -570.67478824,\n",
       "       -570.67094069, -570.67253433, -570.6686551 , -570.67595321,\n",
       "       -570.66782605, -570.67296654, -570.66906673, -570.68387775,\n",
       "       -570.67526136, -570.66801412, -570.67021805, -570.66798176,\n",
       "       -570.67129615, -570.67266634, -570.68739165, -570.676959  ,\n",
       "       -570.66882203, -570.67012166, -570.6885997 , -570.67646919,\n",
       "       -570.66847176, -570.67739147, -570.66828444, -570.67137878,\n",
       "       -570.67583847, -570.6710594 , -570.68166637, -570.6762784 ,\n",
       "       -570.669586  , -570.69122638, -570.66891031, -570.66912456,\n",
       "       -570.6767224 , -570.66887043, -570.67235761, -570.66797288,\n",
       "       -570.66789747, -570.66823609, -570.66823819, -570.66957326,\n",
       "       -570.6704016 , -570.672165  , -570.67128742, -570.67032667,\n",
       "       -570.67983376, -570.67398547, -570.67012839, -570.67771673,\n",
       "       -570.67162651, -570.69357527, -570.66810061, -570.6700473 ,\n",
       "       -570.66972297, -570.66898208, -570.67638533, -570.67040358,\n",
       "       -570.66881846, -570.67946427, -570.67134627, -570.66848245,\n",
       "       -570.67669551, -570.67270066, -570.67115365, -570.67516834,\n",
       "       -570.67016866, -570.66791808, -570.67387233, -570.67041136,\n",
       "       -570.66966367, -570.66998768, -570.66861835, -570.68125806,\n",
       "       -570.67250225, -570.66889744, -570.6733791 , -570.67236584,\n",
       "       -570.67474434, -570.66795605, -570.67070369, -570.67611741,\n",
       "       -570.66972903, -570.67247979, -570.66974818, -570.67353319,\n",
       "       -570.6699225 , -570.66990945, -570.67245982, -570.67527202,\n",
       "       -570.6688308 , -570.66815395, -570.67301724, -570.67164528,\n",
       "       -570.67191534, -570.67622024, -570.67614442, -570.69590612,\n",
       "       -570.67836844, -570.67507365, -570.6721992 , -570.6728878 ,\n",
       "       -570.66797698, -570.6708019 , -570.67037639, -570.66874549,\n",
       "       -570.67074858, -570.66937077, -570.67301462, -570.66800621,\n",
       "       -570.67505807, -570.66775972, -570.67163214, -570.66786282,\n",
       "       -570.66873354, -570.66819139, -570.6682967 , -570.67705617,\n",
       "       -570.7094957 , -570.67318497, -570.66863851, -570.66838082,\n",
       "       -570.66789398, -570.67150865, -570.67732248, -570.66960431,\n",
       "       -570.66954687, -570.6694192 , -570.6744543 , -570.68291526,\n",
       "       -570.67051658, -570.67146305, -570.67036077, -570.67129448,\n",
       "       -570.67931001, -570.67845668, -570.67774807, -570.66978518,\n",
       "       -570.66877096, -570.67205192, -570.66832104, -570.67577616,\n",
       "       -570.67385546, -570.67805668, -570.66912479, -570.67159078,\n",
       "       -570.6766818 , -570.66925307, -570.67585935, -570.67130544,\n",
       "       -570.66938706, -570.67270619, -570.67539769, -570.67037818,\n",
       "       -570.67179449, -570.68405756, -570.66963055, -570.66913063,\n",
       "       -570.67365222, -570.68138317, -570.66914563, -570.67105995,\n",
       "       -570.67008199, -570.67014085, -570.66953467, -570.67199403,\n",
       "       -570.67533691, -570.66986929, -570.67622182, -570.6700675 ,\n",
       "       -570.67209066, -570.67020377, -570.68186594, -570.67641982,\n",
       "       -570.67251459, -570.6734627 , -570.67306332, -570.66923001,\n",
       "       -570.68078405, -570.67051024, -570.66830591, -570.68269339,\n",
       "       -570.67165412, -570.6750404 , -570.66773008, -570.66958104,\n",
       "       -570.67061382, -570.66859258, -570.67525302, -570.67572045,\n",
       "       -570.66906118, -570.67452875, -570.66952891, -570.68753957,\n",
       "       -570.67116331, -570.67001653, -570.67817809, -570.66846738,\n",
       "       -570.67326612, -570.67417638, -570.6687085 , -570.67846641,\n",
       "       -570.67098306, -570.67531614, -570.68270482, -570.67175492,\n",
       "       -570.67232121, -570.67312458, -570.66877095, -570.66930936,\n",
       "       -570.66986388, -570.6700224 , -570.6739398 , -570.66949841,\n",
       "       -570.66951296, -570.67414495, -570.68729776, -570.67802543,\n",
       "       -570.67642536, -570.67368513, -570.67003254, -570.67073918,\n",
       "       -570.66975845, -570.66738887, -570.66878052, -570.67128802,\n",
       "       -570.66817429, -570.66993746, -570.69809208, -570.67181299,\n",
       "       -570.67516559, -570.66840758, -570.67505303, -570.66824886,\n",
       "       -570.67114782, -570.66960332, -570.67138874, -570.67013388,\n",
       "       -570.66817263, -570.66851136, -570.67604888, -570.66776057,\n",
       "       -570.67064005, -570.66847497, -570.66838178, -570.68274725,\n",
       "       -570.66866287, -570.67221757, -570.67265236, -570.66856461,\n",
       "       -570.67608803, -570.68262688, -570.67128454, -570.67189962,\n",
       "       -570.66784098, -570.66791431, -570.67620608, -570.66816274,\n",
       "       -570.66886649, -570.671781  , -570.67247894, -570.6687021 ,\n",
       "       -570.66782217, -570.66878993, -570.66841975, -570.66876666,\n",
       "       -570.67068404, -570.66792109, -570.68631471, -570.66797351,\n",
       "       -570.67017438, -570.66992008, -570.66943309, -570.66977831,\n",
       "       -570.66939323, -570.67491518, -570.6702651 , -570.67208081,\n",
       "       -570.69075111, -570.67441827, -570.67768761, -570.67004541,\n",
       "       -570.67620251, -570.67701011, -570.67132633, -570.66881511,\n",
       "       -570.67075786, -570.66972102, -570.66942296, -570.66806747,\n",
       "       -570.66930372, -570.66977444, -570.66794691, -570.67605903,\n",
       "       -570.6695825 , -570.67602079, -570.67197618, -570.67493035,\n",
       "       -570.67138191, -570.67199465, -570.67465122, -570.67036692,\n",
       "       -570.66862675, -570.66856019, -570.6697843 , -570.67416642,\n",
       "       -570.66775436, -570.67041463, -570.66996489, -570.6679866 ,\n",
       "       -570.66964514, -570.67135385, -570.67169726, -570.68682153,\n",
       "       -570.67005228, -570.66864588, -570.67200849, -570.66758119,\n",
       "       -570.68097207, -570.67391807, -570.67184076, -570.67056832,\n",
       "       -570.67189939, -570.66808312, -570.6747397 , -570.66982939,\n",
       "       -570.67366059, -570.66801945, -570.6714929 , -570.67481797,\n",
       "       -570.67367818, -570.67469929, -570.6689336 , -570.66852571,\n",
       "       -570.66854273, -570.6714535 , -570.67813834, -570.67014462,\n",
       "       -570.66884869, -570.66943446, -570.67194193, -570.67351529,\n",
       "       -570.66996055, -570.71744979, -570.66934588, -570.66830929,\n",
       "       -570.67074768, -570.67232848, -570.71633717, -570.66946776,\n",
       "       -570.67118492, -570.67439903, -570.6735809 , -570.67185709,\n",
       "       -570.66802814, -570.6677707 , -570.67070446, -570.6685476 ,\n",
       "       -570.67479764, -570.67210783, -570.66841894, -570.6704412 ,\n",
       "       -570.67071099, -570.66780682, -570.66885274, -570.66939034,\n",
       "       -570.68140889, -570.69345382, -570.67795435, -570.67104012,\n",
       "       -570.67418372, -570.6684033 , -570.67305241, -570.66831077,\n",
       "       -570.66818663, -570.67073072, -570.66899301, -570.67122471,\n",
       "       -570.67226613, -570.66887347, -570.66887617, -570.66810383,\n",
       "       -570.67621587, -570.67015514, -570.66930105, -570.67030676,\n",
       "       -570.67617893, -570.66894889, -570.6707499 , -570.67343172,\n",
       "       -570.66913756, -570.6715582 , -570.66861662, -570.66954049,\n",
       "       -570.66884787, -570.67344839, -570.67182995, -570.67018496,\n",
       "       -570.67094025, -570.66866036, -570.67525074, -570.67092437,\n",
       "       -570.67307422, -570.67173598, -570.66952645, -570.67056783,\n",
       "       -570.6714201 , -570.68220507, -570.67105174, -570.66902898,\n",
       "       -570.67475062, -570.67288267, -570.68379807, -570.66946672,\n",
       "       -570.66776556, -570.66820302, -570.67554869, -570.67588725,\n",
       "       -570.67233111, -570.71078331, -570.67108419, -570.670146  ,\n",
       "       -570.66832384, -570.67955872, -570.66905125, -570.68223554,\n",
       "       -570.6716764 , -570.68387579, -570.66898656, -570.6703451 ,\n",
       "       -570.66857147, -570.75658639, -570.67174416, -570.71003533,\n",
       "       -570.67563194, -570.66911447, -570.66836876, -570.67016708,\n",
       "       -570.67591149, -570.67258533, -570.66860191, -570.67313689,\n",
       "       -570.67230472, -570.66782862, -570.67524574, -570.67122872,\n",
       "       -570.66848334, -570.66935514, -570.67481375, -570.66828248,\n",
       "       -570.67181497, -570.67426139, -570.66961297, -570.67091058,\n",
       "       -570.67441757, -570.68941758, -570.67956468, -570.67470916,\n",
       "       -570.67006616, -570.6695308 , -570.66938031, -570.66917177,\n",
       "       -570.66784585, -570.67621044, -570.66877413, -570.66907393,\n",
       "       -570.66830216, -570.68402465, -570.66807312, -570.67186979,\n",
       "       -570.67212356, -570.6781274 , -570.67019189, -570.67065739,\n",
       "       -570.68001421, -570.66876186, -570.67340934, -570.67351745,\n",
       "       -570.67550727, -570.6681393 , -570.67448248, -570.6764558 ,\n",
       "       -570.67227257, -570.66930352, -570.67384961, -570.67603611,\n",
       "       -570.67273425, -570.67085991, -570.66772133, -570.67549234,\n",
       "       -570.67473531, -570.66731232, -570.67475202, -570.66918015,\n",
       "       -570.6709526 , -570.67401743, -570.67604549, -570.67177219,\n",
       "       -570.67755135, -570.66969045, -570.66927683, -570.67049371,\n",
       "       -570.66977398, -570.66806388, -570.67323452, -570.67263254,\n",
       "       -570.67428502, -570.66819535, -570.67380311, -570.66929103,\n",
       "       -570.67031131, -570.66986463, -570.67187023, -570.66839916,\n",
       "       -570.66759155, -570.66961738, -570.67786522, -570.67952199,\n",
       "       -570.67800713, -570.6694907 , -570.66780076, -570.69304975,\n",
       "       -570.67396785, -570.66964853, -570.70194758, -570.67107026,\n",
       "       -570.6690155 , -570.66979092, -570.68165809, -570.66876518,\n",
       "       -570.66992765, -570.67613886, -570.67346431, -570.67411741,\n",
       "       -570.67215096, -570.67233515, -570.66940341, -570.6692272 ,\n",
       "       -570.69340908, -570.67651271, -570.66944621, -570.66801907,\n",
       "       -570.67225193, -570.68005755, -570.66855088, -570.67109903,\n",
       "       -570.6786384 , -570.67023611, -570.67831266, -570.66805724,\n",
       "       -570.67341387, -570.6737344 , -570.66800801, -570.67062196,\n",
       "       -570.67282049, -570.6681766 , -570.67263589, -570.67237704,\n",
       "       -570.67510917, -570.66883095, -570.67073282, -570.6768602 ,\n",
       "       -570.67132389, -570.68079928, -570.67190481, -570.67471092,\n",
       "       -570.67278205, -570.67366499, -570.66938691, -570.66932052,\n",
       "       -570.66862375, -570.66987781, -570.67325585, -570.67070101,\n",
       "       -570.67532063, -570.67325369, -570.67005499, -570.67334669,\n",
       "       -570.67236097, -570.6747245 , -570.66976206, -570.66814236,\n",
       "       -570.66800107, -570.66774015, -570.66841949, -570.67270833,\n",
       "       -570.66999824, -570.67047134, -570.66857708, -570.67527881,\n",
       "       -570.67485234, -570.67467008, -570.67010712, -570.67453335,\n",
       "       -570.66907551, -570.67235935, -570.67933603, -570.66800054,\n",
       "       -570.67649823, -570.67338305, -570.67044263, -570.66811208,\n",
       "       -570.66857881, -570.67468032, -570.67362176, -570.66938729,\n",
       "       -570.6678258 , -570.66829117, -570.66792679, -570.67337882,\n",
       "       -570.67770769, -570.66914568, -570.67002568, -570.66815933,\n",
       "       -570.66876847, -570.6743659 , -570.66834691, -570.67103728,\n",
       "       -570.67593034, -570.67119643, -570.66994565, -570.67648543])"
      ]
     },
     "execution_count": 13,
     "metadata": {},
     "output_type": "execute_result"
    }
   ],
   "source": [
    "from sklearn.neighbors import KernelDensity\n",
    "import numpy as np\n",
    "\n",
    "X = padded_sv1_baseline_vals\n",
    "kde = (\n",
    "    KernelDensity(kernel=\"gaussian\")\n",
    "    .fit(padded_sv1_baseline_vals)\n",
    "    .score_samples(padded_sv1_baseline_vals)\n",
    ")\n",
    "kde.score_samples(X)"
   ]
  },
  {
   "cell_type": "code",
   "execution_count": 19,
   "metadata": {},
   "outputs": [
    {
     "ename": "TypeError",
     "evalue": "unsupported operand type(s) for /: 'KernelDensity' and 'KernelDensity'",
     "output_type": "error",
     "traceback": [
      "\u001b[0;31m---------------------------------------------------------------------------\u001b[0m",
      "\u001b[0;31mTypeError\u001b[0m                                 Traceback (most recent call last)",
      "Cell \u001b[0;32mIn[19], line 2\u001b[0m\n\u001b[1;32m      1\u001b[0m \u001b[39mfrom\u001b[39;00m \u001b[39mscipy\u001b[39;00m\u001b[39m.\u001b[39;00m\u001b[39mspatial\u001b[39;00m \u001b[39mimport\u001b[39;00m distance\n\u001b[0;32m----> 2\u001b[0m distance\u001b[39m.\u001b[39;49mjensenshannon(KernelDensity(kernel\u001b[39m=\u001b[39;49m\u001b[39m\"\u001b[39;49m\u001b[39mgaussian\u001b[39;49m\u001b[39m\"\u001b[39;49m)\u001b[39m.\u001b[39;49mfit(padded_sv1_baseline_vals),\n\u001b[1;32m      3\u001b[0m                           KernelDensity(kernel\u001b[39m=\u001b[39;49m\u001b[39m\"\u001b[39;49m\u001b[39mgaussian\u001b[39;49m\u001b[39m\"\u001b[39;49m)\u001b[39m.\u001b[39;49mfit(padded_sv2_baseline_vals))\n",
      "File \u001b[0;32m~/CodingProjects/TextNTabularExplanations/env/lib/python3.10/site-packages/scipy/spatial/distance.py:1290\u001b[0m, in \u001b[0;36mjensenshannon\u001b[0;34m(p, q, base, axis, keepdims)\u001b[0m\n\u001b[1;32m   1288\u001b[0m p \u001b[39m=\u001b[39m np\u001b[39m.\u001b[39masarray(p)\n\u001b[1;32m   1289\u001b[0m q \u001b[39m=\u001b[39m np\u001b[39m.\u001b[39masarray(q)\n\u001b[0;32m-> 1290\u001b[0m p \u001b[39m=\u001b[39m p \u001b[39m/\u001b[39;49m np\u001b[39m.\u001b[39;49msum(p, axis\u001b[39m=\u001b[39;49maxis, keepdims\u001b[39m=\u001b[39;49m\u001b[39mTrue\u001b[39;49;00m)\n\u001b[1;32m   1291\u001b[0m q \u001b[39m=\u001b[39m q \u001b[39m/\u001b[39m np\u001b[39m.\u001b[39msum(q, axis\u001b[39m=\u001b[39maxis, keepdims\u001b[39m=\u001b[39m\u001b[39mTrue\u001b[39;00m)\n\u001b[1;32m   1292\u001b[0m m \u001b[39m=\u001b[39m (p \u001b[39m+\u001b[39m q) \u001b[39m/\u001b[39m \u001b[39m2.0\u001b[39m\n",
      "\u001b[0;31mTypeError\u001b[0m: unsupported operand type(s) for /: 'KernelDensity' and 'KernelDensity'"
     ]
    }
   ],
   "source": [
    "from scipy.spatial import distance\n",
    "\n",
    "distance.jensenshannon(\n",
    "    KernelDensity(kernel=\"gaussian\").fit(padded_sv1_baseline_vals),\n",
    "    KernelDensity(kernel=\"gaussian\").fit(padded_sv2_baseline_vals),\n",
    ")"
   ]
  },
  {
   "cell_type": "code",
   "execution_count": 26,
   "metadata": {},
   "outputs": [
    {
     "name": "stderr",
     "output_type": "stream",
     "text": [
      "invalid value encountered in divide\n",
      "invalid value encountered in divide\n"
     ]
    },
    {
     "data": {
      "text/plain": [
       "nan"
      ]
     },
     "execution_count": 26,
     "metadata": {},
     "output_type": "execute_result"
    }
   ],
   "source": [
    "sum(\n",
    "    KernelDensity(kernel=\"gaussian\")\n",
    "    .fit(padded_sv2_baseline_vals)\n",
    "    .score_samples(padded_sv1_baseline_vals)\n",
    ")\n",
    "\n",
    "\n",
    "def calc_jsd(p, q):\n",
    "    p_kde = KernelDensity(kernel=\"gaussian\").fit(p)\n",
    "    q_kde = KernelDensity(kernel=\"gaussian\").fit(q)\n",
    "    p_samples = p_kde.sample(1000)\n",
    "    q_samples = q_kde.sample(1000)\n",
    "    p_log_dens = np.exp(p_kde.score_samples(p_samples))\n",
    "    q_log_dens = np.exp(q_kde.score_samples(q_samples))\n",
    "    # m = (p_log_dens + q_log_dens) / 2\n",
    "    return distance.jensenshannon(p_log_dens, q_log_dens)\n",
    "\n",
    "\n",
    "calc_jsd(padded_sv2_baseline_vals, padded_sv1_baseline_vals)"
   ]
  },
  {
   "cell_type": "code",
   "execution_count": 21,
   "metadata": {},
   "outputs": [
    {
     "data": {
      "text/plain": [
       "3.7477592848684845e-06"
      ]
     },
     "execution_count": 21,
     "metadata": {},
     "output_type": "execute_result"
    }
   ],
   "source": [
    "a2 = (\n",
    "    KernelDensity(kernel=\"gaussian\")\n",
    "    .fit(padded_sv2_baseline_vals)\n",
    "    .score_samples(padded_sv2_baseline_vals)\n",
    ")\n",
    "a1 = (\n",
    "    KernelDensity(kernel=\"gaussian\")\n",
    "    .fit(padded_sv1_baseline_vals)\n",
    "    .score_samples(padded_sv1_baseline_vals)\n",
    ")\n",
    "distance.jensenshannon(a1 / sum(a1), a2 / sum(a2))"
   ]
  },
  {
   "cell_type": "code",
   "execution_count": 29,
   "metadata": {},
   "outputs": [
    {
     "data": {
      "text/plain": [
       "(1000, 621)"
      ]
     },
     "execution_count": 29,
     "metadata": {},
     "output_type": "execute_result"
    }
   ],
   "source": [
    "padded_sv2_baseline_vals.shape\n"
   ]
  },
  {
   "cell_type": "code",
   "execution_count": 28,
   "metadata": {},
   "outputs": [
    {
     "ename": "AttributeError",
     "evalue": "Rectangle.set() got an unexpected keyword argument 'normed'",
     "output_type": "error",
     "traceback": [
      "\u001b[0;31m---------------------------------------------------------------------------\u001b[0m",
      "\u001b[0;31mAttributeError\u001b[0m                            Traceback (most recent call last)",
      "Cell \u001b[0;32mIn[28], line 5\u001b[0m\n\u001b[1;32m      1\u001b[0m \u001b[39mimport\u001b[39;00m \u001b[39mmatplotlib\u001b[39;00m\u001b[39m.\u001b[39;00m\u001b[39mpyplot\u001b[39;00m \u001b[39mas\u001b[39;00m \u001b[39mplt\u001b[39;00m\n\u001b[0;32m----> 5\u001b[0m plt\u001b[39m.\u001b[39;49mhist(padded_sv2_baseline_vals, bins\u001b[39m=\u001b[39;49m\u001b[39m30\u001b[39;49m, normed\u001b[39m=\u001b[39;49m\u001b[39mTrue\u001b[39;49;00m)\n",
      "File \u001b[0;32m~/CodingProjects/TextNTabularExplanations/env/lib/python3.10/site-packages/matplotlib/pyplot.py:2618\u001b[0m, in \u001b[0;36mhist\u001b[0;34m(x, bins, range, density, weights, cumulative, bottom, histtype, align, orientation, rwidth, log, color, label, stacked, data, **kwargs)\u001b[0m\n\u001b[1;32m   2612\u001b[0m \u001b[39m@_copy_docstring_and_deprecators\u001b[39m(Axes\u001b[39m.\u001b[39mhist)\n\u001b[1;32m   2613\u001b[0m \u001b[39mdef\u001b[39;00m \u001b[39mhist\u001b[39m(\n\u001b[1;32m   2614\u001b[0m         x, bins\u001b[39m=\u001b[39m\u001b[39mNone\u001b[39;00m, \u001b[39mrange\u001b[39m\u001b[39m=\u001b[39m\u001b[39mNone\u001b[39;00m, density\u001b[39m=\u001b[39m\u001b[39mFalse\u001b[39;00m, weights\u001b[39m=\u001b[39m\u001b[39mNone\u001b[39;00m,\n\u001b[1;32m   2615\u001b[0m         cumulative\u001b[39m=\u001b[39m\u001b[39mFalse\u001b[39;00m, bottom\u001b[39m=\u001b[39m\u001b[39mNone\u001b[39;00m, histtype\u001b[39m=\u001b[39m\u001b[39m'\u001b[39m\u001b[39mbar\u001b[39m\u001b[39m'\u001b[39m, align\u001b[39m=\u001b[39m\u001b[39m'\u001b[39m\u001b[39mmid\u001b[39m\u001b[39m'\u001b[39m,\n\u001b[1;32m   2616\u001b[0m         orientation\u001b[39m=\u001b[39m\u001b[39m'\u001b[39m\u001b[39mvertical\u001b[39m\u001b[39m'\u001b[39m, rwidth\u001b[39m=\u001b[39m\u001b[39mNone\u001b[39;00m, log\u001b[39m=\u001b[39m\u001b[39mFalse\u001b[39;00m, color\u001b[39m=\u001b[39m\u001b[39mNone\u001b[39;00m,\n\u001b[1;32m   2617\u001b[0m         label\u001b[39m=\u001b[39m\u001b[39mNone\u001b[39;00m, stacked\u001b[39m=\u001b[39m\u001b[39mFalse\u001b[39;00m, \u001b[39m*\u001b[39m, data\u001b[39m=\u001b[39m\u001b[39mNone\u001b[39;00m, \u001b[39m*\u001b[39m\u001b[39m*\u001b[39mkwargs):\n\u001b[0;32m-> 2618\u001b[0m     \u001b[39mreturn\u001b[39;00m gca()\u001b[39m.\u001b[39;49mhist(\n\u001b[1;32m   2619\u001b[0m         x, bins\u001b[39m=\u001b[39;49mbins, \u001b[39mrange\u001b[39;49m\u001b[39m=\u001b[39;49m\u001b[39mrange\u001b[39;49m, density\u001b[39m=\u001b[39;49mdensity, weights\u001b[39m=\u001b[39;49mweights,\n\u001b[1;32m   2620\u001b[0m         cumulative\u001b[39m=\u001b[39;49mcumulative, bottom\u001b[39m=\u001b[39;49mbottom, histtype\u001b[39m=\u001b[39;49mhisttype,\n\u001b[1;32m   2621\u001b[0m         align\u001b[39m=\u001b[39;49malign, orientation\u001b[39m=\u001b[39;49morientation, rwidth\u001b[39m=\u001b[39;49mrwidth, log\u001b[39m=\u001b[39;49mlog,\n\u001b[1;32m   2622\u001b[0m         color\u001b[39m=\u001b[39;49mcolor, label\u001b[39m=\u001b[39;49mlabel, stacked\u001b[39m=\u001b[39;49mstacked,\n\u001b[1;32m   2623\u001b[0m         \u001b[39m*\u001b[39;49m\u001b[39m*\u001b[39;49m({\u001b[39m\"\u001b[39;49m\u001b[39mdata\u001b[39;49m\u001b[39m\"\u001b[39;49m: data} \u001b[39mif\u001b[39;49;00m data \u001b[39mis\u001b[39;49;00m \u001b[39mnot\u001b[39;49;00m \u001b[39mNone\u001b[39;49;00m \u001b[39melse\u001b[39;49;00m {}), \u001b[39m*\u001b[39;49m\u001b[39m*\u001b[39;49mkwargs)\n",
      "File \u001b[0;32m~/CodingProjects/TextNTabularExplanations/env/lib/python3.10/site-packages/matplotlib/__init__.py:1442\u001b[0m, in \u001b[0;36m_preprocess_data.<locals>.inner\u001b[0;34m(ax, data, *args, **kwargs)\u001b[0m\n\u001b[1;32m   1439\u001b[0m \u001b[39m@functools\u001b[39m\u001b[39m.\u001b[39mwraps(func)\n\u001b[1;32m   1440\u001b[0m \u001b[39mdef\u001b[39;00m \u001b[39minner\u001b[39m(ax, \u001b[39m*\u001b[39margs, data\u001b[39m=\u001b[39m\u001b[39mNone\u001b[39;00m, \u001b[39m*\u001b[39m\u001b[39m*\u001b[39mkwargs):\n\u001b[1;32m   1441\u001b[0m     \u001b[39mif\u001b[39;00m data \u001b[39mis\u001b[39;00m \u001b[39mNone\u001b[39;00m:\n\u001b[0;32m-> 1442\u001b[0m         \u001b[39mreturn\u001b[39;00m func(ax, \u001b[39m*\u001b[39;49m\u001b[39mmap\u001b[39;49m(sanitize_sequence, args), \u001b[39m*\u001b[39;49m\u001b[39m*\u001b[39;49mkwargs)\n\u001b[1;32m   1444\u001b[0m     bound \u001b[39m=\u001b[39m new_sig\u001b[39m.\u001b[39mbind(ax, \u001b[39m*\u001b[39margs, \u001b[39m*\u001b[39m\u001b[39m*\u001b[39mkwargs)\n\u001b[1;32m   1445\u001b[0m     auto_label \u001b[39m=\u001b[39m (bound\u001b[39m.\u001b[39marguments\u001b[39m.\u001b[39mget(label_namer)\n\u001b[1;32m   1446\u001b[0m                   \u001b[39mor\u001b[39;00m bound\u001b[39m.\u001b[39mkwargs\u001b[39m.\u001b[39mget(label_namer))\n",
      "File \u001b[0;32m~/CodingProjects/TextNTabularExplanations/env/lib/python3.10/site-packages/matplotlib/axes/_axes.py:6943\u001b[0m, in \u001b[0;36mAxes.hist\u001b[0;34m(self, x, bins, range, density, weights, cumulative, bottom, histtype, align, orientation, rwidth, log, color, label, stacked, **kwargs)\u001b[0m\n\u001b[1;32m   6941\u001b[0m \u001b[39mif\u001b[39;00m patch:\n\u001b[1;32m   6942\u001b[0m     p \u001b[39m=\u001b[39m patch[\u001b[39m0\u001b[39m]\n\u001b[0;32m-> 6943\u001b[0m     p\u001b[39m.\u001b[39;49m_internal_update(kwargs)\n\u001b[1;32m   6944\u001b[0m     \u001b[39mif\u001b[39;00m lbl \u001b[39mis\u001b[39;00m \u001b[39mnot\u001b[39;00m \u001b[39mNone\u001b[39;00m:\n\u001b[1;32m   6945\u001b[0m         p\u001b[39m.\u001b[39mset_label(lbl)\n",
      "File \u001b[0;32m~/CodingProjects/TextNTabularExplanations/env/lib/python3.10/site-packages/matplotlib/artist.py:1223\u001b[0m, in \u001b[0;36mArtist._internal_update\u001b[0;34m(self, kwargs)\u001b[0m\n\u001b[1;32m   1216\u001b[0m \u001b[39mdef\u001b[39;00m \u001b[39m_internal_update\u001b[39m(\u001b[39mself\u001b[39m, kwargs):\n\u001b[1;32m   1217\u001b[0m \u001b[39m    \u001b[39m\u001b[39m\"\"\"\u001b[39;00m\n\u001b[1;32m   1218\u001b[0m \u001b[39m    Update artist properties without prenormalizing them, but generating\u001b[39;00m\n\u001b[1;32m   1219\u001b[0m \u001b[39m    errors as if calling `set`.\u001b[39;00m\n\u001b[1;32m   1220\u001b[0m \n\u001b[1;32m   1221\u001b[0m \u001b[39m    The lack of prenormalization is to maintain backcompatibility.\u001b[39;00m\n\u001b[1;32m   1222\u001b[0m \u001b[39m    \"\"\"\u001b[39;00m\n\u001b[0;32m-> 1223\u001b[0m     \u001b[39mreturn\u001b[39;00m \u001b[39mself\u001b[39;49m\u001b[39m.\u001b[39;49m_update_props(\n\u001b[1;32m   1224\u001b[0m         kwargs, \u001b[39m\"\u001b[39;49m\u001b[39m{cls.__name__}\u001b[39;49;00m\u001b[39m.set() got an unexpected keyword argument \u001b[39;49m\u001b[39m\"\u001b[39;49m\n\u001b[1;32m   1225\u001b[0m         \u001b[39m\"\u001b[39;49m\u001b[39m{prop_name!r}\u001b[39;49;00m\u001b[39m\"\u001b[39;49m)\n",
      "File \u001b[0;32m~/CodingProjects/TextNTabularExplanations/env/lib/python3.10/site-packages/matplotlib/artist.py:1197\u001b[0m, in \u001b[0;36mArtist._update_props\u001b[0;34m(self, props, errfmt)\u001b[0m\n\u001b[1;32m   1195\u001b[0m             func \u001b[39m=\u001b[39m \u001b[39mgetattr\u001b[39m(\u001b[39mself\u001b[39m, \u001b[39mf\u001b[39m\u001b[39m\"\u001b[39m\u001b[39mset_\u001b[39m\u001b[39m{\u001b[39;00mk\u001b[39m}\u001b[39;00m\u001b[39m\"\u001b[39m, \u001b[39mNone\u001b[39;00m)\n\u001b[1;32m   1196\u001b[0m             \u001b[39mif\u001b[39;00m \u001b[39mnot\u001b[39;00m callable(func):\n\u001b[0;32m-> 1197\u001b[0m                 \u001b[39mraise\u001b[39;00m \u001b[39mAttributeError\u001b[39;00m(\n\u001b[1;32m   1198\u001b[0m                     errfmt\u001b[39m.\u001b[39mformat(\u001b[39mcls\u001b[39m\u001b[39m=\u001b[39m\u001b[39mtype\u001b[39m(\u001b[39mself\u001b[39m), prop_name\u001b[39m=\u001b[39mk))\n\u001b[1;32m   1199\u001b[0m             ret\u001b[39m.\u001b[39mappend(func(v))\n\u001b[1;32m   1200\u001b[0m \u001b[39mif\u001b[39;00m ret:\n",
      "\u001b[0;31mAttributeError\u001b[0m: Rectangle.set() got an unexpected keyword argument 'normed'"
     ]
    },
    {
     "data": {
      "image/png": "[encoded data removed]",
      "text/plain": [
       "<Figure size 640x480 with 1 Axes>"
      ]
     },
     "metadata": {},
     "output_type": "display_data"
    }
   ],
   "source": [
    "import matplotlib.pyplot as plt\n",
    "\n",
    "\n",
    "plt.hist(padded_sv2_baseline_vals, bins=30, normed=True)"
   ]
  },
  {
   "cell_type": "code",
   "execution_count": 30,
   "metadata": {},
   "outputs": [
    {
     "data": {
      "text/html": [
       "<style>#sk-container-id-1 {color: black;background-color: white;}#sk-container-id-1 pre{padding: 0;}#sk-container-id-1 div.sk-toggleable {background-color: white;}#sk-container-id-1 label.sk-toggleable__label {cursor: pointer;display: block;width: 100%;margin-bottom: 0;padding: 0.3em;box-sizing: border-box;text-align: center;}#sk-container-id-1 label.sk-toggleable__label-arrow:before {content: \"▸\";float: left;margin-right: 0.25em;color: #696969;}#sk-container-id-1 label.sk-toggleable__label-arrow:hover:before {color: black;}#sk-container-id-1 div.sk-estimator:hover label.sk-toggleable__label-arrow:before {color: black;}#sk-container-id-1 div.sk-toggleable__content {max-height: 0;max-width: 0;overflow: hidden;text-align: left;background-color: #f0f8ff;}#sk-container-id-1 div.sk-toggleable__content pre {margin: 0.2em;color: black;border-radius: 0.25em;background-color: #f0f8ff;}#sk-container-id-1 input.sk-toggleable__control:checked~div.sk-toggleable__content {max-height: 200px;max-width: 100%;overflow: auto;}#sk-container-id-1 input.sk-toggleable__control:checked~label.sk-toggleable__label-arrow:before {content: \"▾\";}#sk-container-id-1 div.sk-estimator input.sk-toggleable__control:checked~label.sk-toggleable__label {background-color: #d4ebff;}#sk-container-id-1 div.sk-label input.sk-toggleable__control:checked~label.sk-toggleable__label {background-color: #d4ebff;}#sk-container-id-1 input.sk-hidden--visually {border: 0;clip: rect(1px 1px 1px 1px);clip: rect(1px, 1px, 1px, 1px);height: 1px;margin: -1px;overflow: hidden;padding: 0;position: absolute;width: 1px;}#sk-container-id-1 div.sk-estimator {font-family: monospace;background-color: #f0f8ff;border: 1px dotted black;border-radius: 0.25em;box-sizing: border-box;margin-bottom: 0.5em;}#sk-container-id-1 div.sk-estimator:hover {background-color: #d4ebff;}#sk-container-id-1 div.sk-parallel-item::after {content: \"\";width: 100%;border-bottom: 1px solid gray;flex-grow: 1;}#sk-container-id-1 div.sk-label:hover label.sk-toggleable__label {background-color: #d4ebff;}#sk-container-id-1 div.sk-serial::before {content: \"\";position: absolute;border-left: 1px solid gray;box-sizing: border-box;top: 0;bottom: 0;left: 50%;z-index: 0;}#sk-container-id-1 div.sk-serial {display: flex;flex-direction: column;align-items: center;background-color: white;padding-right: 0.2em;padding-left: 0.2em;position: relative;}#sk-container-id-1 div.sk-item {position: relative;z-index: 1;}#sk-container-id-1 div.sk-parallel {display: flex;align-items: stretch;justify-content: center;background-color: white;position: relative;}#sk-container-id-1 div.sk-item::before, #sk-container-id-1 div.sk-parallel-item::before {content: \"\";position: absolute;border-left: 1px solid gray;box-sizing: border-box;top: 0;bottom: 0;left: 50%;z-index: -1;}#sk-container-id-1 div.sk-parallel-item {display: flex;flex-direction: column;z-index: 1;position: relative;background-color: white;}#sk-container-id-1 div.sk-parallel-item:first-child::after {align-self: flex-end;width: 50%;}#sk-container-id-1 div.sk-parallel-item:last-child::after {align-self: flex-start;width: 50%;}#sk-container-id-1 div.sk-parallel-item:only-child::after {width: 0;}#sk-container-id-1 div.sk-dashed-wrapped {border: 1px dashed gray;margin: 0 0.4em 0.5em 0.4em;box-sizing: border-box;padding-bottom: 0.4em;background-color: white;}#sk-container-id-1 div.sk-label label {font-family: monospace;font-weight: bold;display: inline-block;line-height: 1.2em;}#sk-container-id-1 div.sk-label-container {text-align: center;}#sk-container-id-1 div.sk-container {/* jupyter's `normalize.less` sets `[hidden] { display: none; }` but bootstrap.min.css set `[hidden] { display: none !important; }` so we also need the `!important` here to be able to override the default hidden behavior on the sphinx rendered scikit-learn.org. See: https://github.com/scikit-learn/scikit-learn/issues/21755 */display: inline-block !important;position: relative;}#sk-container-id-1 div.sk-text-repr-fallback {display: none;}</style><div id=\"sk-container-id-1\" class=\"sk-top-container\"><div class=\"sk-text-repr-fallback\"><pre>KernelDensity()</pre><b>In a Jupyter environment, please rerun this cell to show the HTML representation or trust the notebook. <br />On GitHub, the HTML representation is unable to render, please try loading this page with nbviewer.org.</b></div><div class=\"sk-container\" hidden><div class=\"sk-item\"><div class=\"sk-estimator sk-toggleable\"><input class=\"sk-toggleable__control sk-hidden--visually\" id=\"sk-estimator-id-1\" type=\"checkbox\" checked><label for=\"sk-estimator-id-1\" class=\"sk-toggleable__label sk-toggleable__label-arrow\">KernelDensity</label><div class=\"sk-toggleable__content\"><pre>KernelDensity()</pre></div></div></div></div></div>"
      ],
      "text/plain": [
       "KernelDensity()"
      ]
     },
     "execution_count": 30,
     "metadata": {},
     "output_type": "execute_result"
    }
   ],
   "source": [
    "KernelDensity(kernel=\"gaussian\").fit(padded_sv2_baseline_vals)\n"
   ]
  },
  {
   "cell_type": "code",
   "execution_count": null,
   "metadata": {},
   "outputs": [],
   "source": []
  }
 ],
 "metadata": {
  "kernelspec": {
   "display_name": "env",
   "language": "python",
   "name": "python3"
  },
  "language_info": {
   "codemirror_mode": {
    "name": "ipython",
    "version": 3
   },
   "file_extension": ".py",
   "mimetype": "text/x-python",
   "name": "python",
   "nbconvert_exporter": "python",
   "pygments_lexer": "ipython3",
   "version": "3.10.12"
  },
  "orig_nbformat": 4
 },
 "nbformat": 4,
 "nbformat_minor": 2
}
