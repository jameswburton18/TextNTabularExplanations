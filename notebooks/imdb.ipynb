{
 "cells": [
  {
   "cell_type": "code",
   "execution_count": 11,
   "metadata": {},
   "outputs": [],
   "source": [
    "import numpy as np\n",
    "import pandas as pd\n",
    "import matplotlib.pyplot as plt\n",
    "import seaborn as sns\n",
    "import re\n",
    "from datasets import Dataset, DatasetDict\n",
    "from sklearn.metrics import mean_squared_error, r2_score\n",
    "import xgboost as xgb\n",
    "from datasets import load_dataset"
   ]
  },
  {
   "cell_type": "code",
   "execution_count": 3,
   "metadata": {},
   "outputs": [],
   "source": [
    "df = pd.read_csv('../data/raw/imdb/Top 1000 IMDB movies.csv', index_col=0)"
   ]
  },
  {
   "cell_type": "code",
   "execution_count": 4,
   "metadata": {},
   "outputs": [],
   "source": [
    "def grossToFloat(string):\n",
    "    if type(string) != float:\n",
    "        string = string.replace('$', '')\n",
    "        string = string.replace('M', '')\n",
    "        return float(string)\n",
    "    return string\n",
    "\n",
    "df.Gross.replace('%^%^%^', np.nan, inplace=True)\n",
    "\n",
    "df.Gross = df.Gross.apply(lambda item: np.nan if '#' in str(item) else item)\n",
    "df['Gross'] = df['Gross'].apply(grossToFloat)"
   ]
  },
  {
   "cell_type": "code",
   "execution_count": 5,
   "metadata": {},
   "outputs": [],
   "source": [
    "# Extract the numbers \n",
    "df['Year of Release'] = df['Year of Release'].apply(lambda item: re.findall(r'\\d+', item)[0])\n",
    "# df['Gross'] = df['Gross'].apply(lambda item: re.findall(r'\\d+', str(item))[0] if len(re.findall(r'\\d+', str(item))) > 0 else np.nan)\n",
    "df['Watch Time'] = df['Watch Time'].apply(lambda item: re.findall(r'\\d+', item)[0])"
   ]
  },
  {
   "cell_type": "code",
   "execution_count": 6,
   "metadata": {},
   "outputs": [],
   "source": [
    "df.dropna(inplace=True)"
   ]
  },
  {
   "cell_type": "code",
   "execution_count": 7,
   "metadata": {},
   "outputs": [],
   "source": [
    "# rename columns\n",
    "df.rename(columns={'Description': 'text', 'Gross': 'label'}, inplace=True)"
   ]
  },
  {
   "cell_type": "code",
   "execution_count": 8,
   "metadata": {},
   "outputs": [
    {
     "name": "stderr",
     "output_type": "stream",
     "text": [
      "Pushing split train to the Hub.                    \n",
      "Resuming upload of the dataset shards.\n",
      "Pushing dataset shards to the dataset hub: 100%|██████████| 1/1 [00:00<00:00, 12787.51it/s]\n",
      "Pushing split validation to the Hub.\n",
      "Resuming upload of the dataset shards.\n",
      "Pushing dataset shards to the dataset hub: 100%|██████████| 1/1 [00:00<00:00, 4198.50it/s]\n",
      "Pushing split test to the Hub.\n",
      "Resuming upload of the dataset shards.\n",
      "Pushing dataset shards to the dataset hub: 100%|██████████| 1/1 [00:00<00:00, 10810.06it/s]\n"
     ]
    }
   ],
   "source": [
    "# Train test split\n",
    "X_text = Dataset.from_pandas(df)\n",
    "train_test = X_text.train_test_split(test_size=0.15, shuffle=True, seed=42)\n",
    "train_validation = train_test['train'].train_test_split(test_size=0.15/0.85, shuffle=True, seed=42)\n",
    "X_text = DatasetDict({'train': train_validation['train'], 'validation': train_validation['test'], 'test': train_test['test']})\n",
    "\n",
    "mean_price = np.mean(X_text['train']['label'])\n",
    "std_price = np.std(X_text['train']['label'])\n",
    "\n",
    "def normalize_price(example):\n",
    "    example['scaled_label'] = (example['label'] - mean_price) / std_price\n",
    "    return example\n",
    "\n",
    "X_text = X_text.map(normalize_price)\n",
    "\n",
    "# X_text.save_to_disk('../data/processed/airbnb/summaries')\n",
    "X_text.push_to_hub('imdb_gross')"
   ]
  },
  {
   "cell_type": "code",
   "execution_count": 91,
   "metadata": {},
   "outputs": [
    {
     "name": "stderr",
     "output_type": "stream",
     "text": [
      "Found cached dataset parquet (/home/james/.cache/huggingface/datasets/james-burton___parquet/james-burton--imdb_gross-29e149befb40e1e2/0.0.0/2a3b91fbd88a2c90d1dbbb32b460cf621d31bd5b05b934492fdef7d8d6f236ec)\n",
      "100%|██████████| 3/3 [00:00<00:00, 747.96it/s]"
     ]
    },
    {
     "name": "stdout",
     "output_type": "stream",
     "text": [
      "RMSE:  0.23855936180684895\n",
      "Accuracy:  0.943089430894309\n"
     ]
    },
    {
     "name": "stderr",
     "output_type": "stream",
     "text": [
      "\n"
     ]
    }
   ],
   "source": [
    "dataset = load_dataset('james-burton/imdb_gross')\n",
    "\n",
    "# X_train is all cols except label and text\n",
    "X_train = dataset['train'].remove_columns(['label', 'text','__index_level_0__', 'scaled_label', 'Movie Name', 'Votes']).to_pandas()\n",
    "y_train = dataset['train'].to_pandas()['label'].astype('float')\n",
    "X_test = dataset['test'].remove_columns(['label', 'text','__index_level_0__', 'scaled_label', 'Movie Name', 'Votes']).to_pandas()\n",
    "y_test = dataset['test'].to_pandas()['label'].astype('float')\n",
    "\n",
    "# if X_train['Meatscore of movie'] == '****' then nan\n",
    "X_train = X_train.replace('****', np.nan)\n",
    "X_test = X_test.replace('****', np.nan)\n",
    "\n",
    "# Set column types of X_train\n",
    "X_train['Year of Release'] = X_train['Year of Release'].astype('int')\n",
    "X_train['Watch Time'] = X_train['Watch Time'].astype('int')\n",
    "X_train['Meatscore of movie'] = X_train['Meatscore of movie'].astype('float')\n",
    "X_test['Year of Release'] = X_test['Year of Release'].astype('int')\n",
    "X_test['Watch Time'] = X_test['Watch Time'].astype('int')\n",
    "X_test['Meatscore of movie'] = X_test['Meatscore of movie'].astype('float')\n",
    "\n",
    "# X_train = X_train[X_train['Meatscore of movie'] != '****'].astype('int')\n",
    "# X_test = X_test[X_test['Meatscore of movie'] != '****'].astype('int')\n",
    "y_train = y_train[X_train.index]\n",
    "y_test = y_test[X_test.index]\n",
    "\n",
    "# # drop if y_train is over 400\n",
    "# X_train = X_train[y_train < 400]\n",
    "# y_train = y_train[y_train < 400]\n",
    "\n",
    "# take the log of y_train, make it so that the distribution is more normal. Ensue no inf values\n",
    "# # y_train = y_train.replace(0, 1)\n",
    "# y_train = np.log(y_train)\n",
    "# # y_test = y_test.replace(0, 1)\n",
    "# y_test = np.log(y_test)\n",
    "\n",
    "# change label to be categorical, under or over 200\n",
    "y_train = y_train.apply(lambda item: 1 if item > 300 else 0)\n",
    "y_test = y_test.apply(lambda item: 1 if item > 300 else 0)\n",
    "\n",
    "model = xgb.XGBClassifier()\n",
    "model.fit(X_train, y_train)\n",
    "y_pred = model.predict(X_test)\n",
    "print('RMSE: ', np.sqrt(mean_squared_error(y_test, y_pred)))\n",
    "# print('R^2: ',r2_score(y_test, y_pred))\n",
    "# acc\n",
    "print('Accuracy: ', np.mean(y_test == y_pred))"
   ]
  },
  {
   "cell_type": "code",
   "execution_count": 84,
   "metadata": {},
   "outputs": [
    {
     "data": {
      "text/plain": [
       "0      0\n",
       "1      0\n",
       "2      0\n",
       "3      0\n",
       "4      0\n",
       "      ..\n",
       "118    0\n",
       "119    1\n",
       "120    0\n",
       "121    0\n",
       "122    0\n",
       "Name: label, Length: 114, dtype: int64"
      ]
     },
     "execution_count": 84,
     "metadata": {},
     "output_type": "execute_result"
    }
   ],
   "source": [
    "y_test"
   ]
  },
  {
   "cell_type": "code",
   "execution_count": 85,
   "metadata": {},
   "outputs": [
    {
     "data": {
      "text/plain": [
       "array([ 1.22211225e-01,  5.65967500e-01,  2.65946314e-02, -5.04487380e-03,\n",
       "       -1.95902344e-02,  1.51762515e-02,  1.49353202e-02,  3.47035855e-01,\n",
       "        5.47969460e-01,  4.57251854e-02, -3.30512994e-04,  1.39848061e-03,\n",
       "        1.04214318e-01,  6.69777572e-01, -4.45971228e-02,  1.56542152e-01,\n",
       "        1.28771693e-01, -1.90629438e-02,  5.22866026e-02,  5.32908618e-01,\n",
       "       -1.95700489e-03, -6.20827787e-02,  2.06558090e-02, -1.42605156e-02,\n",
       "       -2.68553421e-02,  1.15204372e-01,  1.20225921e-03,  5.20619564e-03,\n",
       "        3.99036646e-01,  1.14727482e-01,  1.96688324e-01,  1.92248240e-01,\n",
       "       -1.05118491e-01, -3.33153876e-03,  2.35818371e-01, -4.43798378e-02,\n",
       "       -6.35583028e-02,  3.94208848e-01,  3.53585333e-01,  1.61770537e-01,\n",
       "       -3.70033160e-02, -5.87505102e-02,  5.11174127e-02,  6.29705712e-02,\n",
       "        4.08481546e-02, -3.18340771e-03,  1.19515896e-01,  1.68392882e-01,\n",
       "        9.80863161e-03, -4.35164794e-02,  1.05780527e-01,  1.38448983e-01,\n",
       "       -1.31695652e-02,  1.70703828e-02,  2.63272915e-02,  4.12190437e-01,\n",
       "       -1.88868925e-01,  1.61483765e-01, -3.67269181e-02,  2.21922740e-01,\n",
       "        2.53623128e-01, -8.16034153e-02, -7.73769319e-02,  5.17859645e-02,\n",
       "       -7.20411073e-03,  1.71128754e-02,  3.19896899e-02, -1.35691380e-02,\n",
       "       -4.44010738e-03,  5.14090180e-01, -1.07649378e-01,  2.33602859e-02,\n",
       "        4.06558700e-02,  1.41285419e-01, -4.89938855e-02, -2.08772477e-02,\n",
       "       -1.85779724e-02,  3.10885578e-01, -6.24740170e-03, -4.26454730e-02,\n",
       "       -2.19054837e-02, -1.00063961e-02, -3.75951231e-02,  8.80898312e-02,\n",
       "        1.94110861e-03, -6.95783049e-02, -2.12484282e-02,  3.77234705e-02,\n",
       "       -5.84368333e-02,  2.03819111e-01,  4.61151063e-01, -7.01738149e-02,\n",
       "        1.16366958e-02,  4.28463697e-01,  1.99036766e-03,  3.53034623e-02,\n",
       "        7.67703801e-02,  1.97851360e-01,  2.42109746e-01,  1.27648771e-01,\n",
       "        4.28907350e-02, -3.00023202e-02,  3.40743423e-01, -5.21422997e-02,\n",
       "       -1.67652145e-02,  2.37084683e-02,  1.00431585e+00,  5.75353444e-01,\n",
       "        4.82186787e-02,  1.33725805e-02,  3.50233346e-01,  1.58773772e-02,\n",
       "       -1.86406672e-02,  1.59515105e-02], dtype=float32)"
      ]
     },
     "execution_count": 85,
     "metadata": {},
     "output_type": "execute_result"
    }
   ],
   "source": [
    "y_pred"
   ]
  },
  {
   "cell_type": "code",
   "execution_count": 80,
   "metadata": {},
   "outputs": [
    {
     "data": {
      "image/png": "[encoded data removed]",
      "text/plain": [
       "<Figure size 640x480 with 1 Axes>"
      ]
     },
     "metadata": {},
     "output_type": "display_data"
    }
   ],
   "source": [
    "# plot y_test vs y_pred\n",
    "sns.scatterplot(x=y_test, y=y_pred)\n",
    "plt.xlabel('Actual')\n",
    "plt.ylabel('Predicted')\n",
    "plt.title('Actual vs Predicted')\n",
    "plt.show()"
   ]
  },
  {
   "cell_type": "code",
   "execution_count": 68,
   "metadata": {},
   "outputs": [
    {
     "data": {
      "text/plain": [
       "0.0"
      ]
     },
     "execution_count": 68,
     "metadata": {},
     "output_type": "execute_result"
    }
   ],
   "source": []
  },
  {
   "cell_type": "code",
   "execution_count": 73,
   "metadata": {},
   "outputs": [
    {
     "data": {
      "text/plain": [
       "0.01     4\n",
       "0.07     3\n",
       "0.05     3\n",
       "0.06     3\n",
       "4.04     2\n",
       "        ..\n",
       "35.06    1\n",
       "15.54    1\n",
       "40.31    1\n",
       "9.45     1\n",
       "0.31     1\n",
       "Name: label, Length: 473, dtype: int64"
      ]
     },
     "execution_count": 73,
     "metadata": {},
     "output_type": "execute_result"
    }
   ],
   "source": [
    "y_train.value_counts()"
   ]
  },
  {
   "cell_type": "code",
   "execution_count": 72,
   "metadata": {},
   "outputs": [
    {
     "name": "stderr",
     "output_type": "stream",
     "text": [
      "/tmp/ipykernel_66355/3075216229.py:2: UserWarning: \n",
      "\n",
      "`distplot` is a deprecated function and will be removed in seaborn v0.14.0.\n",
      "\n",
      "Please adapt your code to use either `displot` (a figure-level function with\n",
      "similar flexibility) or `histplot` (an axes-level function for histograms).\n",
      "\n",
      "For a guide to updating your code to use the new functions, please see\n",
      "https://gist.github.com/mwaskom/de44147ed2974457ad6372750bbe5751\n",
      "\n",
      "  sns.distplot(y_train)\n"
     ]
    },
    {
     "data": {
      "text/plain": [
       "<Axes: xlabel='label', ylabel='Density'>"
      ]
     },
     "execution_count": 72,
     "metadata": {},
     "output_type": "execute_result"
    },
    {
     "data": {
      "image/png": "[encoded data removed]",
      "text/plain": [
       "<Figure size 640x480 with 1 Axes>"
      ]
     },
     "metadata": {},
     "output_type": "display_data"
    }
   ],
   "source": [
    "# plot dsitrubution of y_train\n",
    "sns.distplot(y_train)"
   ]
  },
  {
   "cell_type": "code",
   "execution_count": 45,
   "metadata": {},
   "outputs": [
    {
     "data": {
      "text/plain": [
       "Int64Index([  0,   1,   2,   3,   4,   5,   6,   7,   8,   9,\n",
       "            ...\n",
       "            560, 561, 562, 563, 564, 566, 567, 568, 569, 570],\n",
       "           dtype='int64', length=510)"
      ]
     },
     "execution_count": 45,
     "metadata": {},
     "output_type": "execute_result"
    }
   ],
   "source": [
    "y_train.index"
   ]
  },
  {
   "cell_type": "code",
   "execution_count": 37,
   "metadata": {},
   "outputs": [],
   "source": [
    "# Set column types of X_train\n",
    "X_train['Year of Release'] = X_train['Year of Release'].astype('int')\n",
    "X_train['Watch Time'] = X_train['Watch Time'].astype('int')\n",
    "# if X_train['Meatscore of movie'] == '****' then drop row\n",
    "X_train = X_train[X_train['Meatscore of movie'] != '****'].astype('int')\n",
    "\n",
    "# choose y_train when X_train['Meatscore of movie'] != '****']\n",
    "y_train = y_train[X_train.index]"
   ]
  },
  {
   "cell_type": "code",
   "execution_count": 42,
   "metadata": {},
   "outputs": [
    {
     "data": {
      "text/html": [
       "<div>\n",
       "<style scoped>\n",
       "    .dataframe tbody tr th:only-of-type {\n",
       "        vertical-align: middle;\n",
       "    }\n",
       "\n",
       "    .dataframe tbody tr th {\n",
       "        vertical-align: top;\n",
       "    }\n",
       "\n",
       "    .dataframe thead th {\n",
       "        text-align: right;\n",
       "    }\n",
       "</style>\n",
       "<table border=\"1\" class=\"dataframe\">\n",
       "  <thead>\n",
       "    <tr style=\"text-align: right;\">\n",
       "      <th></th>\n",
       "      <th>Year of Release</th>\n",
       "      <th>Watch Time</th>\n",
       "      <th>Movie Rating</th>\n",
       "      <th>Meatscore of movie</th>\n",
       "      <th>label</th>\n",
       "    </tr>\n",
       "  </thead>\n",
       "  <tbody>\n",
       "    <tr>\n",
       "      <th>Year of Release</th>\n",
       "      <td>1.000000</td>\n",
       "      <td>0.059677</td>\n",
       "      <td>-0.158014</td>\n",
       "      <td>-0.315910</td>\n",
       "      <td>0.269065</td>\n",
       "    </tr>\n",
       "    <tr>\n",
       "      <th>Watch Time</th>\n",
       "      <td>0.059677</td>\n",
       "      <td>1.000000</td>\n",
       "      <td>0.211477</td>\n",
       "      <td>-0.060086</td>\n",
       "      <td>0.176469</td>\n",
       "    </tr>\n",
       "    <tr>\n",
       "      <th>Movie Rating</th>\n",
       "      <td>-0.158014</td>\n",
       "      <td>0.211477</td>\n",
       "      <td>1.000000</td>\n",
       "      <td>0.265697</td>\n",
       "      <td>0.046952</td>\n",
       "    </tr>\n",
       "    <tr>\n",
       "      <th>Meatscore of movie</th>\n",
       "      <td>-0.315910</td>\n",
       "      <td>-0.060086</td>\n",
       "      <td>0.265697</td>\n",
       "      <td>1.000000</td>\n",
       "      <td>-0.031949</td>\n",
       "    </tr>\n",
       "    <tr>\n",
       "      <th>label</th>\n",
       "      <td>0.269065</td>\n",
       "      <td>0.176469</td>\n",
       "      <td>0.046952</td>\n",
       "      <td>-0.031949</td>\n",
       "      <td>1.000000</td>\n",
       "    </tr>\n",
       "  </tbody>\n",
       "</table>\n",
       "</div>"
      ],
      "text/plain": [
       "                    Year of Release  Watch Time  Movie Rating  \\\n",
       "Year of Release            1.000000    0.059677     -0.158014   \n",
       "Watch Time                 0.059677    1.000000      0.211477   \n",
       "Movie Rating              -0.158014    0.211477      1.000000   \n",
       "Meatscore of movie        -0.315910   -0.060086      0.265697   \n",
       "label                      0.269065    0.176469      0.046952   \n",
       "\n",
       "                    Meatscore of movie     label  \n",
       "Year of Release              -0.315910  0.269065  \n",
       "Watch Time                   -0.060086  0.176469  \n",
       "Movie Rating                  0.265697  0.046952  \n",
       "Meatscore of movie            1.000000 -0.031949  \n",
       "label                        -0.031949  1.000000  "
      ]
     },
     "execution_count": 42,
     "metadata": {},
     "output_type": "execute_result"
    }
   ],
   "source": [
    "# show correlations between X_train and y_train\n",
    "X_train['label'] = y_train\n",
    "X_train.corr()"
   ]
  },
  {
   "cell_type": "code",
   "execution_count": 61,
   "metadata": {},
   "outputs": [
    {
     "data": {
      "text/plain": [
       "115.06743456009843"
      ]
     },
     "execution_count": 61,
     "metadata": {},
     "output_type": "execute_result"
    }
   ],
   "source": [
    "y_train.std()"
   ]
  },
  {
   "cell_type": "code",
   "execution_count": 56,
   "metadata": {},
   "outputs": [
    {
     "data": {
      "text/plain": [
       "0       81        \n",
       "1      100        \n",
       "2       84        \n",
       "3       94        \n",
       "4       94        \n",
       "          ...     \n",
       "989     65        \n",
       "991     90        \n",
       "993     90        \n",
       "996     85        \n",
       "997     95        \n",
       "Name: Meatscore of movie, Length: 817, dtype: object"
      ]
     },
     "execution_count": 56,
     "metadata": {},
     "output_type": "execute_result"
    }
   ],
   "source": [
    "df['Meatscore of movie']"
   ]
  },
  {
   "cell_type": "code",
   "execution_count": null,
   "metadata": {},
   "outputs": [],
   "source": []
  }
 ],
 "metadata": {
  "kernelspec": {
   "display_name": "env",
   "language": "python",
   "name": "python3"
  },
  "language_info": {
   "codemirror_mode": {
    "name": "ipython",
    "version": 3
   },
   "file_extension": ".py",
   "mimetype": "text/x-python",
   "name": "python",
   "nbconvert_exporter": "python",
   "pygments_lexer": "ipython3",
   "version": "3.10.6"
  },
  "orig_nbformat": 4
 },
 "nbformat": 4,
 "nbformat_minor": 2
}
